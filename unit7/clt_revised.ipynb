{
 "cells": [
  {
   "cell_type": "markdown",
   "metadata": {},
   "source": [
    "# Unit 7: Demonstration Central Limit Theorem\n"
   ]
  },
  {
   "cell_type": "code",
   "execution_count": null,
   "metadata": {},
   "outputs": [],
   "source": [
    "import numpy as np\n",
    "import matplotlib.pyplot as plt \n",
    "#  \n",
    "# The scipy.stats package stats offers great support\n",
    "# distributions and random numbers.\n",
    "# see https://docs.scipy.org/doc/scipy/reference/tutorial/stats.html\n",
    "\n",
    "from scipy.stats import norm "
   ]
  },
  {
   "cell_type": "code",
   "execution_count": null,
   "metadata": {},
   "outputs": [],
   "source": [
    "def summary(y,**kwargs):\n",
    "    \"\"\"Prints summary statistics of the data (random variables)\n",
    "    \n",
    "    Input parameter: \n",
    "        y (1-d numpy array) : array with sample data\n",
    "    Returns:\n",
    "        a tuple with mean, standard deviation, minimum, maximum \n",
    "    \"\"\"\n",
    "    # end of function's docstring (shows up when typing help(summary))\n",
    "    \n",
    "    # Note the print function uses inside the strings the placeholder %12.4f for \n",
    "    # formatting the list (Python type 'tuple') of numbers such as mean and stddev\n",
    "    # they are printed where %12.4f shows up in the string #########.####\n",
    "    \n",
    "    print(40*\"-\")\n",
    "    print('Summary statistics for the data:')\n",
    "    if np.NAN in y:\n",
    "        n=np.size(y)\n",
    "        nmiss=np.sum(np.isnan(y))  \n",
    "        nsample=n-nmiss\n",
    "        print('Array size='+str(n))   \n",
    "        print('Detected NAN (missing values) in array :'+str(nmiss))\n",
    "        print('Sample size:'+str(nsample))\n",
    "        m=np.nanmean(y)\n",
    "        s=np.nanstd(y)\n",
    "        mn=np.nanmin(y)\n",
    "        mx=np.nanmax(y)\n",
    "    else:\n",
    "        nsample=np.size(y)\n",
    "        print ('Sample size='+str(nsample))\n",
    "        m=np.mean(y)\n",
    "        s=np.std(y)\n",
    "        mn=np.min(y)\n",
    "        mx=np.max(y)\n",
    "    print ('mean   : %12.4f' % (m))\n",
    "    print ('stddev : %12.4f' % (s))  \n",
    "    print ('mininum: %12.4f' % (mn))\n",
    "    print ('maximum: %12.4f' % (mx))\n",
    "    return m,s,mn,mx"
   ]
  },
  {
   "cell_type": "markdown",
   "metadata": {},
   "source": [
    "<P style=\"background-color:purple;color:gold;font-size:133%\">\n",
    "<BR>\n",
    " Main code section (users should only make changes in code below)\n",
    "<BR>\n",
    "<BR>\n",
    "</P>"
   ]
  },
  {
   "cell_type": "code",
   "execution_count": null,
   "metadata": {},
   "outputs": [],
   "source": [
    "# **********************************************************\n",
    "# User control parameters\n",
    "# **********************************************************\n",
    "isCheck=True\n",
    "nsample=1000 # size of the array with random values\n",
    "\n"
   ]
  },
  {
   "cell_type": "code",
   "execution_count": null,
   "metadata": {},
   "outputs": [],
   "source": [
    "# Independent and identically uniformly distributed random numbers\n",
    "x1=np.random.uniform(size=nsample)\n",
    "\n",
    "if isCheck:\n",
    "    print()\n",
    "    print()\n",
    "    print('Just checking: what is x1?')\n",
    "    print('\\tObject type: ', type(x1))\n",
    "    print('\\tSize : ' + str(np.size(x1)))\n",
    "    print('\\t1-dim array with '+str(nsample)+' numbers')\n",
    "    print()\n",
    "    print()\n",
    "\n",
    "m,s,mn,mx=summary(x1)"
   ]
  },
  {
   "cell_type": "code",
   "execution_count": null,
   "metadata": {},
   "outputs": [],
   "source": [
    "plt.hist(x1,bins=10,edgecolor='orange',label='x1',lw=1,fill=False)\n",
    "plt.legend()\n",
    "plt.title(\"Histogram of a uniformly distributed random variable\")\n",
    "plt.show()"
   ]
  },
  {
   "cell_type": "code",
   "execution_count": null,
   "metadata": {},
   "outputs": [],
   "source": [
    "# **********************************************************\n",
    "# Now we create two uniformly distributed random variables\n",
    "# **********************************************************\n",
    "\n",
    "# two independent and identically distributed random number sets\n",
    "x1=np.random.uniform(size=nsample)\n",
    "x2=np.random.uniform(size=nsample)\n",
    "\n",
    "m1,s1,mn1,mx1=summary(x1)\n",
    "m2,s2,mn2,mx2=summary(x2)\n"
   ]
  },
  {
   "cell_type": "code",
   "execution_count": null,
   "metadata": {},
   "outputs": [],
   "source": [
    "plt.hist(x1,bins=10,edgecolor='purple',label='x1',lw=2,fill=False)\n",
    "plt.hist(x2,bins=10,edgecolor='blue',label='x2',lw=1,fill=False)\n",
    "plt.title(\"histogram for uniformly distributed random variables\")\n",
    "plt.legend()\n",
    "plt.show()\n"
   ]
  },
  {
   "cell_type": "code",
   "execution_count": null,
   "metadata": {},
   "outputs": [],
   "source": [
    "# summation of two independent and identically distributed random number sets\n",
    "x1=np.random.uniform(size=nsample)\n",
    "x2=np.random.uniform(size=nsample)\n",
    "\n",
    "m1,s1,mn1,mx1=summary(x1)\n",
    "m2,s2,mn2,mx2=summary(x2)\n",
    "\n",
    "y=(x1+x2)\n",
    "print()\n",
    "print (\"The sum of the two uniformly distributed random variables:\")\n",
    "ym,ys,ymn,ymx=summary(y)"
   ]
  },
  {
   "cell_type": "code",
   "execution_count": null,
   "metadata": {},
   "outputs": [],
   "source": [
    "plt.hist(y,bins=10,color='cyan',edgecolor='black',label='y=x1+x2',lw=1,fill=True,alpha=0.5)\n",
    "plt.hist(x1,bins=10,edgecolor='purple',label='x1',lw=2,fill=False)\n",
    "plt.hist(x2,bins=10,edgecolor='blue',label='x2',lw=1,fill=False)\n",
    "plt.legend()\n",
    "plt.show()"
   ]
  },
  {
   "cell_type": "code",
   "execution_count": null,
   "metadata": {},
   "outputs": [],
   "source": [
    "# figure with two histograms side by side\n",
    "# sharing the same y-axis range is set off    \n",
    "x1=np.random.uniform(size=nsample)\n",
    "x2=np.random.uniform(size=nsample)\n",
    "y=(x1+x2)\n",
    "\n",
    "\n",
    "nbin=10 # controls how many bins (bars) the histgram uses\n",
    "fig, ax = plt.subplots(1, 2, sharex=False, sharey=False,figsize=(12,8))\n",
    "# left figure\n",
    "ax[0].hist(x1,bins=nbin,color='burlywood',density=True,histtype='step',label='x1')\n",
    "ax[0].hist(x2,bins=nbin,color='crimson',density=True,histtype='step',label='x2')\n",
    "ax[0].set_title('uniform random variables')\n",
    "# right figure\n",
    "ax[1].hist(y,bins=nbin,color='cyan',edgecolor='black',\n",
    "           label='average (y=x1+x2)',density=True,alpha=0.5)\n",
    "ax[1].set_title('histogram for the sum of two independent \\n random uniform variables')\n",
    "\n",
    "\n",
    "# last compare with the 'best fitted gaussian PDF'\n",
    "# location parameter is the mean of y and scale parameter is the \n",
    "# standard deviation of y\n",
    "\n",
    "ym,ys,ymn,ymx=summary(y)\n",
    "# create x-values for the gaussian function plot\n",
    "xhelp=np.linspace(ymn,ymx,num=100)\n",
    "\n",
    "gaussian=norm.pdf(xhelp,ym,ys)\n",
    "\n",
    "ax[1].plot(xhelp,gaussian,color='violet',linewidth=3)\n",
    "\n",
    "fig.show()"
   ]
  },
  {
   "cell_type": "markdown",
   "metadata": {},
   "source": [
    "<P style=\"background-color:purple;color:gold;font-size:133%\">\n",
    "<BR>\n",
    " Task 1: Observe what happens if you sum over more than two independent uniformly distributed random variables. \n",
    "<BR>\n",
    "<BR>\n",
    "</P>\n"
   ]
  },
  {
   "cell_type": "markdown",
   "metadata": {},
   "source": [
    "### NOTE\n",
    "In the text we talk about the __number__ of summation terms, not to be confused with the sample size. The __sample size__ is the amount of data values we generate for the random variables. The sample size determines how many times we repeat the experiment. "
   ]
  },
  {
   "cell_type": "markdown",
   "metadata": {},
   "source": [
    "### (a) Write code that allows you to sum over 3, 4, 5, and 6 uniformly distributed random variables."
   ]
  },
  {
   "cell_type": "code",
   "execution_count": null,
   "metadata": {},
   "outputs": [],
   "source": [
    "# your code"
   ]
  },
  {
   "cell_type": "markdown",
   "metadata": {},
   "source": [
    "### (b) Adjust sample size and bin numbers to optimize the analysis of the shape of the resulting distribution shown in the histograms. Observe closely how the shape of the distribution of the summation variable (cyan colors) changes when the number of random uniform variables (x1, x2, ... ) is increased. \n",
    "\n",
    "#### Keep the sample size _nsample_ smaller than 100,000!"
   ]
  },
  {
   "cell_type": "code",
   "execution_count": null,
   "metadata": {},
   "outputs": [],
   "source": [
    "# your code"
   ]
  },
  {
   "cell_type": "markdown",
   "metadata": {},
   "source": [
    "<P style=\"background-color:lightgrey;color:black;font-size:133%\">\n",
    "<BR>\n",
    "Task 2 (optional): Develop code with help of a loop structure that allows you to take the sum over a user defined number of uniformly distributed random variables. \n",
    "<BR>\n",
    "<BR>\n",
    " \n",
    "\n"
   ]
  },
  {
   "cell_type": "markdown",
   "metadata": {},
   "source": [
    "<P style=\"background-color:purple;color:gold;font-size:133%\">\n",
    "<BR>\n",
    " Task 3: Compare the distribution of the summation values with the normal distribution curve. How good does the curve fit the data. In particular, take a look at the tails of the distribution.\n",
    "<BR>\n",
    "<BR>\n",
    "</P>\n",
    "\n",
    "### Summarize your observations and discuss the following question: How many uniformly distributed random variables do you have to sum so that the sum (a random variable) is normally distributed."
   ]
  },
  {
   "cell_type": "markdown",
   "metadata": {},
   "source": [
    "# References:\n",
    "\n",
    " - Continous random variables, distributions, Normal distribution: Collaborative Statistics Ebook Ch. 5,6\n",
    " - Central Limit Theorem: Collaborative Statistics Ebook Ch. 7\n",
    " - Histogram [plot customization] (https://matplotlib.org/stable/api/_as_gen/matplotlib.pyplot.hist.html)\n",
    " - Info to the package [scipy.stats](https://docs.scipy.org/doc/scipy/reference/tutorial/stats.html) "
   ]
  },
  {
   "cell_type": "code",
   "execution_count": null,
   "metadata": {},
   "outputs": [],
   "source": []
  }
 ],
 "metadata": {
  "kernelspec": {
   "display_name": "Python 3",
   "language": "python",
   "name": "python3"
  },
  "language_info": {
   "codemirror_mode": {
    "name": "ipython",
    "version": 3
   },
   "file_extension": ".py",
   "mimetype": "text/x-python",
   "name": "python",
   "nbconvert_exporter": "python",
   "pygments_lexer": "ipython3",
   "version": "3.8.6"
  }
 },
 "nbformat": 4,
 "nbformat_minor": 2
}
