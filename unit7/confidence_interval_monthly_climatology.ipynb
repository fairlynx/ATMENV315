{
 "cells": [
  {
   "cell_type": "markdown",
   "metadata": {},
   "source": [
    "# Example calculation of 95% confidence intervals\n",
    "## Monthly mean 30yr average temperature climatology\n",
    "\n",
    "The statistical and programming objective is: \n",
    "\n",
    "- Calculate long-term mean for the average temperatures years during the years 1951-1980 and 1989-2018:\n",
    "    For each month: January, February, March , ... November, December\n",
    "\n",
    "- For each monthly climatological mean determine the 95% confidence interval using the equations described in the reading assignment\n",
    "\n",
    "- Summarize the results in one or two figures that allow us to observe changes in the mean climatologies.\n",
    "\n",
    "### Please refer to the textbooks for the calculations steps involved in estimating the 95% confidence interval for the population mean!\n",
    "- Collaborative Statistics textbook Chapter 8.3 (p337)\n",
    "- Practical Statistics Book Chapter 2 Box 2.2 pages 18-19.\n",
    "\n",
    "\n"
   ]
  },
  {
   "cell_type": "markdown",
   "metadata": {},
   "source": [
    "## 1. Code development\n",
    "\n",
    "### 1.1 Import packages and function definitions\n",
    "\n",
    "Supporting function to send request to the server and get the data. This is a function similar to the previous version in which we downloaded GHCN daily temperature data from the ACIS server.\n",
    "The function returns two lists that we assign to the 'standard variables' x and y.\n",
    "x contains the list with dates (type datetime), y the list with temperatures (type float).\n",
    "\n",
    "We also import here all necessary packages. For the confidence interval calculation we make use the SciPy package stats.\n"
   ]
  },
  {
   "cell_type": "code",
   "execution_count": 1,
   "metadata": {},
   "outputs": [],
   "source": [
    "# request a station time series\n",
    "# from Applied Climate Information System\n",
    "# http://www.rcc-acis.org/index.html\n",
    "# Author: OET\n",
    "# code designed for ATM315/ENV315 Python introduction\n",
    "\n",
    "import numpy as np\n",
    "import matplotlib.pyplot as plt\n",
    "import urllib3\n",
    "import json\n",
    "import datetime as dt\n",
    "# for confidence interval calculation\n",
    "from scipy import  stats\n",
    "\n",
    "\n",
    "#########################################################################################################\n",
    "# function to get the monthly data from the server\n",
    "#########################################################################################################\n",
    "def get_stationdata_monthly(sid,var='avgt',startyear=2017,endyear=2017):\n",
    "    \"\"\"Sends request to regional climate center ACIS and gets monthly data for one station.\n",
    "    Input parameters: \n",
    "        sid (string): a station id\n",
    "        var (string): a variable name (e.g. 'avgt', 'mint', 'maxt')\n",
    "    Keyword parameters:\n",
    "        startyear and endyear (integers): for selecting the year range e.g. 1950 and 2017\n",
    "    \n",
    "    Returned objects:\n",
    "        list with dates (datetime objects)\n",
    "        list with the data \n",
    "    \"\"\"    \n",
    "    # the http address of the data server\n",
    "    host=\"http://data.rcc-acis.org/StnData\"\n",
    "    # forming the query string for the host server\n",
    "    sdate='&sdate='+str(startyear)+'-01-1'\n",
    "    edate='&edate='+str(endyear)+'-12-31'\n",
    "    query='?sid='+sid+'&'+sdate+'&'+edate+'&interval=mly&'\\\n",
    "    +'elems='+\"mly_mean_\"+var\n",
    "    # try to connect and to get the requested data\n",
    "    # in format ready to export to a csv file\n",
    "    print (\">send data request to \"+host+query)\n",
    "    print (\"station id:\",sid)\n",
    "    print (\"year range: %4d - %4d\" % (startyear,endyear))\n",
    "    print (\"> still waiting for response ...\")\n",
    "    try:\n",
    "        http= urllib3.PoolManager()\n",
    "        response = http.request('GET',host+query)\n",
    "        # convert json-string into dictionary\n",
    "        content =  json.loads(response.data.decode('utf-8'))\n",
    "        meta=content['meta']\n",
    "        data=content['data']\n",
    "        time=[]\n",
    "        value=[]\n",
    "        for item in data:\n",
    "            #print (item)\n",
    "            time.append(dt.datetime.strptime(item[0],\"%Y-%m\"))\n",
    "            if (item[1]!='M'):\n",
    "                value.append(float(item[1]))\n",
    "            else:\n",
    "                value.append(np.NAN)\n",
    "    except Exception as e:\n",
    "        print (\"error occurred:\", e)\n",
    "        return\n",
    "    print(\">... done\")\n",
    "    return time,value"
   ]
  },
  {
   "cell_type": "markdown",
   "metadata": {},
   "source": [
    "### 1.2 Main section: Downloading a single station data set (monthly mean data)"
   ]
  },
  {
   "cell_type": "code",
   "execution_count": 2,
   "metadata": {},
   "outputs": [
    {
     "name": "stdout",
     "output_type": "stream",
     "text": [
      ">send data request to http://data.rcc-acis.org/StnData?sid=USW00014735&&sdate=1900-01-1&&edate=2018-12-31&interval=mly&elems=mly_mean_avgt\n",
      "station id: USW00014735\n",
      "year range: 1900 - 2018\n",
      "> still waiting for response ...\n",
      ">... done\n"
     ]
    }
   ],
   "source": [
    "station_id=\"USW00014735\"\n",
    "varname=\"avgt\"\n",
    "x,y=get_stationdata_monthly(station_id,varname,startyear=1900,endyear=2018)"
   ]
  },
  {
   "cell_type": "markdown",
   "metadata": {},
   "source": [
    "### 1.3 Preparing the data for statistical calculations"
   ]
  },
  {
   "cell_type": "markdown",
   "metadata": {},
   "source": [
    "<P style=\"background-color:purple;color:gold;font-size:130%\">\n",
    "<BR>\n",
    "Task 1: Convert variable x from type list into variable x with function np.array \n",
    "<BR>\n",
    "<BR>\n",
    "</P>\n",
    "\n",
    "Do the same with variable y. \n",
    "Plot the time series to validate that the data are okay: x is recognized as a numpy array of 'dates' (datetime objects), and y as array with float numbers.\n",
    " "
   ]
  },
  {
   "cell_type": "code",
   "execution_count": null,
   "metadata": {},
   "outputs": [],
   "source": [
    "# your code"
   ]
  },
  {
   "cell_type": "markdown",
   "metadata": {},
   "source": [
    "<P style=\"background-color:purple;color:gold;font-size:130%\">\n",
    "<BR>\n",
    "Task 2: Check what is the first year and month in the data?\n",
    "<BR>\n",
    "<BR>\n",
    "</P>"
   ]
  },
  {
   "cell_type": "code",
   "execution_count": null,
   "metadata": {},
   "outputs": [],
   "source": [
    "# your code"
   ]
  },
  {
   "cell_type": "markdown",
   "metadata": {},
   "source": [
    "<P style=\"background-color:purple;color:gold;font-size:130%\">\n",
    "<BR>\n",
    "Task 3: Select the data from x and y for the two 30 climate period: 1951-1980 and 1989-2018\n",
    "<BR>\n",
    "<BR>\n",
    "</P>\n",
    "    \n",
    "Assign the results to new variables and check with np.shape the dimensions and size of the data array. You should have 360 data left in the arrays. \n",
    "\n",
    "Tip: \n",
    "- Apply np.logical_and function and two Boolean array operations to the array x.\n",
    "- For this make use of the *dt.datetime* function to define a reference date for comparison as shown in the code below:\n"
   ]
  },
  {
   "cell_type": "code",
   "execution_count": null,
   "metadata": {},
   "outputs": [],
   "source": [
    "xtest=np.array([dt.datetime(1981,7,17),dt.datetime(1990,11,30),dt.datetime(2011,12,6)])\n",
    "testdate=dt.datetime(1990,12,31)\n",
    "after_date=xtest>testdate\n",
    "print (xtest[after_date])"
   ]
  },
  {
   "cell_type": "code",
   "execution_count": null,
   "metadata": {},
   "outputs": [],
   "source": [
    "# your code for 30 year subsampled data arrays"
   ]
  },
  {
   "cell_type": "markdown",
   "metadata": {},
   "source": [
    "<P style=\"background-color:purple;color:gold;font-size:130%\">\n",
    "<BR>\n",
    "Task 4: Reshape the array or find other ways to process the data now separated by months\n",
    "<BR>\n",
    "<BR>\n",
    "</P>\n",
    "    \n",
    "Tip: \n",
    "\n",
    "- We have used np.reshape in class before to get a 1-dim array into 2-dim array.\n",
    "\n",
    "- We have to remember the 'filling-rule'. Once we have the temperature data arranged by months (months will go into columns), \n",
    "- You can apply np.mean, np.std functions with the keyword parameter axis. See help(np.mean) for info. The axis specifies on which axis dimension you want to apply mean. For example in 2-dim array with 30 rows and 12 columns, *axis=0* takes the rows as samples and returns 12 averages. See example below.\n",
    "\n",
    "- Alternatively, you can work with a loop (over month lists, the append methods, but this may involve more programming)\n"
   ]
  },
  {
   "cell_type": "code",
   "execution_count": null,
   "metadata": {},
   "outputs": [],
   "source": [
    "# example for np.mean() with keyword parameter axis\n",
    "# first extract month from datetime objects and form a 30x12 data matrix\n",
    "m=[d.month for d in x[0:360]]\n",
    "m=np.array(m)\n",
    "m=np.reshape(m,newshape=[30,12])\n",
    "print(np.mean(m,axis=0))\n"
   ]
  },
  {
   "cell_type": "code",
   "execution_count": null,
   "metadata": {},
   "outputs": [],
   "source": [
    "# your code"
   ]
  },
  {
   "cell_type": "markdown",
   "metadata": {},
   "source": [
    "<P style=\"background-color:purple;color:gold;font-size:130%\">\n",
    "<BR>\n",
    "Task 5: Calculate the mean and standard deviation for each month\n",
    "<BR>\n",
    "<BR>\n",
    "</P>\n",
    "    \n"
   ]
  },
  {
   "cell_type": "code",
   "execution_count": null,
   "metadata": {},
   "outputs": [],
   "source": [
    "# your code"
   ]
  },
  {
   "cell_type": "markdown",
   "metadata": {},
   "source": [
    "<P style=\"background-color:purple;color:gold;font-size:130%\">\n",
    "<BR>\n",
    "Task 6: Finally, get the 95% confidence range using supporting function \n",
    "    for the t-distribution from SciPy package stats \n",
    "<BR>\n",
    "<BR>\n",
    "</P>"
   ]
  },
  {
   "cell_type": "code",
   "execution_count": null,
   "metadata": {},
   "outputs": [],
   "source": [
    "# example code\n",
    "n=10\n",
    "df=n-1\n",
    "alpha=0.95 # for both samples\n",
    "tint=np.array(stats.t.interval(alpha,df)) # function itself returns a lists\n",
    "ystd=np.array([6,5,4,3,2,1,1,2,3,4,5,6])\n",
    "cf=np.zeros(shape=[12,2])\n",
    "for i in range(12):\n",
    "    cf[i,:]=tint*ystd[i]/np.sqrt(n)\n",
    "    print (i,cf[i,0],cf[i,1])\n",
    "    i+=1"
   ]
  },
  {
   "cell_type": "markdown",
   "metadata": {},
   "source": [
    "## 2. Results"
   ]
  },
  {
   "cell_type": "markdown",
   "metadata": {},
   "source": [
    "<P style=\"background-color:purple;color:gold;font-size:130%\">\n",
    "<BR>\n",
    "Task 7: Present the climatologies in a graph or two that make it easy to see the differences between the two periods, and how much the confidence intervals overlap.\n",
    "<BR>\n",
    "<BR>\n",
    "</P>\n",
    "    \n",
    "- Tip: Check the function plt.errorbar"
   ]
  },
  {
   "cell_type": "code",
   "execution_count": null,
   "metadata": {},
   "outputs": [],
   "source": [
    "# your code\n"
   ]
  },
  {
   "cell_type": "markdown",
   "metadata": {},
   "source": [
    "<P style=\"background-color:purple;color:gold;font-size:130%\">\n",
    "<BR>\n",
    "Task 8: Optional: Summary of the quantitavie results\n",
    "<BR>\n",
    "<BR>\n",
    "</P>\n",
    "    \n",
    "Write all the results in form of a data table as shown below (illustrated with some random numbers). \n"
   ]
  },
  {
   "cell_type": "code",
   "execution_count": null,
   "metadata": {},
   "outputs": [],
   "source": [
    "# optional code "
   ]
  },
  {
   "cell_type": "markdown",
   "metadata": {},
   "source": [
    "## 3 Summary and conclusion\n",
    "\n",
    "\n",
    "### 3.1 Changes in the mean temperatures\n",
    "\n",
    "### 3.2 Significance of the changes based on the analysis of the confidence intervals"
   ]
  },
  {
   "cell_type": "markdown",
   "metadata": {},
   "source": [
    "### Further References:\n",
    "- Scipy stats package: \n",
    "    - support for [normal distribution](https://docs.scipy.org/doc/scipy-0.14.0/reference/generated/scipy.stats.norm.html#scipy.stats.norm)\n",
    "    - support for [t distribution](https://docs.scipy.org/doc/scipy-0.14.0/reference/generated/scipy.stats.t.html) (including confidence intervals)\n",
    "- Matplotlib.pyplot \n",
    "    - [plt.errorbar examples](https://matplotlib.org/1.2.1/examples/pylab_examples/errorbar_demo.html) \n",
    "- [GHCND](https://www.ncdc.noaa.gov/ghcn-daily-description)\n",
    "- FTP site with station ids etc: ftp://ftp.ncdc.noaa.gov/pub/data/ghcn/daily/"
   ]
  },
  {
   "cell_type": "code",
   "execution_count": null,
   "metadata": {},
   "outputs": [],
   "source": []
  }
 ],
 "metadata": {
  "kernelspec": {
   "display_name": "Python 3",
   "language": "python",
   "name": "python3"
  },
  "language_info": {
   "codemirror_mode": {
    "name": "ipython",
    "version": 3
   },
   "file_extension": ".py",
   "mimetype": "text/x-python",
   "name": "python",
   "nbconvert_exporter": "python",
   "pygments_lexer": "ipython3",
   "version": "3.6.7"
  }
 },
 "nbformat": 4,
 "nbformat_minor": 2
}
