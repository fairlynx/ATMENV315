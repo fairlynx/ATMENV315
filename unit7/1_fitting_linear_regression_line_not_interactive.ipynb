{
 "cells": [
  {
   "cell_type": "markdown",
   "metadata": {},
   "source": [
    "# Unit 7 Linear Regression\n",
    "## Activity: Fitting a linear regression line using intuitive visual approach.\n",
    "\n",
    "\n",
    "This script allows you to interact with the figures and adjust the intercept and slope\n",
    "of the line. \n",
    "\n",
    "Example data are taken from Collaborative Statistics Book Fig. 12.7:\n",
    "\n",
    "**Third exams score and Final exams score**"
   ]
  },
  {
   "cell_type": "code",
   "execution_count": 3,
   "metadata": {},
   "outputs": [],
   "source": [
    "# -*- coding: utf-8 -*-\n",
    "\"\"\"\n",
    "\n",
    "@author: Oliver Elison Timm\n",
    "\n",
    "History:\n",
    "2022-04-27 removed all interactive widgets and converted into \n",
    "           regular notebook activity. \n",
    "\n",
    "\"\"\"\n",
    "\n",
    "import numpy as np\n",
    "import matplotlib.pyplot as plt\n",
    "from scipy.stats import linregress\n",
    "import pandas as pd\n",
    "%matplotlib inline"
   ]
  },
  {
   "cell_type": "markdown",
   "metadata": {},
   "source": [
    "### Example data: Third exam scores and final exam scores"
   ]
  },
  {
   "cell_type": "code",
   "execution_count": 4,
   "metadata": {},
   "outputs": [],
   "source": [
    "##############################################################\n",
    "# Grade scores for the third (x) and final exam (y)\n",
    "##############################################################\n",
    "x=np.array([ 65, 67, 71, 71, 66, 75, 67, 70, 71, 69, 69])\n",
    "y=np.array([175,133,185,163,126,198,153,163,159,151,159])\n",
    "\n",
    "    "
   ]
  },
  {
   "cell_type": "code",
   "execution_count": 5,
   "metadata": {},
   "outputs": [],
   "source": [
    "# Function that calculates the SSE\n",
    "def SSE(x,y,slope,intercept=0):\n",
    "    \"\"\"Calculate SSE for a guessed linear regression line\n",
    "    \n",
    "    Input parameter:\n",
    "        x,y (1d numpy array): \n",
    "            the numpy arrays with the data points\n",
    "        slope (float): \n",
    "            real value for the regression line slope\n",
    "        \n",
    "        intercept (float): intercept of the line (default 0)\n",
    "    Returns:\n",
    "        The SSE value (float)\n",
    "    \"\"\"\n",
    "    yhat=intercept+slope*x\n",
    "    error=y-yhat\n",
    "    result=0\n",
    "    for e in error:\n",
    "        result=result+e**2\n",
    "    return result"
   ]
  },
  {
   "cell_type": "markdown",
   "metadata": {},
   "source": [
    "## Task 1: Enter slope and intercept and calculate fitted the line\n",
    "\n",
    "#### Calculates the SSE\n",
    "\n",
    "What is visually the best fitting line? Adjust the slope and estimate visually the line that intuitively fits best to the data. Here, we work with the absolute scores, below we will work with centered data.\n"
   ]
  },
  {
   "cell_type": "code",
   "execution_count": 6,
   "metadata": {},
   "outputs": [
    {
     "name": "stdin",
     "output_type": "stream",
     "text": [
      "Enter intercept a = 20\n",
      "Enter slope b =  6\n"
     ]
    },
    {
     "name": "stdout",
     "output_type": "stream",
     "text": [
      "Estimated final grades with regression line\n",
      "yguess= 20.00 + 6.0*x\n",
      "SSE for this guessed regression line: SSE = 832213.00\n",
      "========================================\n"
     ]
    },
    {
     "data": {
      "text/html": [
       "<div>\n",
       "<style scoped>\n",
       "    .dataframe tbody tr th:only-of-type {\n",
       "        vertical-align: middle;\n",
       "    }\n",
       "\n",
       "    .dataframe tbody tr th {\n",
       "        vertical-align: top;\n",
       "    }\n",
       "\n",
       "    .dataframe thead th {\n",
       "        text-align: right;\n",
       "    }\n",
       "</style>\n",
       "<table border=\"1\" class=\"dataframe\">\n",
       "  <thead>\n",
       "    <tr style=\"text-align: right;\">\n",
       "      <th></th>\n",
       "      <th>third_exam</th>\n",
       "      <th>final_exam</th>\n",
       "      <th>regression_line_final_exam</th>\n",
       "      <th>squared error</th>\n",
       "    </tr>\n",
       "  </thead>\n",
       "  <tbody>\n",
       "    <tr>\n",
       "      <th>0</th>\n",
       "      <td>65</td>\n",
       "      <td>175</td>\n",
       "      <td>410.0</td>\n",
       "      <td>55225.0</td>\n",
       "    </tr>\n",
       "    <tr>\n",
       "      <th>1</th>\n",
       "      <td>67</td>\n",
       "      <td>133</td>\n",
       "      <td>422.0</td>\n",
       "      <td>83521.0</td>\n",
       "    </tr>\n",
       "    <tr>\n",
       "      <th>2</th>\n",
       "      <td>71</td>\n",
       "      <td>185</td>\n",
       "      <td>446.0</td>\n",
       "      <td>68121.0</td>\n",
       "    </tr>\n",
       "    <tr>\n",
       "      <th>3</th>\n",
       "      <td>71</td>\n",
       "      <td>163</td>\n",
       "      <td>446.0</td>\n",
       "      <td>80089.0</td>\n",
       "    </tr>\n",
       "    <tr>\n",
       "      <th>4</th>\n",
       "      <td>66</td>\n",
       "      <td>126</td>\n",
       "      <td>416.0</td>\n",
       "      <td>84100.0</td>\n",
       "    </tr>\n",
       "    <tr>\n",
       "      <th>5</th>\n",
       "      <td>75</td>\n",
       "      <td>198</td>\n",
       "      <td>470.0</td>\n",
       "      <td>73984.0</td>\n",
       "    </tr>\n",
       "    <tr>\n",
       "      <th>6</th>\n",
       "      <td>67</td>\n",
       "      <td>153</td>\n",
       "      <td>422.0</td>\n",
       "      <td>72361.0</td>\n",
       "    </tr>\n",
       "    <tr>\n",
       "      <th>7</th>\n",
       "      <td>70</td>\n",
       "      <td>163</td>\n",
       "      <td>440.0</td>\n",
       "      <td>76729.0</td>\n",
       "    </tr>\n",
       "    <tr>\n",
       "      <th>8</th>\n",
       "      <td>71</td>\n",
       "      <td>159</td>\n",
       "      <td>446.0</td>\n",
       "      <td>82369.0</td>\n",
       "    </tr>\n",
       "    <tr>\n",
       "      <th>9</th>\n",
       "      <td>69</td>\n",
       "      <td>151</td>\n",
       "      <td>434.0</td>\n",
       "      <td>80089.0</td>\n",
       "    </tr>\n",
       "    <tr>\n",
       "      <th>10</th>\n",
       "      <td>69</td>\n",
       "      <td>159</td>\n",
       "      <td>434.0</td>\n",
       "      <td>75625.0</td>\n",
       "    </tr>\n",
       "  </tbody>\n",
       "</table>\n",
       "</div>"
      ],
      "text/plain": [
       "    third_exam  final_exam  regression_line_final_exam  squared error\n",
       "0           65         175                       410.0        55225.0\n",
       "1           67         133                       422.0        83521.0\n",
       "2           71         185                       446.0        68121.0\n",
       "3           71         163                       446.0        80089.0\n",
       "4           66         126                       416.0        84100.0\n",
       "5           75         198                       470.0        73984.0\n",
       "6           67         153                       422.0        72361.0\n",
       "7           70         163                       440.0        76729.0\n",
       "8           71         159                       446.0        82369.0\n",
       "9           69         151                       434.0        80089.0\n",
       "10          69         159                       434.0        75625.0"
      ]
     },
     "execution_count": 6,
     "metadata": {},
     "output_type": "execute_result"
    }
   ],
   "source": [
    "a=float(input(\"Enter intercept a =\"))\n",
    "b=float(input(\"Enter slope b = \"))\n",
    "\n",
    "\n",
    "yguess=a+b*x # x contains the third grade values\n",
    "# collect data information to show as data table\n",
    "print(\"Estimated final grades with regression line\")\n",
    "print(f\"yguess= {a:.2f} + {b:.2}*x\")\n",
    "\n",
    "dfout=pd.DataFrame({'third_exam':x,'final_exam':y,\n",
    "                    'regression_line_final_exam':np.round(yguess,2)})\n",
    "dfout['squared error']=(y-yguess)**2\n",
    "\n",
    "sse_guessed=SSE(x,y,slope=b,intercept=a)\n",
    "print(f\"SSE for this guessed regression line: SSE = {sse_guessed:.2f}\")\n",
    "\n",
    "\n",
    "print(40*\"=\")\n",
    "dfout"
   ]
  },
  {
   "cell_type": "code",
   "execution_count": null,
   "metadata": {},
   "outputs": [],
   "source": [
    "# check the SSE result using \n",
    "#dfout['squared error'].sum()"
   ]
  },
  {
   "cell_type": "markdown",
   "metadata": {},
   "source": [
    "### Plot the guessed fitted line"
   ]
  },
  {
   "cell_type": "code",
   "execution_count": 8,
   "metadata": {},
   "outputs": [
    {
     "data": {
      "image/png": "[encoded data removed]",
      "text/plain": [
       "<Figure size 432x432 with 1 Axes>"
      ]
     },
     "metadata": {
      "needs_background": "light"
     },
     "output_type": "display_data"
    }
   ],
   "source": [
    "# need the min max range of the data to adjust sample spaces\n",
    "# for the following linear regression analysis\n",
    "xmin=int(np.min(x))-1\n",
    "xmax=int(np.max(x))+1\n",
    "ymin=int(np.min(y))-1\n",
    "ymax=int(np.max(y))+1\n",
    "x0=np.linspace(xmin,xmax,10)\n",
    "\n",
    "\n",
    "fig,ax = plt.subplots(1,1,figsize=(6,6))\n",
    "\n",
    "\n",
    "plt.plot(x,y,'+',markersize=12,color='black',label='data points')\n",
    "ax.plot(x,yguess,lw=2,color='red',label='guessed fitted line') \n",
    "ax.text\n",
    "ax.set_xlim([xmin,xmax])\n",
    "ax.set_ylim([ymin,ymax])\n",
    "ax.set_xlabel(\"third exam score\")\n",
    "ax.set_ylabel(\"final exam score\")\n",
    "plt.title('Final exam score vs third exam score')\n",
    "\n",
    "plt.legend()\n",
    "plt.grid()\n",
    "plt.show()"
   ]
  },
  {
   "cell_type": "markdown",
   "metadata": {},
   "source": [
    "## Task 2: Work with centered data\n",
    "## Enter slope and intercept and calculate fitted the line\n",
    "\n",
    "#### Calculates the SSE\n",
    "\n",
    "\n",
    "Here, we work with the centered data. The intercept we set to zero and \n",
    "just test various slope values.\n"
   ]
  },
  {
   "cell_type": "code",
   "execution_count": 9,
   "metadata": {},
   "outputs": [
    {
     "name": "stdin",
     "output_type": "stream",
     "text": [
      "Enter slope b =  6\n"
     ]
    },
    {
     "name": "stdout",
     "output_type": "stream",
     "text": [
      "Estimated final grades with regression line\n",
      "yfit= 0.00 + 6.0*x\n",
      "SSE for this guessed regression line: SSE = 2536.55\n"
     ]
    },
    {
     "data": {
      "text/html": [
       "<div>\n",
       "<style scoped>\n",
       "    .dataframe tbody tr th:only-of-type {\n",
       "        vertical-align: middle;\n",
       "    }\n",
       "\n",
       "    .dataframe tbody tr th {\n",
       "        vertical-align: top;\n",
       "    }\n",
       "\n",
       "    .dataframe thead th {\n",
       "        text-align: right;\n",
       "    }\n",
       "</style>\n",
       "<table border=\"1\" class=\"dataframe\">\n",
       "  <thead>\n",
       "    <tr style=\"text-align: right;\">\n",
       "      <th></th>\n",
       "      <th>third_exam</th>\n",
       "      <th>final_exam</th>\n",
       "      <th>regression_line_final_exam</th>\n",
       "      <th>squared error</th>\n",
       "    </tr>\n",
       "  </thead>\n",
       "  <tbody>\n",
       "    <tr>\n",
       "      <th>0</th>\n",
       "      <td>-4.181818</td>\n",
       "      <td>14.545455</td>\n",
       "      <td>-25.09</td>\n",
       "      <td>1571.041322</td>\n",
       "    </tr>\n",
       "    <tr>\n",
       "      <th>1</th>\n",
       "      <td>-2.181818</td>\n",
       "      <td>-27.454545</td>\n",
       "      <td>-13.09</td>\n",
       "      <td>206.314050</td>\n",
       "    </tr>\n",
       "    <tr>\n",
       "      <th>2</th>\n",
       "      <td>1.818182</td>\n",
       "      <td>24.545455</td>\n",
       "      <td>10.91</td>\n",
       "      <td>185.950413</td>\n",
       "    </tr>\n",
       "    <tr>\n",
       "      <th>3</th>\n",
       "      <td>1.818182</td>\n",
       "      <td>2.545455</td>\n",
       "      <td>10.91</td>\n",
       "      <td>69.950413</td>\n",
       "    </tr>\n",
       "    <tr>\n",
       "      <th>4</th>\n",
       "      <td>-3.181818</td>\n",
       "      <td>-34.454545</td>\n",
       "      <td>-19.09</td>\n",
       "      <td>236.041322</td>\n",
       "    </tr>\n",
       "    <tr>\n",
       "      <th>5</th>\n",
       "      <td>5.818182</td>\n",
       "      <td>37.545455</td>\n",
       "      <td>34.91</td>\n",
       "      <td>6.950413</td>\n",
       "    </tr>\n",
       "    <tr>\n",
       "      <th>6</th>\n",
       "      <td>-2.181818</td>\n",
       "      <td>-7.454545</td>\n",
       "      <td>-13.09</td>\n",
       "      <td>31.768595</td>\n",
       "    </tr>\n",
       "    <tr>\n",
       "      <th>7</th>\n",
       "      <td>0.818182</td>\n",
       "      <td>2.545455</td>\n",
       "      <td>4.91</td>\n",
       "      <td>5.586777</td>\n",
       "    </tr>\n",
       "    <tr>\n",
       "      <th>8</th>\n",
       "      <td>1.818182</td>\n",
       "      <td>-1.454545</td>\n",
       "      <td>10.91</td>\n",
       "      <td>152.859504</td>\n",
       "    </tr>\n",
       "    <tr>\n",
       "      <th>9</th>\n",
       "      <td>-0.181818</td>\n",
       "      <td>-9.454545</td>\n",
       "      <td>-1.09</td>\n",
       "      <td>69.950413</td>\n",
       "    </tr>\n",
       "    <tr>\n",
       "      <th>10</th>\n",
       "      <td>-0.181818</td>\n",
       "      <td>-1.454545</td>\n",
       "      <td>-1.09</td>\n",
       "      <td>0.132231</td>\n",
       "    </tr>\n",
       "  </tbody>\n",
       "</table>\n",
       "</div>"
      ],
      "text/plain": [
       "    third_exam  final_exam  regression_line_final_exam  squared error\n",
       "0    -4.181818   14.545455                      -25.09    1571.041322\n",
       "1    -2.181818  -27.454545                      -13.09     206.314050\n",
       "2     1.818182   24.545455                       10.91     185.950413\n",
       "3     1.818182    2.545455                       10.91      69.950413\n",
       "4    -3.181818  -34.454545                      -19.09     236.041322\n",
       "5     5.818182   37.545455                       34.91       6.950413\n",
       "6    -2.181818   -7.454545                      -13.09      31.768595\n",
       "7     0.818182    2.545455                        4.91       5.586777\n",
       "8     1.818182   -1.454545                       10.91     152.859504\n",
       "9    -0.181818   -9.454545                       -1.09      69.950413\n",
       "10   -0.181818   -1.454545                       -1.09       0.132231"
      ]
     },
     "execution_count": 9,
     "metadata": {},
     "output_type": "execute_result"
    }
   ],
   "source": [
    "# We center the data around their mean values\n",
    "# for illustrative purposes\n",
    "# that allows us to work with intercept 0 \n",
    "# and focus on finding the best fitting slope\n",
    "x=x-np.mean(x)\n",
    "y=y-np.mean(y)\n",
    "\n",
    "a=0\n",
    "b=float(input(\"Enter slope b = \"))\n",
    "\n",
    "\n",
    "yguess=a+b*x # x contains the third grade values\n",
    "# collect data information to show as data table\n",
    "print(\"Estimated final grades with regression line\")\n",
    "print(f\"yfit= {a:.2f} + {b:.2}*x\")\n",
    "dfout=pd.DataFrame({'third_exam':x,'final_exam':y,\n",
    "                    'regression_line_final_exam':np.round(yguess,2)})\n",
    "dfout['squared error']=(y-yguess)**2\n",
    "sse_guessed=SSE(x,y,slope=b,intercept=a)\n",
    "print(f\"SSE for this guessed regression line: SSE = {sse_guessed:.2f}\")\n",
    "dfout "
   ]
  },
  {
   "cell_type": "markdown",
   "metadata": {},
   "source": [
    "### Plot the guessed fitted line"
   ]
  },
  {
   "cell_type": "code",
   "execution_count": 10,
   "metadata": {},
   "outputs": [
    {
     "data": {
      "image/png": "[encoded data removed]",
      "text/plain": [
       "<Figure size 432x432 with 1 Axes>"
      ]
     },
     "metadata": {
      "needs_background": "light"
     },
     "output_type": "display_data"
    }
   ],
   "source": [
    "# need the min max range of the data to adjust sample spaces\n",
    "# for the following linear regression analysis\n",
    "xmin=int(np.min(x))-1\n",
    "xmax=int(np.max(x))+1\n",
    "ymin=int(np.min(y))-1\n",
    "ymax=int(np.max(y))+1\n",
    "x0=np.linspace(xmin,xmax,10)\n",
    "\n",
    "fig,ax = plt.subplots(1,1,figsize=(6,6))\n",
    "\n",
    "plt.plot(x,y,'+',markersize=12,color='black',label='data points')\n",
    "ax.plot(x,yguess,lw=2,color='red',label='guessed fitted line') \n",
    "ax.text\n",
    "ax.set_xlim([xmin,xmax])\n",
    "ax.set_ylim([ymin,ymax])\n",
    "ax.set_xlabel(\"third exam score (centered)\")\n",
    "ax.set_ylabel(\"final exam score (centered)\")\n",
    "plt.title('Final exam score vs third exam score (anomalies)')\n",
    "\n",
    "plt.legend()\n",
    "plt.grid()\n",
    "plt.show()\n",
    "\n",
    "\n"
   ]
  },
  {
   "cell_type": "markdown",
   "metadata": {},
   "source": [
    "### Task 3: Test multiple values for the slope b and collect the resulting SSE\n",
    "#### Collect the slope and corresponding SSE values in lists, then plot the SSE over the slope values.\n"
   ]
  },
  {
   "cell_type": "code",
   "execution_count": 11,
   "metadata": {},
   "outputs": [
    {
     "data": {
      "image/png": "[encoded data removed]",
      "text/plain": [
       "<Figure size 288x288 with 1 Axes>"
      ]
     },
     "metadata": {
      "needs_background": "light"
     },
     "output_type": "display_data"
    }
   ],
   "source": [
    "slope_list= [ 2, 3, 6] # example values\n",
    "sse_list = [2300, 4000, 3032] # example values\n",
    "\n",
    "min_slope,max_slope=0,10\n",
    "min_sse,max_sse = 1000, 6000\n",
    "\n",
    "fig,ax = plt.subplots(1,1,figsize=(4,4))\n",
    "ax.set_ylim([min_sse,max_sse])\n",
    "ax.set_xlim([min_slope,max_slope])\n",
    "ax.set_xlabel(\"slope parameter\")\n",
    "ax.set_ylabel(\"SSE\")\n",
    "ax.plot(slope_list,sse_list,'o',color='green')\n",
    "plt.title(\"Sum of Squared Errors\")\n",
    "plt.show()\n"
   ]
  },
  {
   "cell_type": "markdown",
   "metadata": {},
   "source": [
    "### Task 5: What is the slope for the best fitting line  that minimizes the Sum of Squared Errors? \n",
    "#### (work with centered data)\n",
    "Use the graph as support to find the best fitting slope parameter.\n",
    "And compare it with the scipy function _linregress()_ results.\n"
   ]
  },
  {
   "cell_type": "code",
   "execution_count": null,
   "metadata": {},
   "outputs": [],
   "source": []
  }
 ],
 "metadata": {
  "kernelspec": {
   "display_name": "Python 3 August 2021 Environment",
   "language": "python",
   "name": "aug21"
  },
  "language_info": {
   "codemirror_mode": {
    "name": "ipython",
    "version": 3
   },
   "file_extension": ".py",
   "mimetype": "text/x-python",
   "name": "python",
   "nbconvert_exporter": "python",
   "pygments_lexer": "ipython3",
   "version": "3.8.10"
  }
 },
 "nbformat": 4,
 "nbformat_minor": 4
}
