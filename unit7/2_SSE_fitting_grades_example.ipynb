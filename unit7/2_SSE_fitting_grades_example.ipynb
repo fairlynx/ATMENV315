{
 "cells": [
  {
   "cell_type": "code",
   "execution_count": null,
   "metadata": {},
   "outputs": [],
   "source": [
    "#Sum of Squared Errors - The underlying principle for linear regression line fitting"
   ]
  },
  {
   "cell_type": "markdown",
   "metadata": {},
   "source": [
    "###  Tip for creating and saving figures:\n",
    "\n",
    "You can toggle between the 'inline' and 'notebook'\n",
    "presentation of figures in the Notebooks.\n",
    "When you activate 'notebook' mode then the plots can be saved to files.\n",
    "\n",
    "Type into a code cell the following command (beginning with the % sign):\n",
    "\n",
    "_%matplotlib notebook_"
   ]
  },
  {
   "cell_type": "code",
   "execution_count": 1,
   "metadata": {},
   "outputs": [],
   "source": [
    "# You can toggle between the 'inline' and 'notebook' \n",
    "# presentation of figures in the Notebooks.\n",
    "# When you activate 'notebook' mode then the plots can be saved to files.\n",
    "\n",
    "%matplotlib notebook\n",
    "\n",
    "import numpy as np\n",
    "from scipy import stats\n",
    "import matplotlib.pylab as plt\n",
    "#change the style\n",
    "import matplotlib \n",
    "matplotlib.rc('xtick', labelsize=18) \n",
    "matplotlib.rc('ytick', labelsize=18) \n",
    "# You can see what styles are available with print(plt.style.available)\n",
    "#plt.style.use(\"ggplot\")\n",
    "\n",
    "x=np.array([ 65, 67, 71, 71, 66, 75, 67, 70, 71, 69, 69])\n",
    "y=np.array([175,133,185,163,126,198,153,163,159,151,159])\n",
    "\n",
    "\n"
   ]
  },
  {
   "cell_type": "markdown",
   "metadata": {},
   "source": [
    "### The SciPy  provides the function _linregress()_  in the sub-package stats\n",
    "### It calculates the linear regression parameters\n",
    "\n",
    "it returns five values (a tuple with five values)\n",
    "Use _help(stats.linregress)_ to get more info."
   ]
  },
  {
   "cell_type": "code",
   "execution_count": 2,
   "metadata": {},
   "outputs": [],
   "source": [
    "\n",
    "slope, intercept, r_value, p_value, std_err = stats.linregress(x,y)\n"
   ]
  },
  {
   "cell_type": "code",
   "execution_count": 3,
   "metadata": {},
   "outputs": [
    {
     "name": "stdout",
     "output_type": "stream",
     "text": [
      "intercept= -173.5134, slope= 4.8274\n"
     ]
    }
   ],
   "source": [
    "print(f\"intercept= {np.round(intercept,4)}, slope= {np.round(slope,4)}\")"
   ]
  },
  {
   "cell_type": "code",
   "execution_count": 4,
   "metadata": {},
   "outputs": [
    {
     "name": "stdout",
     "output_type": "stream",
     "text": [
      "correlation: 0.6631\n",
      "p-value    : 0.0262\n"
     ]
    }
   ],
   "source": [
    "print(f\"correlation: {np.round(r_value,4)}\")\n",
    "print(f\"p-value    : {np.round(p_value,4)}\")"
   ]
  },
  {
   "cell_type": "code",
   "execution_count": 5,
   "metadata": {},
   "outputs": [
    {
     "name": "stdout",
     "output_type": "stream",
     "text": [
      "y = a + b x = -173.5134 + 4.8274 x\n"
     ]
    }
   ],
   "source": [
    "# testing the equations from PPT slided\n",
    "mx=np.mean(x)\n",
    "my=np.mean(y)\n",
    "r=(np.corrcoef(x,y))[0,1]\n",
    "sx=np.std(x)\n",
    "sy=np.std(y)\n",
    "# linear regression line y=a+bx\n",
    "b=r*sy/sx\n",
    "\n",
    "a=my-b*mx\n",
    "print(f\"y = a + b x = {a :.4f} + {b :.4f} x\")"
   ]
  },
  {
   "cell_type": "markdown",
   "metadata": {},
   "source": [
    "###  We define a function called _SSE_ that you can use to calculate the SSE"
   ]
  },
  {
   "cell_type": "code",
   "execution_count": 6,
   "metadata": {},
   "outputs": [],
   "source": [
    "def SSE(x,y,slope,intercept=0):\n",
    "    \"\"\"Calculate SSE for a guessed linear regression line\n",
    "    \n",
    "    Input parameter:\n",
    "        x,y (1d numpy array): \n",
    "            the numpy arrays with the data points\n",
    "        slope (float): \n",
    "            real value for the regression line slope\n",
    "        \n",
    "        intercept (float): intercept of the line (default 0)\n",
    "    Returns:\n",
    "        The SSE value (float)\n",
    "    \"\"\"\n",
    "    yhat=intercept+slope*x\n",
    "    error=y-yhat\n",
    "    result=0\n",
    "    for e in error:\n",
    "        result=result+e**2\n",
    "    return result\n"
   ]
  },
  {
   "cell_type": "markdown",
   "metadata": {},
   "source": [
    "## For the following tasks we work with the centered data \n",
    "(mean values subtracted from the samples in array x and y)"
   ]
  },
  {
   "cell_type": "code",
   "execution_count": 7,
   "metadata": {},
   "outputs": [],
   "source": [
    "# For demonstration of fitting the slope by the SSE minimization, we work with centered data.\n",
    "# The intercept is therefore given as 0.\n",
    "x=x-np.mean(x)\n",
    "y=y-np.mean(y)"
   ]
  },
  {
   "cell_type": "markdown",
   "metadata": {},
   "source": [
    "### Task 1: Make a scatter plot figure of the centered data x , y\n",
    "### Task 2: Calculate the SSE for a range of slope values\n",
    "\n",
    "### Task 3: Check: Does the slope parameter from the linear regression minimizes the SSE?  \n",
    "### Task 4: Add the regression line to the scatter plot!\n",
    "(Tip you can do this in different ways, one way is to use the function np.arange() to  create an array (xfit) with x-values and then apply the linear regression parameters according to yfit= a + b * xfit)"
   ]
  },
  {
   "cell_type": "code",
   "execution_count": null,
   "metadata": {},
   "outputs": [],
   "source": [
    "# your code goes in here"
   ]
  },
  {
   "cell_type": "markdown",
   "metadata": {},
   "source": [
    "### Optional Task 5: Plot the SSE as a function of the slope values"
   ]
  },
  {
   "cell_type": "code",
   "execution_count": null,
   "metadata": {},
   "outputs": [],
   "source": []
  },
  {
   "cell_type": "code",
   "execution_count": null,
   "metadata": {},
   "outputs": [],
   "source": []
  }
 ],
 "metadata": {
  "kernelspec": {
   "display_name": "Python 3 August 2021 Environment",
   "language": "python",
   "name": "aug21"
  },
  "language_info": {
   "codemirror_mode": {
    "name": "ipython",
    "version": 3
   },
   "file_extension": ".py",
   "mimetype": "text/x-python",
   "name": "python",
   "nbconvert_exporter": "python",
   "pygments_lexer": "ipython3",
   "version": "3.8.10"
  }
 },
 "nbformat": 4,
 "nbformat_minor": 4
}
