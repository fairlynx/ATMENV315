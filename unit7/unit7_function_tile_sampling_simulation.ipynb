{
 "cells": [
  {
   "cell_type": "markdown",
   "metadata": {},
   "source": [
    "# Simulation of random events with Python \n",
    "\n",
    "This notebook contains a function that can be used as a numerical simulation of the sampling from a bag filled with tiles  showing the numbers 1,2,3,4,5, or 6.\n",
    "\n",
    "It can also be interpreted as a simulation of rolling six-sided dice.\n",
    "\n"
   ]
  },
  {
   "cell_type": "code",
   "execution_count": null,
   "metadata": {},
   "outputs": [],
   "source": [
    "# -*- coding: utf-8 -*-\n",
    "\"\"\"\n",
    "Created on Mon Feb 20 14:10:29 2017\n",
    "\n",
    "@author: OET\n",
    "\"\"\"\n",
    "import numpy as np\n",
    "def sample_from_population(n, loaded=False):\n",
    "    \"\"\"This function will simulate the tile sampling experiment.\n",
    "    You can also think of it as simulator for rolling a 6-sided.\n",
    "    \n",
    "    Usage: res = sample_from_population(30) \n",
    "    Input parameters:\n",
    "           n: the number of times to draw a tile from the population (or roll the die)\n",
    "    Optional input parameters:\n",
    "            loaded: either True of False \n",
    "            (False is default, creating uniform probability for all events)           \n",
    "    Output: \n",
    "           a numpy array with the event numbers\n",
    "           \n",
    "           \n",
    "    Last Update: 2019-03-28 by OET\"\"\"\n",
    "           \n",
    "    if loaded==True:\n",
    "        # loaded dice simulation / tile population with one event having lower probability\n",
    "        population = np.array([1,1,1,1,1,1,\\\n",
    "                               2,2,2,2,2,2,\\\n",
    "                               3,3,3,3,3,3,\\\n",
    "                               4,4,4,      \\\n",
    "                               5,5,5,5,5,5,\\\n",
    "                               6,6,6,6,6,6]) \n",
    "    else:\n",
    "        # fair dice simulation / tile population with uniform (even) probability\n",
    "        population = np.array([1,1,1,1,1,1,\\\n",
    "                               2,2,2,2,2,2,\\\n",
    "                               3,3,3,3,3,3,\\\n",
    "                               4,4,4,4,4,4,\\\n",
    "                               5,5,5,5,5,5,\\\n",
    "                               6,6,6,6,6,6,]) \n",
    "    #return events\n",
    "    return population[np.random.randint(0,np.size(population),size=n)]\n"
   ]
  },
  {
   "cell_type": "code",
   "execution_count": null,
   "metadata": {},
   "outputs": [],
   "source": [
    "help(sample_from_population)"
   ]
  },
  {
   "cell_type": "markdown",
   "metadata": {},
   "source": [
    "### Supporting code: Calculating the frequency of events (histograms)"
   ]
  },
  {
   "cell_type": "code",
   "execution_count": null,
   "metadata": {},
   "outputs": [],
   "source": [
    "# 30 trials sampling from the population of tiles / 30 times rolling a 6-sided die \n",
    "\n",
    "n=30\n",
    "\n",
    "# store the summary result from one experiment\n",
    "yfair=sample_from_population(n,loaded=False)\n",
    "yloaded=sample_from_population(n,loaded=True)\n",
    "\n",
    "# bin ranges\n",
    "use_bins=np.arange(0.5,6.5+1,1) # [0.5, 1.5, ... ,6.5]\n",
    "count_fair,index=np.histogram(yfair,bins=use_bins)\n"
   ]
  },
  {
   "cell_type": "markdown",
   "metadata": {},
   "source": [
    "### Plotting the histogram"
   ]
  },
  {
   "cell_type": "code",
   "execution_count": null,
   "metadata": {},
   "outputs": [],
   "source": [
    "% matplotlib inline\n",
    "import matplotlib.pyplot as plt\n",
    "plt.hist(yfair,bins=use_bins,color=\"gold\",edgecolor=\"purple\",width=0.8)\n",
    "plt.show()"
   ]
  },
  {
   "cell_type": "markdown",
   "metadata": {},
   "source": [
    "---\n",
    "### Breakout group work (30min)\n",
    "\n",
    "Inform yourself with the help of the help-function, how the function *sample_from_population()* can be applied. \n",
    " - What arguments does the function expect?\n",
    " - How can you use the keyword parameter to toggle between a population with equal probability for each event ('fair' population), and a population that has one event occur less frequently than the other five elementary events ('loaded' population).\n",
    " - Which event (which number) is has a lower probability than the other five events in the 'loaded' simulation.\n",
    " \n",
    " What is the function returning when you call it?\n",
    "     What is the first object (type, values and what do they represent?)\n",
    "     What is the second object (type, values and what do they represent?) \n",
    "\n",
    "Apply the function several times and study with the code below the frequency of the events.\n",
    "\n",
    "\n",
    "\n"
   ]
  },
  {
   "cell_type": "markdown",
   "metadata": {},
   "source": [
    "### Programming activity:\n",
    "\n",
    "Develop a loop that can repeat the simulation of the whole experiment 'sampling with replacement' (the experiment we had done manually with the real tiles):\n",
    "\n",
    "- You want to repeat the whole experiment, as if we had 10, 20, or 1000 more days and each day you would repeat the sampling-with-replacement experiment with your chosen sample size (e.g. 30+30=60 trials). \n",
    "\n",
    "- Calculate the relative frequency for each event in the 'fair' and the 'loaded' experiment during each iteration.\n",
    "- Calculate the difference between the relative frequency of the 'fair' and 'loaded' experiment.\n",
    "- use a 2-dimensional array to save all results\n",
    "\n",
    "\n",
    "### Tip: Decide first how often you want to repeat the whole experiments. Then create first a 2-dimensional empty array that can store the differences from each iteration. For example an array with 1000 rows and 6 columns can store all differences for thousand experiments. \n",
    "\n",
    "Alternatively, you can concentrate only on the suspected event number that has a lower probability in the loaded experiment. Start with a 1-dimensional array and assign the corresponding difference in the rel. frequency to that array.\n"
   ]
  },
  {
   "cell_type": "code",
   "execution_count": null,
   "metadata": {},
   "outputs": [],
   "source": []
  }
 ],
 "metadata": {
  "kernelspec": {
   "display_name": "Python 3",
   "language": "python",
   "name": "python3"
  },
  "language_info": {
   "codemirror_mode": {
    "name": "ipython",
    "version": 3
   },
   "file_extension": ".py",
   "mimetype": "text/x-python",
   "name": "python",
   "nbconvert_exporter": "python",
   "pygments_lexer": "ipython3",
   "version": "3.6.7"
  }
 },
 "nbformat": 4,
 "nbformat_minor": 2
}
