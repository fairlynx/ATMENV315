{
 "cells": [
  {
   "cell_type": "markdown",
   "metadata": {},
   "source": [
    "# Unit 7: Calculating trends in cooling degree days \n",
    "\n",
    "\n",
    "Cooling degree days (CDD) are used to study regional climates in connection with energy consumption for air conditioning (and other heat-related energy production/consumption processes). \n",
    "\n",
    "<img src=\"map_us_cdd.png\" width=600 height=400>\n",
    "\n",
    "We want to validate the U.S. Energy Information Administration (EIA) map with a couple of selected US GHCN climate station data.\n"
   ]
  },
  {
   "cell_type": "markdown",
   "metadata": {},
   "source": [
    "## 1. Where can we expect to experience the most cooling degree days?\n",
    "\n",
    "* Albany \n",
    "* NY City\n",
    "* Fresno\n",
    "* Seattle\n"
   ]
  },
  {
   "cell_type": "code",
   "execution_count": null,
   "metadata": {},
   "outputs": [],
   "source": [
    "import numpy as np\n",
    "import matplotlib.pyplot as plt\n",
    "import datetime as dt # handles dates for us\n",
    "import pandas as pd\n",
    "# For the linear regression we use Scipy's function linregress()\n",
    "from scipy.stats import linregress\n",
    "\n",
    "\n",
    "# slightly better plots we can get when we\n",
    "# load the package that changes the default plotting of matplotlib\n",
    "import seaborn as sns\n",
    "sns.set_theme()\n",
    "\n",
    "###############################################################\n",
    "# local modules: \n",
    "# Make sure you have acis.py in the same folder \n",
    "# together with this notebook!!!\n",
    "###############################################################\n",
    "import acis as ac # download and load functions for daily data"
   ]
  },
  {
   "cell_type": "markdown",
   "metadata": {},
   "source": [
    "In this script we use the module acis again. This allows us to access the GHCN-daily station data from the server in Cornell.\n",
    "\n",
    "We need the following functions from this module:\n",
    "\n",
    "* *ac.download_stationdata_dly_years*\n",
    "* *ac.load_station_data_dly*\n"
   ]
  },
  {
   "cell_type": "code",
   "execution_count": null,
   "metadata": {},
   "outputs": [],
   "source": [
    "#################################################\n",
    "# Control variables \n",
    "#################################################\n",
    "# first and last year to download\n",
    "yr1, yr2 = 1950 , 2018\n",
    "\n",
    "d1=dt.datetime(yr1,1,1)\n",
    "d2=dt.datetime(yr2,12,31)\n",
    "# datetime objects can calculate the number of days for us\n",
    "# We need ndays to create the correct 2-dimensional data array for tmax below\n",
    "diff=d2-d1\n",
    "ndays=diff.days+1\n",
    "\n",
    "\n",
    "###########################################################\n",
    "# The new way with a dictionary named stationlist\n",
    "###########################################################\n",
    "stations={'USW00014735':'Albany AP',\n",
    "          'USW00094728':'New York CNTRL PK TWR',\n",
    "          'USW00024233':'Seattle_Tacoma_Intl_AP',\n",
    "          'USW00093193':'Fresno_Yosemite_Intl_AP'}\n",
    "\n",
    "\n"
   ]
  },
  {
   "cell_type": "markdown",
   "metadata": {},
   "source": [
    "### We apply now the dictionary and download  the four station data from the server\n",
    "\n"
   ]
  },
  {
   "cell_type": "code",
   "execution_count": null,
   "metadata": {},
   "outputs": [],
   "source": [
    "for key in stations:# key is the station id e.g. USW00014735\n",
    "    print (\"Get data for station \"+stations[key])\n",
    "    filename=key+\"_\"+str(yr1)+\"-\"+str(yr2)+\"_dly.csv\"\n",
    "    print (\"download data to local file \"+filename)\n",
    "    result=ac.download_stationdata_dly_years(key,startyear=yr1,endyear=yr2)\n"
   ]
  },
  {
   "cell_type": "markdown",
   "metadata": {},
   "source": [
    "### Reading the local CSV spreadsheet files \n",
    "\n",
    " "
   ]
  },
  {
   "cell_type": "code",
   "execution_count": null,
   "metadata": {},
   "outputs": [],
   "source": [
    "# first four lines have text info, use keyword argument skiprows\n",
    "label='USW00014735'\n",
    "station='Albany NY'\n",
    "df=ac.load_station_data_dly(\"USW00014735_1950-2018_dly.csv\") \n",
    "\n",
    "df\n",
    "#NOTE pcpn and snow can contain missing values or flags for trace of precpipitation \n",
    "# you can check with \n",
    "#df.query(\"pcpn =='T' or pcpn == 'M'\") "
   ]
  },
  {
   "cell_type": "markdown",
   "metadata": {},
   "source": [
    "### Calculate total cooling degree days for each year for a range of years"
   ]
  },
  {
   "cell_type": "markdown",
   "metadata": {},
   "source": [
    "Now let's calculate the total CDDs per year for a range of years for each station. \n",
    "- First define the range of years of interest. \n",
    "- Use np.zeroes to create a 2-d array that can store the CDDs for each year for each station. \n",
    "- Then loop through each year\n",
    "    - apply the previous code block to calculate CDDs \n",
    "    - assign the result to the data array (apply row, column index to fill in one value)for each year for each station. \n",
    "- Lastly, plot the results. \n",
    "\n",
    "\n",
    "Note: For stations with incomplete data, there is a RunTimeWarning while running this code. It appears that when calculating the CDDs by subtracting 65.0 from the mean temperature data, python likely encountered a nan value(s) within the mean temperature array (for the years 2009 and 2015). However, everything still appears to have worked as Python likely kept those nan values as nan and moved on. This is fine because when summing the CDDs for each year, we ignore the nan values."
   ]
  },
  {
   "cell_type": "markdown",
   "metadata": {},
   "source": [
    "## Calculation of Cooling Degree Days for one selected station and for one year\n",
    "\n",
    "The data we work with are in the variable x (2-dim array).\n",
    "The date information is in arrays years, months, days\n",
    "(It is the same time range in all station data files)\n"
   ]
  },
  {
   "cell_type": "code",
   "execution_count": null,
   "metadata": {},
   "outputs": [],
   "source": [
    "dfq=df.query(\"year == 2018\")\n",
    "dfq.columns\n",
    "istation=0 # one station from the four\n",
    "mean_temp=dfq['mean_temp']\n",
    "plt.plot(mean_temp,color='black')\n",
    "plt.show()\n"
   ]
  },
  {
   "cell_type": "markdown",
   "metadata": {},
   "source": [
    "### Calculation of Cooling Degree Days using numpy methods\n",
    "\n",
    "- check where in the 'array' mean_temp the values are > 65F\n",
    "- then sum up the temperature values increments above 65 F for all days\n"
   ]
  },
  {
   "cell_type": "code",
   "execution_count": null,
   "metadata": {},
   "outputs": [],
   "source": [
    "\n",
    "tbase=65\n",
    "tempadd=np.where(mean_temp>tbase,mean_temp-tbase,0) \n",
    "plt.plot(tempadd,color='red')\n",
    "plt.xlabel(\"day in year)\")\n",
    "plt.ylabel(\"daily mean temperature [F]\")\n",
    "plt.show()\n",
    "\n",
    "plt.plot(np.cumsum(tempadd))\n",
    "plt.xlabel(\"day in year\")\n",
    "plt.ylabel(\"cumulative sum cooling degree days\")\n",
    "plt.show()\n",
    "print (\"CDD for the selected station: \",label)\n",
    "print (f\"The CCD for the selected year is {np.sum(tempadd)} F \")\n",
    "\n"
   ]
  },
  {
   "cell_type": "markdown",
   "metadata": {},
   "source": [
    "### Pandas method for calculation of the CDD\n",
    "\n"
   ]
  },
  {
   "cell_type": "code",
   "execution_count": null,
   "metadata": {},
   "outputs": [],
   "source": [
    "tbase=65\n",
    "# dfq is already selected to be one year of data, only\n",
    "dfq65=dfq.query(f\"mean_temp > {tbase}\")\n",
    "tempadd=dfq65['mean_temp'].values-tbase\n",
    "cdd=np.sum(tempadd)\n",
    "print (f\"The CCD for the selected year is {cdd} F \")\n",
    "\n",
    "# or you could do this\n",
    "# cdd=(dfq65['mean_temp'].values-tbase).sum()\n"
   ]
  },
  {
   "cell_type": "markdown",
   "metadata": {},
   "source": [
    "## Here we begin the analysis of the temporal variability in CDDs\n",
    "\n",
    "### First, let's calculate CDD values for each year 1950-2018"
   ]
  },
  {
   "cell_type": "code",
   "execution_count": null,
   "metadata": {},
   "outputs": [],
   "source": [
    "yr1 = 1950\n",
    "yr2 = 2018\n",
    "tbase=65 # base temperature for CDD calculations\n",
    "years = np.arange(yr1,yr2+1,1)\n",
    "\n",
    "cdd_list = [] \n",
    "for i,yr in enumerate(years):\n",
    "    dfq=df.query(f\"year == {yr}\")\n",
    "    # dfq is already selected to be one year of data, only\n",
    "    dfq65=dfq.query(f\"mean_temp > {tbase}\")\n",
    "    tempadd=dfq65['mean_temp'].values-tbase\n",
    "    cdd=np.sum(tempadd)\n",
    "    cdd_list.append(cdd)\n",
    "cdds=np.array(cdd_list)"
   ]
  },
  {
   "cell_type": "code",
   "execution_count": null,
   "metadata": {},
   "outputs": [],
   "source": [
    "# first plot of the time series (without trend line)\n",
    "plt.bar(years,cdds,color='orange',width=1)\n",
    "plt.plot(years,cdds,color='red')\n",
    "plt.xlabel(\"year\")\n",
    "plt.ylabel(\"CDD (F)\")\n",
    "plt.title(\"Cooling Degree Days for \"+station)\n",
    "\n",
    "plt.show()"
   ]
  },
  {
   "cell_type": "markdown",
   "metadata": {},
   "source": [
    "## Here comes the statistical part \n",
    "## Linear regression"
   ]
  },
  {
   "cell_type": "markdown",
   "metadata": {},
   "source": [
    "### Trend analysis 1950-2018 "
   ]
  },
  {
   "cell_type": "code",
   "execution_count": null,
   "metadata": {},
   "outputs": [],
   "source": [
    "# linear regression line\n",
    "yr1 = 1950\n",
    "yr2 = 2018\n",
    "tbase=65 # base temperature for CDD calculations\n",
    "years = np.arange(yr1,yr2+1,1)\n",
    "cdd_list = [] \n",
    "for i,yr in enumerate(years):\n",
    "    dfq=df.query(f\"year == {yr}\")\n",
    "    # dfq is already selected to be one year of data, only\n",
    "    dfq65=dfq.query(f\"mean_temp > {tbase}\")\n",
    "    tempadd=dfq65['mean_temp'].values-tbase\n",
    "    result=np.sum(tempadd)\n",
    "    cdd_list.append(result)\n",
    "cdds=np.array(cdd_list)\n",
    "\n",
    "x=years\n",
    "y=cdds\n",
    "\n",
    "b, a, r, p_value,dump =linregress(x,y)\n",
    "print(f\"The linear regression line for {yr1}-{yr2}:\")\n",
    "print(f\"yfit={a:.2f}+{b:.2f}*x\")\n",
    "print(f\"with correlation r={r:.2f}\")\n",
    "print(f\"and p-value to H0: 'b not equal 0' is p={p_value:.5f}\")\n",
    "\n",
    "# fitted values (they lie on the trend line)\n",
    "cdds1=cdds # save for plotting\n",
    "years1=years # save for plotting \n",
    "cdd_trend1=a+b*years1"
   ]
  },
  {
   "cell_type": "markdown",
   "metadata": {},
   "source": [
    "## Trend analysis 1980-2018\n"
   ]
  },
  {
   "cell_type": "code",
   "execution_count": null,
   "metadata": {},
   "outputs": [],
   "source": [
    "# linear regression line\n",
    "# one has several options how to use copy and paste\n",
    "# of code from above\n",
    "# just make sure that you have new variable names \n",
    "# to store the results so that we can compare the \n",
    "# trend line with the previous trend line\n",
    "yr1 = 1980\n",
    "yr2 = 2018\n",
    "tbase=65 # base temperature for CDD calculations\n",
    "years = np.arange(yr1,yr2+1,1)\n",
    "cdd_list = [] \n",
    "for i,yr in enumerate(years):\n",
    "    dfq=df.query(f\"year == {yr}\")\n",
    "    # dfq is already selected to be one year of data, only\n",
    "    dfq65=dfq.query(f\"mean_temp > {tbase}\")\n",
    "    tempadd=dfq65['mean_temp'].values-tbase\n",
    "    result=np.sum(tempadd)\n",
    "    cdd_list.append(result)\n",
    "\n",
    "cdds=np.array(cdd_list)\n",
    "\n",
    "x=years\n",
    "y=cdds\n",
    "\n",
    "b, a, r, p_value,dump =linregress(x,y)\n",
    "print(f\"The linear regression line for {yr1}-{yr2}:\")\n",
    "print(f\"yfit={a:.2f}+{b:.2f}*x\")\n",
    "print(f\"with correlation r={r:.2f}\")\n",
    "print(f\"and p-value to H0: 'b not equal 0' is p={p_value:.5f}\")\n",
    "years2=years # save for plotting\n",
    "cdds2=cdds # sav for plotting\n",
    "cdd_trend2=a+b*years2"
   ]
  },
  {
   "cell_type": "markdown",
   "metadata": {},
   "source": [
    "## Show the fitted regression line in the plot\n"
   ]
  },
  {
   "cell_type": "code",
   "execution_count": null,
   "metadata": {
    "scrolled": true
   },
   "outputs": [],
   "source": [
    "\n",
    "\n",
    "plt.bar(years1,cdds1,color='orange',width=1)\n",
    "plt.plot(years1,cdds1,color='red')\n",
    "plt.plot(years1,cdd_trend1,':',color='black',linewidth=2,label='trend 1958-2018')\n",
    "plt.plot(years2,cdd_trend2,'-',color='black',linewidth=2,label='trend 1980-2018')\n",
    "plt.xlabel(\"year\")\n",
    "plt.ylabel(\"CDD (F)\")\n",
    "plt.title(\"Cooling Degree Days for \"+station)\n",
    "plt.legend()\n",
    "\n",
    "plt.show()\n"
   ]
  },
  {
   "cell_type": "markdown",
   "metadata": {},
   "source": [
    "### References\n",
    "\n",
    "Cooling degree days:\n",
    "    \n",
    "    \n",
    "* Definition of cooling degree days (CDD) with base 65F:\n",
    "    * [see the National Weather Service](https://www.weather.gov/key/climate_heat_cool)\n",
    "* What are cooling degree days and how can we use them as indices for climate change?\n",
    "    * [see EPA](https://www.epa.gov/climate-indicators/climate-change-indicators-heating-and-cooling-degree-days)\n",
    "* Global Historical Climate Network - Daliy FTP site: [GHCNd](https://www.ncei.noaa.gov/products/land-based-station/global-historical-climatology-network-daily) \n"
   ]
  },
  {
   "cell_type": "code",
   "execution_count": null,
   "metadata": {},
   "outputs": [],
   "source": []
  }
 ],
 "metadata": {
  "kernelspec": {
   "display_name": "Python 3 August 2021 Environment",
   "language": "python",
   "name": "aug21"
  },
  "language_info": {
   "codemirror_mode": {
    "name": "ipython",
    "version": 3
   },
   "file_extension": ".py",
   "mimetype": "text/x-python",
   "name": "python",
   "nbconvert_exporter": "python",
   "pygments_lexer": "ipython3",
   "version": "3.8.10"
  }
 },
 "nbformat": 4,
 "nbformat_minor": 4
}
