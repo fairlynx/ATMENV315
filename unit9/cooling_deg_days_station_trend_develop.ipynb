{
 "cells": [
  {
   "cell_type": "markdown",
   "metadata": {},
   "source": [
    "# Calculating cooling degree days "
   ]
  },
  {
   "cell_type": "markdown",
   "metadata": {},
   "source": [
    "## 1. Where can we expect to experience the most cooling degree days?\n",
    "\n",
    "* Albany \n",
    "* NY City\n",
    "* Fresno\n",
    "* Seattle\n"
   ]
  },
  {
   "cell_type": "code",
   "execution_count": 2,
   "metadata": {},
   "outputs": [
    {
     "ename": "ModuleNotFoundError",
     "evalue": "No module named 'acisy'",
     "output_type": "error",
     "traceback": [
      "\u001b[0;31m---------------------------------------------------------------------------\u001b[0m",
      "\u001b[0;31mModuleNotFoundError\u001b[0m                       Traceback (most recent call last)",
      "\u001b[0;32m<ipython-input-2-17ffea7640ed>\u001b[0m in \u001b[0;36m<module>\u001b[0;34m()\u001b[0m\n\u001b[1;32m      8\u001b[0m \u001b[0;31m# Make sure you have acis.py in the same folder together with this notebook!!!\u001b[0m\u001b[0;34m\u001b[0m\u001b[0;34m\u001b[0m\u001b[0;34m\u001b[0m\u001b[0m\n\u001b[1;32m      9\u001b[0m \u001b[0;31m###############################################################################\u001b[0m\u001b[0;34m\u001b[0m\u001b[0;34m\u001b[0m\u001b[0;34m\u001b[0m\u001b[0m\n\u001b[0;32m---> 10\u001b[0;31m \u001b[0;32mimport\u001b[0m \u001b[0macisy\u001b[0m \u001b[0;32mas\u001b[0m \u001b[0mac\u001b[0m \u001b[0;31m# download and load functions for daily data\u001b[0m\u001b[0;34m\u001b[0m\u001b[0;34m\u001b[0m\u001b[0m\n\u001b[0m",
      "\u001b[0;31mModuleNotFoundError\u001b[0m: No module named 'acisy'"
     ]
    }
   ],
   "source": [
    "import numpy as np\n",
    "import matplotlib.pyplot as plt\n",
    "import datetime as dt # handles dates for us\n",
    "\n",
    "###############################################################################\n",
    "# local modules: \n",
    "#\n",
    "# Make sure you have acis.py in the same folder together with this notebook!!!\n",
    "###############################################################################\n",
    "import acis as ac # download and load functions for daily data"
   ]
  },
  {
   "cell_type": "markdown",
   "metadata": {},
   "source": [
    "In this script we use the module acis again. This allows us to access the GHCN-daily station data from the server in Cornell.\n",
    "\n",
    "We need the following functions from this module:\n",
    "\n",
    "* *ac.download_stationdata_dly_years*\n",
    "* *ac.load_station_data_dly*\n"
   ]
  },
  {
   "cell_type": "code",
   "execution_count": 3,
   "metadata": {},
   "outputs": [],
   "source": [
    "#################################################\n",
    "# Control variables \n",
    "#################################################\n",
    "# first and last year to download\n",
    "yr1, yr2 = 1950 , 2018\n",
    "\n",
    "d1=dt.datetime(yr1,1,1)\n",
    "d2=dt.datetime(yr2,12,31)\n",
    "# datetime objects can calculate the number of days for us\n",
    "# We need ndays to create the correct 2-dimensional data array for tmax below\n",
    "diff=d2-d1\n",
    "ndays=diff.days+1\n",
    "\n",
    "\n",
    "###########################################################\n",
    "# The new way with a dictionary named stationlist\n",
    "###########################################################\n",
    "stations={'USW00014735':'Albany AP',\n",
    "          'USW00094728':'New York CNTRL PK TWR',\n",
    "          'USW00024233':'Seattle_Tacoma_Intl_AP',\n",
    "          'USW00093193':'Fresno_Yosemite_Intl_AP'}\n",
    "\n",
    "\n"
   ]
  },
  {
   "cell_type": "markdown",
   "metadata": {},
   "source": [
    "### We apply now the dictionary and download  the four station data from the server\n",
    "\n"
   ]
  },
  {
   "cell_type": "code",
   "execution_count": 4,
   "metadata": {},
   "outputs": [
    {
     "name": "stdout",
     "output_type": "stream",
     "text": [
      "Get data for station Albany AP\n",
      "download data to local file USW00014735_1950-2018_dly.csv\n",
      "################################################################################\n",
      "# send data request to http://data.rcc-acis.org/StnData\n",
      "################################################################################\n",
      "saved data to local file USW00014735_1950-2018_dly.csv\n",
      "data columns are:\n",
      "====================\n",
      "0 : date\n",
      "1 : min_temp\n",
      "2 : mean_temp\n",
      "3 : max_temp\n",
      "4 : pcpn\n",
      "5 : snow\n",
      "Get data for station New York CNTRL PK TWR\n",
      "download data to local file USW00094728_1950-2018_dly.csv\n",
      "################################################################################\n",
      "# send data request to http://data.rcc-acis.org/StnData\n",
      "################################################################################\n",
      "saved data to local file USW00094728_1950-2018_dly.csv\n",
      "data columns are:\n",
      "====================\n",
      "0 : date\n",
      "1 : min_temp\n",
      "2 : mean_temp\n",
      "3 : max_temp\n",
      "4 : pcpn\n",
      "5 : snow\n",
      "Get data for station Seattle_Tacoma_Intl_AP\n",
      "download data to local file USW00024233_1950-2018_dly.csv\n",
      "################################################################################\n",
      "# send data request to http://data.rcc-acis.org/StnData\n",
      "################################################################################\n",
      "saved data to local file USW00024233_1950-2018_dly.csv\n",
      "data columns are:\n",
      "====================\n",
      "0 : date\n",
      "1 : min_temp\n",
      "2 : mean_temp\n",
      "3 : max_temp\n",
      "4 : pcpn\n",
      "5 : snow\n",
      "Get data for station Fresno_Yosemite_Intl_AP\n",
      "download data to local file USW00093193_1950-2018_dly.csv\n",
      "################################################################################\n",
      "# send data request to http://data.rcc-acis.org/StnData\n",
      "################################################################################\n",
      "saved data to local file USW00093193_1950-2018_dly.csv\n",
      "data columns are:\n",
      "====================\n",
      "0 : date\n",
      "1 : min_temp\n",
      "2 : mean_temp\n",
      "3 : max_temp\n",
      "4 : pcpn\n",
      "5 : snow\n"
     ]
    }
   ],
   "source": [
    "for key in stations:# key is the station id e.g. USW00014735\n",
    "    print (\"Get data for station \"+stations[key])\n",
    "    filename=key+\"_\"+str(yr1)+\"-\"+str(yr2)+\"_dly.csv\"\n",
    "    print (\"download data to local file \"+filename)\n",
    "    result=ac.download_stationdata_dly_years(key,startyear=yr1,endyear=yr2)\n"
   ]
  },
  {
   "cell_type": "markdown",
   "metadata": {},
   "source": [
    "### Reading the local CSV spreadsheet files \n",
    "\n",
    " "
   ]
  },
  {
   "cell_type": "code",
   "execution_count": 5,
   "metadata": {},
   "outputs": [
    {
     "name": "stdout",
     "output_type": "stream",
     "text": [
      "================================================================================\n",
      "(25202, 4)\n",
      "read data from local file USW00014735_1950-2018_dly.csv\n",
      "number of data rows: 25202\n",
      "returns the 2-d arrays with columns\n",
      "0 year\n",
      "1 month\n",
      "2 day\n",
      "3 min_temp\n",
      "4 mean_temp\n",
      "5 max_temp\n",
      "6 pcpn\n",
      "7 snow\n",
      "read data from local file USW00094728_1950-2018_dly.csv\n",
      "number of data rows: 25202\n",
      "returns the 2-d arrays with columns\n",
      "0 year\n",
      "1 month\n",
      "2 day\n",
      "3 min_temp\n",
      "4 mean_temp\n",
      "5 max_temp\n",
      "6 pcpn\n",
      "7 snow\n",
      "read data from local file USW00024233_1950-2018_dly.csv\n",
      "number of data rows: 25202\n",
      "returns the 2-d arrays with columns\n",
      "0 year\n",
      "1 month\n",
      "2 day\n",
      "3 min_temp\n",
      "4 mean_temp\n",
      "5 max_temp\n",
      "6 pcpn\n",
      "7 snow\n",
      "read data from local file USW00093193_1950-2018_dly.csv\n",
      "number of data rows: 25202\n",
      "returns the 2-d arrays with columns\n",
      "0 year\n",
      "1 month\n",
      "2 day\n",
      "3 min_temp\n",
      "4 mean_temp\n",
      "5 max_temp\n",
      "6 pcpn\n",
      "7 snow\n"
     ]
    }
   ],
   "source": [
    "print(80*\"=\")\n",
    "# number of rows is ndays\n",
    "# ndays we got already thanks to the datetime package\n",
    "nstation=len(stations)\n",
    "x=np.zeros( [ndays,nstation])\n",
    "print(np.shape(x))\n",
    "j=0\n",
    "label=[]\n",
    "for key in stations:\n",
    "    label.append(stations[key])\n",
    "    filename=key+\"_\"+str(yr1)+\"-\"+str(yr2)+\"_dly.csv\"\n",
    "    print (\"read data from local file \"+filename)\n",
    "    data,col_names=ac.load_station_data_dly(filename)\n",
    "    # get tmean from data\n",
    "    x[:,j]=data[:,4]\n",
    "    years=data[:,0]\n",
    "    months=data[:,1]\n",
    "    days=data[:,2]\n",
    "    j=j+1\n"
   ]
  },
  {
   "cell_type": "markdown",
   "metadata": {},
   "source": [
    "### Calculate total cooling degree days for each year for a range of years"
   ]
  },
  {
   "cell_type": "markdown",
   "metadata": {},
   "source": [
    "Now let's calculate the total CDDs per year for a range of years for each station. \n",
    "- First define the range of years of interest. \n",
    "- Use np.zeroes to create a 2-d array that can store the CDDs for each year for each station. \n",
    "- Then loop through each year\n",
    "    - apply the previous code block to calculate CDDs \n",
    "    - assign the result to the data array (apply row, column index to fill in one value)for each year for each station. \n",
    "- Lastly, plot the results. \n",
    "\n",
    "\n",
    "Note: For stations with incomplete data, there is a RunTimeWarning while running this code. It appears that when calculating the CDDs by subtracting 65.0 from the mean temperature data, python likely encountered a nan value(s) within the mean temperature array (for the years 2009 and 2015). However, everything still appears to have worked as Python likely kept those nan values as nan and moved on. This is fine because when summing the CDDs for each year, we ignore the nan values."
   ]
  },
  {
   "cell_type": "markdown",
   "metadata": {},
   "source": [
    "### Calculation of Cooling Degree Days for one selected station and for one year\n",
    "\n",
    "The data we work with are in the variable x (2-dim array).\n",
    "The date information is in arrays years, months, days\n",
    "(It is the same time range in all station data files)\n"
   ]
  },
  {
   "cell_type": "code",
   "execution_count": 7,
   "metadata": {},
   "outputs": [
    {
     "data": {
      "image/png": "[encoded data removed]",
      "text/plain": [
       "<Figure size 432x288 with 1 Axes>"
      ]
     },
     "metadata": {},
     "output_type": "display_data"
    },
    {
     "data": {
      "image/png": "[encoded data removed]",
      "text/plain": [
       "<Figure size 432x288 with 1 Axes>"
      ]
     },
     "metadata": {},
     "output_type": "display_data"
    },
    {
     "name": "stdout",
     "output_type": "stream",
     "text": [
      "CDD for the selected station:  Albany AP\n",
      "1026.0\n"
     ]
    }
   ],
   "source": [
    "isYear = years == 2018 # np.array with True False values\n",
    "istation=0 # one station from the four\n",
    "mean_temp=x[isYear,istation]\n",
    "tbase=65\n",
    "plt.plot(mean_temp,color='black')\n",
    "# 2019-04-30 bug detected\n",
    "# must subtract tbase before summation of CDD can be done\n",
    "tempadd=np.where(mean_temp>tbase,mean_temp-tbase,0) \n",
    "plt.plot(tempadd,color='red')\n",
    "plt.xlabel(\"day in year)\")\n",
    "plt.ylabel(\"daily mean temperature [F]\")\n",
    "plt.show()\n",
    "\n",
    "plt.plot(np.cumsum(tempadd))\n",
    "plt.xlabel(\"day in year\")\n",
    "plt.ylabel(\"cumulative sum cooling degree days\")\n",
    "plt.show()\n",
    "print (\"CDD for the selected station: \",label[istation])\n",
    "print (np.sum(tempadd))\n"
   ]
  },
  {
   "cell_type": "code",
   "execution_count": 8,
   "metadata": {},
   "outputs": [],
   "source": [
    "yr1 = 1950\n",
    "yr2 = 2018\n",
    "process_years = np.arange(yr1,yr2+1,1)\n",
    "# 2019-04-30 minor bug\n",
    "# before we used the size of array years (which is based on daily\n",
    "# data from 1950-2018) to create the 2-d array cdd_years\n",
    "# process_years determines how many CDD values we calculate\n",
    "nYears = len(process_years) # determines how many years we have\n",
    "cdd_years = np.zeros((nYears,nstation))\n"
   ]
  },
  {
   "cell_type": "code",
   "execution_count": 9,
   "metadata": {
    "scrolled": true
   },
   "outputs": [],
   "source": [
    "%matplotlib inline "
   ]
  },
  {
   "cell_type": "markdown",
   "metadata": {},
   "source": [
    "## Trend analysis 1950-2018 "
   ]
  },
  {
   "cell_type": "code",
   "execution_count": null,
   "metadata": {},
   "outputs": [],
   "source": []
  },
  {
   "cell_type": "markdown",
   "metadata": {},
   "source": [
    "### References\n",
    "\n",
    "Cooling degree days:\n",
    "    \n",
    "    \n",
    "* Definition of cooling degree days (CDD) with base 65F:\n",
    "    * [see the National Weather Service](https://www.weather.gov/key/climate_heat_cool)\n",
    "* What are cooling degree days and how can we use them as indices for climate change?\n",
    "    * [see EPA](https://www.epa.gov/climate-indicators/climate-change-indicators-heating-and-cooling-degree-days)\n",
    "* Global Historical Climate Network - Daliy FTP site: [ftp://ftp.ncdc.noaa.gov/pub/data/ghcn/daily](ftp://ftp.ncdc.noaa.gov/pub/data/ghcn/daily) \n"
   ]
  },
  {
   "cell_type": "code",
   "execution_count": null,
   "metadata": {},
   "outputs": [],
   "source": []
  }
 ],
 "metadata": {
  "kernelspec": {
   "display_name": "Python 3",
   "language": "python",
   "name": "python3"
  },
  "language_info": {
   "codemirror_mode": {
    "name": "ipython",
    "version": 3
   },
   "file_extension": ".py",
   "mimetype": "text/x-python",
   "name": "python",
   "nbconvert_exporter": "python",
   "pygments_lexer": "ipython3",
   "version": "3.6.7"
  }
 },
 "nbformat": 4,
 "nbformat_minor": 2
}
