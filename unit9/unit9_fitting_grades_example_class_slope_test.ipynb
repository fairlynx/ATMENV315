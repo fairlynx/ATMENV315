{
 "cells": [
  {
   "cell_type": "markdown",
   "metadata": {},
   "source": [
    "## Fitting grades example: Does the linear regression depend on which variable we choose to assign to the x-axis (independent variable) and the y-axis (dependent variable)?\n",
    "\n",
    "In this notebook we use the two data arrays x and y that contain the sample data:\n",
    "\n",
    "* x contains the third exam score\n",
    "* y contains the final exam score "
   ]
  },
  {
   "cell_type": "markdown",
   "metadata": {},
   "source": [
    "<P style=\"background-color:orange;font-size:130%\">\n",
    "<BR>\n",
    "For consistency with the actual visual line fitting activity in class, please set the logical variable\n",
    "class_compatible=True. The full sample data is shown and used in the regression analysis if set False.\n",
    "<BR>\n",
    "<BR>\n",
    "</P>\n"
   ]
  },
  {
   "cell_type": "code",
   "execution_count": 1,
   "metadata": {},
   "outputs": [],
   "source": [
    "class_compatible=False"
   ]
  },
  {
   "cell_type": "code",
   "execution_count": 2,
   "metadata": {},
   "outputs": [],
   "source": [
    "%matplotlib inline"
   ]
  },
  {
   "cell_type": "code",
   "execution_count": 3,
   "metadata": {},
   "outputs": [
    {
     "name": "stdout",
     "output_type": "stream",
     "text": [
      "[65 67 71 71 66 75 67 70 71 69 69]\n",
      "[175 133 185 163 126 198 153 163 159 151 159]\n"
     ]
    }
   ],
   "source": [
    "import matplotlib.pylab as plt\n",
    "import numpy as np\n",
    "from scipy import stats\n",
    "import matplotlib\n",
    "matplotlib.rc('xtick', labelsize=12) \n",
    "matplotlib.rc('ytick', labelsize=12) \n",
    "#change the style\n",
    "plt.style.use(\"ggplot\")\n",
    "\n",
    "x=np.array([ 65, 67, 71, 71, 66, 75, 67, 70, 71, 69, 69])\n",
    "y=np.array([175,133,185,163,126,198,153,163,159,151,159])\n",
    "if class_compatible:\n",
    "    # 2019-04-25 the visual regression line fit did not have the point with the largest x-value\n",
    "    use_for_fitting=[v < 75 for v in x]# short code to create list with True False\n",
    "    print (\"class activity settings are applied\")\n",
    "    x_limits=[-5,5]\n",
    "else:\n",
    "    use_for_fitting=[ True for v in x]\n",
    "    x_limits=[-7,7]\n",
    "print (x[use_for_fitting])\n",
    "print (y[use_for_fitting])\n",
    "\n",
    "# center data\n",
    "x=x-np.mean(x)\n",
    "y=y-np.mean(y)\n",
    "\n",
    "# for the team activity the scaling provides better numerical values \n",
    "# to work with\n",
    "\n",
    "y=y/3"
   ]
  },
  {
   "cell_type": "markdown",
   "metadata": {},
   "source": [
    "## Linear regression with scipy package\n",
    "It can be done with scipy's stats.linregress function.\n",
    "\n",
    "### (1) Third grade exam scores as independent variable and final exam score as dependent variable"
   ]
  },
  {
   "cell_type": "code",
   "execution_count": 4,
   "metadata": {},
   "outputs": [
    {
     "name": "stdout",
     "output_type": "stream",
     "text": [
      "final score=       0.0000 +       1.6091 * third exam score\n",
      "correlation:   0.663094\n",
      "p-value: 0.026150\n"
     ]
    }
   ],
   "source": [
    "#stats.linregress(x,y)\n",
    "slope1, intercept1, r_value1, p_value1, std_err1 = stats.linregress(x[use_for_fitting],y[use_for_fitting])\n",
    "print(\"final score= %12.4f + %12.4f * third exam score\" %(intercept1, slope1))\n",
    "print(\"correlation: %10.6f\" % (r_value1))\n",
    "print(\"p-value: %8.6f\" %(p_value1))\n"
   ]
  },
  {
   "cell_type": "code",
   "execution_count": 5,
   "metadata": {},
   "outputs": [
    {
     "name": "stdout",
     "output_type": "stream",
     "text": [
      "third exam score =      -0.0000 +       0.2732 * final exam score\n",
      "correlation:   0.663094\n",
      "p-value: 0.026150\n",
      "testing the slope product                  b1*b2= 0.4396931104246353\n",
      "compare that to coefficient of determination r^2= 0.4396931104246354\n"
     ]
    }
   ],
   "source": [
    "slope2, intercept2, r_value2, p_value2, std_err2 = stats.linregress(y[use_for_fitting],x[use_for_fitting])\n",
    "print(\"third exam score = %12.4f + %12.4f * final exam score\" %(intercept2, slope2))\n",
    "print(\"correlation: %10.6f\" % (r_value2))\n",
    "print(\"p-value: %8.6f\" %(p_value2))\n",
    "# check the reciprocal relationship between the two slopes\n",
    "print (\"testing the slope product                  b1*b2=\", slope1*slope2)\n",
    "print (\"compare that to coefficient of determination r^2=\", r_value2**2)"
   ]
  },
  {
   "cell_type": "markdown",
   "metadata": {},
   "source": [
    "## Create a scatterplot with the regression lines"
   ]
  },
  {
   "cell_type": "code",
   "execution_count": 6,
   "metadata": {},
   "outputs": [
    {
     "data": {
      "image/png": "[encoded data removed]",
      "text/plain": [
       "<Figure size 432x432 with 1 Axes>"
      ]
     },
     "metadata": {},
     "output_type": "display_data"
    }
   ],
   "source": [
    "# Change the default plot style\n",
    "# You can see what styles are available with print(plt.style.available)\n",
    "show_fitted_line=True\n",
    "fig=plt.figure(figsize=(6,6))\n",
    "# add a new coordinate system \n",
    "# relative units\n",
    "left=0.1\n",
    "bottom=0.1\n",
    "width=0.8\n",
    "height=0.8\n",
    "\n",
    "ax=fig.add_axes([left,bottom,width,height])\n",
    "ax.scatter(x,y,marker='x',s=100,c='black')\n",
    "if show_fitted_line:\n",
    "    yhat1=slope1*x+intercept1\n",
    "    xhat2=slope2*y+intercept2\n",
    "    ax.plot(x,yhat1,linestyle='dashed',linewidth=3,color='black',label='fitted final exam')\n",
    "    ax.plot(xhat2,y,linestyle='dashed',linewidth=3,color='purple',label='inverted fitted third exam')\n",
    "ax.set_xlabel(\"third exam score (anom)\",fontsize=12)\n",
    "ax.set_ylabel(\"final exam score (anom)\",fontsize=12)\n",
    "ax.set_xlim(x_limits)\n",
    "ax.set_ylim(-15,15)\n",
    "fig.show()"
   ]
  },
  {
   "cell_type": "markdown",
   "metadata": {},
   "source": [
    "## Summary\n",
    "\n",
    "In linear regression we have to pay attention to the role of the two variables. The slope of the fitted regression line is given by the ratio of the standard deviations in the two samples multiplied with the correlation coefficient:\n",
    "\n",
    "A fitted line for the situation \n",
    "\n",
    "$y=a + b\\,x +\\epsilon_1$ \n",
    "\n",
    "is given by\n",
    "\n",
    "$\\large \\hat{b}= r\\,\\frac{s_y}{s_x}$\n",
    "\n",
    "with $r$ the correlation coefficient, $s_x$ the standard deviation in the independent variable, and $s_y$ the standard deviation in the dependent variable.\n",
    "\n",
    "If we switched the role of the variables \n",
    "\n",
    "$x=c + d\\,y +\\epsilon_2$\n",
    "\n",
    "we fit another line with the slope:\n",
    "\n",
    "$\\large \\hat{d}=r\\, \\frac{s_x}{s_y}$\n",
    "\n",
    "\n",
    "In many situations, but not always, the nature of the problem will guide us in deciding what is the independent variable and which variable is the dependent variable. \n",
    "\n"
   ]
  },
  {
   "cell_type": "markdown",
   "metadata": {},
   "source": [
    "---\n",
    "Note: if invert the slope of this second fitted line we get: \n",
    "\n",
    "$\\large \\frac{1}{\\hat{d}} = \\frac{1}{r} * \\frac{s_y}{s_x} = \\frac{r}{r^2} \\frac{s_y}{s_x} = \\frac{1}{r^2} \\hat{b}$\n",
    "\n",
    "Or equivalently: $ \\hat{b}*\\hat{d} = r^2$\n",
    "This shows us that the sum of squared errors principle gives different fitted lines when we plot the two lines in the same scatter plot. Only when the correlation was very close to 1 the slopes would be almost reciprocal to each other.\n"
   ]
  },
  {
   "cell_type": "code",
   "execution_count": null,
   "metadata": {},
   "outputs": [],
   "source": []
  }
 ],
 "metadata": {
  "kernelspec": {
   "display_name": "Python 3",
   "language": "python",
   "name": "python3"
  },
  "language_info": {
   "codemirror_mode": {
    "name": "ipython",
    "version": 3
   },
   "file_extension": ".py",
   "mimetype": "text/x-python",
   "name": "python",
   "nbconvert_exporter": "python",
   "pygments_lexer": "ipython3",
   "version": "3.8.6"
  }
 },
 "nbformat": 4,
 "nbformat_minor": 2
}
