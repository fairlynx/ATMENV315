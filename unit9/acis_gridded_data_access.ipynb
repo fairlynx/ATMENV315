{
 "cells": [
  {
   "cell_type": "markdown",
   "metadata": {},
   "source": [
    "# Sending a request to the Applied Climate Information System (ACIS)\n",
    "\n",
    "ACIS is a system architecture developed, maintained, and operated by the NOAA Regional Climate Centers (RCCs)  \n",
    "(see their web page [http://www.rcc-acis.org/aboutacis_overview.html](http://www.rcc-acis.org/aboutacis_overview.html) for information). We used the service of the system before to retrieve station climate data. Now we want to make use of a high-resolution (4kmx4km) gridded data product to obtain the cooling degree days (CDD) for the state of New York.\n",
    "\n",
    "\n",
    "We have developed a function that sends a data request to the server side, and the server returns the gridded data set including the metadata information for the longitude, latitude, and elevation of the grid domain. \n",
    "\n",
    "\n",
    "**Acknowledgements:**\n",
    "\n",
    "The code to request the data from the data server was provided by **Professor DeGaentano** at Cornell University.\n",
    "Here we modified it to work with the urllib3 library. "
   ]
  },
  {
   "cell_type": "code",
   "execution_count": 1,
   "metadata": {},
   "outputs": [],
   "source": [
    "import urllib3\n",
    "import json\n",
    "import datetime as dt\n",
    "import numpy as np\n",
    "\n",
    "##########################################################################################################\n",
    "# Do not change the code inside the function definition!\n",
    "# If you want to experiment with the code and make different data requests,\n",
    "# make a copy of this code and create a new function definition.\n",
    "##########################################################################################################\n",
    "def request_gridded_gdd(year,basetemp,state=\"NY\"):\n",
    "    \"\"\"send a data request to the server and retrieve growing degree days data for one year.\n",
    "    Input paramter:\n",
    "    \\t year \\t \\t : begin date and end date of type datetime \n",
    "    \\t basetemp \\t : base temperature (e.g. 65 (Fahrenheit) for cooling degree days).\n",
    "    \\t state \\t \\t : an optional parameter for changing the default state (NY) to another state (e.g. CA)\n",
    "    Returned objects:\n",
    "    \\t lat, lon, elev, data \\t : numpy arrays with latitude (1-dim), longitude (1-dim),\n",
    "    \\t \\t \\t \\t   elevation (2-dim), and data (2-dim) is the returned climate data\n",
    "    \\t \\t \\t \\t  (e.g. cooling degree days)\n",
    "    \"\"\"\n",
    "    # data server's host address\n",
    "    host=\"http://grid.rcc-acis.org/GridData\"\n",
    "    # Data identification number ( server side has several gridded data productions, do not change this value)\n",
    "    grid_num = 21 # 4kmx 4km data set\n",
    "    \n",
    "    # future use: allow for regional lat-lon rectangular region \n",
    "    #bbox_coords= \"-72.50, 42.25,-66.5,40.5\" \n",
    "    #region=(-72.50,42.25,-66.5,40.5)\n",
    "    #regionstring=\"[%f12.4, %f12.4, %f12.4, %f12.4]\" % (region[0],region[1],region[2],region[3])\n",
    "    \n",
    "    # Entire year could be requested with simply the year 2017 (?) instead 2017-01-01 and 2017-12-31\n",
    "    sdate_str=str(year)+\"-01-01\"\n",
    "    edate_str=str(year)+\"-12-31\"\n",
    "    varname=\"gdd\"+str(int(basetemp))\n",
    "    \n",
    "    print (\"base temperature: \"+str(int(basetemp))+\"F\")\n",
    "    print (\"used in degree day calculation: x= max(tmean[F]-basetemp,0), sum x over all days in year\")   \n",
    "    print (\"Variable name : \"+varname)\n",
    "    print (\"Start and end date: \"+sdate_str+\" - \"+edate_str)\n",
    "    input_dict = {\"state\":state.lower(),\"sdate\":sdate_str,\"edate\":edate_str,\n",
    "                  \"grid\":\"21\",\"elems\":[{\"name\":varname,\"interval\":\"yly\",\"duration\":\"yly\",\"reduce\":\"sum\"}],\n",
    "                  \"meta\":[\"ll\",\"elev\"]}\n",
    "    # convert into json format for the POST request\n",
    "    encode_body=json.dumps(input_dict)\n",
    "    \n",
    "    # try to connect and to get the requested data\n",
    "    # in format ready to export to a csv file\n",
    "    print(\"#\"*80)\n",
    "    print (\"# send data request to \"+host)\n",
    "    print(\"#\"*80)\n",
    "    try:\n",
    "        print(\"post data request \"+host+\" ... \")\n",
    "        http= urllib3.PoolManager()\n",
    "        response = http.request('POST',host,headers={'Content-Type': 'application/json'},body=encode_body)\n",
    "        content =  response.data.decode('utf-8')\n",
    "        print (\"server responded.\")\n",
    "    except Exception as e:\n",
    "        print (\"error occurred:\", e)\n",
    "        lat,lon,elev,data= None, None, None, None\n",
    "    # decode the content\n",
    "    try:\n",
    "        print(\"use json.loads() for decoding the content\")\n",
    "        result=json.loads(content)\n",
    "        meta=result['meta']\n",
    "        lat=np.array(meta['lat'],dtype=np.float)\n",
    "        lon=np.array(meta['lon'],dtype=np.float)\n",
    "        elev=np.array(meta['elev'],dtype=np.float)\n",
    "        databuffer=result['data']\n",
    "        data=np.array(databuffer[0][1],dtype=np.float)\n",
    "    except Exception as e:\n",
    "        print(\"error decoding the content with json.loads()\")\n",
    "        print(\"check values in the returned numpy-arrays!!!\")\n",
    "        print(e)\n",
    "    return lat,lon,elev,data\n",
    "\n",
    "def print_summary(x):\n",
    "    \"\"\"function that gives a compact summary of the data arry's shape, and data value statistics\"\"\"\n",
    "    print(60*\"=\")\n",
    "    print(\"Dimension (shape) of the array:\", np.shape(x))\n",
    "    print(\"Data range: min, max: \",np.nanmin(x),np.nanmax(x))\n",
    "    print(\"Number of np.NAN in x: \",np.sum(np.isnan(x)))\n",
    "    print(\"Mean and Variance: \",np.nanmean(x),np.nanvar(x))\n",
    "    print(60*\"=\")\n",
    "    return\n",
    "\n",
    "####################################################################################################\n",
    "# END OF FUNCTION DEFINITIONS\n",
    "####################################################################################################"
   ]
  },
  {
   "cell_type": "code",
   "execution_count": 2,
   "metadata": {},
   "outputs": [
    {
     "name": "stdout",
     "output_type": "stream",
     "text": [
      "base temperature: 50F\n",
      "used in degree day calculation: x= max(tmean[F]-basetemp,0), sum x over all days in year\n",
      "Variable name : gdd50\n",
      "Start and end date: 2005-01-01 - 2005-12-31\n",
      "################################################################################\n",
      "# send data request to http://grid.rcc-acis.org/GridData\n",
      "################################################################################\n",
      "post data request http://grid.rcc-acis.org/GridData ... \n",
      "server responded.\n",
      "use json.loads() for decoding the content\n"
     ]
    }
   ],
   "source": [
    "####################################################################################################\n",
    "# calling the data retrieval function\n",
    "# the first number is the year, the second number\n",
    "# the base temperature for the CCD calculation\n",
    "###################################################################################################\n",
    "lat,lon,elev,data=request_gridded_gdd(2005,(10.*9/5+32))"
   ]
  },
  {
   "cell_type": "code",
   "execution_count": 3,
   "metadata": {},
   "outputs": [
    {
     "name": "stdout",
     "output_type": "stream",
     "text": [
      "<class 'numpy.ndarray'>\n",
      "============================================================\n",
      "Dimension (shape) of the array: (111, 192)\n",
      "Data range: min, max:  40.458333 45.041666\n",
      "Number of np.NAN in x:  0\n",
      "Mean and Variance:  42.74999966666667 1.782407398148222\n",
      "============================================================\n",
      "============================================================\n",
      "Dimension (shape) of the array: (111, 192)\n",
      "Data range: min, max:  -79.791667 -71.833333\n",
      "Number of np.NAN in x:  0\n",
      "Mean and Variance:  -75.8125 5.333188675926\n",
      "============================================================\n",
      "============================================================\n",
      "Dimension (shape) of the array: (111, 192)\n",
      "Data range: min, max:  -107507.0 4124.0\n",
      "Number of np.NAN in x:  0\n",
      "Mean and Variance:  -21314.18656156156 1931499216.0476832\n",
      "============================================================\n",
      "============================================================\n",
      "Dimension (shape) of the array: (111, 192)\n",
      "Data range: min, max:  -999.0 4114.0\n",
      "Number of np.NAN in x:  0\n",
      "Mean and Variance:  1827.2730855855855 2212887.684245584\n",
      "============================================================\n"
     ]
    }
   ],
   "source": [
    "print(type(lat))\n",
    "print_summary(lat)\n",
    "print_summary(lon)\n",
    "print_summary(elev)\n",
    "print_summary(data)"
   ]
  },
  {
   "cell_type": "markdown",
   "metadata": {},
   "source": [
    "### Replacing dummy values with np.NAN values\n",
    "The returned data contain dummy values -999. We set them to np.NAN values.  \n",
    "Elevation (elev, units ft) contains large negative values as dummies. We set those to np.NAN, too."
   ]
  },
  {
   "cell_type": "code",
   "execution_count": 21,
   "metadata": {},
   "outputs": [
    {
     "name": "stdout",
     "output_type": "stream",
     "text": [
      "============================================================\n",
      "Dimension (shape) of the array: (111, 192)\n",
      "Data range: min, max:  0.0 4124.0\n",
      "Number of np.NAN in x:  4397\n",
      "Mean and Variance:  1091.3588530889742 380781.2913840822\n",
      "============================================================\n",
      "============================================================\n",
      "Dimension (shape) of the array: (111, 192)\n",
      "Data range: min, max:  1356.0 4114.0\n",
      "Number of np.NAN in x:  4397\n",
      "Mean and Variance:  2561.953709725096 171957.0465713695\n",
      "============================================================\n"
     ]
    }
   ],
   "source": [
    "elev[elev<=-100000]=np.NAN\n",
    "data[data<=-999]=np.NAN\n",
    "print_summary(elev)\n",
    "print_summary(data)"
   ]
  },
  {
   "cell_type": "code",
   "execution_count": 5,
   "metadata": {},
   "outputs": [
    {
     "data": {
      "image/png": "[encoded data removed]",
      "text/plain": [
       "<Figure size 432x288 with 2 Axes>"
      ]
     },
     "metadata": {
      "needs_background": "light"
     },
     "output_type": "display_data"
    }
   ],
   "source": [
    "import matplotlib.pyplot as plt\n",
    "\n",
    "# Try these lines, too. It will plot the elevation.\n",
    "#plt.pcolormesh(lon, lat, elev,cmap=plt.cm.terrain)\n",
    "#plt.colorbar(shrink=0.75)\n",
    "\n",
    "plt.contourf(lon,lat,data,cmap=plt.cm.jet)\n",
    "plt.colorbar(shrink=0.75)\n",
    "plt.grid(color='gray',linestyle=':')\n",
    "plt.text(-79.5,44.5,\"CDD in NY, year 2017\")\n",
    "plt.show()\n"
   ]
  },
  {
   "cell_type": "markdown",
   "metadata": {},
   "source": [
    "## References:\n",
    "* [Data server requests](http://www.rcc-acis.org/docs_webservices.html)\n",
    "* [Matplotlib contour and pcolormesh](https://matplotlib.org/gallery/images_contours_and_fields/pcolormesh_levels.html)\n",
    "* [Python course contour plot examples](https://www.python-course.eu/matplotlib_contour_plot.php)\n",
    "\n",
    "\n",
    "    "
   ]
  },
  {
   "cell_type": "code",
   "execution_count": null,
   "metadata": {},
   "outputs": [],
   "source": []
  }
 ],
 "metadata": {
  "kernelspec": {
   "display_name": "Python 3",
   "language": "python",
   "name": "python3"
  },
  "language_info": {
   "codemirror_mode": {
    "name": "ipython",
    "version": 3
   },
   "file_extension": ".py",
   "mimetype": "text/x-python",
   "name": "python",
   "nbconvert_exporter": "python",
   "pygments_lexer": "ipython3",
   "version": "3.6.7"
  }
 },
 "nbformat": 4,
 "nbformat_minor": 2
}
