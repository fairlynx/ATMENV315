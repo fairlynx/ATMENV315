{
 "cells": [
  {
   "cell_type": "markdown",
   "metadata": {},
   "source": [
    "# Cooling Degree Days in the US\n",
    "\n",
    "\n",
    "## 1. Introduction (feel free to make changes to the text)\n",
    "\n",
    "Cooling degree days (CDD) is a temperature index that is used to monitor the climate in the US ([see US Global Change Research Program](https://www.globalchange.gov/browse/indicators/indicator-heating-and-cooling-degree-days)).\n",
    "The EPA has reported that CDDs have significantly increased in the past decades ([see the EPA online summary report](https://www3.epa.gov/climatechange/science/indicators/health-society/heating-cooling2.html), and the [technical description](https://www.epa.gov/sites/production/files/2016-08/documents/heating-cooling_documentation.pdf)). However, spatial trends vary and the figures on the EPA web pages, for example, also show regions (states) in which no trend or slight negative trends are found.\n",
    "\n",
    "The purpose of this research project ...\n",
    "\n",
    "\n",
    "<P style=\"background-color:purple;color:gold;font-size:130%\">\n",
    "<BR>\n",
    "    The purpose of this research project ... [Fill in a paragraph]\n",
    "<BR>\n",
    "<BR>\n",
    "</P>"
   ]
  },
  {
   "cell_type": "markdown",
   "metadata": {},
   "source": [
    "## 2. Data and code used (and other resources)"
   ]
  },
  {
   "cell_type": "markdown",
   "metadata": {},
   "source": [
    "The starting point of the data analysis was given in the Notebook \"unit9_conus_cdd_homework_assignment2\". It is the starting point for the trend analysis of the continental US. Here we make use of a CDD data set that is derived from a gridded daily temperature data set developed by scientists at NCAR ([Newman et al.(2015)](https://journals.ametsoc.org/doi/10.1175/JHM-D-15-0026.1)).\n",
    "\n",
    "The data cover the continental U.S. (CONUS) with a resolution of 1/8 degree, and the time range is 1980-2015.\n",
    "\n",
    "The version of the source data product is an updated version of the orginally published data set (Newman, personal communication, 2018). \n",
    "\n",
    "### 2.1 CCD calculation\n",
    "\n",
    "We use the calculated annual CCD data. They were derived from the mean daily temperature adopting the standard CDD calculation with a base temperature of tbase=65F. Note the calculations were done in the units Fahrenheit. \n",
    "In each year the daily mean temperatures were set to 0 were the temperature is below the base temperature value. For temperatures above, *tmean-tbase* were calculated and then the resulting values were summed for each year. \n",
    "\n",
    "### 2.2 CDD data\n",
    "\n",
    "The CDD data are yearly values from 1980 to 2015. For each year the gridded CDD data are stored as 2-dimensional arrays in a single NetCDF file. The grid resolution is 1/8 degree in latitude and longitude. In addition we have a NetCDF file with the gridded elevation (same grid resolution).\n",
    "\n",
    "Reading and working with NetCDF files  is supported through the package xarray. \n",
    "\n",
    "The xarray package builds upon the numpy package and provides many useful methods to analyze gridded data. Here we extract the data and assign them to variables of type numpy array. Numpy arrays were used in previous units of this course, and we therefore keep the main data analysis working with numpy arrays. \n",
    "\n",
    "- *lon, lat*     : 1-dim arrays with longitude and latitude information\n",
    "- *lon2d, lat2d* : 2-dim arrays with longitude and latitudes for each grid point (dimensions 0:lat, 1:lon)\n",
    "- *elev*         : 2-dim array with elevation for the land grid points (dimensions 0:lat, 1:lon)\n",
    "- *data*         : 3-dim array with all CDD values for all years, latitudes and longitudes. The dimensions are:\n",
    "    - 0: time\n",
    "    - 1: latitude\n",
    "    - 2: longitude\n",
    "    \n",
    "In addition we have the array with the datetime values in variable \n",
    "- *time*          : 1-dim array with the datetime values (useful for time series plots)\n",
    "- *x*             : 1-dim array with the years (useful for trend fitting and plotting)\n",
    "\n",
    "\n",
    "\n",
    "\n",
    "\n",
    "\n"
   ]
  },
  {
   "cell_type": "code",
   "execution_count": null,
   "metadata": {},
   "outputs": [],
   "source": [
    "%matplotlib inline"
   ]
  },
  {
   "cell_type": "code",
   "execution_count": null,
   "metadata": {},
   "outputs": [],
   "source": [
    "import numpy as np\n",
    "import matplotlib.pylab as plt\n",
    "import xarray as xr\n",
    "from scipy import stats"
   ]
  },
  {
   "cell_type": "markdown",
   "metadata": {},
   "source": [
    "## Reading data from a NetCDF file\n",
    "\n",
    "### What is NetCDF format and who uses it? \n",
    "NetCDF is a common data format used in atmospheric, ocean and climate sciences. Many model data output is \n",
    "distributed in NetCDF format. You also find remote sensing products in NetCDF format. The format is platform independent, and it is self-describing. That is all "
   ]
  },
  {
   "cell_type": "code",
   "execution_count": null,
   "metadata": {
    "scrolled": true
   },
   "outputs": [],
   "source": [
    "# PATH to the local NetCDF file\n",
    "# and NetCDF file name\n",
    "data_path=\"/home11/staff/timm/Public/Data/\"\n",
    "\n",
    "\n",
    "files = [data_path+f\"conus_tmean_cdd65_{year}.nc\" for year in range(1980, 2016)]\n",
    "\n",
    "print(\"open the all the data files \"+files[0]+\"...\"+files[-1] )\n",
    "try:\n",
    "    nc=xr.open_mfdataset(files,coords=('time',),chunks={'time':1}) # opens the NetCDF\n",
    "    failed=False\n",
    "except:\n",
    "    print(\"failed\")\n",
    "    failed=True\n",
    "if not failed: \n",
    "    print(nc)\n",
    "    # get values as numpy array\n",
    "    lon=nc['lon'].values # NetCDF variable name for the longitude,\n",
    "    lat=nc['lat'].values # NetCDF variable name for the latitude\n",
    "    lon2d, lat2d =np.meshgrid(lon, lat) # takes lon and lat data and makes a full 2-d grid filled with lat and lon values\n",
    "    cdd=nc['cdd']\n",
    "    # this copies the cdd data from the xarray object into a new 3-d numpy array\n",
    "    data=cdd.values \n",
    "    time=nc.time.values\n",
    "    x=np.arange(1980,2015+1,1)\n",
    "nc.close()"
   ]
  },
  {
   "cell_type": "code",
   "execution_count": null,
   "metadata": {},
   "outputs": [],
   "source": []
  },
  {
   "cell_type": "code",
   "execution_count": null,
   "metadata": {},
   "outputs": [],
   "source": [
    "# Load the elevation map data for this data set's grid resolution\n",
    "\n",
    "data_path=\"/home11/staff/timm/Public/Data/\"\n",
    "file = data_path+f\"conus_eighth_elevation.nc\"\n",
    "print(\"open the elevation \"+file)\n",
    "try:\n",
    "    nc_elev=xr.open_dataset(file) # opens the NetCDF\n",
    "    failed=False\n",
    "except:\n",
    "    print(\"failed\")\n",
    "    failed=True\n",
    "if not failed:\n",
    "    print(nc_elev)\n",
    "    elev=nc_elev['elevation'].values # copied to numpy array\n",
    "nc_elev.close()"
   ]
  },
  {
   "cell_type": "code",
   "execution_count": null,
   "metadata": {},
   "outputs": [],
   "source": [
    "print(\"longitudes, latitudes, cooling degree days (data), and orography(elev)\")\n",
    "print(\"the time information is given in variable x: it contains the years.\")\n",
    "print(60*\"=\")\n",
    "print(\"shape of array variable data  : \",np.shape(data))\n",
    "print(\"------------------------------------------------\")\n",
    "print(\"shape of array variable elev  : \",np.shape(elev))\n",
    "print(\"shape of array variable lon2d : \",np.shape(lon2d))\n",
    "print(\"shape of array variable lat2d : \",np.shape(lat2d))\n",
    "print(\"------------------------------------------------\")\n",
    "print(\"shape of array variable lat   : \", np.shape(lat))\n",
    "print(\"shape of array variable lon   : \", np.shape(lon))\n",
    "print(\"shape of array variable x     : \", np.shape(x))\n",
    "\n",
    "print(60*'=')\n",
    "\n"
   ]
  },
  {
   "cell_type": "markdown",
   "metadata": {},
   "source": [
    "## 2.3 Variables that contain our data:\n",
    "- data: a 3-dimensional array with cooling degree days [year,lat,lon]\n",
    "- elev: 2-dim array with elevation [lat,lon]\n",
    "- lon2d : a 2-dimensional array with longitude grid coordinates (matches dimension of variable elev)\n",
    "- lat2d : a 2-dimensional array with latitude grid coordinates (matches dimension of variable elev)\n",
    "\n",
    "- lon and lat: 1-dimensional arrays with the coordinates.\n"
   ]
  },
  {
   "cell_type": "markdown",
   "metadata": {},
   "source": [
    "## 3 Data analysis"
   ]
  },
  {
   "cell_type": "markdown",
   "metadata": {},
   "source": [
    "### User defined variables for plot customization"
   ]
  },
  {
   "cell_type": "code",
   "execution_count": null,
   "metadata": {},
   "outputs": [],
   "source": [
    "# plot customization\n",
    "# lev: levels for color shading\n",
    "# cm:  colormap for fill colors\n",
    "lev=np.arange(0,4000,200) # 1-d numpy array \n",
    "cm=plt.get_cmap('gray')\n",
    "xlabel=\"Longitude\"\n",
    "ylabel=\"Latitude\"\n",
    "title=\"CDD\"\n",
    "\n",
    "# time information is stored in variable x (1-d array)\n",
    "# x contains the years.\n",
    "# use same x predictor data (years) as before\n",
    "# used for plotting and linear regression of trends\n"
   ]
  },
  {
   "cell_type": "markdown",
   "metadata": {},
   "source": [
    "<P style=\"background-color:purple;color:gold;font-size:130%\">\n",
    "<BR>\n",
    "    3.1 Make a plot of the elevation with plt.pcolormesh (1 pt)\n",
    "<BR>\n",
    "<BR>\n",
    "</P>\n"
   ]
  },
  {
   "cell_type": "markdown",
   "metadata": {},
   "source": [
    "\n",
    "<P style=\"background-color:purple;color:gold;font-size:130%\">\n",
    "<BR>\n",
    "    3.2 Make a contour plot of the of CDD for one selected year (1pt)\n",
    "<BR>\n",
    "<BR>\n",
    "</P>\n"
   ]
  },
  {
   "cell_type": "markdown",
   "metadata": {},
   "source": [
    "<P style=\"background-color:purple;color:gold;font-size:130%\">\n",
    "<BR>\n",
    "    3.3 Make a time series plot for the average CDD (averaged over the whole \n",
    "    lat-lon domain) (2pts)\n",
    "<BR>\n",
    "<BR>\n",
    "</P>\n",
    "\n",
    "\n",
    "- use np.nanmean with the axis keyword "
   ]
  },
  {
   "cell_type": "markdown",
   "metadata": {},
   "source": [
    "\n",
    "<P style=\"background-color:purple;color:gold;font-size:130%\">\n",
    "<BR>\n",
    "    3.4 Calculate the trend for the time series (from 3.3) (2pts) \n",
    "<BR>\n",
    "<BR>\n",
    "</P>\n",
    "\n"
   ]
  },
  {
   "cell_type": "markdown",
   "metadata": {},
   "source": [
    "\n",
    "<P style=\"background-color:purple;color:gold;font-size:130%\">\n",
    "<BR>\n",
    "    3.5 Summarize your results and discuss the trend (e.g. is there a significant trend and what does the slope tell us about the change in the CCD days quantitatively?). Take a look at the year to year variability in the time series. (4pts) \n",
    "<BR>\n",
    "<BR>\n",
    "</P>\n",
    "\n",
    "\n"
   ]
  },
  {
   "cell_type": "markdown",
   "metadata": {},
   "source": [
    "\n",
    "<P style=\"background-color:purple;color:gold;font-size:130%\">\n",
    "<BR>\n",
    "    4. Spatial trend analysis: In which regions can we find a significant trend in the CDD? \n",
    "<BR>\n",
    "<BR>\n",
    "</P>\n",
    "\n",
    "\n"
   ]
  },
  {
   "cell_type": "markdown",
   "metadata": {},
   "source": [
    "\n",
    "<P style=\"background-color:purple;color:gold;font-size:130%\">\n",
    "<BR>\n",
    "    4.1 Calculate the trend (slope,intercept, correlation, p-value) for all grid points (4 pts)\n",
    "<BR>\n",
    "<BR>\n",
    "</P>\n",
    "\n",
    "- Define four 2-dimensional numpy arrays (same shape as *elev*)\n",
    "- Code up two loops for automatic calculation of the trend line with stats.linregress\n",
    "    - one loop for latitude\n",
    "    - one loop for longitude\n",
    "- Assign the returned values to the 2-dim data arrays at the right index positions.\n"
   ]
  },
  {
   "cell_type": "markdown",
   "metadata": {},
   "source": [
    "\n",
    "<P style=\"background-color:purple;color:gold;font-size:130%\">\n",
    "<BR>\n",
    "    4.2 Plot a trend map (slopes) with plt.contourf or plt.pcolormesh  (1pt)\n",
    "<BR>\n",
    "<BR>\n",
    "</P>\n",
    "\n",
    "Choose a good color map.\n"
   ]
  },
  {
   "cell_type": "markdown",
   "metadata": {},
   "source": [
    "\n",
    "<P style=\"background-color:purple;color:gold;font-size:130%\">\n",
    "<BR>\n",
    "    4.3 Plot a map of the p-value with plt.contourf or plt.pcolormesh (1pt)\n",
    "<BR>\n",
    "<BR>\n",
    "</P>\n",
    "\n",
    "Choose a good color map.\n"
   ]
  },
  {
   "cell_type": "markdown",
   "metadata": {},
   "source": [
    "\n",
    "<P style=\"background-color:purple;color:gold;font-size:130%\">\n",
    "<BR>\n",
    "    4.4 Summarize your results and discuss the trend map (e.g. where is a significant trend, what does the map tell us about the change in the CCD days quantitatively?). Take a closer look at one region of interest (e.g. NY, CA, Rocky Mountains) and discuss the regional results. (3pts) \n",
    "<BR>\n",
    "<BR>\n",
    "</P>\n",
    "\n",
    "\n"
   ]
  },
  {
   "cell_type": "markdown",
   "metadata": {},
   "source": [
    "\n",
    "<P style=\"background-color:purple;color:gold;font-size:130%\">\n",
    "<BR>\n",
    "    5. A short final conclusion statement (1pt) \n",
    "<BR>\n",
    "<BR>\n",
    "</P>\n",
    "\n",
    "\n"
   ]
  },
  {
   "cell_type": "markdown",
   "metadata": {},
   "source": [
    "\n",
    "## References: \n",
    "- [Weather Service Information on CDD](https://www.weather.gov/key/climate_heat_cool)\n",
    "- [Unidata NetCDF documentation](https://www.unidata.ucar.edu/software/netcdf/docs/index.html)\n",
    "- [Color maps in matplotlib](https://matplotlib.org/examples/color/colormaps_reference.html)"
   ]
  },
  {
   "cell_type": "markdown",
   "metadata": {},
   "source": [
    "---\n",
    "\n",
    "### References:\n",
    "    \n",
    "- Gridded temperature data: [Newman et al.(2015)](https://journals.ametsoc.org/doi/10.1175/JHM-D-15-0026.1)"
   ]
  }
 ],
 "metadata": {
  "kernelspec": {
   "display_name": "Python 3",
   "language": "python",
   "name": "python3"
  },
  "language_info": {
   "codemirror_mode": {
    "name": "ipython",
    "version": 3
   },
   "file_extension": ".py",
   "mimetype": "text/x-python",
   "name": "python",
   "nbconvert_exporter": "python",
   "pygments_lexer": "ipython3",
   "version": "3.6.7"
  }
 },
 "nbformat": 4,
 "nbformat_minor": 2
}
