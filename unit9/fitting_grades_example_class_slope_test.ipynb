{
 "cells": [
  {
   "cell_type": "markdown",
   "metadata": {},
   "source": [
    "## Fitting grades example: Does the linear regression depend on which variable we choose to assign to the x-axis (independent variable) and the y-axis (dependent variable)?\n",
    "\n",
    "In this notebook we use the two data arrays x and y that contain the sample data:\n",
    "\n",
    "* x contains the third exam score\n",
    "* y contains the final exam score "
   ]
  },
  {
   "cell_type": "code",
   "execution_count": 3,
   "metadata": {},
   "outputs": [],
   "source": [
    "%matplotlib inline"
   ]
  },
  {
   "cell_type": "code",
   "execution_count": 2,
   "metadata": {},
   "outputs": [],
   "source": [
    "import matplotlib.pylab as plt\n",
    "import numpy as np\n",
    "from scipy import stats\n",
    "\n",
    "x=np.array([ 65, 67, 71, 71, 66, 75, 67, 70, 71, 69, 69])\n",
    "y=np.array([175,133,185,163,126,198,153,163,159,151,159])\n",
    "\n",
    "# center data\n",
    "x=x-np.mean(x)\n",
    "y=y-np.mean(y)"
   ]
  },
  {
   "cell_type": "markdown",
   "metadata": {},
   "source": [
    "## Linear regression with scipy package\n",
    "It can be done with scipy's stats.linregress function.\n",
    "\n",
    "### (1) Third grade exam scores as independent variable and final exam score as dependent variable"
   ]
  },
  {
   "cell_type": "code",
   "execution_count": 3,
   "metadata": {},
   "outputs": [
    {
     "name": "stdout",
     "output_type": "stream",
     "text": [
      "final score=     0.00 +     4.83 * third exam score\n",
      "correlation:  0.66\n",
      "p-value: 0.026150\n"
     ]
    }
   ],
   "source": [
    "#stats.linregress(x,y)\n",
    "slope1, intercept1, r_value1, p_value1, std_err1 = stats.linregress(x,y)\n",
    "print(\"final score= %8.2f + %8.2f * third exam score\" %(intercept1, slope1))\n",
    "print(\"correlation: %5.2f\" % (r_value1))\n",
    "print(\"p-value: %8.6f\" %(p_value1))\n"
   ]
  },
  {
   "cell_type": "code",
   "execution_count": 4,
   "metadata": {},
   "outputs": [
    {
     "name": "stdout",
     "output_type": "stream",
     "text": [
      "third exam score =    -0.00 +     0.09 * final exam score\n",
      "correlation:  0.66\n",
      "p-value: 0.026150\n",
      "testing the slope product b1*b2=  0.4396931104246355\n"
     ]
    }
   ],
   "source": [
    "slope2, intercept2, r_value2, p_value2, std_err2 = stats.linregress(y,x)\n",
    "print(\"third exam score = %8.2f + %8.2f * final exam score\" %(intercept2, slope2))\n",
    "print(\"correlation: %5.2f\" % (r_value2))\n",
    "print(\"p-value: %8.6f\" %(p_value2))\n",
    "\n",
    "\n",
    "print (\"testing the slope product b1*b2= \", slope1*slope2)"
   ]
  },
  {
   "cell_type": "markdown",
   "metadata": {},
   "source": [
    "## Create a scatterplot with the regression lines"
   ]
  },
  {
   "cell_type": "code",
   "execution_count": 6,
   "metadata": {},
   "outputs": [
    {
     "data": {
      "image/png": "[encoded data removed]",
      "text/plain": [
       "<Figure size 432x432 with 1 Axes>"
      ]
     },
     "metadata": {},
     "output_type": "display_data"
    }
   ],
   "source": [
    "# Change the default plot style\n",
    "# You can see what styles are available with print(plt.style.available)\n",
    "plt.style.use(\"ggplot\")\n",
    "plt.figure(figsize=(6,6))\n",
    "# create scatter plot\n",
    "plt.scatter(x,y,label='sample data')\n",
    "plt.xlabel(\"third exam score\",fontsize=14)\n",
    "plt.ylabel(\"final exam score\",fontsize=14)\n",
    "yhat1=slope1*x\n",
    "\n",
    "xhat2=slope2*y\n",
    "# get the fitted line y-values for each x value\n",
    "plt.plot(x,yhat1,color='purple',label='fitted line (1)') \n",
    "plt.plot(xhat2,y,':',color='green',label='fitted line (2)')\n",
    "plt.legend()\n",
    "plt.show()\n"
   ]
  },
  {
   "cell_type": "markdown",
   "metadata": {},
   "source": [
    "## Summary\n",
    "\n",
    "In linear regression we have to pay attention to the role of the two variables. The slope of the fitted regression line is given by the ratio of the standard deviations in the two samples multiplied with the correlation coefficient:\n",
    "\n",
    "A fitted line for the situation \n",
    "\n",
    "$y=a + b\\,x +\\epsilon_1$ \n",
    "\n",
    "is given by\n",
    "\n",
    "$\\large \\hat{b}= r\\,\\frac{s_y}{s_x}$\n",
    "\n",
    "with $r$ the correlation coefficient, $s_x$ the standard deviation in the independent variable, and $s_y$ the standard deviation in the dependent variable.\n",
    "\n",
    "If we switched the role of the variables \n",
    "\n",
    "$x=c + d\\,y +\\epsilon_2$\n",
    "\n",
    "we fit another line with the slope:\n",
    "\n",
    "$\\large \\hat{d}=r\\, \\frac{s_x}{s_y}$\n",
    "\n",
    "\n",
    "In many situations, but not always, the nature of the problem will guide us in deciding what is the independent variable and which variable is the dependent variable. \n",
    "\n"
   ]
  },
  {
   "cell_type": "markdown",
   "metadata": {},
   "source": [
    "---\n",
    "Note: if invert the slope of this second fitted line we get: \n",
    "\n",
    "$\\large \\frac{1}{\\hat{d}} = \\frac{1}{r} * \\frac{s_y}{s_x} = \\frac{r}{r^2} \\frac{s_y}{s_x} = \\frac{1}{r^2} \\hat{b}$\n",
    "\n",
    "Or equivalently: $ \\hat{b}*\\hat{d} = r^2$\n",
    "This shows us that the sum of squared errors principle gives different fitted lines when we plot the two lines in the same scatter plot. Only when the correlation approaches values close to 1 will the slopes will be reciprocal to each other.\n"
   ]
  },
  {
   "cell_type": "code",
   "execution_count": null,
   "metadata": {},
   "outputs": [],
   "source": []
  }
 ],
 "metadata": {
  "kernelspec": {
   "display_name": "Python 3",
   "language": "python",
   "name": "python3"
  },
  "language_info": {
   "codemirror_mode": {
    "name": "ipython",
    "version": 3
   },
   "file_extension": ".py",
   "mimetype": "text/x-python",
   "name": "python",
   "nbconvert_exporter": "python",
   "pygments_lexer": "ipython3",
   "version": "3.6.7"
  }
 },
 "nbformat": 4,
 "nbformat_minor": 2
}
