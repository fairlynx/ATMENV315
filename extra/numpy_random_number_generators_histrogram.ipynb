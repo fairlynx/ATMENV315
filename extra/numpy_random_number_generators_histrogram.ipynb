{
 "cells": [
  {
   "cell_type": "markdown",
   "metadata": {},
   "source": [
    "# Statistical distributions\n",
    "\n",
    "Numpy offers a number of supporting functions for generating random numbers.\n",
    "However, the SciPy community offers with their scipy package a great support\n",
    "for all kind of Probability Density Functions (PDFs), Cumulative Density Functions (CDFs).\n",
    "We need in this course the uniform and Gaussian distribution \n",
    "(play the most important role) and later the t-distribition).\n"
   ]
  },
  {
   "cell_type": "markdown",
   "metadata": {},
   "source": [
    "## Random number generators with numpy\n",
    "We have random number generators for integer and real (float) numbers.\n",
    "Here we introduce for the real numbers uniform and normal (Gaussian) distribution, and for integer numbers uniform and the binomial distribution.\n"
   ]
  },
  {
   "cell_type": "code",
   "execution_count": 1,
   "metadata": {},
   "outputs": [
    {
     "data": {
      "image/png": "[encoded data removed]",
      "text/plain": [
       "<Figure size 576x360 with 1 Axes>"
      ]
     },
     "metadata": {
      "needs_background": "light"
     },
     "output_type": "display_data"
    }
   ],
   "source": [
    "import numpy as np \n",
    "from matplotlib import pyplot as plt \n",
    "%matplotlib inline\n",
    "\n",
    "\n",
    "# sample size\n",
    "n=1000\n",
    "\n",
    "x1=np.random.uniform(0,11,size=n) # uniform between 0-10\n",
    "x2=np.random.normal(-5,2,size=n)  # normal distribution centered at -5 and scaled with 2 (mean, stddev)\n",
    "x3=np.random.binomial(10,0.2,size=n) # number of positives in 10 trial events with probability of event 0.2 \n",
    "\n",
    "# start a new figure plot\n",
    "# ax becomes the 'new namespace'. It inherits functions from plt\n",
    "# e.g. hist  bar and plot can be called from the object ax\n",
    "# but not all works the same as with plt.\n",
    "\n",
    "fig, ax = plt.subplots(figsize=(8,5))\n",
    "ax.hist(x1,color='gray',ec='purple',lw=2,label='uniform',alpha=0.9,fill=True)\n",
    "ax.hist(x2,color='orange',label='normal',histtype='step',lw=3)\n",
    "ax.hist(x3,bins=[-0.5,0.5,1.5,2.5,3.5,4.5,5.5,6.5,7.5,8.5,9.5,10.5],\\\n",
    "        color='cyan',label='binom',alpha=0.3)\n",
    "ax.set_ylabel(\"frequency\",fontsize=18)\n",
    "ax.set_xlabel(\"random number value\",fontsize=18)\n",
    "ax.set_title(\"Numpy random number generators\") \n",
    "# advanced control of te tick label font size\n",
    "ax.legend()\n",
    "ax.grid(True)\n",
    "\n",
    "fig.savefig(\"histogram_example.png\")\n"
   ]
  },
  {
   "cell_type": "code",
   "execution_count": null,
   "metadata": {},
   "outputs": [],
   "source": []
  },
  {
   "cell_type": "code",
   "execution_count": 2,
   "metadata": {},
   "outputs": [
    {
     "name": "stdout",
     "output_type": "stream",
     "text": [
      "Example calculation of the expected mean value using probability theory\n",
      "Expected mean score for fair   dice: 3.5\n",
      "Expected mean score for loaded dice: 3.47\n"
     ]
    }
   ],
   "source": [
    "import numpy as np\n",
    "\n",
    "print(\"Example calculation of the expected mean value using probability theory\")\n",
    "# discrete events: rolling 6-sided dice\n",
    "# the 'average points' we can expect for loaded dice and fair dice\n",
    "# define probability for our events\n",
    "p_fair  = np.array([1,1,1,1,1,1])/6.0\n",
    "p_loaded= np.array([6,6,6,4,6,6])\n",
    "p_loaded=p_loaded/p_loaded.sum()\n",
    "\n",
    "# events\n",
    "x=np.array([1,2,3,4,5,6])\n",
    "\n",
    "m_fair=np.dot(x,p_fair)\n",
    "m_loaded=np.dot(x,p_loaded)\n",
    "\n",
    "print(f\"Expected mean score for fair   dice: {np.round(m_fair,2)}\")\n",
    "print(f\"Expected mean score for loaded dice: {np.round(m_loaded,2)}\")\n"
   ]
  },
  {
   "cell_type": "code",
   "execution_count": null,
   "metadata": {},
   "outputs": [],
   "source": []
  },
  {
   "cell_type": "code",
   "execution_count": 7,
   "metadata": {},
   "outputs": [
    {
     "data": {
      "text/plain": [
       "array([0, 1, 0, 0, 1, 0, 0, 1, 0, 0, 1, 0, 1, 0, 1, 1, 0, 1, 0, 0, 1, 1,\n",
       "       1, 0, 0, 1, 0, 0, 0, 1, 1, 0, 1, 1, 0, 0, 1, 1, 0, 1, 1, 0, 1, 1,\n",
       "       1, 0, 0, 0, 0, 0, 1, 1, 0, 0, 0, 0, 1, 1, 0, 1, 0, 0, 0, 1, 0, 0,\n",
       "       1, 1, 0, 1, 0, 1, 0, 1, 1, 0, 0, 1, 0, 1, 0, 1, 0, 0, 1, 0, 1, 0,\n",
       "       1, 1, 1, 1, 0, 1, 1, 1, 0, 0, 1, 1])"
      ]
     },
     "execution_count": 7,
     "metadata": {},
     "output_type": "execute_result"
    }
   ],
   "source": [
    "np.random.randint(0,2,size=100)"
   ]
  },
  {
   "cell_type": "code",
   "execution_count": null,
   "metadata": {},
   "outputs": [],
   "source": []
  }
 ],
 "metadata": {
  "kernelspec": {
   "display_name": "Python 3",
   "language": "python",
   "name": "python3"
  },
  "language_info": {
   "codemirror_mode": {
    "name": "ipython",
    "version": 3
   },
   "file_extension": ".py",
   "mimetype": "text/x-python",
   "name": "python",
   "nbconvert_exporter": "python",
   "pygments_lexer": "ipython3",
   "version": "3.8.6"
  }
 },
 "nbformat": 4,
 "nbformat_minor": 2
}
