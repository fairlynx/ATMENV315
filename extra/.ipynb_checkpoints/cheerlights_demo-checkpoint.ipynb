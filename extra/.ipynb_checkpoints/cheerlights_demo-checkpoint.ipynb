{
 "cells": [
  {
   "cell_type": "code",
   "execution_count": 3,
   "metadata": {},
   "outputs": [],
   "source": [
    "# Import additional packages that provide useful functions\n",
    "# Get the packages support to make http requests\n",
    "import urllib3\n",
    "import time\n",
    "import matplotlib.pyplot as plt\n"
   ]
  },
  {
   "cell_type": "code",
   "execution_count": 10,
   "metadata": {},
   "outputs": [],
   "source": [
    "def getcheerlights():\n",
    "    \"\"\"gets the latest cheerlights color and return the RGB value\"\"\"\n",
    "    colorcodes={\"red\":\"#FF0000\",\"green\":\"#008000\",\"blue\":\"#0000FF\",\"cyan\":\"00FFFF\",\n",
    "            \"white\":\"#FFFFFF\",\"warmwhite\":\"#FDF5E6\",\"oldlace\":\"#FDF5E6\",\n",
    "            \"purple\":\"#800080\",\"magenta\":\"#FF00FF\",\"yellow\":\"#FFFF00\",\n",
    "            \"orange\":\"FFA500\",\"pink\":\"#FFC0CB\"}\n",
    "    cheerlights_url=\"http://api.thingspeak.com/channels/1417/field/2/last.txt\"\n",
    "    result=\"#AAAAAA\"\n",
    "    try: \n",
    "        http = urllib3.PoolManager()\n",
    "        r = http.request('GET', cheerlights_url)\n",
    "        result=r.data.decode('utf-8') # returns a dictionary \n",
    "        # find our key from value (clumsy but it works)\n",
    "        for key,val in colorcodes.items():\n",
    "            if val==result:\n",
    "                colorname=key\n",
    "            else:\n",
    "                colorname=\"RGB-levels\"\n",
    "        timestamp=time.ctime()\n",
    "        print (timestamp+\":\"+\" color via Twitter @cheerlights :\"+\n",
    "            colorname+\" (\"+str(result)+\")\")\n",
    "    except urllib.error.URLError as e:\n",
    "        print(\"Error while reading data from URL\")\n",
    "        print(e.reason)\n",
    "        print(\"exit loop gracefully!\")\n",
    "    return result"
   ]
  },
  {
   "cell_type": "code",
   "execution_count": 11,
   "metadata": {},
   "outputs": [
    {
     "name": "stdout",
     "output_type": "stream",
     "text": [
      "Wed Feb 19 23:37:48 2020: color via Twitter @cheerlights :RGB-levels (#FDF5E6)\n"
     ]
    }
   ],
   "source": [
    "test=getcheerlights()"
   ]
  },
  {
   "cell_type": "code",
   "execution_count": 15,
   "metadata": {},
   "outputs": [
    {
     "name": "stdout",
     "output_type": "stream",
     "text": [
      "Wed Feb 19 23:38:32 2020: color via Twitter @cheerlights :RGB-levels (#FDF5E6)\n",
      "#FDF5E6\n"
     ]
    },
    {
     "data": {
      "image/png": "[encoded data removed]",
      "text/plain": [
       "<Figure size 432x288 with 1 Axes>"
      ]
     },
     "metadata": {
      "needs_background": "light"
     },
     "output_type": "display_data"
    }
   ],
   "source": [
    "x=0.5\n",
    "y=0.5\n",
    "size=1\n",
    "col=getcheerlights()\n",
    "print(col)\n",
    "plt.plot(x,y,'o',markersize=80,color=col)\n",
    "plt.show()\n"
   ]
  },
  {
   "cell_type": "code",
   "execution_count": null,
   "metadata": {},
   "outputs": [],
   "source": []
  },
  {
   "cell_type": "code",
   "execution_count": null,
   "metadata": {},
   "outputs": [],
   "source": []
  }
 ],
 "metadata": {
  "kernelspec": {
   "display_name": "Python 3",
   "language": "python",
   "name": "python3"
  },
  "language_info": {
   "codemirror_mode": {
    "name": "ipython",
    "version": 3
   },
   "file_extension": ".py",
   "mimetype": "text/x-python",
   "name": "python",
   "nbconvert_exporter": "python",
   "pygments_lexer": "ipython3",
   "version": "3.6.7"
  }
 },
 "nbformat": 4,
 "nbformat_minor": 2
}
