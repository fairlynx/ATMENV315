{
 "cells": [
  {
   "cell_type": "markdown",
   "metadata": {},
   "source": [
    "# Working with missing values in numpy arrays "
   ]
  },
  {
   "cell_type": "markdown",
   "metadata": {},
   "source": [
    "## What is np.nan?\n",
    "\n",
    "Numpy developers have defined a specific value to indicate that values are not a regular number (_int_, _float_). Many functions in the numpy package can recognize the _np.nan_ value and ignore those values. The plot functions in package Matplotlib.pyplot are not all designed to work with _np.nan_ values, though.\n"
   ]
  },
  {
   "cell_type": "markdown",
   "metadata": {},
   "source": [
    "## What is the purpose of this notebook? \n",
    "\n",
    "This notebook shows you an example how we can extract from an array all the values with real numbers and omit the _np.nan_ values. We do this with the help of loops and objects of type _list_. \n",
    "\n",
    "The example works with simulated time series data of a decaying oscillation. \n",
    "We manipulate the data array and insert several a _np.nan_ values into the numpy array _y_.\n",
    "(Imagine a failure in the sensors during the experiment that caused missing values in the time series.)\n",
    "\n",
    "\n",
    "Our initial attempt of creating a boxplot with the data in array _y_\n",
    "does not work and causes an error, because of the _np.nan_ values that are in the array.\n",
    "\n",
    "(see code cell below)"
   ]
  },
  {
   "cell_type": "code",
   "execution_count": null,
   "metadata": {},
   "outputs": [],
   "source": [
    "import matplotlib.pyplot as plt\n",
    "import numpy as np"
   ]
  },
  {
   "cell_type": "code",
   "execution_count": null,
   "metadata": {},
   "outputs": [],
   "source": [
    "x= np.arange(1,101,1) # time steps (in seconds, for example)\n",
    "y= np.exp(-1.*x/50) # amplitude modulation\n",
    "z= y*np.sin(np.pi*x/10) # a decaying pendulum motion\n",
    "# insert np.nan values into the array \n",
    "z[30:41]=np.nan"
   ]
  },
  {
   "cell_type": "markdown",
   "metadata": {},
   "source": [
    "### Testing Matplotlib's plot function how it deals with missing values"
   ]
  },
  {
   "cell_type": "code",
   "execution_count": null,
   "metadata": {},
   "outputs": [],
   "source": [
    "plt.figure(figsize=(15,5))\n",
    "plt.plot(x,z,linewidth=2,color='green')\n",
    "plt.plot(x,z,'*',markersize=10,)\n",
    "plt.show() # plt.plot works fine with np.nan values in the array"
   ]
  },
  {
   "cell_type": "markdown",
   "metadata": {},
   "source": [
    "### Introducing plt.boxplot and checking if the function works with np.nan values\n",
    "\n",
    "Uncomment the line below see if the function works with data array in variable z\n",
    "(you will see an empty plot).\n"
   ]
  },
  {
   "cell_type": "markdown",
   "metadata": {},
   "source": [
    "## One solution:  Copy the good values from array z into a new list zclean "
   ]
  },
  {
   "cell_type": "markdown",
   "metadata": {},
   "source": [
    "### How to check if a value in the array is np.nan? \n",
    "\n",
    "For this purpose, numpy developers provide the function, _np.isnan()_\n",
    "You can put in a variable and check if the value is np.nan.\n"
   ]
  },
  {
   "cell_type": "code",
   "execution_count": null,
   "metadata": {},
   "outputs": [],
   "source": [
    "test=10.\n",
    "test2=np.nan\n",
    "print ( np.isnan(test) )\n",
    "\n",
    "print ( np.isnan(test2) )\n"
   ]
  },
  {
   "cell_type": "markdown",
   "metadata": {},
   "source": [
    "### Now we use the function _np.isnan()_  in connection with the if-statement (line 5 in the code below).\n"
   ]
  },
  {
   "cell_type": "code",
   "execution_count": null,
   "metadata": {},
   "outputs": [],
   "source": [
    "# in order to eliminate the np.nan\n",
    "# we can do this\n",
    "zclean=[]\n",
    "for value in z:\n",
    "    if np.isnan(value):\n",
    "        pass\n",
    "    else:\n",
    "        zclean.append(value)"
   ]
  },
  {
   "cell_type": "code",
   "execution_count": null,
   "metadata": {},
   "outputs": [],
   "source": [
    "#Now the box-plot works\n",
    "bx=plt.boxplot(zclean)"
   ]
  },
  {
   "cell_type": "markdown",
   "metadata": {},
   "source": [
    "## In the solultion below we added that we copy the corresponding x-values to a new list xclean.\n",
    "\n",
    "\n",
    "Often we have paired data like in this time series example. Array *x* contains only valid numerical values (no np.nan values). If you want to keep the x and y values paired, then you have to subsample the array *x* at the right index positions, too. That is done in the example below. We added another list *xclean* and use an index position counter *i* in the loop.\n"
   ]
  },
  {
   "cell_type": "code",
   "execution_count": null,
   "metadata": {},
   "outputs": [],
   "source": [
    "zclean=[]\n",
    "xclean=[]\n",
    "i=0\n",
    "for value in z:\n",
    "    if np.isnan(value):\n",
    "        pass\n",
    "    else:\n",
    "        zclean.append(value)\n",
    "        xvalue=x[i]\n",
    "        xclean.append(xvalue)\n",
    "        #print(\"the value is %6.4f\" % (value))\n",
    "    i=i+1\n"
   ]
  },
  {
   "cell_type": "markdown",
   "metadata": {},
   "source": [
    "### Now the still boxplot works (of course)"
   ]
  },
  {
   "cell_type": "code",
   "execution_count": null,
   "metadata": {},
   "outputs": [],
   "source": [
    "bx=plt.boxplot(zclean)"
   ]
  },
  {
   "cell_type": "markdown",
   "metadata": {},
   "source": [
    "### And you can still plot the same time series as before:"
   ]
  },
  {
   "cell_type": "code",
   "execution_count": null,
   "metadata": {},
   "outputs": [],
   "source": [
    "\n",
    "plt.plot(x,z,'*',color='red',markersize=12,label='with np.nan values')\n",
    "plt.plot(xclean,zclean,'.',color='black',label='cleaned up data')\n",
    "\n",
    "plt.legend()\n",
    "plt.show()\n"
   ]
  },
  {
   "cell_type": "markdown",
   "metadata": {},
   "source": [
    "### Note: \n",
    "(a) Removing np.nan values from arrays can affect your line plot appearance:\n",
    "See what happens when you plot the cleaned up data (removed the nan.values)."
   ]
  },
  {
   "cell_type": "code",
   "execution_count": null,
   "metadata": {},
   "outputs": [],
   "source": [
    "plt.plot(x,z,color='cyan',linewidth=3,label='org data with np.nan')\n",
    "plt.plot(xclean,zclean,':',color='black',label='cleaned up data')\n",
    "plt.legend()\n",
    "plt.show()"
   ]
  },
  {
   "cell_type": "markdown",
   "metadata": {},
   "source": [
    "(b) We use lists because they are convenient to build and append values to them. You can always convert them into type numpy array \n",
    "before working with them in the data analysis and plotting."
   ]
  },
  {
   "cell_type": "code",
   "execution_count": null,
   "metadata": {},
   "outputs": [],
   "source": [
    "zclean=np.array(zclean)\n",
    "xclean=np.array(xclean)\n",
    "# this allows us to do math with the numpy arrays\n",
    "zclean=zclean*100 \n"
   ]
  },
  {
   "cell_type": "markdown",
   "metadata": {},
   "source": [
    "### Summary:\n",
    "\n",
    "Real-world data are hardly ever perfect. Missing values can be indicated in numpy arrays with np.nan.\n",
    "Oftentimes we need to clean up the data arrays before we can conduct our data analysis. We have ways to check for np.nan values. Lists and for-loops allow us to collect the good data values in lists or arrays. This notebook provides a fairly simply but widely applicable 'recipe' code for cleaning 1-dimensional arrays from np.nan values.\n"
   ]
  }
 ],
 "metadata": {
  "kernelspec": {
   "display_name": "Python 3 August 2021 Environment",
   "language": "python",
   "name": "aug21"
  },
  "language_info": {
   "codemirror_mode": {
    "name": "ipython",
    "version": 3
   },
   "file_extension": ".py",
   "mimetype": "text/x-python",
   "name": "python",
   "nbconvert_exporter": "python",
   "pygments_lexer": "ipython3",
   "version": "3.8.10"
  }
 },
 "nbformat": 4,
 "nbformat_minor": 4
}
