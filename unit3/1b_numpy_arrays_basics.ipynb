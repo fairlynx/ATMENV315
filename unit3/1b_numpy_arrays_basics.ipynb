{
 "cells": [
  {
   "cell_type": "markdown",
   "metadata": {},
   "source": [
    "# Numpy array basics\n",
    "\n",
    "We introduced numpy arrays as object type for our data. If we have a list with data, we can convert it into a numpy array object."
   ]
  },
  {
   "cell_type": "code",
   "execution_count": null,
   "metadata": {},
   "outputs": [],
   "source": [
    "import numpy as np\n",
    "\n",
    "x=[1,2,3,4,5,6,7,8,9,10]\n",
    "x=np.array(x)\n",
    "\n",
    "print(type(x))\n"
   ]
  },
  {
   "cell_type": "markdown",
   "metadata": {},
   "source": [
    "## 1 Numpy arrays use the same indexing syntax to get individual data from the array.\n",
    "It also is iterable and we can form loops with numpy arrays. \n",
    "We can use a variable name that references a numpy array \n",
    "(variable ___x___ was assigned a numpy array in the cell above)"
   ]
  },
  {
   "cell_type": "code",
   "execution_count": null,
   "metadata": {},
   "outputs": [],
   "source": [
    "for value in x:\n",
    "    print (value)"
   ]
  },
  {
   "cell_type": "markdown",
   "metadata": {},
   "source": [
    "## 2 Math calculations with arrays\n",
    "\n",
    "2.1 numpy array's with a + - * / and a single integer or float number \n",
    "apply to each data value in the array.\n",
    "\n"
   ]
  },
  {
   "cell_type": "code",
   "execution_count": null,
   "metadata": {},
   "outputs": [],
   "source": [
    "y=2+x\n",
    "z=x*2\n",
    "n=len(x)\n",
    "i=0\n",
    "while i<n:\n",
    "    print (x[i],y[i],z[i])\n",
    "    i=i+1"
   ]
  },
  {
   "cell_type": "markdown",
   "metadata": {},
   "source": [
    "2.2 The mathematical operators behave similar when you apply them with two arrays. \n",
    "If the arrays are of equal length, then the + - * / etc will be applied pairwise with the elements in the arrays"
   ]
  },
  {
   "cell_type": "code",
   "execution_count": null,
   "metadata": {},
   "outputs": [],
   "source": [
    "xysum=x+y\n",
    "i=0\n",
    "n=len(x)\n",
    "while i<n:\n",
    "    print (x[i],y[i],xysum[i])\n",
    "    i=i+1"
   ]
  },
  {
   "cell_type": "code",
   "execution_count": null,
   "metadata": {},
   "outputs": [],
   "source": []
  },
  {
   "cell_type": "markdown",
   "metadata": {},
   "source": [
    "## 3 Numpy arrays are not appendable! \n",
    "\n",
    "The numpy arrays are good for calculations with large data sets.\n",
    "But unlike lists, we can not apply the method append() to numpy arrays.\n",
    "When you try the code below ('uncomment the line' by removing the comment character '#' in line 2)\n",
    "you will get a error message.\n",
    "<div class=\"alert alert-danger\">\n",
    "    AttributeError: 'numpy.ndarray' object has no attribute 'append'\n",
    "</div>"
   ]
  },
  {
   "cell_type": "code",
   "execution_count": null,
   "metadata": {},
   "outputs": [],
   "source": [
    "# this does not work with numpy arrays\n",
    "#x.append(13) "
   ]
  },
  {
   "cell_type": "markdown",
   "metadata": {},
   "source": [
    "## 4 Creating arrays\n",
    "We can create arrays filled with numbers, typically float numbers. \n",
    "In our first examples we create 1-dimensional arrays. The length of the arrays\n",
    "depends on what we want to do with the arrays. Here are examples.\n",
    "\n",
    "**Suggested activity:** \n",
    "\n",
    "Test yourself and check the length, shape and what is in the arrays with Python code that you have learned.\n",
    "\n",
    "- length of the array (number of elements in the array)\n",
    "- shape of the array\n",
    "- print all the values using a for loop.\n",
    "\n",
    "\n"
   ]
  },
  {
   "cell_type": "code",
   "execution_count": null,
   "metadata": {},
   "outputs": [],
   "source": [
    "x=np.arange(0,10.2,0.2) # 0, 0.2, 0.4, ... , 9.8, 10.0\n",
    "z=np.zeros(10) # array with 10 0.0\n",
    "s=np.empty(10) # filled with unspecified values (depends on the interpreter)"
   ]
  },
  {
   "cell_type": "markdown",
   "metadata": {},
   "source": [
    "---\n",
    "## 5 Copy a numpy array\n",
    "---\n",
    "This is more advanced Python, but important to be aware of this later, or for students with other programming experiences. \n",
    "\n",
    "variable assignments with numpy arrays behave differently than you might think, because we can manipulate the elements in the array (they are 'mutable').\n",
    "\n",
    "Developers had to decide what to do when we make a 'copy' of an existing numpy array.\n",
    "\n",
    "The example below illustrates how we can use `y=np.copy(x)` instead of simply `y=x` to make real copies.\n",
    "Here is another reason why you must be aware of the data types that you process with your code.\n",
    "Operations with int, float, and numpy arrays behave differently!\n"
   ]
  },
  {
   "cell_type": "code",
   "execution_count": null,
   "metadata": {},
   "outputs": [],
   "source": [
    "\n",
    "x= np.array([1,2,3,4])\n",
    "y=x**2\n",
    "xcopy=np.copy(x)\n",
    "ycopy=y # not a copy just another variable pointing at the same array as variable y\n",
    "\n",
    "\n",
    "xcopy[0:2]=0\n",
    "ycopy[0:2]=-9999\n",
    "\n",
    "print(\"x \", x)\n",
    "print(\"xcopy after editing \", xcopy)\n",
    "\n",
    "print (\"y \",y)\n",
    "print (\"ycopy after editing \",ycopy)\n",
    "\n"
   ]
  },
  {
   "cell_type": "markdown",
   "metadata": {},
   "source": [
    "### What is happening in the code above? \n",
    "\n",
    "This behavior is difficult to understand without a taking a closer look at the concept of variables being just a \n",
    "pointer to objects. *ycopy=y* only creates another pointer to the object that y is already pointing to in the memory. When we change elements in the numpy array we put new values into the memory space that is reserved for the numpy array object. The variable y and ycopy are both still assigned to the same object in the memory space of the program.\n",
    "\n",
    "### Conclusion: Always use np.copy() if you need to make a true copy of a numpy array!\n"
   ]
  },
  {
   "cell_type": "markdown",
   "metadata": {},
   "source": [
    "References: \n",
    "\n",
    "(It is difficult to find one easy beginner level introduction to numpy arrays. Suggestions from students what links to add here are appreciated!)\n",
    "- [Python Data Science Handbook (Chapter 2)](https://jakevdp.github.io/PythonDataScienceHandbook/02.02-the-basics-of-numpy-arrays.html)\n",
    "- I have posted in our Blackboard course content a PDF document with a good introduction"
   ]
  },
  {
   "cell_type": "code",
   "execution_count": null,
   "metadata": {},
   "outputs": [],
   "source": []
  }
 ],
 "metadata": {
  "kernelspec": {
   "display_name": "Python 3 August 2022 Environment",
   "language": "python",
   "name": "aug22"
  },
  "language_info": {
   "codemirror_mode": {
    "name": "ipython",
    "version": 3
   },
   "file_extension": ".py",
   "mimetype": "text/x-python",
   "name": "python",
   "nbconvert_exporter": "python",
   "pygments_lexer": "ipython3",
   "version": "3.10.5"
  }
 },
 "nbformat": 4,
 "nbformat_minor": 4
}
