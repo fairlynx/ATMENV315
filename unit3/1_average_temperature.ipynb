{
 "cells": [
  {
   "cell_type": "markdown",
   "metadata": {},
   "source": [
    "# Code development with flow control: Monthly mean temperature calculation\n",
    "\n",
    "In this activity we want to put the attention to the problem of calculating the average.\n",
    "We have all the 'ingredients' now available to load data from a spreadsheet (comma-separated CSV file format).\n",
    "**We work first with a simple and clean data set: Daily mean temperatures of a single month. \n",
    "\n",
    "**Here we use the station KALB, that is the Albany Airport weather station.**\n",
    "\n",
    "Now that we know how to plot data, it is always a good idea to take a look at the data. That includes input as well as output of the calculations.\n"
   ]
  },
  {
   "cell_type": "code",
   "execution_count": 1,
   "metadata": {},
   "outputs": [],
   "source": [
    "%matplotlib inline\n",
    "# we import our standard suppport packages\n",
    "import matplotlib.pyplot as plt\n",
    "import numpy as np\n",
    "%matplotlib inline"
   ]
  },
  {
   "cell_type": "markdown",
   "metadata": {},
   "source": [
    "## 1. Getting the data files\n",
    "\n",
    "\n",
    "### 1.1 Goto to Github and download the file KALB_daily_tavg_jan2015.csv etc.\n",
    "\n",
    "The data files are [located in the folder data on GitHub](https://github.com/oet808/ATMENV315/tree/master/data)\n",
    "\n",
    "\n",
    "\n",
    "### 1.2 Create a new folder in your Jupyter course directory ENV315 \n",
    " \n",
    "Rename the folder into '__data__'. It's good time to make sure you work in a folder called unit3. \n",
    "Make sure you have the directory structure:\n",
    "   - ENV315\n",
    "        - data\n",
    "        - unit1\n",
    "        - unit2\n",
    "        - unit3\n",
    "\n",
    "### 1.3 Enter the new data directory and upload the downloaded data file\n",
    "Check for the file name extension. It must end with __.csv__.\n",
    " "
   ]
  },
  {
   "cell_type": "markdown",
   "metadata": {},
   "source": [
    "## 2. Loading the data from the CSV file and assigning the columns to variables\n",
    "\n",
    "### 2.1 We have to adjust the path and filename to our local file names and folder system\n",
    "\n",
    "Here the user of the script needs to make updates. I like to separate this part therefore from the following code.\n",
    "The code that follows then should work for other users on other file systems, too."
   ]
  },
  {
   "cell_type": "code",
   "execution_count": null,
   "metadata": {},
   "outputs": [],
   "source": [
    "##############################################\n",
    "# User of the script should make changes here\n",
    "##############################################\n",
    "# This notebook is located inside unit3 \n",
    "# here we use the '../' in the path name to indicate that the data directory is one up in the parent directory.\n",
    "path=\"../data/\"\n",
    "filename=path+\"KALB_daily_tavg_jan2015.csv\"\n",
    "print(\"working with file \"+filename)\n",
    "\n"
   ]
  },
  {
   "cell_type": "markdown",
   "metadata": {},
   "source": [
    "### 2.2 The next cell shows how you can load the data and assign them to variables \n",
    "\n",
    "The result is two 1-dimensional numpy arrays. You are familiar with such data arrays (see unit 2)."
   ]
  },
  {
   "cell_type": "code",
   "execution_count": null,
   "metadata": {},
   "outputs": [],
   "source": [
    "##############################################\n",
    "# MAIN PART OF THE SCRIPT\n",
    "##############################################\n",
    "data=np.loadtxt(filename,delimiter=',')\n",
    "# data is a 2-dimensional numpy array with several rows and 2 columns \n",
    "# we assign the first column (day) to a new variable\n",
    "# and the temperature data from the second column to variable temp\n",
    "# that makes the arrays 1-dimensional for us\n",
    "day=data[:,0]\n",
    "temp=data[:,1]"
   ]
  },
  {
   "cell_type": "code",
   "execution_count": null,
   "metadata": {},
   "outputs": [],
   "source": [
    "# test if we loaded the data correctly:\n",
    "# A numpy array is assigned to variable named 'data' when successful\n",
    "# It has two columns with data\n",
    "# check that they match the data columns shown on the GitHub page  \n",
    "print(\"The variable named data contains an object of type \"+str(type(data)))\n",
    "print(\"The numpy array is a 2-dimensional array. We can get the shape of the array\")\n",
    "print(\"with two methods:\")\n",
    "print(\"(a) using this function:  np.shape(data)\")\n",
    "print(\"(b) using this statement: data.shape\") \n",
    "print(\"The former option is more consistent with our standard function call methods.\")\n",
    "print(\"The latter is a more universally applied object-oriented programming style\")\n",
    "print(np.shape(data))\n",
    "print(data.shape)"
   ]
  },
  {
   "cell_type": "markdown",
   "metadata": {},
   "source": [
    "## 3 Problems: \n",
    "\n",
    "### 3.1 Plot of the temperature data and validate the data are in the expected range!\n"
   ]
  },
  {
   "cell_type": "code",
   "execution_count": null,
   "metadata": {},
   "outputs": [],
   "source": []
  },
  {
   "cell_type": "markdown",
   "metadata": {},
   "source": [
    "### 3.2 Problem: Calculate the average temperature for the month from the daily data!\n",
    "\n",
    "(a) Use the standard methods with plt.plot() and plot "
   ]
  },
  {
   "cell_type": "markdown",
   "metadata": {},
   "source": [
    "The definition of the average is given as the sum of the values divived by the number of samples in the data. Here we use Python index notation starting counting at index 0 to n-1.\n",
    "\n",
    "$$\\large \\bar{x}= \\frac{1}{n} (x_0 + x_1 + ... + x_{n-2} + x_{n-1} ) \\\\\n",
    "\\large \\bar{x} = \\frac{1}{n} \\sum_{i=0}^{n-1}x_i$$"
   ]
  },
  {
   "cell_type": "markdown",
   "metadata": {},
   "source": [
    "### 3.2a) Use a for-loop"
   ]
  },
  {
   "cell_type": "code",
   "execution_count": null,
   "metadata": {},
   "outputs": [],
   "source": []
  },
  {
   "cell_type": "markdown",
   "metadata": {},
   "source": [
    "### 3.2b) Use a while loop"
   ]
  },
  {
   "cell_type": "code",
   "execution_count": null,
   "metadata": {},
   "outputs": [],
   "source": []
  },
  {
   "cell_type": "markdown",
   "metadata": {},
   "source": [
    "---\n",
    "### 4) Repeat the calculations with the second data file. Choose one of the two looping/iteration code instructions (for or while loop) to caculate the average\n"
   ]
  },
  {
   "cell_type": "code",
   "execution_count": null,
   "metadata": {},
   "outputs": [],
   "source": []
  },
  {
   "cell_type": "markdown",
   "metadata": {},
   "source": [
    "## 5. Summary: \n",
    "\n",
    "We can calculate the average with an explicit loop. \n",
    "\n",
    "Key steps were: \n",
    "- Making sure we have the correct path and filename to load the data\n",
    "- Use the numpy function ___loadtxt___ to load the data into a 2-dimension numpy array (with rows and columns represented by the first and second dimension/index, respectively)\n",
    "- form a loop that processes element by element the temperature data array\n",
    "- use the incremental summation inside the loop for the counter variable (e.g. _n=n+1_) and the for the summation of the daily temperature data.\n",
    "- finish the calculation after the loop ended (dividing the sum by the number of data)\n",
    "\n",
    "\n",
    "__But we may not be always so lucky and have complete data, or wrong data (outlier) that we need to exclude from the data analysis.__\n",
    "\n",
    "\n",
    "The next tasks will be to improve the code, step by step to solve on problem after another:\n",
    "1. detecting dummy values that mark missing values in the data and excluding them from the average calculation\n",
    "2. a check for the valid data range. Knowing what is a 'valid' range is sometimes easy (e.g. relative humidity can only be between 0-100%, but often it requires good knowledge about the observed environment.)\n",
    "\n"
   ]
  },
  {
   "cell_type": "markdown",
   "metadata": {
    "tags": []
   },
   "source": [
    "## Optional task\n",
    "\n",
    "Show the monthly average value in the same graph above. For example, you could add another marker symbol.\n"
   ]
  },
  {
   "cell_type": "code",
   "execution_count": null,
   "metadata": {},
   "outputs": [],
   "source": [
    "# make another plot and add the mean temperature\n",
    "# -1 index is gives the last element\n",
    "#plt.plot(day[-1]+1, avg,'o',color='gray',markersize=12)"
   ]
  },
  {
   "cell_type": "markdown",
   "metadata": {},
   "source": [
    "## Notes\n",
    "\n",
    "#### a)\n",
    "Numpy has the function _np.mean()_ to do such calculations. We use this exercise to practice the programming skills. Later we will use the numpy functions for the data analysis.\n",
    "\n",
    "#### b) \n",
    "We could work directly with the data files in the GitHub repository. However, we wanted to practice the work with the Jupyterlab folders and data files.\n",
    "\n",
    "The developers of Numpy are giving us powerful functions. We can work with remote data files directly when they are in the right plain-text format (no fancy HTML code around the raw data). You can avoind downloading files and storing them locally."
   ]
  },
  {
   "cell_type": "code",
   "execution_count": null,
   "metadata": {},
   "outputs": [],
   "source": [
    "filename='https://raw.githubusercontent.com/oet808/ATMENV315/master/data/KALB_daily_tavg_jan2015.csv'\n",
    "print(\"working with file \"+filename)\n",
    "test=np.loadtxt(filename,delimiter=',')\n",
    "print(test)\n"
   ]
  },
  {
   "cell_type": "markdown",
   "metadata": {},
   "source": [
    "---\n",
    "## Suggested Reading:\n",
    "    "
   ]
  },
  {
   "cell_type": "markdown",
   "metadata": {},
   "source": [
    "- E-book \"How to Think Like a Computer Scientist - Learning with Python\" (CSPY)\n",
    "- [CSPY 7.1 - 7.3 code iteration (looping) with while statements](https://greenteapress.com/thinkpython2/html/thinkpython2008.html)           \n",
    " - [CSPY 10.3  code iteration (looping) with for-in statements](https://greenteapress.com/thinkpython2/html/thinkpython2011.html)\n",
    "- Python EU course pages:\n",
    "   - [while loop](https://www.python-course.eu/python3_loops.php)\n",
    "   - [for loop](https://www.python-course.eu/python3_for_loop.php)  \n"
   ]
  },
  {
   "cell_type": "code",
   "execution_count": null,
   "metadata": {},
   "outputs": [],
   "source": []
  }
 ],
 "metadata": {
  "kernelspec": {
   "display_name": "Python 3 August 2021 Environment",
   "language": "python",
   "name": "aug21"
  },
  "language_info": {
   "codemirror_mode": {
    "name": "ipython",
    "version": 3
   },
   "file_extension": ".py",
   "mimetype": "text/x-python",
   "name": "python",
   "nbconvert_exporter": "python",
   "pygments_lexer": "ipython3",
   "version": "3.8.10"
  }
 },
 "nbformat": 4,
 "nbformat_minor": 4
}
