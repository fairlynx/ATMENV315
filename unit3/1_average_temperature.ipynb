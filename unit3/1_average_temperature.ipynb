{
 "cells": [
  {
   "cell_type": "markdown",
   "metadata": {},
   "source": [
    "# Code development with flow control: Monthly mean temperature calculation\n",
    "\n",
    "In this activity we want to put the attention to the problem of calculating the average.\n",
    "We have all the 'ingredients' now available to load data from a spreadsheet (comma-separated CSV file format).\n",
    "**We work first with a simple and clean data set: Daily mean temperatures of a single month. \n",
    "\n",
    "**Here we use the station KALB, that is the Albany Airport weather station.**\n",
    "\n",
    "Now that we know how to plot data, it is always a good idea to take a look at the data. That includes input as well as output of the calculations.\n"
   ]
  },
  {
   "cell_type": "code",
   "execution_count": null,
   "metadata": {},
   "outputs": [],
   "source": [
    "%matplotlib inline\n",
    "# for math equation rendering \n",
    "from IPython.display import display, Math, Latex\n",
    "# our standard packages\n",
    "import matplotlib.pyplot as plt\n",
    "import numpy as np"
   ]
  },
  {
   "cell_type": "markdown",
   "metadata": {},
   "source": [
    "## 1. Getting the data files\n",
    "\n",
    "### 1.1 Goto to Github and download the file KALB_daily_tavg_jan2015.csv etc.\n",
    "\n",
    "The data files are [located in the folder data on GitHub](https://github.com/oet808/ATMENV315/tree/master/data)\n",
    "\n",
    "\n",
    "\n",
    "### 1.2 Create a new folder in your Jupyter course directory ENV315 \n",
    " \n",
    "Rename the folder into '__data__'. It's good time to make sure you work in a folder called unit3. \n",
    "Make sure you have the directory structure:\n",
    "   - ENV315\n",
    "        - data\n",
    "        - unit1\n",
    "        - unit2\n",
    "        - unit3\n",
    "\n",
    "### 1.3 Enter the new data directory and upload the downloaded data file\n",
    "Check for the file name extension. It must end with __.csv__.\n",
    " "
   ]
  },
  {
   "cell_type": "markdown",
   "metadata": {},
   "source": [
    "## 2. Loading the data from the CSV file and assigning the columns to variables\n",
    "\n",
    "### 2.1 We have to adjust the path and filename to our local file names and folder system\n",
    "\n",
    "Here the user of the script needs to make updates. I like to separate this part therefore from the following code.\n",
    "The code that follows then should work for other users on other file systems, too."
   ]
  },
  {
   "cell_type": "code",
   "execution_count": null,
   "metadata": {},
   "outputs": [],
   "source": [
    "##############################################\n",
    "# User of the script should make changes here\n",
    "##############################################\n",
    "# This notebook is located inside unit3 \n",
    "# here we use the '../' in the path name to indicate that the data directory is one up in the parent directory.\n",
    "path=\"../data/\"\n",
    "filename=path+\"KALB_daily_tavg_jan2015.csv\"\n",
    "print(\"working with file \"+filename)"
   ]
  },
  {
   "cell_type": "markdown",
   "metadata": {},
   "source": [
    "### 2.2 The next cell shows how you can load the data and assign them to variables \n",
    "\n",
    "The result is two 1-dimensional numpy arrays. You are familiar with such data arrays (see unit 2)."
   ]
  },
  {
   "cell_type": "code",
   "execution_count": null,
   "metadata": {},
   "outputs": [],
   "source": [
    "##############################################\n",
    "# MAIN PART OF THE SCRIPT\n",
    "##############################################\n",
    "data=np.loadtxt(filename,delimiter=',')\n",
    "# data is a 2-dimensional numpy array with several rows and 2 columns \n",
    "# we assign the first column (day) to a new variable\n",
    "# and the temperature data from the second column to variable temp\n",
    "# that makes the arrays 1-dimensional for us\n",
    "day=data[:,0]\n",
    "temp=data[:,1]"
   ]
  },
  {
   "cell_type": "markdown",
   "metadata": {},
   "source": [
    "## 3 Problems: \n",
    "\n",
    "### 3.1 Plot of the temperature data and validate the data are in the expected range!\n"
   ]
  },
  {
   "cell_type": "code",
   "execution_count": null,
   "metadata": {},
   "outputs": [],
   "source": []
  },
  {
   "cell_type": "markdown",
   "metadata": {},
   "source": [
    "### 3.1 Problem: Calculate the average temperature for the month from the daily data!\n"
   ]
  },
  {
   "cell_type": "code",
   "execution_count": null,
   "metadata": {},
   "outputs": [],
   "source": [
    "display(Math(r'\\Large \\bar{x}= \\frac{1}{n} \\sum_{i=1}^{n}x_i'))"
   ]
  },
  {
   "cell_type": "markdown",
   "metadata": {},
   "source": [
    "### 3.1a) Use a for-loop"
   ]
  },
  {
   "cell_type": "code",
   "execution_count": null,
   "metadata": {},
   "outputs": [],
   "source": []
  },
  {
   "cell_type": "markdown",
   "metadata": {},
   "source": [
    "### 3.2b) Use a while loop"
   ]
  },
  {
   "cell_type": "code",
   "execution_count": null,
   "metadata": {},
   "outputs": [],
   "source": []
  },
  {
   "cell_type": "markdown",
   "metadata": {},
   "source": [
    "## 4. Summary: \n",
    "\n",
    "We can calculate the average with an explicit loop. \n",
    "\n",
    "Key steps were: \n",
    "- Making sure we have the correct path and filename to load the data\n",
    "- Use the numpy function _loadtxt_ to load the data into a 2-dimension numpy array (with rows and columns represented by the first and second dimension/index, respectively)\n",
    "- form a loop that processes element by element the temperature data array\n",
    "- use the incremental summation inside the loop for the counter variable (e.g. _n=n+1_) and the for the summation of the daily temperature data.\n",
    "- finish the calculation after the loop ended (dividing the sum by the number of data)\n",
    "\n",
    "\n",
    "__But we may not be always so lucky and have complete data, or wrong data (outlier) that we need to exclude from the data analysis.__\n",
    "\n",
    "\n",
    "The next tasks will be to improve the code, step by step to solve on problem after another:\n",
    "1. detecting dummy values that mark missing values in the data and excluding them from the average calculation\n",
    "2. a check for the valid data range. Knowing what is a 'valid' range is sometimes easy (e.g. relative humidity can only be between 0-100%, but often it requires good knowledge about the observed environment.)\n",
    "\n"
   ]
  },
  {
   "cell_type": "markdown",
   "metadata": {},
   "source": [
    "## Note: \n",
    "Numpy has the _np.mean_ to do such calculations. We use this exercise to practice the programming skills. Later we will use the numpy functions for the data analysis."
   ]
  },
  {
   "cell_type": "code",
   "execution_count": null,
   "metadata": {},
   "outputs": [],
   "source": [
    "# make another plot and add the mean temperature\n",
    "# -1 index is gives the last element\n",
    "#plt.plot(day[-1]+1, avg,'o',color='gray',markersize=12)"
   ]
  }
 ],
 "metadata": {
  "kernelspec": {
   "display_name": "Python 3",
   "language": "python",
   "name": "python3"
  },
  "language_info": {
   "codemirror_mode": {
    "name": "ipython",
    "version": 3
   },
   "file_extension": ".py",
   "mimetype": "text/x-python",
   "name": "python",
   "nbconvert_exporter": "python",
   "pygments_lexer": "ipython3",
   "version": "3.8.6"
  }
 },
 "nbformat": 4,
 "nbformat_minor": 2
}
