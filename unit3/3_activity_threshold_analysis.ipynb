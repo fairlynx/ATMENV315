{
 "cells": [
  {
   "cell_type": "markdown",
   "metadata": {},
   "source": [
    "# Class activity: Peak over threshold algorithm development"
   ]
  },
  {
   "cell_type": "code",
   "execution_count": 2,
   "metadata": {},
   "outputs": [],
   "source": [
    "# copy code from HW2 to get the ozone data\n",
    "%matplotlib inline\n",
    "from IPython.display import HTML\n",
    "from IPython.display import display\n",
    "\n",
    "# import packages that we need to read the data files\n",
    "# convert date strings into numerical values for plotting time series\n",
    "# pandas is a powerful (but a bit more complicated) package to work with spreadsheet data\n",
    "import pandas as pd\n",
    "import datetime as dt \n",
    "\n",
    "# our two main packages for data analysis\n",
    "import numpy as np\n",
    "import matplotlib.pyplot as plt"
   ]
  },
  {
   "cell_type": "code",
   "execution_count": 3,
   "metadata": {},
   "outputs": [],
   "source": [
    "def load_data(city,pollutant='ozone'):\n",
    "    \"\"\"A supporting function to load ozone data from a csv file\n",
    "    \n",
    "    Args:\n",
    "        city (str): A string for the city name (must match string in file names).\n",
    "        pollutant (str): name of the pollutant (defaults to 'ozone')\n",
    "            Use this second parameter to assign another string \n",
    "    \n",
    "    Returns:\n",
    "        x (numpy array): an array with the dates (values have type datetime)\n",
    "        y (numpy array): an array with the concentration\n",
    "    \"\"\"\n",
    "    path=\"/nfs/home11/staff/timm/Public/Data/hw2/\"\n",
    "    filename=city+'_'+pollutant+'.csv'\n",
    "    try:\n",
    "        open(path+filename,'r')\n",
    "        is_file=True\n",
    "        print (80*\"+\")\n",
    "        print (\"Load data for \"+city+\" pollutant: \"+pollutant)\n",
    "        print (\"Local file is \"+path+filename)\n",
    "        print (80*\"+\")\n",
    "    except:\n",
    "        print(\"Warning: could not open file \"+path+filename)\n",
    "        is_file=False\n",
    "    \n",
    "    if is_file:\n",
    "        df=pd.read_csv(path+filename)\n",
    "        print(80*\"-\")\n",
    "        print (\"+ Name of data columns in the Pandas Dataframe:\")\n",
    "        for name in df.columns:\n",
    "            print (name)\n",
    "        print(80*\"-\")\n",
    "        ########################################################\n",
    "        # pre-processing of the data\n",
    "        ########################################################\n",
    "        \n",
    "        ########################################################\n",
    "        # 1. convert the date data (type string) into numerical \n",
    "        # values (useful for plotting in plt.plot)\n",
    "        ########################################################\n",
    "        \n",
    "        dates=df['Date'] # extracts the column named 'Date' from dataframe\n",
    "        datelist=[]\n",
    "        n=0\n",
    "        for d in dates: # dates is iterable\n",
    "            # take the string and convert into a numerical value\n",
    "            value=dt.datetime.strptime(d,'%m/%d/%y')\n",
    "            datelist.append(value)\n",
    "            n=n+1\n",
    "        \n",
    "        # \n",
    "        x=np.array(datelist) # convert the list with datetimevalues into numpy array\n",
    "        \n",
    "        ########################################################\n",
    "        # 2. extract column with the ozone concentration data\n",
    "        ########################################################\n",
    "        # gets data in a type numpy array\n",
    "        y=df['Daily Max 8-hour Ozone Concentration'].values \n",
    "        # units we expect to be the same in each row, so we get one cell value\n",
    "        unit=df['UNITS'][0] \n",
    "        print (\"Loaded the data successfully!\")\n",
    "        print (\"Number of days in file: \"+str(n))\n",
    "        print (\"Dates:\"+str(x[0])+\" to \"+str(x[-1]))\n",
    "        print (\"Concentration values range from: \")\n",
    "        print (\"%12.4f to %12.4f\" % (np.nanmin(y), +np.nanmax(y)))\n",
    "        print (\"Units: \"+unit)\n",
    "        \n",
    "    else:\n",
    "        print (\"do else\")\n",
    "        \n",
    "        x,y = np.nan, np.nan\n",
    "    \n",
    "    return x,y"
   ]
  },
  {
   "cell_type": "code",
   "execution_count": 4,
   "metadata": {},
   "outputs": [
    {
     "name": "stdout",
     "output_type": "stream",
     "text": [
      "Help on function load_data in module __main__:\n",
      "\n",
      "load_data(city, pollutant='ozone')\n",
      "    A supporting function to load ozone data from a csv file\n",
      "    \n",
      "    Args:\n",
      "        city (str): A string for the city name (must match string in file names).\n",
      "        pollutant (str): name of the pollutant (defaults to 'ozone')\n",
      "            Use this second parameter to assign another string \n",
      "    \n",
      "    Returns:\n",
      "        x (numpy array): an array with the dates (values have type datetime)\n",
      "        y (numpy array): an array with the concentration\n",
      "\n"
     ]
    }
   ],
   "source": [
    "help(load_data)"
   ]
  },
  {
   "cell_type": "markdown",
   "metadata": {},
   "source": [
    "Note: we have five data files for these cities:\n",
    "\n",
    "| City          | String to use in function  load_data()  |\n",
    "|---------------|-----------------------------------------|\n",
    "| New York City | 'nyc'                                   |\n",
    "| Los Angeles   | 'los_angeles'                           |\n",
    "| Houston       | 'houston_tx'                            |\n",
    "| Philadelphia  | 'philadelphia_pa'                       |\n",
    "| Phoenix       | 'phoenix_az'                            |\n"
   ]
  },
  {
   "cell_type": "code",
   "execution_count": 5,
   "metadata": {},
   "outputs": [
    {
     "name": "stdout",
     "output_type": "stream",
     "text": [
      "++++++++++++++++++++++++++++++++++++++++++++++++++++++++++++++++++++++++++++++++\n",
      "Load data for nyc pollutant: ozone\n",
      "Local file is /nfs/home11/staff/timm/Public/Data/hw2/nyc_ozone.csv\n",
      "++++++++++++++++++++++++++++++++++++++++++++++++++++++++++++++++++++++++++++++++\n",
      "--------------------------------------------------------------------------------\n",
      "+ Name of data columns in the Pandas Dataframe:\n",
      "Date\n",
      "Site ID\n",
      "Daily Max 8-hour Ozone Concentration\n",
      "UNITS\n",
      "SITE_LATITUDE\n",
      "SITE_LONGITUDE\n",
      "Unnamed: 6\n",
      "Unnamed: 7\n",
      "--------------------------------------------------------------------------------\n",
      "Loaded the data successfully!\n",
      "Number of days in file: 365\n",
      "Dates:2019-01-01 00:00:00 to 2019-12-31 00:00:00\n",
      "Concentration values range from: \n",
      "      0.0070 to       0.0810\n",
      "Units: ppm\n"
     ]
    }
   ],
   "source": [
    "x,y = load_data('nyc')"
   ]
  },
  {
   "cell_type": "code",
   "execution_count": null,
   "metadata": {},
   "outputs": [],
   "source": [
    "# your code"
   ]
  }
 ],
 "metadata": {
  "kernelspec": {
   "display_name": "Python 3",
   "language": "python",
   "name": "python3"
  },
  "language_info": {
   "codemirror_mode": {
    "name": "ipython",
    "version": 3
   },
   "file_extension": ".py",
   "mimetype": "text/x-python",
   "name": "python",
   "nbconvert_exporter": "python",
   "pygments_lexer": "ipython3",
   "version": "3.6.7"
  }
 },
 "nbformat": 4,
 "nbformat_minor": 2
}
