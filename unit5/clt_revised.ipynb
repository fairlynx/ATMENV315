{
 "cells": [
  {
   "cell_type": "markdown",
   "metadata": {},
   "source": [
    "# Unit 7: Demonstration Central Limit Theorem\n"
   ]
  },
  {
   "cell_type": "code",
   "execution_count": 31,
   "metadata": {},
   "outputs": [],
   "source": [
    "import numpy as np\n",
    "import matplotlib.pyplot as plt \n",
    "import pandas as pd\n",
    "# The scipy.stats package stats offers great support\n",
    "# distributions and random numbers.\n",
    "# see https://docs.scipy.org/doc/scipy/reference/tutorial/stats.html\n",
    "\n",
    "from scipy.stats import norm "
   ]
  },
  {
   "cell_type": "code",
   "execution_count": null,
   "metadata": {},
   "outputs": [],
   "source": []
  },
  {
   "cell_type": "code",
   "execution_count": 3,
   "metadata": {},
   "outputs": [],
   "source": [
    "#########################################################################\n",
    "# SUPPORTING FUNCTIONS ARE DEFINED HERE - DO NOT CHANGE\n",
    "#########################################################################\n",
    "def summary(y,**kwargs):\n",
    "    \"\"\"Prints summary statistics of the data (random variables)\n",
    "    \n",
    "    Input parameter: \n",
    "        y (1-d numpy array) : array with sample data\n",
    "    Returns:\n",
    "        a tuple with mean, standard deviation, minimum, maximum \n",
    "    \"\"\"\n",
    "    # end of function's docstring (shows up when typing help(summary))\n",
    "    \n",
    "    # Note the print function uses inside the strings the placeholder %12.4f for \n",
    "    # formatting the list (Python type 'tuple') of numbers such as mean and stddev\n",
    "    # they are printed where %12.4f shows up in the string #########.####\n",
    "    \n",
    "    print(40*\"-\")\n",
    "    print('Summary statistics for the data:')\n",
    "    if np.NAN in y:\n",
    "        n=np.size(y)\n",
    "        nmiss=np.sum(np.isnan(y))  \n",
    "        nsample=n-nmiss\n",
    "        print('Array size='+str(n))   \n",
    "        print('Detected NAN (missing values) in array :'+str(nmiss))\n",
    "        print('Sample size:'+str(nsample))\n",
    "        m=np.nanmean(y)\n",
    "        s=np.nanstd(y)\n",
    "        mn=np.nanmin(y)\n",
    "        mx=np.nanmax(y)\n",
    "    else:\n",
    "        nsample=np.size(y)\n",
    "        print ('Sample size='+str(nsample))\n",
    "        m=np.mean(y)\n",
    "        s=np.std(y)\n",
    "        mn=np.min(y)\n",
    "        mx=np.max(y)\n",
    "    print ('mean   : %12.4f' % (m))\n",
    "    print ('stddev : %12.4f' % (s))  \n",
    "    print ('mininum: %12.4f' % (mn))\n",
    "    print ('maximum: %12.4f' % (mx))\n",
    "    return m,s,mn,mx"
   ]
  },
  {
   "cell_type": "markdown",
   "metadata": {},
   "source": [
    "<P style=\"background-color:purple;color:gold;font-size:133%\">\n",
    "<BR>\n",
    " Main code section (users should only make changes in code below)\n",
    "<BR>\n",
    "<BR>\n",
    "</P>"
   ]
  },
  {
   "cell_type": "code",
   "execution_count": 4,
   "metadata": {},
   "outputs": [],
   "source": [
    "# **********************************************************\n",
    "# User control parameters\n",
    "# **********************************************************\n",
    "isCheck=True\n",
    "nsample=1000 # size of the array with random values\n",
    "\n"
   ]
  },
  {
   "cell_type": "markdown",
   "metadata": {},
   "source": [
    "### Numpy provides functions that can generate random numbers\n",
    "\n",
    "#### Example:\n",
    "\n",
    "*np.random.uniform(size=10)* \n",
    "\n",
    "This creates a numpy array with 10 random numbers\n",
    "in range of 0-1.\n",
    "\n"
   ]
  },
  {
   "cell_type": "code",
   "execution_count": 6,
   "metadata": {},
   "outputs": [
    {
     "name": "stdout",
     "output_type": "stream",
     "text": [
      "\n",
      "\n",
      "Just checking: what is x1?\n",
      "\tObject type:  <class 'numpy.ndarray'>\n",
      "\tSize : 1000\n",
      "\t1-dim array with 1000 numbers\n",
      "\n",
      "\n",
      "----------------------------------------\n",
      "Summary statistics for the data:\n",
      "Sample size=1000\n",
      "mean   :       0.4989\n",
      "stddev :       0.2919\n",
      "mininum:       0.0000\n",
      "maximum:       0.9995\n"
     ]
    }
   ],
   "source": [
    "# Independent and identically uniformly distributed random numbers\n",
    "x1=np.random.uniform(size=nsample)\n",
    "\n",
    "if isCheck:\n",
    "    print()\n",
    "    print()\n",
    "    print('Just checking: what is x1?')\n",
    "    print('\\tObject type: ', type(x1))\n",
    "    print('\\tSize : ' + str(np.size(x1)))\n",
    "    print('\\t1-dim array with '+str(nsample)+' numbers')\n",
    "    print()\n",
    "    print()\n",
    "\n",
    "m,s,mn,mx=summary(x1)"
   ]
  },
  {
   "cell_type": "code",
   "execution_count": 14,
   "metadata": {},
   "outputs": [
    {
     "data": {
      "image/png": "[encoded data removed]",
      "text/plain": [
       "<Figure size 432x288 with 1 Axes>"
      ]
     },
     "metadata": {
      "needs_background": "light"
     },
     "output_type": "display_data"
    }
   ],
   "source": [
    "plt.hist(x1,bins=10,edgecolor='black',label='sample x1',lw=1,fill=False)\n",
    "plt.legend()\n",
    "plt.title(\"Histogram of a uniformly distributed random variable\")\n",
    "plt.xlabel(\"x value (grouped in into bins)\")\n",
    "plt.ylabel(\"Frequency\")\n",
    "plt.show()"
   ]
  },
  {
   "cell_type": "code",
   "execution_count": 15,
   "metadata": {},
   "outputs": [
    {
     "name": "stdout",
     "output_type": "stream",
     "text": [
      "----------------------------------------\n",
      "Summary statistics for the data:\n",
      "Sample size=1000\n",
      "mean   :       0.4873\n",
      "stddev :       0.2893\n",
      "mininum:       0.0038\n",
      "maximum:       0.9979\n",
      "----------------------------------------\n",
      "Summary statistics for the data:\n",
      "Sample size=1000\n",
      "mean   :       0.5127\n",
      "stddev :       0.2983\n",
      "mininum:       0.0003\n",
      "maximum:       0.9996\n"
     ]
    }
   ],
   "source": [
    "# **********************************************************\n",
    "# Now we create two uniformly distributed random variables\n",
    "# **********************************************************\n",
    "\n",
    "# two independent and identically distributed random number sets\n",
    "x1=np.random.uniform(size=nsample)\n",
    "x2=np.random.uniform(size=nsample)\n",
    "\n",
    "m1,s1,mn1,mx1=summary(x1)\n",
    "m2,s2,mn2,mx2=summary(x2)\n"
   ]
  },
  {
   "cell_type": "code",
   "execution_count": 18,
   "metadata": {},
   "outputs": [
    {
     "data": {
      "image/png": "[encoded data removed]",
      "text/plain": [
       "<Figure size 432x288 with 1 Axes>"
      ]
     },
     "metadata": {
      "needs_background": "light"
     },
     "output_type": "display_data"
    }
   ],
   "source": [
    "nbin=10 # number of bins \n",
    "plt.hist(x1,bins=nbin,edgecolor='purple',label='sample x1',lw=2,fill=False)\n",
    "plt.hist(x2,bins=nbin,edgecolor='blue',label='sampe x2',lw=1,fill=False)\n",
    "plt.title(\"histograms for uniformly distributed random variables\")\n",
    "plt.xlabel(\"x value (grouped in into bins)\")\n",
    "plt.legend()\n",
    "plt.show()\n"
   ]
  },
  {
   "cell_type": "code",
   "execution_count": null,
   "metadata": {},
   "outputs": [],
   "source": [
    "# summation of two independent and identically distributed random number sets\n",
    "x1=np.random.uniform(size=nsample)\n",
    "x2=np.random.uniform(size=nsample)\n",
    "\n",
    "m1,s1,mn1,mx1=summary(x1)\n",
    "m2,s2,mn2,mx2=summary(x2)\n",
    "\n",
    "y=(x1+x2)\n",
    "print()\n",
    "print (\"The sum of the two uniformly distributed random variables:\")\n",
    "ym,ys,ymn,ymx=summary(y)"
   ]
  },
  {
   "cell_type": "code",
   "execution_count": null,
   "metadata": {},
   "outputs": [],
   "source": [
    "plt.hist(y,bins=10,color='cyan',edgecolor='black',label='y=x1+x2',lw=1,fill=True,alpha=0.5)\n",
    "plt.hist(x1,bins=10,edgecolor='purple',label='x1',lw=2,fill=False)\n",
    "plt.hist(x2,bins=10,edgecolor='blue',label='x2',lw=1,fill=False)\n",
    "plt.legend()\n",
    "plt.show()"
   ]
  },
  {
   "cell_type": "code",
   "execution_count": 39,
   "metadata": {},
   "outputs": [
    {
     "name": "stdout",
     "output_type": "stream",
     "text": [
      "----------------------------------------\n",
      "Summary statistics for the data:\n",
      "Sample size=1000\n",
      "mean   :       0.9789\n",
      "stddev :       0.4086\n",
      "mininum:       0.0411\n",
      "maximum:       1.9419\n"
     ]
    },
    {
     "data": {
      "image/png": "[encoded data removed]",
      "text/plain": [
       "<Figure size 864x576 with 2 Axes>"
      ]
     },
     "metadata": {
      "needs_background": "light"
     },
     "output_type": "display_data"
    }
   ],
   "source": [
    "# figure with two histograms side by side\n",
    "# sharing the same y-axis range is set off    \n",
    "x1=np.random.uniform(size=nsample)\n",
    "x2=np.random.uniform(size=nsample)\n",
    "y=(x1+x2)\n",
    "\n",
    "\n",
    "nbin=10 # controls how many bins (bars) the histgram uses\n",
    "fig, ax = plt.subplots(1, 2, sharex=False, sharey=False,figsize=(12,8))\n",
    "# left figure\n",
    "ax[0].hist(x1,bins=nbin,color='burlywood',density=True,histtype='step',label='x1')\n",
    "ax[0].hist(x2,bins=nbin,color='crimson',density=True,histtype='step',label='x2')\n",
    "ax[0].set_title('uniform random variables')\n",
    "# right figure\n",
    "ax[1].hist(y,bins=nbin,color='cyan',edgecolor='black',\n",
    "           label='average (y=x1+x2)',density=True,alpha=0.5)\n",
    "ax[1].set_title('histogram for the sum of two independent \\n random uniform variables')\n",
    "\n",
    "\n",
    "# last compare with the 'best fitted gaussian PDF'\n",
    "# location parameter is the mean of y and scale parameter is the \n",
    "# standard deviation of y\n",
    "\n",
    "ym,ys,ymn,ymx=summary(y)\n",
    "\n",
    "###################################################################\n",
    "# create x-values for the gaussian function plot\n",
    "###################################################################\n",
    "xhelp=np.linspace(ymn,ymx,num=100)\n",
    "gaussian=norm.pdf(xhelp,ym,ys)\n",
    "\n",
    "ax[1].plot(xhelp,gaussian,color='violet',linewidth=3)\n",
    "\n",
    "fig.show()"
   ]
  },
  {
   "cell_type": "markdown",
   "metadata": {},
   "source": [
    "<P style=\"background-color:purple;color:gold;font-size:133%\">\n",
    "<BR>\n",
    " Task 1: Observe what happens if you sum over more than two independent uniformly distributed random variables. \n",
    "<BR>\n",
    "<BR>\n",
    "</P>\n"
   ]
  },
  {
   "cell_type": "markdown",
   "metadata": {},
   "source": [
    "### NOTE\n",
    "In the text we talk about the __number__ of summation terms (e.g. in y=x1+x2+x3 the number is 3), not to be confused with the sample size. The __sample size__ is the amount of data values we generate for the random variables. The sample size is the amount of data values we generate for the random variables that we use in the summation. "
   ]
  },
  {
   "cell_type": "markdown",
   "metadata": {},
   "source": [
    "### (a) Write code that allows you to sum over 3, 4, 5, and 6 uniformly distributed random variables."
   ]
  },
  {
   "cell_type": "code",
   "execution_count": null,
   "metadata": {},
   "outputs": [],
   "source": [
    "# your code"
   ]
  },
  {
   "cell_type": "markdown",
   "metadata": {},
   "source": [
    "### (b) Adjust sample size and bin numbers to optimize the analysis \n",
    "\n",
    "- Increasing sample size: want to see a less noisy shape of the resulting distribution shown in the histograms. \n",
    "- Observe closely how the shape of the distribution of the summation variable (cyan colors) changes when the number of random uniform variables that we sum up (x1+x2+x3+ ... ) is increased. \n",
    "\n",
    "#### Note: Keep the sample size _nsample_ smaller than 100,000!"
   ]
  },
  {
   "cell_type": "code",
   "execution_count": null,
   "metadata": {},
   "outputs": [],
   "source": [
    "# your code"
   ]
  },
  {
   "cell_type": "markdown",
   "metadata": {},
   "source": [
    "<P style=\"background-color:purple;color:gold;font-size:133%\">\n",
    "<BR>\n",
    " Task 3: Compare the distribution of the summation values with the normal distribution curve. How good does the curve fit the data. In particular, take a look at the tails of the distribution.\n",
    "<BR>\n",
    "<BR>\n",
    "</P>\n",
    "\n",
    "### Summarize your observations and discuss the following question: How many uniformly distributed random variables do you have to sum so that the sum (a random variable) is normally distributed."
   ]
  },
  {
   "cell_type": "markdown",
   "metadata": {},
   "source": [
    "<P style=\"background-color:purple;color:gold;font-size:133%\">\n",
    "<BR>\n",
    "Task 3 (optional): Develop code with help of a loop structure that allows you to take the sum over a user defined number of uniformly distributed random variables. \n",
    "<BR>\n",
    "<BR>\n",
    " \n",
    "   \n",
    "\n"
   ]
  },
  {
   "cell_type": "code",
   "execution_count": null,
   "metadata": {},
   "outputs": [],
   "source": []
  },
  {
   "cell_type": "markdown",
   "metadata": {},
   "source": [
    "---\n",
    "#### Optional: For students who like to work with Pandas DataFrame objects and methods\n",
    "---"
   ]
  },
  {
   "cell_type": "code",
   "execution_count": 38,
   "metadata": {},
   "outputs": [
    {
     "data": {
      "image/png": "[encoded data removed]",
      "text/plain": [
       "<Figure size 432x288 with 1 Axes>"
      ]
     },
     "metadata": {
      "needs_background": "light"
     },
     "output_type": "display_data"
    }
   ],
   "source": [
    "df=pd.DataFrame() # empty data frame\n",
    "df['x1']=x1\n",
    "df['x2']=x2\n",
    "y=df.sum(axis=1)\n",
    "df['x1+x2']=y\n",
    "df\n",
    "fig=plt.figure(figsize=[6,4])\n",
    "ax=df['x1+x2'].hist()\n",
    "ax.set_xlabel('test')\n",
    "ax.set_ylabel('frequency')\n",
    "plt.show()"
   ]
  },
  {
   "cell_type": "markdown",
   "metadata": {},
   "source": [
    "### References:\n",
    "\n",
    " - Continous random variables, distributions, Normal distribution: Collaborative Statistics Ebook Ch. 5,6\n",
    " - Central Limit Theorem: Collaborative Statistics Ebook Ch. 7\n",
    " - Histogram [plot customization] (https://matplotlib.org/stable/api/_as_gen/matplotlib.pyplot.hist.html)\n",
    " - Info to the package [scipy.stats](https://docs.scipy.org/doc/scipy/reference/tutorial/stats.html) "
   ]
  },
  {
   "cell_type": "code",
   "execution_count": null,
   "metadata": {},
   "outputs": [],
   "source": []
  }
 ],
 "metadata": {
  "kernelspec": {
   "display_name": "Python 3 August 2021 Environment",
   "language": "python",
   "name": "aug21"
  },
  "language_info": {
   "codemirror_mode": {
    "name": "ipython",
    "version": 3
   },
   "file_extension": ".py",
   "mimetype": "text/x-python",
   "name": "python",
   "nbconvert_exporter": "python",
   "pygments_lexer": "ipython3",
   "version": "3.8.10"
  }
 },
 "nbformat": 4,
 "nbformat_minor": 4
}
