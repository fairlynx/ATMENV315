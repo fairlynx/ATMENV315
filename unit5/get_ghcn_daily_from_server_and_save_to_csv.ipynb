{
 "cells": [
  {
   "cell_type": "markdown",
   "metadata": {},
   "source": [
    "# Getting archived weather data for US station data \n",
    "\n",
    "This script defines a function that downloads daily weather data from weather stations from the Global Historical Climate Network - Daily(GHCND).\n",
    "The data server that allows us a convenient access to the daily data is located at the Applied Climate Information System (ACIS). ACIS is developed, maintained, and operated by the NOAA Regional Climate Centers (RCCs). [http://data.rcc-acis.org](http://data.rcc-acis.org)\n",
    "\n",
    "Here we demonstrate how we send a data request to the server.\n",
    "The server responds to our request and sends the data back in a format that we need to 'unpack' put our data into numpy arrays. Fortunately, all that has been solved already and code exists that we can simply reuse here.\n",
    "\n",
    "In the code below we have selected the station Albany Airport (KALB). The GHCN station idenifier is \n",
    "\n",
    "__'USW00014735'__\n",
    "\n",
    "We can get for example: \n",
    "- avgt: daily average temperature (F)\n",
    "- mint: daily minimum temperature (F)\n",
    "- maxt: daily maximum temperature (F)\n",
    "\n",
    "Try it yourself in a browser window use the http-link with the data query string appended:\n",
    "\n",
    "[http://data.rcc-acis.org/StnData?sid=USW00014735&&sdate=2018-01-1&&edate=2018-12-31&interval=dly&elems=avgt](http://data.rcc-acis.org/StnData?sid=USW00014735&&sdate=2018-01-1&&edate=2018-12-31&interval=dly&elems=avgt)\n",
    "\n",
    "This will return daily mean temperatures from Albany Airport for the year 2018.\n"
   ]
  },
  {
   "cell_type": "markdown",
   "metadata": {},
   "source": [
    "## Code development\n",
    "\n",
    "__You may wonder: \"How can I do such a thing with Python?\"__\n",
    "\n",
    "__The answer lies in the package urllib3! This package is allowing us to send and receive data via the http-protocol directly and without a web-browser!__\n",
    "\n",
    "In addition, people have developed a package that helps to deal with the JSON text data format that the server side uses to return the data. JSON is becoming more and more used for data exchange via http/ internet.\n",
    "\n"
   ]
  },
  {
   "cell_type": "code",
   "execution_count": 1,
   "metadata": {},
   "outputs": [],
   "source": [
    "# request a station time series\n",
    "# from Applied Climate Information System\n",
    "# http://www.rcc-acis.org/index.html\n",
    "# Author: OET\n",
    "# code designed for ATM315/ENV315 Python introduction\n"
   ]
  },
  {
   "cell_type": "code",
   "execution_count": null,
   "metadata": {},
   "outputs": [],
   "source": [
    "import numpy as np\n",
    "import urllib3\n",
    "import json\n",
    "import datetime as dt\n",
    "#########################################################################################################\n",
    "# defining a function to allow us to make more than just one specific data request\n",
    "# it allows flexibilty in terms of station, variable, start and end year\n",
    "# It first creates the http-string and uses the urllib3 functions to transmit the request to the server\n",
    "# Then it receives the data in the JSON text format and converts it into a nested list object\n",
    "# That's where we had to put some work in to extract the dates and data values and put them into lists\n",
    "# two lists are returned, one with the dates (NEW object type 'datetime'!) and teh numerical values.\n",
    "#########################################################################################################\n",
    "def get_stationdata(sid,var='avgt',startyear=2017,endyear=2017):\n",
    "    \"\"\"Sends request to regional climate center ACIS and gets daily data for one station.\n",
    "    Input parameters: \n",
    "        sid (string): a station id\n",
    "        var (string): a variable name (e.g. 'avgt', 'mint', 'maxt')\n",
    "    Optional parameters:\n",
    "        startyear and endyear (integers): for selecting the year range e.g. 1950 and 2017\n",
    "    \n",
    "    Returned objects:\n",
    "        list with dates (datetime objects)\n",
    "        list with the data \n",
    "    \"\"\"    \n",
    "    # the http address of the data server\n",
    "    host=\"http://data.rcc-acis.org/StnData\"\n",
    "    # forming the query string for the host server\n",
    "    sdate='&sdate='+str(startyear)+'-01-1'\n",
    "    edate='&edate='+str(endyear)+'-12-31'\n",
    "    query='?sid='+sid+'&'+sdate+'&'+edate+'&interval=dly&'\\\n",
    "    +'elems='+var\n",
    "    # try to connect and to get the requested data\n",
    "    # in format ready to export to a csv file\n",
    "    print (\">send data request to \"+host+query)\n",
    "    print (\"> still waiting for response ...\")\n",
    "    try:\n",
    "        http= urllib3.PoolManager()\n",
    "        response = http.request('GET',host+query)\n",
    "        # convert json-string into dictionary\n",
    "        content =  json.loads(response.data.decode('utf-8'))\n",
    "        meta=content['meta']\n",
    "        data=content['data']\n",
    "        time=[]\n",
    "        value=[]\n",
    "        for item in data:\n",
    "            #print (item)\n",
    "            time.append(dt.datetime.strptime(item[0],\"%Y-%m-%d\"))\n",
    "            if (item[1]!='M'):\n",
    "                value.append(float(item[1]))\n",
    "            else:\n",
    "                value.append(np.NAN)\n",
    "    except Exception as e:\n",
    "        print (\"error occurred:\", e)\n",
    "        return\n",
    "    print(\">... done\")\n",
    "    return time,value"
   ]
  },
  {
   "cell_type": "code",
   "execution_count": null,
   "metadata": {},
   "outputs": [],
   "source": [
    "print(help(get_stationdata))"
   ]
  },
  {
   "cell_type": "code",
   "execution_count": null,
   "metadata": {},
   "outputs": [],
   "source": [
    "x,avgt=get_stationdata(\"USW00014735\",'avgt',startyear=1950,endyear=2018)\n",
    "x,mint=get_stationdata(\"USW00014735\",'mint',startyear=1950,endyear=2018)\n",
    "x,maxt=get_stationdata(\"USW00014735\",'maxt',startyear=1950,endyear=2018)"
   ]
  },
  {
   "cell_type": "code",
   "execution_count": null,
   "metadata": {},
   "outputs": [],
   "source": [
    "# write the data into a spreadsheet table (CSV year month day , avgt, mint,maxt format)\n",
    "yr=[i.year for i in x]\n",
    "month= [ i.month for i in x]\n",
    "day= [ i.day for i in x]\n",
    "index=np.arange(0,len(x),1)\n",
    "export_data=np.zeros(shape=[len(avgt),6])\n",
    "export_data[:,0]=int(yr)\n",
    "export_data[:,1]=int(month)\n",
    "export_data[:,2]=int(day)\n",
    "export_data[:,3]=avgt\n",
    "export_data[:,4]=mint\n",
    "export_data[:,5]=maxt\n",
    "np.savetxt(\"USW00014735_temp_1950-2018_daily.csv\",export_data,delimiter=',')\n",
    "import pandas as pd\n",
    "df=pd.DataFrame(export_data, columns=['year','month','day','avgt','mint','maxt'])\n"
   ]
  },
  {
   "cell_type": "code",
   "execution_count": null,
   "metadata": {},
   "outputs": [],
   "source": [
    "df.to_csv(\"USW00014735_temp_1950-2018_daily.csv\")"
   ]
  },
  {
   "cell_type": "markdown",
   "metadata": {},
   "source": [
    "### Further References:\n",
    "- [GHCND](https://www.ncdc.noaa.gov/ghcn-daily-description)\n",
    "- FTP site with station ids etc: ftp://ftp.ncdc.noaa.gov/pub/data/ghcn/daily/"
   ]
  },
  {
   "cell_type": "code",
   "execution_count": null,
   "metadata": {},
   "outputs": [],
   "source": []
  }
 ],
 "metadata": {
  "kernelspec": {
   "display_name": "Python 3",
   "language": "python",
   "name": "python3"
  },
  "language_info": {
   "codemirror_mode": {
    "name": "ipython",
    "version": 3
   },
   "file_extension": ".py",
   "mimetype": "text/x-python",
   "name": "python",
   "nbconvert_exporter": "python",
   "pygments_lexer": "ipython3",
   "version": "3.6.7"
  }
 },
 "nbformat": 4,
 "nbformat_minor": 2
}
