{
 "cells": [
  {
   "cell_type": "markdown",
   "metadata": {},
   "source": [
    "# Class activity: Application of descriptive statistics using Python"
   ]
  },
  {
   "cell_type": "markdown",
   "metadata": {},
   "source": [
    "Download the data file named *USW00014735_temp_1950-2018_daily.csv* from the \n",
    "[Github repository](https://github.com/oet808/ATMENV315/tree/master/data). Upload it to your local data directory on the Jupyter Hub. Make sure the file name is correct and ends with '.csv'\n",
    "\n",
    "This text file is in CSV format and can be loaded with the numpy function _np.loadtext()_. \n",
    "It contains temperature data from Albany Airport: daily average, minimum, and maximum temperature data from 1950 to 2018. The data are stored in a 2-dimensional numpy array. "
   ]
  },
  {
   "cell_type": "code",
   "execution_count": 41,
   "metadata": {},
   "outputs": [],
   "source": [
    "# insert code to import the required packages numpy and pyplot and assign the names np and plt to the packages.\n",
    "\n",
    "import numpy as np\n",
    "import matplotlib.pyplot as plt\n",
    "local_path='/home11/staff/timm/Public/Data/'\n",
    "filename=local_path+'USW00014735_temp_1950-2018_daily.csv'\n",
    "\n",
    "dataset=np.loadtxt(filename,delimiter=',',skiprows=1)\n",
    "\n",
    "year  = dataset[:,1] # extract the column 2 (Python index 1) \n",
    "month = dataset[:,2] \n",
    "day   = dataset[:,3]\n",
    "avgt  = dataset[:,4]\n",
    "mint  = dataset[:,5] \n",
    "maxt  = dataset[:,6]\n"
   ]
  },
  {
   "cell_type": "markdown",
   "metadata": {},
   "source": [
    "<p style=\"color:gold;background-color:purple;font-size:130%\">\n",
    "    <BR>Task 1: Working with Albany Airport daily temperature data<BR><BR>\n",
    "</p>\n",
    "\n",
    "### 1.1 First check that the daily average temperatures are in the expected temperature range by plotting the full time series \n",
    "### 1.2 Create a histogram of the daily Albany temperature data using all Feb 18th days from 1950 to 2018\n",
    "\n",
    "<p style=\"color:black;background-color:lightgreen;font-size:130%\">\n",
    "    <BR>\n",
    "    Tip:  You have to subsample the temperature data first! \n",
    "    <BR>\n",
    "    <BR>\n",
    "</p>\n",
    "\n",
    "Create a new empty list and then create a loop over all data values in the data set. If the month value is the correct value (2 for February) and if the day value is the right day (18) then append the temperature value to your list. Else, pass the appending statement and repeat your loop.\n",
    "\n",
    "Then you can work with the list, convert it into a numpy array (see tip below) and plot the histogram.\n",
    "The function is called _plt.hist()_"
   ]
  },
  {
   "cell_type": "code",
   "execution_count": null,
   "metadata": {},
   "outputs": [],
   "source": []
  },
  {
   "cell_type": "markdown",
   "metadata": {},
   "source": [
    "\n",
    "### 1.3. For the same data create a box-whisker plot\n"
   ]
  },
  {
   "cell_type": "markdown",
   "metadata": {},
   "source": [
    "<p style=\"color:gold;background-color:purple;font-size:130%\">\n",
    "    <BR>Task 2: Quantitative statistics with numpy<BR><BR>\n",
    "\n",
    "</p>\n",
    "\n",
    "### 2.1 Now copy your code into the cell below and modify your code: Select all daily data from Feburary months 1950-2018 and apply the numpy functions:\n",
    "\n",
    "\n",
    "- _np.mean()_ \n",
    "- _np.std()_\n",
    "- _np.min()_\n",
    "- _np.max()_\n",
    "\n",
    "<p style=\"color:black;background-color:lightgreen;font-size:130%\">\n",
    "    <BR>\n",
    "    Tip: When doing calculations with numpy functions, convert your list into a numpy array first.\n",
    "    <BR>\n",
    "    <BR>\n",
    "</p>\n",
    "        \n",
    "Assign the array to a new variable: e.g. if *ylist* is your list use\n",
    "     \n",
    "     y=np.array(ylist)\n",
    "\n",
    "Keep track of the data and create a summary table in your Notebook.\n"
   ]
  },
  {
   "cell_type": "code",
   "execution_count": null,
   "metadata": {},
   "outputs": [],
   "source": []
  },
  {
   "cell_type": "markdown",
   "metadata": {},
   "source": [
    "Table 1: Summary statistic for all February 18th temperatures 1950-2018\n",
    "\n",
    "| Month  | Mean |  Std |  Min  |  Max  | \n",
    "|--------|------|------|-------|-------|\n",
    "| Feb    | 9999 | 9999 |  9999 |  9999 |\n",
    "\n"
   ]
  },
  {
   "cell_type": "markdown",
   "metadata": {},
   "source": [
    "<p style=\"color:gold;background-color:purple;font-size:130%\">\n",
    "    <BR>Task 3: Apply your Python skills and create a climatology plot<BR><BR>\n",
    "        \n",
    "The figure below has more information in it than we want. Let's make a cleaner version just for temperatures.\n",
    "        \n",
    "Think about a way to produce a summary graph for the Albany temperature (min, max and daily mean temperatures) climatology **using the years 1981-2010**.\n",
    "\n",
    "Tip: Use if-statements to check if the year value is in the range 1981-2010. Use the month value to branch the code and create a list that contains all daily average temperature values for one calendar month (e.g. January).  Then average the temperatures to obtain a monthly mean climatology. Repeat for all 12 months and save the monthly average vales in a numpy array. \n",
    "\n"
   ]
  },
  {
   "cell_type": "code",
   "execution_count": 1,
   "metadata": {},
   "outputs": [
    {
     "data": {
      "text/html": [
       "<img src=\"http://www.albany-ny.climatemps.com/albany-ny-climate-graph.gif\" width=\"600\"/>"
      ],
      "text/plain": [
       "<IPython.core.display.Image object>"
      ]
     },
     "execution_count": 1,
     "metadata": {},
     "output_type": "execute_result"
    }
   ],
   "source": [
    "#To give you an example graph:\n",
    "from IPython.display import Image\n",
    "from IPython.core.display import HTML \n",
    "Image(url= \"http://www.albany-ny.climatemps.com/albany-ny-climate-graph.gif\", width=600)"
   ]
  },
  {
   "cell_type": "markdown",
   "metadata": {},
   "source": [
    "---\n"
   ]
  },
  {
   "cell_type": "markdown",
   "metadata": {},
   "source": [
    "## Optional Tasks:\n"
   ]
  },
  {
   "cell_type": "markdown",
   "metadata": {},
   "source": [
    " - Extract minimum temperature values for all days within the -2 to +2 days before and after the specific date (that is February 16,17,18,19,20)\n",
    " - sort all these values using _np.sort()_. \n",
    " - How likely is it to have temperatures lower than 0F around this time of the year? Use only the years 1981-2010 for this exercise.\n",
    " - Then, repeat the procedure using years 1951-1980. What can be inferred from the analysis?\n",
    " \n",
    "    "
   ]
  },
  {
   "cell_type": "code",
   "execution_count": null,
   "metadata": {},
   "outputs": [],
   "source": []
  }
 ],
 "metadata": {
  "kernelspec": {
   "display_name": "Python 3",
   "language": "python",
   "name": "python3"
  },
  "language_info": {
   "codemirror_mode": {
    "name": "ipython",
    "version": 3
   },
   "file_extension": ".py",
   "mimetype": "text/x-python",
   "name": "python",
   "nbconvert_exporter": "python",
   "pygments_lexer": "ipython3",
   "version": "3.6.7"
  }
 },
 "nbformat": 4,
 "nbformat_minor": 2
}
