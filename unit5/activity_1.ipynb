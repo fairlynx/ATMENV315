{
 "cells": [
  {
   "cell_type": "markdown",
   "metadata": {},
   "source": [
    "# Class activity: Application of descriptive statistics using Python"
   ]
  },
  {
   "cell_type": "markdown",
   "metadata": {},
   "source": [
    "Download the data file named *USW00014735_temp_1950-2020_daily.csv* from the \n",
    "[Github repository](https://github.com/oet808/ATMENV315/tree/master/data). Upload it to your local data directory on the Jupyter Hub. Make sure the file name is correct and ends with '.csv'\n",
    "\n",
    "This text file is in CSV format and can be loaded with the numpy function _np.loadtext()_. \n",
    "It contains temperature data from Albany Airport: daily average, minimum, and maximum temperature data from 1950 to 2020. The data are stored in a 2-dimensional numpy array. "
   ]
  },
  {
   "cell_type": "code",
   "execution_count": null,
   "metadata": {},
   "outputs": [],
   "source": [
    "# insert code to import the required packages numpy and pyplot and assign the names np and plt to the packages.\n",
    "\n",
    "import numpy as np\n",
    "import matplotlib.pyplot as plt\n",
    "\n",
    "# new: you can change the style of the plots by choosing from \n",
    "# the matplotlib styles. More help can be found through a quick google search\n",
    "import matplotlib as mpl\n",
    "mpl.style.use('ggplot') #'classic' \n",
    "\n",
    "\n",
    "\n",
    "local_path='../data/'\n",
    "filename=local_path+'USW00014735_temp_1950-2020_daily.csv'\n",
    "\n",
    "dataset=np.loadtxt(filename,delimiter=',',skiprows=1)\n",
    "\n",
    "year  = dataset[:,1] # extract the column 2 (Python index 1) \n",
    "month = dataset[:,2] \n",
    "day   = dataset[:,3]\n",
    "avgt  = dataset[:,4]\n",
    "mint  = dataset[:,5] \n",
    "maxt  = dataset[:,6]\n"
   ]
  },
  {
   "cell_type": "code",
   "execution_count": null,
   "metadata": {},
   "outputs": [],
   "source": [
    "print (\"some info on the data arrays shape and size\")\n",
    "print(type(year))\n",
    "print(len(year))\n",
    "print(year.shape)"
   ]
  },
  {
   "cell_type": "markdown",
   "metadata": {},
   "source": [
    "<p style=\"color:gold;background-color:purple;font-size:130%\">\n",
    "    <BR>Task 1: Working with Albany Airport daily temperature data<BR><BR>\n",
    "</p>\n",
    "\n",
    "### 1.1 First check that the daily average temperatures are in the expected temperature range by plotting the full time series \n",
    "### 1.2 Create a histogram of the daily Albany temperature data using all March 21st days from 1950 to 2020\n",
    "\n",
    "<p style=\"color:black;background-color:lightgreen;font-size:130%\">\n",
    "    <BR>\n",
    "    Tip:  You have to subsample the temperature data first! \n",
    "    <BR>\n",
    "    <BR>\n",
    "</p>\n",
    "\n",
    "Create a new empty list and then create a loop over all data values in the data set. If the month value is the correct value (3 for March) and if the day value is the right day (21) then append the temperature value to your list. Else, pass the appending statement and repeat your loop.\n",
    "\n",
    "Then you can convert the list it into a numpy array (see tip below) and plot the histogram.\n",
    "The function is called _plt.hist()_\n",
    "\n",
    "NOTE: Students who feel comfortable with the numpy Boolean operations are encouraged to use the numpy methods (e.g. _np.logical_and()_)to select the data from the arrays."
   ]
  },
  {
   "cell_type": "code",
   "execution_count": null,
   "metadata": {},
   "outputs": [],
   "source": [
    "# remember x and y are lists with the all dates and all temperature, respectively \n",
    "i=0\n",
    "index=[]\n",
    "ylist=[] # use to store the temperatures\n",
    "\n",
    "# fill in your code \n",
    "\n",
    "# converting a list to numpy array to use in the following code cells:\n",
    "# y1=np.array(ylist)"
   ]
  },
  {
   "cell_type": "code",
   "execution_count": null,
   "metadata": {},
   "outputs": [],
   "source": [
    "# histogram plot"
   ]
  },
  {
   "cell_type": "markdown",
   "metadata": {},
   "source": [
    "\n",
    "### 1.3. For the same data create a box-whisker plot\n"
   ]
  },
  {
   "cell_type": "code",
   "execution_count": 1,
   "metadata": {},
   "outputs": [],
   "source": [
    "# boxplot"
   ]
  },
  {
   "cell_type": "code",
   "execution_count": null,
   "metadata": {},
   "outputs": [],
   "source": [
    "# You can create also horizontal Box-whisker plots\n",
    "# With some more effort you can also place several box-whisker \n",
    "# next to each other: The trick is to form a list with two or more \n",
    "# numpy arrays.\n",
    "\n",
    "# For more options (e.g. how to fill the IQR box with color)\n",
    "# see https://matplotlib.org/gallery/statistics/boxplot_color.html\n",
    "\n",
    "\n",
    "\n",
    "# Make sure you have your data array in variable y1 for this example!\n",
    "y2=1.5*y1-5\n",
    "plt.boxplot([y1,y2],vert=False)\n",
    "plt.yticks([1,2],[\"sample 1\",\"sample 2\"])\n",
    "plt.title(\"Boxplot example illustration: compare two (or more) data sets)\")\n",
    "plt.show()"
   ]
  },
  {
   "cell_type": "markdown",
   "metadata": {},
   "source": [
    "<p style=\"color:gold;background-color:purple;font-size:130%\">\n",
    "    <BR>Task 2: Quantitative statistics with numpy<BR><BR>\n",
    "\n",
    "</p>\n",
    "\n",
    "### 2.1 Now copy your code into the cell below and modify your code: Select all daily data from March months 1950-2020 and apply the numpy functions:\n",
    "\n",
    "\n",
    "- _np.mean()_ \n",
    "- _np.std()_\n",
    "- _np.min()_\n",
    "- _np.max()_\n",
    "        \n",
    "Note, that these functions don't like it when np.nan values are in your data arrays.\n",
    "You can use functions called _np.nanmean()_ instead.\n",
    "\n",
    "<p style=\"color:black;background-color:lightgreen;font-size:130%\">\n",
    "    <BR>\n",
    "    Tip: When doing calculations with numpy functions, convert your list into a numpy array first.\n",
    "    <BR>\n",
    "    <BR>\n",
    "</p>\n",
    "        \n",
    "Assign the array to a new variable: e.g. if *ylist* is your list use\n",
    "     \n",
    "     y=np.array(ylist)\n",
    "\n",
    "Keep track of the data and create a summary table in your Notebook.\n",
    "\n"
   ]
  },
  {
   "cell_type": "code",
   "execution_count": 2,
   "metadata": {},
   "outputs": [
    {
     "name": "stdout",
     "output_type": "stream",
     "text": [
      "Summary statistics for the temperature sample:\n",
      "--------------------------------------------------\n",
      "mean    \n",
      "stddev  \n",
      "min     \n",
      "max     \n",
      "--------------------------------------------------\n"
     ]
    }
   ],
   "source": [
    "i=0\n",
    "index=[] \n",
    "ylist=[] # use to store the temperatures\n",
    "\n",
    "unit=\"F\"\n",
    "\n",
    "# Adjust the print functions to print the numerical results!\n",
    "print(\"Summary statistics for the temperature sample:\")\n",
    "print(50*\"-\")\n",
    "print(\"mean    \")\n",
    "print(\"stddev  \")\n",
    "print(\"min     \")\n",
    "print(\"max     \")\n",
    "print(50*\"-\")\n"
   ]
  },
  {
   "cell_type": "markdown",
   "metadata": {},
   "source": [
    "### Optional: You can use markdown cells to create tables with data."
   ]
  },
  {
   "cell_type": "markdown",
   "metadata": {},
   "source": [
    "Table 1: Summary statistic average daily temperature for all March temperatures 1950-2020 in Fahrenheit\n",
    "\n",
    "| Month  | Mean |  Std |  Min  |  Max  | \n",
    "|--------|------|------|-------|-------|\n",
    "| Mar    | xx   | xx   |  xx   |  xx |\n",
    "\n"
   ]
  },
  {
   "cell_type": "markdown",
   "metadata": {},
   "source": [
    "<p style=\"color:gold;background-color:purple;font-size:130%\">\n",
    "    <BR>Task 3: Apply your Python skills and create a climatology plot<BR><BR>\n",
    "        \n",
    "The figure below has more information in it than we want. Let's make a cleaner version just for temperatures.\n",
    "        \n",
    "Think about a way to produce a summary graph for the Albany temperature (min, max and daily mean temperatures) climatology **using the years 1981-2010**.\n",
    "\n",
    "Tip: Use if-statements to check if the year value is in the range 1981-2010. Use the month value to branch the code and create a list that contains all daily average temperature values for one calendar month (e.g. January).  Then average the temperatures to obtain a monthly mean climatology. Repeat for all 12 months and save the monthly average vales in a numpy array. \n",
    "\n"
   ]
  },
  {
   "cell_type": "code",
   "execution_count": null,
   "metadata": {},
   "outputs": [],
   "source": [
    "#To give you an example graph:\n",
    "from IPython.display import Image\n",
    "from IPython.core.display import HTML \n",
    "Image(url= \"http://www.albany-ny.climatemps.com/albany-ny-climate-graph.gif\", width=600)"
   ]
  },
  {
   "cell_type": "code",
   "execution_count": null,
   "metadata": {},
   "outputs": [],
   "source": [
    "# another loop is needed \n",
    "# arrays to store the results\n",
    "monthlist=[1,2,3,4,5,6,7,8,9,10,11,12]\n",
    "avgtmean=np.zeros(12)\n",
    "for m in monthlist:\n",
    "    # insert code for monthly average calculation\n"
   ]
  },
  {
   "cell_type": "code",
   "execution_count": null,
   "metadata": {},
   "outputs": [],
   "source": [
    "# example code for creating a climatology plot\n",
    "# \n",
    "#plt.plot(monthlist,avgtmean,color='black',label='daily mean')\n",
    "#plt.title(\"Albany monthly mean climatology 1981-2010\")\n",
    "#plt.ylabel(\"temperature in F\")\n",
    "#plt.xlabel(\"month\")\n",
    "#plt.xticks([1,3,5,7,9,11], ['Jan','Mar','May','Jul','Sep','Nov'])\n",
    "#plt.legend()\n",
    "#plt.show()"
   ]
  },
  {
   "cell_type": "code",
   "execution_count": null,
   "metadata": {},
   "outputs": [],
   "source": []
  },
  {
   "cell_type": "markdown",
   "metadata": {},
   "source": [
    "---\n"
   ]
  },
  {
   "cell_type": "markdown",
   "metadata": {},
   "source": [
    "## Optional Tasks:\n"
   ]
  },
  {
   "cell_type": "markdown",
   "metadata": {},
   "source": [
    " - Extract minimum temperature values for all days within the -3 to +3 days before and after the specific date (that is March 18,19,20,21,22,23,24)\n",
    " - sort all these values using _np.sort()_. \n",
    " - How likely is it to have temperatures higher than 70F around this time of the year? Use only the years 1981-2010 for this exercise.\n",
    " - Then, repeat the procedure using years 1951-1980. What can be inferred from the analysis?\n",
    " \n",
    "- Inform yourself about the function _np.argmax()_ or _np.argmin()_. Can you print the date of the lowest and highest recorded minimim maximum daytime temperatures?\n",
    "\n",
    " \n",
    "    "
   ]
  },
  {
   "cell_type": "code",
   "execution_count": null,
   "metadata": {},
   "outputs": [],
   "source": []
  }
 ],
 "metadata": {
  "kernelspec": {
   "display_name": "Python 3",
   "language": "python",
   "name": "python3"
  },
  "language_info": {
   "codemirror_mode": {
    "name": "ipython",
    "version": 3
   },
   "file_extension": ".py",
   "mimetype": "text/x-python",
   "name": "python",
   "nbconvert_exporter": "python",
   "pygments_lexer": "ipython3",
   "version": "3.8.6"
  }
 },
 "nbformat": 4,
 "nbformat_minor": 2
}
