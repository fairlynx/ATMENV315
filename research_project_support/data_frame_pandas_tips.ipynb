{
 "cells": [
  {
   "cell_type": "markdown",
   "id": "silver-defeat",
   "metadata": {},
   "source": [
    "# Important data analysis methods, tips for workign with data arrays\n",
    "\n",
    "- lists \n",
    "- 1-dimension or 2-dimensional arrays\n",
    "- Pandas package support for dealing with tables that include dates or text (non numerical data)\n"
   ]
  },
  {
   "cell_type": "code",
   "execution_count": 1,
   "id": "supported-excuse",
   "metadata": {},
   "outputs": [],
   "source": [
    "import numpy as np\n",
    "import datetime as dt\n",
    "import matplotlib.pyplot as plt\n",
    "import pandas as pd\n",
    "import datetime as dt\n",
    "from scipy.stats import ttest_ind\n"
   ]
  },
  {
   "cell_type": "markdown",
   "id": "patient-bulgarian",
   "metadata": {},
   "source": [
    "## The next code cell generates a DataFrame"
   ]
  },
  {
   "cell_type": "code",
   "execution_count": 2,
   "id": "incoming-provision",
   "metadata": {},
   "outputs": [
    {
     "data": {
      "text/html": [
       "<div>\n",
       "<style scoped>\n",
       "    .dataframe tbody tr th:only-of-type {\n",
       "        vertical-align: middle;\n",
       "    }\n",
       "\n",
       "    .dataframe tbody tr th {\n",
       "        vertical-align: top;\n",
       "    }\n",
       "\n",
       "    .dataframe thead th {\n",
       "        text-align: right;\n",
       "    }\n",
       "</style>\n",
       "<table border=\"1\" class=\"dataframe\">\n",
       "  <thead>\n",
       "    <tr style=\"text-align: right;\">\n",
       "      <th></th>\n",
       "      <th>time</th>\n",
       "      <th>tmin NYC</th>\n",
       "      <th>tmin ALB</th>\n",
       "    </tr>\n",
       "  </thead>\n",
       "  <tbody>\n",
       "    <tr>\n",
       "      <th>0</th>\n",
       "      <td>2021-04-25</td>\n",
       "      <td>10.0</td>\n",
       "      <td>9.5</td>\n",
       "    </tr>\n",
       "    <tr>\n",
       "      <th>1</th>\n",
       "      <td>2021-04-26</td>\n",
       "      <td>10.7</td>\n",
       "      <td>9.0</td>\n",
       "    </tr>\n",
       "    <tr>\n",
       "      <th>2</th>\n",
       "      <td>2021-04-27</td>\n",
       "      <td>11.5</td>\n",
       "      <td>10.2</td>\n",
       "    </tr>\n",
       "    <tr>\n",
       "      <th>3</th>\n",
       "      <td>2021-04-28</td>\n",
       "      <td>9.6</td>\n",
       "      <td>-9999.9</td>\n",
       "    </tr>\n",
       "    <tr>\n",
       "      <th>4</th>\n",
       "      <td>2021-04-29</td>\n",
       "      <td>10.2</td>\n",
       "      <td>9.8</td>\n",
       "    </tr>\n",
       "    <tr>\n",
       "      <th>5</th>\n",
       "      <td>2021-04-30</td>\n",
       "      <td>NaN</td>\n",
       "      <td>9.0</td>\n",
       "    </tr>\n",
       "    <tr>\n",
       "      <th>6</th>\n",
       "      <td>2021-05-01</td>\n",
       "      <td>10.9</td>\n",
       "      <td>10.0</td>\n",
       "    </tr>\n",
       "    <tr>\n",
       "      <th>7</th>\n",
       "      <td>2021-05-02</td>\n",
       "      <td>10.3</td>\n",
       "      <td>9.5</td>\n",
       "    </tr>\n",
       "    <tr>\n",
       "      <th>8</th>\n",
       "      <td>2021-05-03</td>\n",
       "      <td>NaN</td>\n",
       "      <td>-9999.9</td>\n",
       "    </tr>\n",
       "    <tr>\n",
       "      <th>9</th>\n",
       "      <td>2021-05-04</td>\n",
       "      <td>10.6</td>\n",
       "      <td>10.5</td>\n",
       "    </tr>\n",
       "  </tbody>\n",
       "</table>\n",
       "</div>"
      ],
      "text/plain": [
       "         time  tmin NYC  tmin ALB\n",
       "0  2021-04-25      10.0       9.5\n",
       "1  2021-04-26      10.7       9.0\n",
       "2  2021-04-27      11.5      10.2\n",
       "3  2021-04-28       9.6   -9999.9\n",
       "4  2021-04-29      10.2       9.8\n",
       "5  2021-04-30       NaN       9.0\n",
       "6  2021-05-01      10.9      10.0\n",
       "7  2021-05-02      10.3       9.5\n",
       "8  2021-05-03       NaN   -9999.9\n",
       "9  2021-05-04      10.6      10.5"
      ]
     },
     "execution_count": 2,
     "metadata": {},
     "output_type": "execute_result"
    }
   ],
   "source": [
    "# create an example data table\n",
    "# \n",
    "sample1=np.array([10.0,10.7,11.5,9.6,10.2,np.nan,10.9,10.3,np.nan,10.6])\n",
    "sample2=np.array([9.5,9.0,10.2,-9999.9,9.8,9.0,10.0,9.5,-9999.9,10.5])\n",
    "\n",
    "n=len(sample1) # sample 2 has same length here in this example\n",
    "\n",
    "# create a list with dates as string\n",
    "dlist= []\n",
    "i=0\n",
    "timestep=dt.timedelta(days=1)\n",
    "date=dt.datetime(2021,4,24)\n",
    "while i<n:\n",
    "    date=date+timestep\n",
    "    dlist.append(date.strftime(\"%Y-%m-%d\"))\n",
    "    i=i+1\n",
    "\n",
    "# put the list with date strings and the numerical data into a DataFrame and save as  CSV file\n",
    "\n",
    "df=pd.DataFrame({\"time\":dlist,\"tmin NYC\":sample1,\"tmin ALB\":sample2})\n",
    "df.to_csv(\"testdata.csv\")\n",
    "df"
   ]
  },
  {
   "cell_type": "markdown",
   "id": "distant-technical",
   "metadata": {},
   "source": [
    "## Here we load the data from the local file\n",
    "(you will find a file  _testdata.csv_ in your folder) \n"
   ]
  },
  {
   "cell_type": "code",
   "execution_count": 3,
   "id": "hundred-feeling",
   "metadata": {},
   "outputs": [],
   "source": [
    "# Note: reading the file with numpy loadtxt does not work that well!\n",
    "# It require more effort if you wnat to read the whole data table\n",
    "# but we can get at least the columns with the temperature data\n",
    "\n",
    "#np.loadtxt(\"testdata.csv\",delimiter=',',skiprows=1,usecols=(3,))"
   ]
  },
  {
   "cell_type": "code",
   "execution_count": 4,
   "id": "french-gasoline",
   "metadata": {},
   "outputs": [
    {
     "data": {
      "text/plain": [
       "Index(['Unnamed: 0', 'time', 'tmin NYC', 'tmin ALB'], dtype='object')"
      ]
     },
     "execution_count": 4,
     "metadata": {},
     "output_type": "execute_result"
    }
   ],
   "source": [
    "# load the data with pandas is the recommended way\n",
    "data=pd.read_csv(\"testdata.csv\")\n",
    "data.columns"
   ]
  },
  {
   "cell_type": "code",
   "execution_count": 5,
   "id": "widespread-tiffany",
   "metadata": {},
   "outputs": [
    {
     "data": {
      "text/plain": [
       "array([ 9.5,  9. , 10.2,  nan,  9.8,  9. , 10. ,  9.5,  nan, 10.5])"
      ]
     },
     "execution_count": 5,
     "metadata": {},
     "output_type": "execute_result"
    }
   ],
   "source": [
    "# onvert date strings into datetime objects\n",
    "# see https://datatofish.com/strings-to-datetime-pandas/\n",
    "thelp=data['time']\n",
    "\n",
    "thelp2=pd.to_datetime(thelp,format=\"%Y-%m-%d\")\n",
    "data['time']=thelp2\n",
    "data.columns\n",
    "tmin1=data['tmin NYC'].values\n",
    "np.nanmean(tmin1)\n",
    "tmin2=data['tmin ALB'].values\n",
    "\n",
    "# replace dummy values with np.nan values\n",
    "\n",
    "tmin2=np.where(tmin2>-9990.0,tmin2,np.nan)\n",
    "tmin2"
   ]
  },
  {
   "cell_type": "markdown",
   "id": "corrected-possibility",
   "metadata": {},
   "source": [
    "## Apply the t_test  to the data (nan values omitted)"
   ]
  },
  {
   "cell_type": "code",
   "execution_count": null,
   "id": "automated-christmas",
   "metadata": {},
   "outputs": [],
   "source": [
    "tvalue, pvalue=ttest_ind(tmin1,tmin2,equal_var=False,nan_policy='omit')\n",
    "print(tvalue,pvalue)"
   ]
  },
  {
   "cell_type": "code",
   "execution_count": 12,
   "id": "indirect-chrome",
   "metadata": {},
   "outputs": [
    {
     "data": {
      "text/plain": [
       "4"
      ]
     },
     "execution_count": 12,
     "metadata": {},
     "output_type": "execute_result"
    }
   ],
   "source": []
  },
  {
   "cell_type": "markdown",
   "id": "potential-currency",
   "metadata": {},
   "source": [
    "### How can we get a block of rows and columns from the DataFrame back into 2-d numpy array?\n",
    "\n",
    "There are several options. I will show one way that makes it very much consistent with the numpy row and column\n",
    "index selection methods using index operations. \n",
    "\n",
    "Remember: DataFrames add an extra layer of functionality around or numerical data arrays. \n",
    "One feature that DataFrame objects have is the shape attribute.\n",
    "Another is the so-called iloc attribute.\n"
   ]
  },
  {
   "cell_type": "code",
   "execution_count": null,
   "id": "center-router",
   "metadata": {},
   "outputs": [],
   "source": [
    "print(\"type of variable data: \")\n",
    "print(type(data))\n",
    "\n",
    "print(\"shape of the data array stored in the DataFrame:\")\n",
    "print(data.shape)"
   ]
  },
  {
   "cell_type": "code",
   "execution_count": null,
   "id": "outstanding-ethics",
   "metadata": {},
   "outputs": [],
   "source": [
    "print(\"Select the third column (python index 2) from the DataFrame: \")\n",
    "result=data.iloc[:,3].values\n",
    "print(type(result),result.shape)\n",
    "for value in result:\n",
    "    print(value)"
   ]
  },
  {
   "cell_type": "code",
   "execution_count": null,
   "id": "sapphire-guest",
   "metadata": {},
   "outputs": [],
   "source": [
    "print(\"Select the rows from index position 2-7 and columns at index position 2-3\")\n",
    "x=data.iloc[2:7,2:4].values\n",
    "\n",
    "print(type(x),x.shape)\n"
   ]
  },
  {
   "cell_type": "markdown",
   "id": "spare-detroit",
   "metadata": {},
   "source": [
    "## We have selected the data we wanted from the DataFrame and converted the resulting data into a numpy array\n",
    "The variable x now is a 2-dimensional numpy array and we can work with the numpy array as we have done earlier in the notebook examples (see for example the world topography data we worked with)."
   ]
  },
  {
   "cell_type": "markdown",
   "id": "agricultural-bradley",
   "metadata": {},
   "source": [
    "### Application of statistical calculations column by column:\n",
    "\n",
    "Many numpy functions allow you to specify the keyword _axis_ in the function call.\n",
    "I explain this keyword use using the 2-dimensional data array _x_.\n",
    "\n",
    "The task is to find the minimum value in each column.\n",
    "\n",
    "We use the function _np.nanmin()_."
   ]
  },
  {
   "cell_type": "code",
   "execution_count": null,
   "id": "boring-immigration",
   "metadata": {},
   "outputs": [],
   "source": [
    "# keyword axis=0 tells the function to use the first dimension (rows) as data samples\n",
    "# In other words this function is applied to each data column individually.\n",
    "# as a result we get returned an 1-dimensional array matching in size the number of columns in x\n",
    "\n",
    "xmin0=np.nanmin(x,axis=0) # for each column we perform the task of m=finding the minimum value \n",
    "\n",
    "print(\"column by column application of the minimum function:\")\n",
    "print(xmin0)"
   ]
  },
  {
   "cell_type": "markdown",
   "id": "departmental-norway",
   "metadata": {},
   "source": [
    "###  Try axis=1: It will return an array of size  what?\n"
   ]
  },
  {
   "cell_type": "code",
   "execution_count": null,
   "id": "rational-extent",
   "metadata": {},
   "outputs": [],
   "source": [
    "xmin1=np.nanmin(x,axis=1)\n",
    "print(\"row by row application of the minimum function:\")\n",
    "print(xmin1)"
   ]
  }
 ],
 "metadata": {
  "kernelspec": {
   "display_name": "Python 3",
   "language": "python",
   "name": "python3"
  },
  "language_info": {
   "codemirror_mode": {
    "name": "ipython",
    "version": 3
   },
   "file_extension": ".py",
   "mimetype": "text/x-python",
   "name": "python",
   "nbconvert_exporter": "python",
   "pygments_lexer": "ipython3",
   "version": "3.8.6"
  }
 },
 "nbformat": 4,
 "nbformat_minor": 5
}
