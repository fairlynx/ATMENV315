{
 "cells": [
  {
   "cell_type": "markdown",
   "id": "silver-defeat",
   "metadata": {},
   "source": [
    "# Creating a Pandas DataFrame from 2-dimensional data arrays\n",
    "### and saving the data as CSV files\n"
   ]
  },
  {
   "cell_type": "code",
   "execution_count": null,
   "id": "supported-excuse",
   "metadata": {},
   "outputs": [],
   "source": [
    "import numpy as np\n",
    "import datetime as dt\n",
    "import matplotlib.pyplot as plt\n",
    "import pandas as pd\n",
    "import datetime as dt\n",
    "from scipy.stats import ttest_ind"
   ]
  },
  {
   "cell_type": "markdown",
   "id": "patient-bulgarian",
   "metadata": {},
   "source": [
    "## The next code cell generates a 2-dimensional numpy array\n",
    "\n",
    "Consider this as an example. Size and values can be anything that you encounter in your\n",
    "research.\n",
    "\n"
   ]
  },
  {
   "cell_type": "code",
   "execution_count": null,
   "id": "sunrise-syndication",
   "metadata": {},
   "outputs": [],
   "source": [
    "# two samples of same size\n",
    "sample1=np.array([10.0,10.7,11.5,9.6,10.2,np.nan,10.9,10.3,np.nan,10.6])\n",
    "sample2=np.array([9.5,9.0,10.2,np.nan,9.8,9.0,10.0,9.5,np.nan,10.5])\n",
    "\n",
    "# put the sample data into 2-dim array (fill in columns)\n",
    "n=len(sample1)\n",
    "x=np.empty(shape=(n,2))\n",
    "# now fill with the samples\n",
    "x[:,0]=sample1\n",
    "x[:,1]=sample2\n"
   ]
  },
  {
   "cell_type": "markdown",
   "id": "gorgeous-tampa",
   "metadata": {},
   "source": [
    "### The simplest way to convert this into a DataFrame is very simple\n",
    "\n",
    "See the great explanations at [datafish](https://datatofish.com/numpy-array-to-pandas-dataframe/)\n",
    "(link last checked in April 2021)"
   ]
  },
  {
   "cell_type": "code",
   "execution_count": null,
   "id": "attended-chest",
   "metadata": {},
   "outputs": [],
   "source": [
    "df=pd.DataFrame(x, columns = ['Sample A','Sample B'])\n",
    "df"
   ]
  },
  {
   "cell_type": "markdown",
   "id": "alternate-kingston",
   "metadata": {},
   "source": [
    "## In practice we often have associated with the rows an index system\n",
    "\n",
    "We add and index to the data table (another column). Here, dates are used as index.\n",
    "This is typically done with time series data.\n"
   ]
  },
  {
   "cell_type": "code",
   "execution_count": null,
   "id": "incoming-provision",
   "metadata": {},
   "outputs": [],
   "source": [
    "# create a list with dates as string\n",
    "dlist= []\n",
    "i=0\n",
    "timestep=dt.timedelta(days=1)\n",
    "date=dt.datetime(2021,4,24)\n",
    "while i<n:\n",
    "    date=date+timestep\n",
    "    dlist.append(date.strftime(\"%Y-%m-%d\"))\n",
    "    i=i+1\n",
    "\n",
    "df=pd.DataFrame(x, columns = ['Sample A','Sample B'],index=dlist)\n",
    "df\n",
    "\n",
    "# you can save this DataFrame as a CSV file now\n",
    "#df.to_csv(\"testdata2.csv\")"
   ]
  }
 ],
 "metadata": {
  "kernelspec": {
   "display_name": "Python 3",
   "language": "python",
   "name": "python3"
  },
  "language_info": {
   "codemirror_mode": {
    "name": "ipython",
    "version": 3
   },
   "file_extension": ".py",
   "mimetype": "text/x-python",
   "name": "python",
   "nbconvert_exporter": "python",
   "pygments_lexer": "ipython3",
   "version": "3.8.6"
  }
 },
 "nbformat": 4,
 "nbformat_minor": 5
}
