{
 "cells": [
  {
   "cell_type": "markdown",
   "id": "silver-defeat",
   "metadata": {},
   "source": [
    "## Tips for working CSV files and Pandas DataFrame objects and methods\n",
    "\n",
    "### Problem: I have multiple data files (month by month) from NYS Mesonet and I want to get a full\n",
    "### year of data into a numpy array for one station\n",
    "\n",
    "#### I'll use a loop to read the 12 CSV files and merge the data frames into one big data frame\n",
    "#### Then group  by station ID\n",
    "#### Then I apply the previously introduced column selection method \n",
    "#### And plot the time series\n",
    "\n"
   ]
  },
  {
   "cell_type": "markdown",
   "id": "running-marine",
   "metadata": {},
   "source": []
  },
  {
   "cell_type": "code",
   "execution_count": 10,
   "id": "supported-excuse",
   "metadata": {},
   "outputs": [],
   "source": [
    "import numpy as np\n",
    "import matplotlib.pyplot as plt\n",
    "import pandas as pd\n",
    "import datetime as dt"
   ]
  },
  {
   "cell_type": "code",
   "execution_count": 11,
   "id": "scheduled-chase",
   "metadata": {},
   "outputs": [
    {
     "name": "stdout",
     "output_type": "stream",
     "text": [
      "/home11/staff/timm/Public/Data/MESONET/202001.csv\n",
      "/home11/staff/timm/Public/Data/MESONET/202002.csv\n",
      "/home11/staff/timm/Public/Data/MESONET/202003.csv\n",
      "/home11/staff/timm/Public/Data/MESONET/202004.csv\n",
      "/home11/staff/timm/Public/Data/MESONET/202005.csv\n",
      "/home11/staff/timm/Public/Data/MESONET/202006.csv\n",
      "/home11/staff/timm/Public/Data/MESONET/202007.csv\n",
      "/home11/staff/timm/Public/Data/MESONET/202008.csv\n",
      "/home11/staff/timm/Public/Data/MESONET/202009.csv\n",
      "/home11/staff/timm/Public/Data/MESONET/202010.csv\n",
      "/home11/staff/timm/Public/Data/MESONET/202011.csv\n",
      "/home11/staff/timm/Public/Data/MESONET/202012.csv\n"
     ]
    }
   ],
   "source": [
    "dpath=\"/home11/staff/timm/Public/Data/MESONET/\"    \n",
    "\n",
    "\n",
    "# load the first one\n",
    "filelist=[\"202001.csv\",\"202002.csv\",\"202003.csv\",\"202004.csv\",\"202005.csv\",\"202006.csv\",\n",
    "          \"202007.csv\",\"202008.csv\",\"202009.csv\",\"202010.csv\",\"202011.csv\",\"202012.csv\"]\n",
    "df_list=[] # collect all individual data frames in a list\n",
    "for filename in filelist:\n",
    "    print( dpath+filename)\n",
    "    df_list.append(pd.read_csv(dpath+filename))\n"
   ]
  },
  {
   "cell_type": "code",
   "execution_count": 12,
   "id": "changing-debate",
   "metadata": {},
   "outputs": [
    {
     "data": {
      "image/png": "[encoded data removed]",
      "text/plain": [
       "<Figure size 432x288 with 1 Axes>"
      ]
     },
     "metadata": {
      "needs_background": "light"
     },
     "output_type": "display_data"
    }
   ],
   "source": [
    "bspa=dfg.get_group(\"BSPA\")\n",
    "temp=bspa['tavg'].values\n",
    "plt.xlabel(\"time\")\n",
    "plt.ylabel(\"temp [deg C]\")\n",
    "plt.title(\"BSPA station 5min avg temp 2020\")\n",
    "plt.plot(timehelp,temp)\n",
    "plt.show()"
   ]
  },
  {
   "cell_type": "code",
   "execution_count": 14,
   "id": "complicated-wright",
   "metadata": {},
   "outputs": [],
   "source": [
    "# this concatenates the data frames\n",
    "df2020=pd.concat(df_list)\n",
    "df2020=df2020.rename(columns={\"time_end\":\"time\",\"temp_2m_avg [degC]\":\"tavg\"})\n",
    "df2020=df2020[['station','time','tavg']] # just the thre columns\n",
    "dfg=df2020.groupby('station')\n",
    "\n",
    "# TODO: Better conversion of time to datetime needed later\n",
    "timehelp=pd.to_datetime(bspa['time'])"
   ]
  },
  {
   "cell_type": "markdown",
   "id": "cooked-catalyst",
   "metadata": {},
   "source": [
    "### Here is a code example how to group by the station ids and repeat for each station a statistical average calculation\n",
    "\n",
    "The calculation of the time averaged temperature is done with data from the full year.\n",
    "\n",
    "We collect all mean values in a list and convert the list into an array tmean."
   ]
  },
  {
   "cell_type": "code",
   "execution_count": 15,
   "id": "scheduled-combine",
   "metadata": {},
   "outputs": [
    {
     "name": "stdout",
     "output_type": "stream",
     "text": [
      "  0 ADDI mean=  8.71 deg C\n",
      "  1 ANDE mean=  8.09 deg C\n",
      "  2 BATA mean=  9.78 deg C\n",
      "  3 BEAC mean= 11.82 deg C\n",
      "  4 BELD mean=  8.75 deg C\n",
      "  5 BELL mean=  9.47 deg C\n",
      "  6 BELM mean=  8.93 deg C\n",
      "  7 BERK mean=  8.31 deg C\n",
      "  8 BING mean=  8.97 deg C\n",
      "  9 BKLN mean= 13.75 deg C\n",
      " 10 BRAN mean= 10.28 deg C\n",
      " 11 BREW mean= 10.44 deg C\n",
      " 12 BROC mean= 10.07 deg C\n",
      " 13 BRON mean= 13.65 deg C\n",
      " 14 BROO mean=  7.96 deg C\n",
      " 15 BSPA mean=  9.16 deg C\n",
      " 16 BUFF mean=  9.80 deg C\n",
      " 17 BURD mean=  8.63 deg C\n",
      " 18 BURT mean= 10.20 deg C\n",
      " 19 CAMD mean=  8.67 deg C\n",
      " 20 CAPE mean=  8.88 deg C\n",
      " 21 CHAZ mean=  7.81 deg C\n",
      " 22 CHES mean=  7.78 deg C\n",
      " 23 CINC mean=  8.03 deg C\n",
      " 24 CLAR mean=  7.57 deg C\n",
      " 25 CLIF mean= 10.01 deg C\n",
      " 26 CLYM mean=  8.56 deg C\n",
      " 27 COBL mean=  9.18 deg C\n",
      " 28 COHO mean=  8.06 deg C\n",
      " 29 COLD mean=  7.47 deg C\n",
      " 30 COPA mean= 10.04 deg C\n",
      " 31 COPE mean=  7.89 deg C\n",
      " 32 CROG mean=  7.67 deg C\n",
      " 33 CSQR mean=  9.21 deg C\n",
      " 34 DELE mean=  7.86 deg C\n",
      " 35 DEPO mean=  8.77 deg C\n",
      " 36 DOVE mean= 10.08 deg C\n",
      " 37 DUAN mean=  8.58 deg C\n",
      " 38 EAUR mean=  9.15 deg C\n",
      " 39 EDIN mean=  7.92 deg C\n",
      " 40 EDWA mean=  7.68 deg C\n",
      " 41 ELDR mean=  9.71 deg C\n",
      " 42 ELLE mean=  6.92 deg C\n",
      " 43 ELMI mean=  9.95 deg C\n",
      " 44 ESSX mean=  8.76 deg C\n",
      " 45 FAYE mean= 10.22 deg C\n",
      " 46 FRED mean= 10.45 deg C\n",
      " 47 GABR mean=  6.77 deg C\n",
      " 48 GFAL mean=  9.25 deg C\n",
      " 49 GFLD mean=  8.05 deg C\n",
      " 50 GROT mean=  9.17 deg C\n",
      " 51 GROV mean=  7.99 deg C\n",
      " 52 HAMM mean=  8.38 deg C\n",
      " 53 HARP mean=  8.03 deg C\n",
      " 54 HARR mean=  6.87 deg C\n",
      " 55 HART mean=  7.79 deg C\n",
      " 56 HERK mean=  8.78 deg C\n",
      " 57 HFAL mean= 10.87 deg C\n",
      " 58 ILAK mean=  6.46 deg C\n",
      " 59 JOHN mean=  8.47 deg C\n",
      " 60 JORD mean= 10.29 deg C\n",
      " 61 KIND mean= 10.56 deg C\n",
      " 62 LAUR mean=  8.46 deg C\n",
      " 63 LOUI mean=  8.18 deg C\n",
      " 64 MALO mean=  7.89 deg C\n",
      " 65 MANH mean= 14.57 deg C\n",
      " 66 MEDI mean= 10.02 deg C\n",
      " 67 MEDU mean=  8.35 deg C\n",
      " 68 MORR mean=  7.96 deg C\n",
      " 69 NBRA mean=  8.90 deg C\n",
      " 70 NEWC mean=  7.47 deg C\n",
      " 71 NHUD mean=  7.45 deg C\n",
      " 72 OLDF mean=  6.04 deg C\n",
      " 73 OLEA mean=  8.67 deg C\n",
      " 74 ONTA mean= 10.05 deg C\n",
      " 75 OPPE mean=  8.41 deg C\n",
      " 76 OSCE mean=  7.42 deg C\n",
      " 77 OSWE mean=  9.99 deg C\n",
      " 78 OTIS mean= 10.42 deg C\n",
      " 79 OWEG mean=  9.23 deg C\n",
      " 80 PENN mean= 10.01 deg C\n",
      " 81 PHIL mean=  8.19 deg C\n",
      " 82 PISE mean=  6.53 deg C\n",
      " 83 POTS mean=  8.53 deg C\n",
      " 84 QUEE mean= 13.89 deg C\n",
      " 85 RAND mean=  8.98 deg C\n",
      " 86 RAQU mean=  6.49 deg C\n",
      " 87 REDF mean=  7.45 deg C\n",
      " 88 REDH mean= 10.96 deg C\n",
      " 89 ROXB mean=  8.74 deg C\n",
      " 90 RUSH mean=  9.80 deg C\n",
      " 91 SARA mean=  6.72 deg C\n",
      " 92 SBRI mean=  9.84 deg C\n",
      " 93 SCHA mean= 10.03 deg C\n",
      " 94 SCHO mean= 10.78 deg C\n",
      " 95 SCHU mean=  9.72 deg C\n",
      " 96 SCIP mean=  8.97 deg C\n",
      " 97 SHER mean=  8.49 deg C\n",
      " 98 SOME mean= 11.31 deg C\n",
      " 99 SOUT mean= 12.08 deg C\n",
      "100 SPRA mean=  8.86 deg C\n",
      "101 SPRI mean=  8.28 deg C\n",
      "102 STAT mean= 13.37 deg C\n",
      "103 STEP mean=  8.77 deg C\n",
      "104 STON mean= 12.80 deg C\n",
      "105 SUFF mean= 11.68 deg C\n",
      "106 TANN mean=  7.74 deg C\n",
      "107 TICO mean=  9.12 deg C\n",
      "108 TULL mean=  8.77 deg C\n",
      "109 TUPP mean=  6.46 deg C\n",
      "110 TYRO mean=  9.06 deg C\n",
      "111 VOOR mean=  9.96 deg C\n",
      "112 WALL mean= 10.68 deg C\n",
      "113 WALT mean=  7.89 deg C\n",
      "114 WANT mean= 12.96 deg C\n",
      "115 WARS mean=  8.23 deg C\n",
      "116 WARW mean= 11.04 deg C\n",
      "117 WATE mean= 10.42 deg C\n",
      "118 WBOU mean=  9.22 deg C\n",
      "119 WELL mean=  8.57 deg C\n",
      "120 WEST mean=  8.94 deg C\n",
      "121 WFMB mean=  6.68 deg C\n",
      "122 WGAT mean=  6.99 deg C\n",
      "123 WHIT mean=  8.94 deg C\n",
      "124 WOLC mean= 10.18 deg C\n",
      "125 YORK mean=  9.95 deg C\n"
     ]
    }
   ],
   "source": [
    "# print the group names (keys)\n",
    "tmean =[]\n",
    "\n",
    "stations=dfg.groups.keys()\n",
    "for i,s in enumerate(stations):\n",
    "    dfhelp=dfg.get_group(s)\n",
    "    thelp=dfhelp['tavg'].values\n",
    "    tmean.append(np.nanmean(thelp))\n",
    "    print(f\"{i :3d} {s} mean={np.nanmean(thelp) : 6.2f} deg C\")\n",
    "    "
   ]
  },
  {
   "cell_type": "code",
   "execution_count": 16,
   "id": "other-level",
   "metadata": {},
   "outputs": [
    {
     "data": {
      "image/png": "[encoded data removed]",
      "text/plain": [
       "<Figure size 432x288 with 1 Axes>"
      ]
     },
     "metadata": {
      "needs_background": "light"
     },
     "output_type": "display_data"
    }
   ],
   "source": [
    "plt.bar(np.arange(0,len(stations),1),tmean)\n",
    "plt.xlabel(\"station #\")\n",
    "plt.ylabel(\"tavg [deg C]\")\n",
    "plt.title(\"Mesonet average daily mean temp in 2020 \")\n",
    "plt.show()"
   ]
  },
  {
   "cell_type": "code",
   "execution_count": null,
   "id": "running-timothy",
   "metadata": {},
   "outputs": [],
   "source": []
  }
 ],
 "metadata": {
  "kernelspec": {
   "display_name": "Python 3",
   "language": "python",
   "name": "python3"
  },
  "language_info": {
   "codemirror_mode": {
    "name": "ipython",
    "version": 3
   },
   "file_extension": ".py",
   "mimetype": "text/x-python",
   "name": "python",
   "nbconvert_exporter": "python",
   "pygments_lexer": "ipython3",
   "version": "3.8.6"
  }
 },
 "nbformat": 4,
 "nbformat_minor": 5
}
