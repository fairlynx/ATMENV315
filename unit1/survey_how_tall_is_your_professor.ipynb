{
 "cells": [
  {
   "cell_type": "markdown",
   "id": "b61a6405",
   "metadata": {},
   "source": [
    "## Statistical data analysis example: \n",
    "\n",
    "### Survey result to the question: \n",
    "\n",
    "### \"Give an estimate: How tall is your course instructor (Prof. Timm)?\"\n",
    "\n",
    "I created a spreadsheet table from the entry survey that you filled out last week. \n",
    "Simple example showing how to work with Excel-type data tables\n",
    "(CSV format)\n",
    "We will use a package called Pandas to work with 'Excel-type' spreadsheet tables (also referred to as *dataframes*).\n"
   ]
  },
  {
   "cell_type": "code",
   "execution_count": null,
   "id": "998b6a7b",
   "metadata": {},
   "outputs": [],
   "source": [
    "import pandas as pd"
   ]
  },
  {
   "cell_type": "code",
   "execution_count": null,
   "id": "ff1a9930",
   "metadata": {},
   "outputs": [],
   "source": [
    "df=pd.read_csv('./class_survey.csv')"
   ]
  },
  {
   "cell_type": "code",
   "execution_count": null,
   "id": "704f823e",
   "metadata": {},
   "outputs": [],
   "source": [
    "df.head()"
   ]
  },
  {
   "cell_type": "markdown",
   "id": "b7f39512-f5b9-4320-8e14-e56d1786b088",
   "metadata": {},
   "source": [
    "### We can do a quick summary statistics based on each team.\n",
    "This is done by using the team number in the spreadsheet column 'final team' as a factor to group the data by team. And then we call a function that calculates the average for us using the data from column 'convert to cm'.\n",
    "\n"
   ]
  },
  {
   "cell_type": "code",
   "execution_count": null,
   "id": "cc1543f9",
   "metadata": {},
   "outputs": [],
   "source": [
    "dfg=df.groupby('final team')\n",
    "mean=df['convert to cm'].mean()\n",
    "print (\"the average height estimate by the students:\" +str(mean*1000//100/10)+\"cm\")\n",
    "# some simple math conversion from cm to feet and inches, since most students \n",
    "# provided the height in ft and inches.\n",
    "avg_in=mean//2.54\n",
    "avg_ft=avg_in//12\n",
    "res_in=avg_in-avg_ft*12\n",
    "print ('aveage height in ft and inch: '+str(int(avg_ft))+\"ft and \"+str(int(res_in))+\"inch\")"
   ]
  },
  {
   "cell_type": "code",
   "execution_count": null,
   "id": "01ab87e1-9467-40e4-b4b3-338ecfa2c131",
   "metadata": {},
   "outputs": [],
   "source": [
    "fig=df['convert to cm'].hist()\n",
    "title=fig.set_title(\"Histogram of the collected height data (in cm)\")"
   ]
  },
  {
   "cell_type": "code",
   "execution_count": null,
   "id": "47afa42c-458a-45d3-bbfc-e00effba3c48",
   "metadata": {},
   "outputs": [],
   "source": []
  },
  {
   "cell_type": "markdown",
   "id": "0d257f51-858f-49d7-93d6-60ed762b227d",
   "metadata": {},
   "source": [
    "We wish to get everyone to a comfort and knowledge level by end of semester that you can do your own data analysis with the help of Python packages like Pandas (NumPy, Matplotlib, xarray). Combined with basic Python knowledge and some googling for tutorials and example codes, many powerful statistical and visualization tools will be in your hands.\n"
   ]
  }
 ],
 "metadata": {
  "kernelspec": {
   "display_name": "Python 3 August 2021 Environment",
   "language": "python",
   "name": "aug21"
  },
  "language_info": {
   "codemirror_mode": {
    "name": "ipython",
    "version": 3
   },
   "file_extension": ".py",
   "mimetype": "text/x-python",
   "name": "python",
   "nbconvert_exporter": "python",
   "pygments_lexer": "ipython3",
   "version": "3.8.10"
  }
 },
 "nbformat": 4,
 "nbformat_minor": 5
}
