{
 "cells": [
  {
   "cell_type": "markdown",
   "id": "b61a6405",
   "metadata": {
    "tags": []
   },
   "source": [
    "## Statistical data analysis example: \n",
    "\n",
    "### Survey result to the question: \n",
    "\n",
    "### \"Give an estimate: How tall is your course instructor (Prof. Timm)?\"\n",
    "\n",
    "I created a spreadsheet table from the entry survey that you filled out last week. \n",
    "Simple example showing how to work with Excel-type data tables\n",
    "(CSV format)\n",
    "We will use a package called Pandas to work with 'Excel-type' spreadsheet tables (also referred to as *dataframes*).\n"
   ]
  },
  {
   "cell_type": "code",
   "execution_count": 1,
   "id": "998b6a7b",
   "metadata": {},
   "outputs": [],
   "source": [
    "import pandas as pd"
   ]
  },
  {
   "cell_type": "code",
   "execution_count": 2,
   "id": "ff1a9930",
   "metadata": {},
   "outputs": [],
   "source": [
    "df=pd.read_csv('./class_survey.csv')"
   ]
  },
  {
   "cell_type": "code",
   "execution_count": 3,
   "id": "704f823e",
   "metadata": {},
   "outputs": [
    {
     "data": {
      "text/html": [
       "<div>\n",
       "<style scoped>\n",
       "    .dataframe tbody tr th:only-of-type {\n",
       "        vertical-align: middle;\n",
       "    }\n",
       "\n",
       "    .dataframe tbody tr th {\n",
       "        vertical-align: top;\n",
       "    }\n",
       "\n",
       "    .dataframe thead th {\n",
       "        text-align: right;\n",
       "    }\n",
       "</style>\n",
       "<table border=\"1\" class=\"dataframe\">\n",
       "  <thead>\n",
       "    <tr style=\"text-align: right;\">\n",
       "      <th></th>\n",
       "      <th>Last Name</th>\n",
       "      <th>First Name</th>\n",
       "      <th>CourseID</th>\n",
       "      <th>final team</th>\n",
       "      <th>Alb temp F</th>\n",
       "      <th>height in cm</th>\n",
       "      <th>ft</th>\n",
       "      <th>inch</th>\n",
       "      <th>convert to cm</th>\n",
       "    </tr>\n",
       "  </thead>\n",
       "  <tbody>\n",
       "    <tr>\n",
       "      <th>0</th>\n",
       "      <td>D</td>\n",
       "      <td>M</td>\n",
       "      <td>2223-AENV-315-8138</td>\n",
       "      <td>1</td>\n",
       "      <td>-10.0</td>\n",
       "      <td>NaN</td>\n",
       "      <td>6.0</td>\n",
       "      <td>3.000</td>\n",
       "      <td>190.50</td>\n",
       "    </tr>\n",
       "    <tr>\n",
       "      <th>1</th>\n",
       "      <td>G</td>\n",
       "      <td>K</td>\n",
       "      <td>2223-AATM-315-8139</td>\n",
       "      <td>1</td>\n",
       "      <td>-2.5</td>\n",
       "      <td>NaN</td>\n",
       "      <td>6.0</td>\n",
       "      <td>1.000</td>\n",
       "      <td>185.42</td>\n",
       "    </tr>\n",
       "    <tr>\n",
       "      <th>2</th>\n",
       "      <td>L</td>\n",
       "      <td>Z</td>\n",
       "      <td>2223-AATM-315-8139</td>\n",
       "      <td>1</td>\n",
       "      <td>-2.5</td>\n",
       "      <td>192.0</td>\n",
       "      <td>6.0</td>\n",
       "      <td>3.591</td>\n",
       "      <td>192.00</td>\n",
       "    </tr>\n",
       "    <tr>\n",
       "      <th>3</th>\n",
       "      <td>W</td>\n",
       "      <td>E</td>\n",
       "      <td>2223-AATM-315-8139</td>\n",
       "      <td>2</td>\n",
       "      <td>-20.0</td>\n",
       "      <td>NaN</td>\n",
       "      <td>6.0</td>\n",
       "      <td>2.000</td>\n",
       "      <td>187.96</td>\n",
       "    </tr>\n",
       "    <tr>\n",
       "      <th>4</th>\n",
       "      <td>Z</td>\n",
       "      <td>D</td>\n",
       "      <td>2223-AATM-315-8139</td>\n",
       "      <td>1</td>\n",
       "      <td>-10.0</td>\n",
       "      <td>NaN</td>\n",
       "      <td>6.0</td>\n",
       "      <td>0.000</td>\n",
       "      <td>182.88</td>\n",
       "    </tr>\n",
       "  </tbody>\n",
       "</table>\n",
       "</div>"
      ],
      "text/plain": [
       "  Last Name First Name            CourseID  final team  Alb temp F  \\\n",
       "0         D          M  2223-AENV-315-8138           1       -10.0   \n",
       "1         G          K  2223-AATM-315-8139           1        -2.5   \n",
       "2         L          Z  2223-AATM-315-8139           1        -2.5   \n",
       "3         W          E  2223-AATM-315-8139           2       -20.0   \n",
       "4         Z          D  2223-AATM-315-8139           1       -10.0   \n",
       "\n",
       "   height in cm   ft   inch  convert to cm  \n",
       "0           NaN  6.0  3.000         190.50  \n",
       "1           NaN  6.0  1.000         185.42  \n",
       "2         192.0  6.0  3.591         192.00  \n",
       "3           NaN  6.0  2.000         187.96  \n",
       "4           NaN  6.0  0.000         182.88  "
      ]
     },
     "execution_count": 3,
     "metadata": {},
     "output_type": "execute_result"
    }
   ],
   "source": [
    "df.head()"
   ]
  },
  {
   "cell_type": "markdown",
   "id": "b7f39512-f5b9-4320-8e14-e56d1786b088",
   "metadata": {},
   "source": [
    "### We can do a quick summary statistics.\n",
    "We call a function that calculates the average us using the data from column 'convert to cm'.\n",
    "\n"
   ]
  },
  {
   "cell_type": "code",
   "execution_count": 6,
   "id": "cc1543f9",
   "metadata": {},
   "outputs": [
    {
     "name": "stdout",
     "output_type": "stream",
     "text": [
      "the average height estimate by the students: 185.4cm\n",
      "aveage height in ft and inch: 6ft and 1inch\n"
     ]
    }
   ],
   "source": [
    "mean=df['convert to cm'].mean()\n",
    "print (\"the average height estimate by the students: \" +str(mean*1000//100/10)+\"cm\")\n",
    "# some simple math conversion from cm to feet and inches, since most students \n",
    "# provided the height in ft and inches.\n",
    "avg_in=mean//2.54\n",
    "avg_ft=avg_in//12\n",
    "res_in=avg_in-avg_ft*12\n",
    "print ('aveage height in ft and inch: '+str(int(avg_ft))+\"ft and \"+str(int(res_in))+\"inch\")"
   ]
  },
  {
   "cell_type": "code",
   "execution_count": 5,
   "id": "01ab87e1-9467-40e4-b4b3-338ecfa2c131",
   "metadata": {},
   "outputs": [
    {
     "data": {
      "image/png": "[encoded data removed]",
      "text/plain": [
       "<Figure size 432x288 with 1 Axes>"
      ]
     },
     "metadata": {
      "needs_background": "light"
     },
     "output_type": "display_data"
    }
   ],
   "source": [
    "fig=df['convert to cm'].hist()\n",
    "title=fig.set_title(\"Histogram of the collected height data (in cm)\")"
   ]
  },
  {
   "cell_type": "markdown",
   "id": "0d257f51-858f-49d7-93d6-60ed762b227d",
   "metadata": {},
   "source": [
    "We wish to get everyone to a comfort and knowledge level by end of semester that you can do your own data analysis with the help of Python packages like Pandas (NumPy, Matplotlib, xarray). Combined with basic Python knowledge and some googling for tutorials and example codes, many powerful statistical and visualization tools will be in your hands.\n"
   ]
  }
 ],
 "metadata": {
  "kernelspec": {
   "display_name": "Python 3 August 2021 Environment",
   "language": "python",
   "name": "aug21"
  },
  "language_info": {
   "codemirror_mode": {
    "name": "ipython",
    "version": 3
   },
   "file_extension": ".py",
   "mimetype": "text/x-python",
   "name": "python",
   "nbconvert_exporter": "python",
   "pygments_lexer": "ipython3",
   "version": "3.8.10"
  }
 },
 "nbformat": 4,
 "nbformat_minor": 5
}
