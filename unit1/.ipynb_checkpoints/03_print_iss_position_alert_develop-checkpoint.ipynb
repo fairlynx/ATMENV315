{
 "cells": [
  {
   "cell_type": "markdown",
   "metadata": {},
   "source": [
    "### Working with variables, logical expressions\n",
    "This notebook builds upon the previous notebook. However, here we want to create an alert system, when the ISS will fly over Albany.\n",
    "\n",
    "See [open-noitfy.org](http://open-notify.org/Open-Notify-API/ISS-Location-Now/)"
   ]
  },
  {
   "cell_type": "markdown",
   "metadata": {},
   "source": [
    "The Python code below shows a typical script structure:\n",
    "1. The first cell contains import statements\n",
    "2. The second cell makes use of some functions from the packages:\n",
    "    - It sends a request to a server to get some data \n",
    "    - It parses the returned text and extracts the data we are interested in\n",
    "3. The third cell is where we show the results.\n",
    "\n"
   ]
  },
  {
   "cell_type": "code",
   "execution_count": 13,
   "metadata": {},
   "outputs": [],
   "source": [
    "# Import additional packages that provide useful functions\n",
    "# Get the packages support to make http requests\n",
    "import urllib3\n",
    "import json\n",
    "import datetime"
   ]
  },
  {
   "cell_type": "markdown",
   "metadata": {},
   "source": [
    "### Variable declaration:\n",
    "\n",
    "*my_lon*  and *my_lat* are the observer's geographic coordinates on the ground."
   ]
  },
  {
   "cell_type": "code",
   "execution_count": 14,
   "metadata": {},
   "outputs": [],
   "source": [
    "\n",
    "# define two variables for location of Albany \n",
    "my_lon=73.0+45.0/60\n",
    "my_lat=42.0+39.0/60"
   ]
  },
  {
   "cell_type": "markdown",
   "metadata": {},
   "source": [
    "### Sending data request to server\n",
    "    (1) get the position of ISS\n",
    "    (2) get the time of the next overpass and duration.\n"
   ]
  },
  {
   "cell_type": "code",
   "execution_count": 15,
   "metadata": {},
   "outputs": [],
   "source": [
    "http = urllib3.PoolManager()\n",
    "r = http.request('GET', \"http://api.open-notify.org/iss-now.json\")\n",
    "# returns a dictionary \n",
    "result=json.loads(r.data.decode('utf-8'))\n",
    "iss=result['iss_position'] # key is iss_position, and the value itself is a dictionary\n",
    "lon=iss['longitude']\n",
    "lat=iss['latitude']"
   ]
  },
  {
   "cell_type": "code",
   "execution_count": 42,
   "metadata": {},
   "outputs": [
    {
     "name": "stdout",
     "output_type": "stream",
     "text": [
      "{'message': 'success', 'request': {'altitude': 100, 'datetime': 1548969139, 'latitude': 42.65, 'longitude': 73.75, 'passes': 5}, 'response': [{'duration': 429, 'risetime': 1549009727}, {'duration': 638, 'risetime': 1549015375}, {'duration': 620, 'risetime': 1549021186}, {'duration': 584, 'risetime': 1549027042}, {'duration': 622, 'risetime': 1549032862}]}\n"
     ]
    }
   ],
   "source": [
    "http = urllib3.PoolManager()\n",
    "query_string=\"http://api.open-notify.org/iss-pass.json?lat=\"\\\n",
    "+str(my_lat)+\"&lon=\"+str(my_lon)+\"&n=5\"\n",
    "r = http.request('GET', query_string)\n",
    "# returns a dictionary \n",
    "result=json.loads(r.data.decode('utf-8'))\n",
    "print(result)\n",
    "iss=result['response'][0] # key is iss_position, and the value itself is a dictionary \n",
    "timestamp=1549015375\n",
    "#timestamp=int(iss['risetime'])\n",
    "rise_time=datetime.datetime.utcfromtimestamp(timestamp).strftime('%Y-%m-%d %H:%M:%S')\n",
    "duration=iss['duration']//60 # in minutes\n"
   ]
  },
  {
   "cell_type": "code",
   "execution_count": 41,
   "metadata": {},
   "outputs": [
    {
     "name": "stdout",
     "output_type": "stream",
     "text": [
      "Current long and latitude position of the ISS: 72.8214 -21.0493\n",
      "Next time over my location: 2019-02-01 08:28:47\n",
      "Duration: 7 minutes\n"
     ]
    }
   ],
   "source": [
    "print (\"Current long and latitude position of the ISS: \"+lon+' '+lat)\n",
    "print (\"Next time over my location: \"+rise_time)\n",
    "print (\"Duration: \"+str(duration)+\" minutes\")"
   ]
  },
  {
   "cell_type": "markdown",
   "metadata": {},
   "source": [
    "## Learning objective: \n",
    "\n"
   ]
  },
  {
   "cell_type": "markdown",
   "metadata": {},
   "source": [
    "## Class Activity:\n",
    "\n",
    "- "
   ]
  },
  {
   "cell_type": "markdown",
   "metadata": {},
   "source": []
  },
  {
   "cell_type": "markdown",
   "metadata": {},
   "source": [
    "### Optional tasks (For students with Python experience):\n",
    "\n",
    "- Explore what is going on in middle Python code cell! Identify the data type of variable _result_ and variable _iss_.\n",
    "- Can you use the + operator in combination with _iss_ and text strings and print the result of the operation with the print function?\n",
    "- Can you import the time package and use the sleep function and automize the repeated request and print of the ISS position every 60 seconds?\n",
    "\n"
   ]
  },
  {
   "cell_type": "markdown",
   "metadata": {},
   "source": [
    "## References and Links:\n",
    " - [open-noitfy.org](http://open-notify.org/)\n",
    " - [NASA web page with ISS location and overhead times](https://spotthestation.nasa.gov/sightings/view.cfm?country=United_States&region=New_York&city=Albany)"
   ]
  },
  {
   "cell_type": "code",
   "execution_count": null,
   "metadata": {},
   "outputs": [],
   "source": []
  }
 ],
 "metadata": {
  "kernelspec": {
   "display_name": "Python 3",
   "language": "python",
   "name": "python3"
  },
  "language_info": {
   "codemirror_mode": {
    "name": "ipython",
    "version": 3
   },
   "file_extension": ".py",
   "mimetype": "text/x-python",
   "name": "python",
   "nbconvert_exporter": "python",
   "pygments_lexer": "ipython3",
   "version": "3.6.6"
  }
 },
 "nbformat": 4,
 "nbformat_minor": 2
}
