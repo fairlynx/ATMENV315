{
 "cells": [
  {
   "cell_type": "markdown",
   "metadata": {},
   "source": [
    "### Programming languages like Python are widely used to pull 'live data from servers'\n",
    "Internet of Things (IoT) is becoming more and more widespread. Here is a short demo, how you can build your own 'wifi' weather sensor instrument, unsing the services from [dweet.io](http://dweet.io/). \n",
    "\n",
    "The Raspberry PI is a cheap mini-PC (Linux) that is ideal for Do-it-Yourself digitial sensors and measurements, or research labs/schools on a low budget. Python support for the sensors makes it even more attractive for class room demos in courses like this one.\n"
   ]
  },
  {
   "cell_type": "markdown",
   "metadata": {},
   "source": [
    "The Python code below shows a typical script structure:\n",
    "1. The first cell contains import statements\n",
    "2. The second cell makes use of some functions from the packages:\n",
    "    - It sends a request to a server to get some data \n",
    "    - It parses the returned text and extracts the data we are interested in\n",
    "3. The third cell is where we show the results.\n",
    "\n"
   ]
  },
  {
   "cell_type": "code",
   "execution_count": 1,
   "metadata": {},
   "outputs": [],
   "source": [
    "# Import additional packages that provide useful functions\n",
    "# Get the packages support to make http requests\n",
    "import certifi\n",
    "import urllib3\n",
    "import json"
   ]
  },
  {
   "cell_type": "code",
   "execution_count": 11,
   "metadata": {},
   "outputs": [],
   "source": [
    "# prepare https connection\n",
    "http = urllib3.PoolManager(timeout=4.0)\n",
    "http = urllib3.PoolManager(cert_reqs='CERT_REQUIRED',ca_certs=certifi.where())\n"
   ]
  },
  {
   "cell_type": "code",
   "execution_count": 15,
   "metadata": {},
   "outputs": [],
   "source": [
    "# define a function for dweet.io send data request and receive data\n",
    "def dweet_get(device_id_name):\n",
    "    server=\"https://dweet.io\"\n",
    "    try:\n",
    "        print (server+'/get/latest/dweet/for/'+device_id_name)\n",
    "        response=http.request('GET', server+'/get/latest/dweet/for/'+device_id_name)\n",
    "        print (response)\n",
    "        raw=response.data.decode('utf-8')\n",
    "        values=json.loads(raw)['with'][0]['content']\n",
    "    except:\n",
    "        print(\"Failed to connect to host\")\n",
    "        values=None\n",
    "    return values"
   ]
  },
  {
   "cell_type": "code",
   "execution_count": 25,
   "metadata": {},
   "outputs": [
    {
     "name": "stdout",
     "output_type": "stream",
     "text": [
      "https://dweet.io/get/latest/dweet/for/raspipy12345\n",
      "<urllib3.response.HTTPResponse object at 0x7f992c1555f8>\n",
      "raspipy12345\n"
     ]
    },
    {
     "data": {
      "text/plain": [
       "'raspipy12345'"
      ]
     },
     "execution_count": 25,
     "metadata": {},
     "output_type": "execute_result"
    }
   ],
   "source": [
    "my_dweet_device=\"raspipy12345\"\n",
    "result=dweet_get(my_dweet_device)\n",
    "print(my_dweet_device)\n",
    "my_dweet_device"
   ]
  },
  {
   "cell_type": "code",
   "execution_count": 26,
   "metadata": {},
   "outputs": [
    {
     "data": {
      "text/plain": [
       "{'n_temp': 5,\n",
       " 'time1': '19-01-30 04:58:18 UTC',\n",
       " 'time2': '19-01-30 04:59:09 UTC',\n",
       " 'rhum': 25.9,\n",
       " 'temp': 19.4,\n",
       " 'n_rhum': 5,\n",
       " 'n_pres': 5,\n",
       " 'index': 25,\n",
       " 'unit_rhum': '%',\n",
       " 'unit_temp': 'C',\n",
       " 'pres': 998.4,\n",
       " 'unit_pres': 'hPa'}"
      ]
     },
     "execution_count": 26,
     "metadata": {},
     "output_type": "execute_result"
    }
   ],
   "source": [
    "result"
   ]
  },
  {
   "cell_type": "code",
   "execution_count": 27,
   "metadata": {},
   "outputs": [
    {
     "name": "stdout",
     "output_type": "stream",
     "text": [
      "time interval: 19-01-30 04:58:18 UTC - 19-01-30 04:59:09 UTC\n",
      "temperature: 19.4 C\n",
      "relative humidity: 25.9 %\n",
      "pressure: 998.4 hPa\n"
     ]
    }
   ],
   "source": [
    "print (\"time interval: \"+result['time1']+\" - \"+result['time2'])\n",
    "print (\"temperature: \"+str(result['temp'])+\" \"+result['unit_temp'])\n",
    "\n",
    "print (\"relative humidity: \"+str(result['rhum'])+\" \"+result['unit_rhum'])\n",
    "print (\"pressure: \"+str(result['pres'])+\" \"+result['unit_pres'])\n",
    "                 "
   ]
  },
  {
   "cell_type": "markdown",
   "metadata": {},
   "source": [
    "## Learning objective: \n",
    "\n"
   ]
  }
 ],
 "metadata": {
  "kernelspec": {
   "display_name": "Python 3",
   "language": "python",
   "name": "python3"
  },
  "language_info": {
   "codemirror_mode": {
    "name": "ipython",
    "version": 3
   },
   "file_extension": ".py",
   "mimetype": "text/x-python",
   "name": "python",
   "nbconvert_exporter": "python",
   "pygments_lexer": "ipython3",
   "version": "3.6.6"
  }
 },
 "nbformat": 4,
 "nbformat_minor": 2
}
