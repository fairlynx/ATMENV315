{
 "cells": [
  {
   "cell_type": "markdown",
   "metadata": {},
   "source": [
    "## Unit 1.3 A real-world application of types and type conversion  "
   ]
  },
  {
   "cell_type": "markdown",
   "metadata": {},
   "source": [
    "### 1.3.1 Programming languages like Python are widely used to pull 'live data from servers'\n",
    "Here is an example I found that allows us to download the current position of the Internationl Space Station (ISS)\n",
    "The source code is at [open-noitfy.org](http://open-notify.org/Open-Notify-API/ISS-Location-Now/)"
   ]
  },
  {
   "cell_type": "markdown",
   "metadata": {},
   "source": [
    "The Python code below shows a typical script structure:\n",
    "1. The first cell contains import statements\n",
    "2. The second cell makes use of some functions from the packages:\n",
    "    - It sends a request to a server to get some data \n",
    "    - It parses the returned text and extracts the data we are interested in\n",
    "3. The third cell is where we show the results.\n",
    "\n"
   ]
  },
  {
   "cell_type": "code",
   "execution_count": 1,
   "metadata": {},
   "outputs": [],
   "source": [
    "# Import additional packages that provide useful functions\n",
    "# Get the packages support to make http requests\n",
    "import urllib3\n",
    "import json"
   ]
  },
  {
   "cell_type": "code",
   "execution_count": 2,
   "metadata": {},
   "outputs": [],
   "source": [
    "http = urllib3.PoolManager()\n",
    "r = http.request('GET', \"http://api.open-notify.org/iss-now.json\")\n",
    "# returns a dictionary \n",
    "result=json.loads(r.data.decode('utf-8'))\n",
    "iss=result['iss_position'] # key is iss_position, and the value itself is a dictionary\n",
    "lon=iss['longitude']\n",
    "lat=iss['latitude']"
   ]
  },
  {
   "cell_type": "code",
   "execution_count": 3,
   "metadata": {},
   "outputs": [
    {
     "name": "stdout",
     "output_type": "stream",
     "text": [
      "latest long and latitude position of the ISS: 29.2957 0.7338\n"
     ]
    }
   ],
   "source": [
    "print (\"latest long and latitude position of the ISS: \"+lon+' '+lat)"
   ]
  },
  {
   "cell_type": "markdown",
   "metadata": {},
   "source": [
    "## Learning objective: \n",
    "\n",
    "__First and foremost this activity serves the purpose to better understand the behavior of Notebook cells and how to run code. Furthermore, it illustrates essential components of Python code. At this stage please remember the import of packages gives us more functionality and the  function print allows us to communicate results of the code to the user.__"
   ]
  },
  {
   "cell_type": "markdown",
   "metadata": {},
   "source": [
    "## Class Activity:\n",
    "\n",
    "- Find in the dashboard menu 'Cell' the option to clear all output from the Python code and observe what has changed in the Notebook. \n",
    "- Then run the Notebook cell by cell from top to bottom and observe the results. \n",
    "- Repeat the 'clear all output' \n",
    "- Now start running the cell with from the second python cell to the 3rd cell.\n",
    "- Did it work? What longitude and latitude did you see printed to the screen?\n",
    "- Now run the Notebook using the option 'Run all' and observe the results.\n",
    "- Finally, choose from menu 'Kernel' the option  'Restart & Clear Output'\n",
    "- Then go to the cell with the print statement and run the cell. What happened? Do you know how to make the code running again without error? Can you guess what caused the error?"
   ]
  },
  {
   "cell_type": "markdown",
   "metadata": {},
   "source": [
    "## Questions to discuss in your team\n",
    "\n",
    "Markdown cells and Python cells behave very similar when using options from menu cell and kernel: Which of the following statements applies to markdown cells and which to Phython cells?\n",
    "\n",
    "1. Cells can be run independently from each other in any sequence\n",
    "2. Cells change from the text formatting when running the cell\n",
    "3. Cells can produce only static (always the same) content no matter how often I run the Notebook\n",
    "4. Cells can do something and produce real results and the result can change from run to run\n",
    "5. Kernel reset affects the success of running single cells (when run out the regular sequence from top to bottom)."
   ]
  },
  {
   "cell_type": "markdown",
   "metadata": {},
   "source": [
    "### Optional tasks (For students with Python experience):\n",
    "\n",
    "- Explore what is going on in middle Python code cell! Identify the data type of variable _result_ and variable _iss_.\n",
    "- Can you use the + operator in combination with _iss_ and text strings and print the result of the operation with the print function?\n",
    "- Can you import the time package and use the sleep function and automize the repeated request and print of the ISS position every 60 seconds?\n",
    "\n"
   ]
  }
 ],
 "metadata": {
  "kernelspec": {
   "display_name": "Python 3",
   "language": "python",
   "name": "python3"
  },
  "language_info": {
   "codemirror_mode": {
    "name": "ipython",
    "version": 3
   },
   "file_extension": ".py",
   "mimetype": "text/x-python",
   "name": "python",
   "nbconvert_exporter": "python",
   "pygments_lexer": "ipython3",
   "version": "3.6.7"
  }
 },
 "nbformat": 4,
 "nbformat_minor": 2
}
