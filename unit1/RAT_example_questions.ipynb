{
 "cells": [
  {
   "cell_type": "markdown",
   "id": "dfec52f8-21c9-4042-b172-f0e71a4bf5cc",
   "metadata": {},
   "source": [
    "## Upcoming RAT: Two example questions\n",
    "\n",
    "### What result do you expect to see at the end when you run this short Python code? "
   ]
  },
  {
   "cell_type": "code",
   "execution_count": null,
   "id": "437b10ce-aab7-4aff-b6fe-30852adbdba7",
   "metadata": {},
   "outputs": [],
   "source": [
    "x=12\n",
    "y=4\n",
    "z=x+y\n",
    "x=6\n",
    "print(z)"
   ]
  },
  {
   "cell_type": "markdown",
   "id": "41617073-400d-4ec6-bc13-607bacf66139",
   "metadata": {},
   "source": [
    "### A) This will show a text line 'x+y'\n",
    "\n",
    "### B) I expect to see the letter 'z' on the screen\n",
    "\n",
    "### C) The print-function call will show the number 16 in the Notebook\n",
    "\n",
    "### D) The print-function call will show the number 10 in the Notebook\n",
    "\n",
    "### E) It will show a syntax error message\n"
   ]
  },
  {
   "cell_type": "markdown",
   "id": "aefa0ba7-8c2a-4868-8be7-1d8878cef2a5",
   "metadata": {},
   "source": [
    "## Why is it important that you are aware of the data type that your variables are assigned to?\n",
    "\n",
    "### For example:\n"
   ]
  },
  {
   "cell_type": "code",
   "execution_count": 2,
   "id": "f6cd2561-a0f8-4dfb-80e9-0be86492291b",
   "metadata": {},
   "outputs": [
    {
     "ename": "TypeError",
     "evalue": "unsupported operand type(s) for +: 'int' and 'str'",
     "output_type": "error",
     "traceback": [
      "\u001b[0;31m---------------------------------------------------------------------------\u001b[0m",
      "\u001b[0;31mTypeError\u001b[0m                                 Traceback (most recent call last)",
      "\u001b[0;32m/tmp/ipykernel_34092/3878454007.py\u001b[0m in \u001b[0;36m<module>\u001b[0;34m\u001b[0m\n\u001b[1;32m      2\u001b[0m \u001b[0my\u001b[0m\u001b[0;34m=\u001b[0m\u001b[0;34m\"2\"\u001b[0m\u001b[0;34m\u001b[0m\u001b[0;34m\u001b[0m\u001b[0m\n\u001b[1;32m      3\u001b[0m \u001b[0mz\u001b[0m\u001b[0;34m=\u001b[0m\u001b[0;36m3.1415\u001b[0m\u001b[0;34m\u001b[0m\u001b[0;34m\u001b[0m\u001b[0m\n\u001b[0;32m----> 4\u001b[0;31m \u001b[0madd\u001b[0m\u001b[0;34m=\u001b[0m\u001b[0mx\u001b[0m\u001b[0;34m+\u001b[0m\u001b[0my\u001b[0m\u001b[0;34m\u001b[0m\u001b[0;34m\u001b[0m\u001b[0m\n\u001b[0m",
      "\u001b[0;31mTypeError\u001b[0m: unsupported operand type(s) for +: 'int' and 'str'"
     ]
    }
   ],
   "source": [
    "x=1\n",
    "y=\"2\"\n",
    "z=3.1415\n",
    "add=x+y"
   ]
  },
  {
   "cell_type": "markdown",
   "id": "e5d3d5ed-e1ec-4975-b8c6-144ca63927f8",
   "metadata": {},
   "source": [
    "### Hint: the '+' symbol is an **operator** that allows us to do something with two data objects"
   ]
  },
  {
   "cell_type": "code",
   "execution_count": null,
   "id": "9fff40f1-a7c3-46dc-b08e-b799fa1b1d7b",
   "metadata": {},
   "outputs": [],
   "source": []
  }
 ],
 "metadata": {
  "kernelspec": {
   "display_name": "Python 3 August 2021 Environment",
   "language": "python",
   "name": "aug21"
  },
  "language_info": {
   "codemirror_mode": {
    "name": "ipython",
    "version": 3
   },
   "file_extension": ".py",
   "mimetype": "text/x-python",
   "name": "python",
   "nbconvert_exporter": "python",
   "pygments_lexer": "ipython3",
   "version": "3.8.10"
  }
 },
 "nbformat": 4,
 "nbformat_minor": 5
}
