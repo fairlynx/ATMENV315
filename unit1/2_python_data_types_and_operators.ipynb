{
 "cells": [
  {
   "cell_type": "markdown",
   "metadata": {},
   "source": [
    "## Unit 1.2 Python data type string\n",
    "\n"
   ]
  },
  {
   "cell_type": "markdown",
   "metadata": {},
   "source": [
    "### 1.2.1 Text is represented in Python as objects of type string. \n",
    "The term 'object' we use here for anything that is basically a sequence of zeros and ones in the memory of the computer. Strings are very important for the communication of results and messages to the developer and for users of the code. Strings are easily recognized by the syntax highlighting. A string begins and ends with single quotation marks or a pair of double quotation marks can be used.  \n",
    "(Note: Triple quotation marks can also be used to put entire block of text lines into a string. Often that is used to document functions and program scripts.)\n",
    "\n",
    "\n"
   ]
  },
  {
   "cell_type": "markdown",
   "metadata": {},
   "source": [
    "- Strings can be used directly inside the *print()* function\n",
    "- They can be assigned to variables\n",
    "- They can be combined (concatenated) using the + operator\n",
    "- the function *str()* can convert int and float values into type string\n",
    "\n"
   ]
  },
  {
   "cell_type": "code",
   "execution_count": null,
   "metadata": {},
   "outputs": [],
   "source": [
    "tc=-40\n",
    "tf=9/5*tc+32\n",
    "\n",
    "print(\"Input:  temperature in C:\")\n",
    "print(tc)\n",
    "print(\"Output: temperature in F:\")\n",
    "print(tf)\n"
   ]
  },
  {
   "cell_type": "markdown",
   "metadata": {},
   "source": [
    "## Example:  Concatenate a number with the string into one string\n",
    "\n"
   ]
  },
  {
   "cell_type": "markdown",
   "metadata": {},
   "source": [
    "That's why we need to use the print function in our code to show the results of our code."
   ]
  },
  {
   "cell_type": "code",
   "execution_count": null,
   "metadata": {},
   "outputs": [],
   "source": [
    "tc=-40\n",
    "tf=9/5*tc+32\n",
    "print(\"Input:  temperature in C: \"+str(tc))\n",
    "print(\"Output: temperature in F: \"+str(tf))"
   ]
  },
  {
   "cell_type": "markdown",
   "metadata": {},
   "source": [
    "One can also use variables to put a single line together and then print it:  "
   ]
  },
  {
   "cell_type": "code",
   "execution_count": null,
   "metadata": {},
   "outputs": [],
   "source": [
    "tc=-40\n",
    "tf=9/5*tc+32\n",
    "message=\"Temperature conversion: \"+str(tc)+\"C is \"+str(tf)+\"F\"\n",
    "print(message)\n"
   ]
  },
  {
   "cell_type": "markdown",
   "metadata": {},
   "source": [
    "# Activity"
   ]
  },
  {
   "cell_type": "markdown",
   "metadata": {},
   "source": [
    "### Task 1\n",
    "\n",
    "Use the string operations that we introduced in the examples above and write a user-friendly summary for the conversion of the following wavelengths into frequeny units:"
   ]
  },
  {
   "cell_type": "code",
   "execution_count": null,
   "metadata": {},
   "outputs": [],
   "source": [
    "c=2.99792458E8\n",
    "wavelength=550E-9 # green light\n",
    "unit1=\"m\" # meter\n",
    "frequency=c/wavelength\n",
    "conversion_factor=1E12\n",
    "frequency=frequency/conversion_factor\n",
    "unit2=\"THz\" \n",
    "\n"
   ]
  },
  {
   "cell_type": "markdown",
   "metadata": {},
   "source": [
    "### User input from keyboard with the input() function\n",
    "\n",
    "The function **input()** allows you to enter text. This text is then assigned to a variable, so we can make use of the user information. Per default, the function _input()_\n",
    "operates with strings. Strings are different data types than integer or floating point numbers.\n",
    "\n",
    "The input-function waits for you to enter some text in the opening cell.  \n",
    "However, the function waits for the end of your input. The end is signalled when you hit the key 'Enter'.  \n",
    "So, in the meantime you are 'trapped' inside the input-function, and the code below is not executed  \n",
    "until you hit 'Enter'. \n",
    "\n",
    "**BE AWARE!!! YOU MAY EASILY OVERLOOK THE WAITING INPUT FUNCTION, THEN NOTHING ELSE BELOW SEEM TO WORK IN THE CODE CELLS **"
   ]
  },
  {
   "cell_type": "code",
   "execution_count": null,
   "metadata": {},
   "outputs": [],
   "source": [
    "x=input(\"What is your name? \") # enter text below and hit return\n",
    "print (\"let's see what you entered:\")\n",
    "print (x)"
   ]
  },
  {
   "cell_type": "markdown",
   "metadata": {},
   "source": [
    "### Task 2\n",
    "\n",
    "- Use the function *type(x)* to find out the type of the object in variable x. \n",
    "\n",
    "- Use the function *help()* to get information on the function *int()* and *float()*.\n",
    "- Apply the function *int()* and *float()* to convert the strings \"400\" (wavelength) and the variable  c=\"2.99792458E8\" into a integer and float numbers, respectively. \n",
    "- Then calculate the corresponding frequency and print the result.\n",
    "\n",
    "\n",
    "  \n",
    "\n",
    "\n"
   ]
  },
  {
   "cell_type": "code",
   "execution_count": 1,
   "metadata": {},
   "outputs": [],
   "source": [
    "wavelength=\"400\"\n",
    "c=\"2.99792458E8\"\n",
    "# complete Task 2 here"
   ]
  },
  {
   "cell_type": "markdown",
   "metadata": {},
   "source": [
    "# Summary:\n",
    "\n",
    "You should now be able to distinguish between three basic data types: int, float, and string. \n",
    "Helpful functions such as str() and int() and float() allow us to convert between the types.\n",
    "Operators such as +, * are type-specific operators. They change their functionality with the type.\n",
    "\n"
   ]
  }
 ],
 "metadata": {
  "kernelspec": {
   "display_name": "Python 3",
   "language": "python",
   "name": "python3"
  },
  "language_info": {
   "codemirror_mode": {
    "name": "ipython",
    "version": 3
   },
   "file_extension": ".py",
   "mimetype": "text/x-python",
   "name": "python",
   "nbconvert_exporter": "python",
   "pygments_lexer": "ipython3",
   "version": "3.6.7"
  }
 },
 "nbformat": 4,
 "nbformat_minor": 2
}
