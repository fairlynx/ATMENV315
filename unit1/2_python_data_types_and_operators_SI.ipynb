{
 "cells": [
  {
   "cell_type": "markdown",
   "metadata": {},
   "source": [
    "## Unit 1.2 Python data type string"
   ]
  },
  {
   "cell_type": "markdown",
   "metadata": {},
   "source": [
    "## Supplementary Information \n",
    "\n",
    "### S1. Additional backgroud to the code example with the message variable\n",
    "\n",
    "So what is going on in the third line when we run the code cell?\n"
   ]
  },
  {
   "cell_type": "code",
   "execution_count": 1,
   "metadata": {},
   "outputs": [
    {
     "name": "stdout",
     "output_type": "stream",
     "text": [
      "Temperature conversion: -40C is -40.0F\n"
     ]
    }
   ],
   "source": [
    "tc=-40\n",
    "tf=9/5*tc+32\n",
    "message=\"Temperature conversion: \"+str(tc)+\"C is \"+str(tf)+\"F\"\n",
    "print(message)"
   ]
  },
  {
   "cell_type": "markdown",
   "metadata": {},
   "source": [
    "When you run the code below you will see a text message in the Notebook.\n",
    "with the default value tc=-40 you will read \n",
    "\n",
    "_Temperature conversion: -40C is -40.0F_\n",
    "\n",
    "This is the string that is stored in hte variable message at the moment when we use the variable name in the function call *print(message)*. The expression in parentheses is called the argument of the function. So, variable message is given to the function print.\n",
    "Variable message was defined before with a standard variable assigment operation with the operator *=*.\n",
    "\n",
    "Left of the operator *=* is the name of a variable, to the right an expression that results in a data object that is stored somewhere in the memory of the computer. Each memory space in the computer has an address that we can use to get to the memory location and either place a data object there or read the data object from there. \n",
    "With the assignment operator we 'freeze in the data object and create somthing like pointer to that memory address. The variable name allows us to refer to the data object at that specific address in the memory of the computer.\n",
    "\n",
    "The expression in our variable assignment is a composition of three operations with the operator '+' applied to strings.\n",
    "\n",
    "\n",
    "\n",
    "\n",
    "\n"
   ]
  },
  {
   "cell_type": "code",
   "execution_count": 2,
   "metadata": {},
   "outputs": [
    {
     "data": {
      "text/plain": [
       "'Temperature conversion: -40C is -40.0F'"
      ]
     },
     "execution_count": 2,
     "metadata": {},
     "output_type": "execute_result"
    }
   ],
   "source": [
    "\"Temperature conversion: \"+str(tc)+\"C is \"+str(tf)+\"F\""
   ]
  },
  {
   "cell_type": "markdown",
   "metadata": {},
   "source": [
    "In this line the operation we can think of three-step process from left to right:\n",
    "Let's look at the first operation (a concatenation of two strings):"
   ]
  },
  {
   "cell_type": "code",
   "execution_count": 3,
   "metadata": {},
   "outputs": [
    {
     "data": {
      "text/plain": [
       "'Temperature conversion: -40'"
      ]
     },
     "execution_count": 3,
     "metadata": {},
     "output_type": "execute_result"
    }
   ],
   "source": [
    "\"Temperature conversion: \"+str(tc)"
   ]
  },
  {
   "cell_type": "markdown",
   "metadata": {},
   "source": [
    "As you can see this works, but we still need to explain why we see the -40 there in the string. The left string is just a string, but to the right of the *+* operator is a function call *str(tc)*.\n",
    "\n",
    "The function *str()* takes a data object and converts it into a string object. This works for interger and float numbers directly or you can use a variable that contains an interger or float number.\n",
    "In all situations (see  below) a string is returned as a result of the function call.\n",
    "So, the function call is executed, and the returned string object is used in the operation with the *+*  operator. \n",
    "\n"
   ]
  },
  {
   "cell_type": "code",
   "execution_count": 4,
   "metadata": {},
   "outputs": [
    {
     "data": {
      "text/plain": [
       "'-40'"
      ]
     },
     "execution_count": 4,
     "metadata": {},
     "output_type": "execute_result"
    }
   ],
   "source": [
    "str(-40)\n"
   ]
  },
  {
   "cell_type": "code",
   "execution_count": 5,
   "metadata": {},
   "outputs": [
    {
     "data": {
      "text/plain": [
       "'-40.0'"
      ]
     },
     "execution_count": 5,
     "metadata": {},
     "output_type": "execute_result"
    }
   ],
   "source": [
    "str(-40.0)"
   ]
  },
  {
   "cell_type": "code",
   "execution_count": 9,
   "metadata": {},
   "outputs": [
    {
     "data": {
      "text/plain": [
       "'-40'"
      ]
     },
     "execution_count": 9,
     "metadata": {},
     "output_type": "execute_result"
    }
   ],
   "source": [
    "str(tc)"
   ]
  },
  {
   "cell_type": "markdown",
   "metadata": {},
   "source": [
    "Once the first operation (we say 'concatenate' or 'combine' or two strings) was finished the next operation is done\n"
   ]
  },
  {
   "cell_type": "code",
   "execution_count": 7,
   "metadata": {},
   "outputs": [
    {
     "data": {
      "text/plain": [
       "'Temperature conversion: -40C is '"
      ]
     },
     "execution_count": 7,
     "metadata": {},
     "output_type": "execute_result"
    }
   ],
   "source": [
    "'Temperature conversion: -40'+'C is '\n"
   ]
  },
  {
   "cell_type": "markdown",
   "metadata": {},
   "source": [
    "And then the last two: "
   ]
  },
  {
   "cell_type": "code",
   "execution_count": 10,
   "metadata": {},
   "outputs": [
    {
     "data": {
      "text/plain": [
       "'Temperature conversion: -40C is -40'"
      ]
     },
     "execution_count": 10,
     "metadata": {},
     "output_type": "execute_result"
    }
   ],
   "source": [
    "'Temperature conversion: -40C is '+str(tc)\n"
   ]
  },
  {
   "cell_type": "code",
   "execution_count": 11,
   "metadata": {},
   "outputs": [
    {
     "data": {
      "text/plain": [
       "'Temperature conversion: -40C is -40F'"
      ]
     },
     "execution_count": 11,
     "metadata": {},
     "output_type": "execute_result"
    }
   ],
   "source": [
    "'Temperature conversion: -40C is -40'+'F'"
   ]
  },
  {
   "cell_type": "markdown",
   "metadata": {},
   "source": [
    "final comments: You can use single or double quotes \n"
   ]
  },
  {
   "cell_type": "code",
   "execution_count": 12,
   "metadata": {},
   "outputs": [
    {
     "data": {
      "text/plain": [
       "'Temperature conversion: -40C is -40F'"
      ]
     },
     "execution_count": 12,
     "metadata": {},
     "output_type": "execute_result"
    }
   ],
   "source": [
    "'Temperature conversion: -40C is -40'+\"F\""
   ]
  },
  {
   "cell_type": "markdown",
   "metadata": {},
   "source": [
    "But always in matching pairs! This does not work _'-40\"_ for example."
   ]
  },
  {
   "cell_type": "code",
   "execution_count": null,
   "metadata": {},
   "outputs": [],
   "source": [
    "'40\" "
   ]
  }
 ],
 "metadata": {
  "kernelspec": {
   "display_name": "Python 3 (ipykernel)",
   "language": "python",
   "name": "python3"
  },
  "language_info": {
   "codemirror_mode": {
    "name": "ipython",
    "version": 3
   },
   "file_extension": ".py",
   "mimetype": "text/x-python",
   "name": "python",
   "nbconvert_exporter": "python",
   "pygments_lexer": "ipython3",
   "version": "3.8.10"
  }
 },
 "nbformat": 4,
 "nbformat_minor": 2
}
