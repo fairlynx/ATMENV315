{
 "cells": [
  {
   "cell_type": "markdown",
   "metadata": {},
   "source": [
    "# 2.1 Working with the matplotlib package pyplot\n",
    "\n",
    "The first cell is instructing the Jupyter Notebook server how to display the figure plots (we choose the mode '_inline_').  \n",
    "The second code cell is typical for the start of a Python script. We import 'software packages' that give us\n",
    "more functionality. Important is that we give short labels (names) to the packages, so we know from which package the function \"_plot()_\" is coming from, for example. Here two packages are imported: package labeled '_plt_' and '_np_'.  \n",
    "We will learn more about these two packages in the coming classes."
   ]
  },
  {
   "cell_type": "code",
   "execution_count": null,
   "metadata": {},
   "outputs": [],
   "source": [
    "import matplotlib.pyplot as plt \n",
    "# next line customizes the plot appearance for Notebooks)\n",
    "%matplotlib inline  \n",
    "import numpy as np"
   ]
  },
  {
   "cell_type": "markdown",
   "metadata": {},
   "source": [
    "### 2.1.1 Plotting cosine and sine functions:\n",
    "\n",
    "To get started with data analysis, we have to be able to take a look at our data that we store in\n",
    "variables. "
   ]
  },
  {
   "cell_type": "code",
   "execution_count": null,
   "metadata": {},
   "outputs": [],
   "source": [
    "L=50.0\n",
    "x=np.arange(0,101,1)\n",
    "sindata=np.sin(2*np.pi*x/L)\n",
    "cosdata=np.cos(2*np.pi*x/L)\n",
    "\n",
    "plt.plot(x,sindata,color='red')\n",
    "plt.plot(x,cosdata,color='green')\n",
    "plt.show()"
   ]
  },
  {
   "cell_type": "markdown",
   "metadata": {},
   "source": [
    "### <span style=\"color:blue\">Problem 1:</span> \n",
    "\n",
    "We have two functions in this plot but the color choice of red and green for the graphs is not good for people with red-green color blindness. Let's change the color from green to blue, instead.\n",
    "Inspect the code in the cell above and locate the lines in which you can change the color of the lines. Try it.\n",
    "\n",
    "Test your skills of 'deducing' the purpose of variables sindata, and cosdata."
   ]
  },
  {
   "cell_type": "code",
   "execution_count": null,
   "metadata": {},
   "outputs": [],
   "source": []
  },
  {
   "cell_type": "markdown",
   "metadata": {},
   "source": [
    "### <span style=\"color:blue\">Problem 2:</span> \n",
    "The interesting thing about plots in Python is that we can modify them in many ways after the first _plt.plot()_ function was called. For example we can add a legend to the plot to add labels to the two plotted lines. \n",
    "\n",
    "- add a new code cell below and copy and paste the code from the above (code cell under 2.1.1)\n",
    "- then add to the function-call another keyword argument: \n",
    "    - _plt.plot(x,sindata,color='red',label='sine wave')_\n",
    "- add one more statement with the call of the function (before the line with  _plt.show()_)\n",
    "    - _plt.legend()_\n",
    "\n",
    "\n"
   ]
  },
  {
   "cell_type": "markdown",
   "metadata": {},
   "source": [
    "### <span style=\"color:blue\">Problem 3:</span> \n",
    "Change this graph into a bar graph, with the colors in gold, and purple, and with a legend. Replace the function _plt.plot()_ with the function named _plt.bar()_.\n"
   ]
  },
  {
   "cell_type": "code",
   "execution_count": null,
   "metadata": {},
   "outputs": [],
   "source": [
    "x=[1,2,3,4]\n",
    "y=[1,4,9,16]\n",
    "z=[-16,-8,0,8]\n",
    "\n",
    "plt.plot(x,y)\n",
    "plt.plot(x,z)\n",
    "plt.show()"
   ]
  },
  {
   "cell_type": "markdown",
   "metadata": {},
   "source": [
    "---\n",
    "### Additional class tasks for students that completed the first tasks. Or work out a solution at home!"
   ]
  },
  {
   "cell_type": "markdown",
   "metadata": {},
   "source": [
    "### <span style=\"color:blue\">Problem 4:</span> \n",
    "Find online examples that show how to \n",
    "add axis labels to the barplot: \n",
    "- x-axis: \"year\"\n",
    "- y-axis: \"win/loss [%]\""
   ]
  },
  {
   "cell_type": "markdown",
   "metadata": {},
   "source": [
    "### <span style=\"color:blue\">Problem 5:</span> \n",
    "\n",
    "Last but not least: use the function plt.scatter to create a scatter plot of the sine and cosine data from the examples at the top of the notebook. Add axis labels and a legend as before, and a title with _plt.title()_ function.\n",
    "\n"
   ]
  },
  {
   "cell_type": "markdown",
   "metadata": {},
   "source": [
    "---\n",
    "### Optional Tasks: (for students with Python experience):\n",
    "\n",
    " - How you can change the marker size, and marker type in a scatter plot?\n",
    "Check the web page of the [Pyplot tutorial](https://matplotlib.org/tutorials/introductory/pyplot.html#formatting-the-style-of-your-plot)\n",
    "\n",
    "\n",
    " -  Can you produce a pie-chart with Python ( [see link](https://www.edureka.co/blog/python-matplotlib-tutorial/))?                                     "
   ]
  },
  {
   "cell_type": "markdown",
   "metadata": {},
   "source": [
    "### Supporting online resoures:\n",
    "    \n",
    "- [Pyplot tutorial](https://matplotlib.org/tutorials/introductory/pyplot.html#formatting-the-style-of-your-plot)\n",
    "\n",
    "\n",
    " - [some additional plot examples](https://www.edureka.co/blog/python-matplotlib-tutorial/)  \n",
    "    "
   ]
  },
  {
   "cell_type": "code",
   "execution_count": null,
   "metadata": {},
   "outputs": [],
   "source": []
  }
 ],
 "metadata": {
  "kernelspec": {
   "display_name": "Python 3 August 2022 Environment",
   "language": "python",
   "name": "aug22"
  },
  "language_info": {
   "codemirror_mode": {
    "name": "ipython",
    "version": 3
   },
   "file_extension": ".py",
   "mimetype": "text/x-python",
   "name": "python",
   "nbconvert_exporter": "python",
   "pygments_lexer": "ipython3",
   "version": "3.10.5"
  }
 },
 "nbformat": 4,
 "nbformat_minor": 4
}
