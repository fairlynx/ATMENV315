{
 "cells": [
  {
   "cell_type": "markdown",
   "metadata": {},
   "source": [
    "# 2.3 Global mean surface temperature (GMST) time series"
   ]
  },
  {
   "cell_type": "markdown",
   "metadata": {},
   "source": [
    "## 2.3.1 Global mean surface temperature trend visualization\n",
    "\n",
    "We use here data from NASA GISS. They are reported in degree Celsius departures from 1951-1980 30-year climatological mean. We use a local file that was downloaded from the web page\n",
    "\n",
    "[https://climate.nasa.gov/vital-signs/global-temperature/](https://climate.nasa.gov/vital-signs/global-temperature/)"
   ]
  },
  {
   "cell_type": "code",
   "execution_count": null,
   "metadata": {},
   "outputs": [],
   "source": [
    "%matplotlib inline\n",
    "\n",
    "import matplotlib.pyplot as plt\n",
    "import numpy as np\n",
    "# 2023-02-06 We show here how easy it is to import CSV table data\n",
    "# with the package Pandas\n",
    "import pandas as pd\n"
   ]
  },
  {
   "cell_type": "code",
   "execution_count": null,
   "metadata": {},
   "outputs": [],
   "source": [
    "# local data file name (path and filename)\n",
    "path=\"/nfs/home11/staff/timm/Public/Data/\"\n",
    "filename=\"GISS_Global_Temperature.csv\"\n",
    "\n",
    "print (\"The CSV with the temperature data is:\\n\"+filename)\n",
    "# \\n in the string adds a line break instruction \n",
    "print(\"It is located in on the computer cluster in a shared file folder: \\n\"+path)\n"
   ]
  },
  {
   "cell_type": "markdown",
   "metadata": {},
   "source": [
    "### Load the CSV data with Numpy support functions\n",
    "\n",
    "Numpy offers some supporting functions to import data from files.  \n",
    "Files in CSV format (comma-separated data columns) can be imported with function _np.loadtxt_."
   ]
  },
  {
   "cell_type": "code",
   "execution_count": null,
   "metadata": {},
   "outputs": [],
   "source": [
    "###############################################################################\n",
    "# Support to load the data from the local CSV file\n",
    "###############################################################################\n",
    "\n",
    "\n",
    "print(\"*********************************************************\")\n",
    "print(\"Loading the temperature data from CSV-file.\")\n",
    "print(\"*********************************************************\")\n",
    "result=np.loadtxt(path+filename,skiprows=0,delimiter=',')\n",
    "\n",
    "year=np.array(result[:,0])\n",
    "temp1=np.array(result[:,1])\n",
    "temp2=np.array(result[:,2])\n",
    "\n",
    "print (\"Now you have the data in three variables named\")\n",
    "print (\"year temp1 temp2\")"
   ]
  },
  {
   "cell_type": "code",
   "execution_count": null,
   "metadata": {},
   "outputs": [],
   "source": [
    "print (\"Here is some useful info about the variables:\")\n",
    "print (\"-------------------------------------------------------\")\n",
    "print (\"type of year, temp1,temp2:\")\n",
    "print (type(year),type(temp1), type(temp2))\n",
    "print (\"shape of arrays:\")\n",
    "print (np.shape(year),np.shape(temp1),np.shape(temp2))\n",
    "print (\"-------------------------------------------------------\")"
   ]
  },
  {
   "cell_type": "markdown",
   "metadata": {},
   "source": [
    "### Now we use the package Pandas to get the data into variables\n",
    "We call the returned object a DataFrame (this is a new data type or new class). Programmers use variable names like ___df___ for these data types. \n",
    "The ___type()___ function gives us details about the object type. We see it is called \n",
    "`<class 'pandas.core.frame.DataFrame'>`\n",
    "\n",
    "We will call it in short '_Pandas dataframe_' or '_dataframe_'"
   ]
  },
  {
   "cell_type": "code",
   "execution_count": null,
   "metadata": {},
   "outputs": [],
   "source": [
    "df=pd.read_csv(path+filename)\n",
    "print(type(df))"
   ]
  },
  {
   "cell_type": "markdown",
   "metadata": {},
   "source": [
    "### What is in the variable df? We can show it in the Notebook!\n",
    "The Jupyter Notebooks render the data of type Pandas Dataframe\n",
    "Pandas. The programmers assume that the first row has column names in the CSV file.\n",
    "This simple text file does not have any column names, so the first year of data are falsey assumed to be column names. (1880 -0.18 -0.1) But we can quickly fix that.\n"
   ]
  },
  {
   "cell_type": "code",
   "execution_count": null,
   "metadata": {
    "tags": []
   },
   "outputs": [],
   "source": [
    "df"
   ]
  },
  {
   "cell_type": "code",
   "execution_count": null,
   "metadata": {},
   "outputs": [],
   "source": [
    "df=pd.read_csv(path+filename,names=['A','B','C'])\n",
    "df"
   ]
  },
  {
   "cell_type": "code",
   "execution_count": null,
   "metadata": {},
   "outputs": [],
   "source": [
    "df.columns"
   ]
  },
  {
   "cell_type": "markdown",
   "metadata": {},
   "source": [
    "### Getting data from the dataframe into variables\n",
    "\n",
    "Note: When you are more experienced with Python, you can directly work with dataframes to access data columns. For the moment we extract the data columns and assign them as numpy arrays to variables."
   ]
  },
  {
   "cell_type": "code",
   "execution_count": null,
   "metadata": {},
   "outputs": [],
   "source": [
    "#### We re-assign the variables now using Pandas methods.\n",
    "year=df['A'].values\n",
    "temp1=df['B'].values\n",
    "temp2=df['C'].values"
   ]
  },
  {
   "cell_type": "code",
   "execution_count": null,
   "metadata": {
    "tags": []
   },
   "outputs": [],
   "source": [
    "print (\"Here is some useful info about the variables:\")\n",
    "print (\"-------------------------------------------------------\")\n",
    "print (\"type of year, temp1,temp2:\")\n",
    "print (type(year),type(temp1), type(temp2))\n",
    "print (\"shape of arrays:\")\n",
    "print (np.shape(year),np.shape(temp1),np.shape(temp2))\n",
    "print (\"-------------------------------------------------------\")"
   ]
  },
  {
   "cell_type": "code",
   "execution_count": null,
   "metadata": {
    "tags": []
   },
   "outputs": [],
   "source": [
    "df=pd.read_csv(path+filename,names=['year','temp1','temp2'])\n",
    "df"
   ]
  },
  {
   "cell_type": "markdown",
   "metadata": {},
   "source": [
    "## 1. Problem: How can we look at the full temperature time series with a decent figure caption, axes labels?"
   ]
  },
  {
   "cell_type": "code",
   "execution_count": null,
   "metadata": {},
   "outputs": [],
   "source": [
    "# Code for your plot."
   ]
  },
  {
   "cell_type": "markdown",
   "metadata": {},
   "source": [
    "## 2. Problem: Can you create a bar plot showing indidual years, and the smoothed curve as thick line for the years 1988-2018?\n",
    "\n",
    "Try an online search for help on \"Python matplotlib setting axis limits\""
   ]
  },
  {
   "cell_type": "code",
   "execution_count": null,
   "metadata": {},
   "outputs": [],
   "source": [
    "# Code for your plot."
   ]
  },
  {
   "cell_type": "markdown",
   "metadata": {},
   "source": [
    "## Further References:\n",
    "    \n",
    " - [plots with matplotlib.pyplot](https://jakevdp.github.io/PythonDataScienceHandbook/04.01-simple-line-plots.html)"
   ]
  },
  {
   "cell_type": "markdown",
   "metadata": {},
   "source": [
    "---\n",
    "## 2.3 Appendix: Displaying the data table in the Notebook\n",
    "\n",
    "You can ignore the code below, we just use it here to show the data in a nice format. \n",
    "\n",
    "\"NASA GISS Global Mean Surface Temperature data\"\n"
   ]
  },
  {
   "cell_type": "code",
   "execution_count": null,
   "metadata": {},
   "outputs": [],
   "source": [
    "    from IPython.display import display, HTML\n",
    "    import pandas as pd\n",
    "    df=pd.read_csv(filename,skiprows=0,delimiter=',',names=(\"year\",\"GMST\",\"GMST (smoothed)\"))\n",
    "    # Assuming that dataframes df1 and df2 are already defined:\n",
    "    \n",
    "    display(HTML(df.to_html()))"
   ]
  },
  {
   "cell_type": "code",
   "execution_count": null,
   "metadata": {},
   "outputs": [],
   "source": []
  }
 ],
 "metadata": {
  "kernelspec": {
   "display_name": "Python 3 August 2022 Environment",
   "language": "python",
   "name": "aug22"
  },
  "language_info": {
   "codemirror_mode": {
    "name": "ipython",
    "version": 3
   },
   "file_extension": ".py",
   "mimetype": "text/x-python",
   "name": "python",
   "nbconvert_exporter": "python",
   "pygments_lexer": "ipython3",
   "version": "3.10.5"
  }
 },
 "nbformat": 4,
 "nbformat_minor": 4
}
