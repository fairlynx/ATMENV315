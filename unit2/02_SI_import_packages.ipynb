{
 "cells": [
  {
   "cell_type": "markdown",
   "metadata": {},
   "source": [
    "## A.1 Import packages into your own python code\n",
    "\n",
    "One can import the whole package with \n",
    "\n",
    "_import numpy_ \n",
    "\n",
    "But that is not the recommended way.  \n",
    "Instead code developers use \n",
    "\n",
    "_import numpy as np_\n",
    "\n",
    "This makes all objects (functions, variables etc) of the numpy package accessible by\n",
    "using the prefix _np_. We will get back to that later again (see namespace).\n",
    "\n",
    "Matplotlib and numpy are used as a bundle for data analysis. \n",
    "\n",
    "Typically you will see at the top of a script\n"
   ]
  },
  {
   "cell_type": "code",
   "execution_count": 1,
   "metadata": {},
   "outputs": [],
   "source": [
    "# Data analysis with matplotlib and numpy\n",
    "import matplotlib.pyplot as plt\n",
    "import numpy as np"
   ]
  },
  {
   "cell_type": "markdown",
   "metadata": {},
   "source": [
    "In the python cell above you see how we import a subpackage called _pyplot_ from the larger _matplotlib_ package. The matplotlib package is a big package consisting of many smaller 'packages'. For the moment you can think of begin packaged as a 'matroschka'.\n",
    "\n",
    "<img src=\"https://cdn.pixabay.com/photo/2016/09/13/00/05/babuschka-1666132_640.jpg\">"
   ]
  },
  {
   "cell_type": "markdown",
   "metadata": {},
   "source": [
    "---\n",
    "## A.2 Notes for the interested reader:\n",
    "    \n",
    "In Python there is also the option of importing so-called modules. Modules are basically python scripts with function definitions and variables.\n",
    "A Python package consists of more complex collections of multiple scripts (modules) organized in a directory with subfolders.\n",
    "\n",
    "The Python syntax with the dot is important for telling the interpreter where to look up the code objects. That is, we have specific name spaces assigned to the packages with the *import ... as ...* statement. This makes it possible for programmers to use the same name for a function or variable in their own package. Conflicts with the naming is prevented this way and we can tell the interpreter exactly, which function or object to load into the memory when we use the prefix (e.g. *math.sin()*, *np.sin()* would be two differnt function calls, one to the function in package *math*, the other in the package *np*.)"
   ]
  },
  {
   "cell_type": "code",
   "execution_count": null,
   "metadata": {},
   "outputs": [],
   "source": []
  }
 ],
 "metadata": {
  "kernelspec": {
   "display_name": "Python 3",
   "language": "python",
   "name": "python3"
  },
  "language_info": {
   "codemirror_mode": {
    "name": "ipython",
    "version": 3
   },
   "file_extension": ".py",
   "mimetype": "text/x-python",
   "name": "python",
   "nbconvert_exporter": "python",
   "pygments_lexer": "ipython3",
   "version": "3.6.7"
  }
 },
 "nbformat": 4,
 "nbformat_minor": 2
}
