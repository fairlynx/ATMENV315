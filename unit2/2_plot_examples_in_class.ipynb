{
 "cells": [
  {
   "cell_type": "markdown",
   "metadata": {},
   "source": [
    "# 2.2 Working with data sets and making plots with matplotlib.pyplot\n",
    "\n",
    "In this course we will use two important Python packages for statistical data analysis: One is called _pyplot_ located inside _matplotlib_, the other is called _numpy_. "
   ]
  },
  {
   "cell_type": "markdown",
   "metadata": {},
   "source": [
    "## 2.2.1 Plotting data in an x-y graph\n",
    "\n",
    "Typical applications include: \n",
    "- Time series plots,\n",
    "- Data from experiments with one control factor (x) and a dependent variable (y).\n",
    "- Data along a transect (in the field)\n",
    "    \n",
    "\n"
   ]
  },
  {
   "cell_type": "markdown",
   "metadata": {},
   "source": [
    "### Example 1\n",
    "\n",
    "In this first example, we make use of square-brackets \\[ ... \\] to store an array of numerical values in one variable.\n",
    "We refer to such objects as a _list_, or in more general language as 'arrays'.\n",
    "In Python we call them lists because there is a special data type _list_ defined. \n",
    "Lists are simple yet powerful structures that allow us to store and access data using one\n",
    "variable name together with a positional index. We will learn more about lists in the next course units.\n"
   ]
  },
  {
   "cell_type": "code",
   "execution_count": null,
   "metadata": {},
   "outputs": [],
   "source": [
    "import matplotlib.pyplot as plt\n",
    "%matplotlib inline\n",
    "# using type list to store the x and y coordinates\n",
    "# of the data points\n",
    "x=[-5,-4,-3,-2,-1,0,1,2,3,4,5]\n",
    "y=[]\n",
    "\n",
    "# we use a for-loop to repeat the same calculation \n",
    "# for each element in the list assigned to variable x  \n",
    "for value in x:\n",
    "    y.append(value**2)\n",
    "\n",
    "# now we have two lists, x and y. \n",
    "# we use them as data pairs to indicate the position on the x any y-axis and mark the points\n",
    "# with dots and use lines to connect the dots.\n",
    "plt.plot(x,y,'o',color='purple',linewidth=2,linestyle='-',label='f(x)')\n",
    "plt.xlabel('x')\n",
    "plt.ylabel('y')\n",
    "plt.legend()\n",
    "plt.show()"
   ]
  },
  {
   "cell_type": "code",
   "execution_count": null,
   "metadata": {},
   "outputs": [],
   "source": [
    "print(\"the data pairs that made the plot:\")\n",
    "print(x)\n",
    "print(y)"
   ]
  },
  {
   "cell_type": "markdown",
   "metadata": {},
   "source": [
    "### Example 2: Introducing Numpy arrays\n",
    "\n",
    "__Knowing the data types is important in Python!__\n",
    "\n",
    "We have introduced type _list_ in the code above. Here, we introduce the type _numpy array_ . \n",
    "\n",
    "Insert into the code cell below one of the two statements that assign to variable x:  \n",
    " 1. _x=[-5,-4,-3,-2,-1,0,1,2,3,4,5]_\n",
    " 2. _x=np.array([-5,-4,-3,-2,-1,0,1,2,3,4,5])_\n",
    "\n",
    "In case (1) the data are in a list, and in case (2) the data are in an object of type _numpy.ndarray_ (we will say in short, a 'numpy array').\n",
    "Observe the results and notice the different outcomes.**\n"
   ]
  },
  {
   "cell_type": "code",
   "execution_count": null,
   "metadata": {},
   "outputs": [],
   "source": [
    "import matplotlib.pyplot as plt\n",
    "import numpy as np\n",
    "\n",
    "# put the comment line \n",
    "x=np.array([-5,-4,-3,-2,-1,0,1,2,3,4,5])\n",
    "#x=[-5,-4,-3,-2,-1,0,1,2,3,4,5]\n",
    "\n",
    "print (\"Type of object assigned to variable x is: \"+str(type(x)))\n",
    "\n",
    "y=x**2\n",
    "\n",
    "print (\"Type of object assigned to variable y is= \"+str(type(y)))\n",
    "\n",
    "print(\"make a plot with x and y data pairs\")\n",
    "\n",
    "# create plot\n",
    "plt.plot(x,y,'o',color='purple')\n",
    "plt.show()"
   ]
  },
  {
   "cell_type": "markdown",
   "metadata": {},
   "source": [
    "## 2.2.2 Creating numpy arrays with evenly spaced numbers \n",
    "\n",
    "Below we use the function _np.arange()_ from the numpy package.\n",
    "Can you guess the purpose of that function and what the function is returning? What determines the spacing of the x-values, and thus the number of crosses that we see in the plot?"
   ]
  },
  {
   "cell_type": "code",
   "execution_count": null,
   "metadata": {},
   "outputs": [],
   "source": [
    "import matplotlib.pyplot as plt\n",
    "import numpy as np\n",
    "\n",
    "# creating array equally spaced numbers \n",
    "x=np.arange(-5,5.5,0.5)\n",
    "y=x**2\n",
    "plt.plot(x,y,'+',color='blue',markersize=12,label=\"y=x^2\")\n",
    "plt.title(\"pyplot for functions\")\n",
    "plt.legend()\n",
    "plt.show()"
   ]
  },
  {
   "cell_type": "code",
   "execution_count": null,
   "metadata": {},
   "outputs": [],
   "source": [
    "# If you are still not sure what the function np.arange() is doing\n",
    "# use the help-function, and take a look at what variable x has been assigned to\n",
    "#print(type(x))\n",
    "#print(x)\n",
    "#print(\"-------------------------------------\")\n",
    "#print(\"getting help for function np.arange()\")\n",
    "#help(np.arange)"
   ]
  },
  {
   "cell_type": "markdown",
   "metadata": {},
   "source": [
    "## Activity: Fix some syntax errors and make a 'fancy' plot with axis labels and legend.\n",
    "\n",
    "1. Use the introduced numpy array type and the function np.arange() to define a variabe x\n",
    "that contains an array with numbers from 0,1,2,3 ... ,99 ,100.\n",
    "\n",
    "2. Use the numpy function _np.sin_, _np.cos_, and _np.exp_, _np.log_ and plot the following two graphs ($\\pi$ is defined in numpy as _np.pi_):\n",
    "\n",
    "   - $fs = sin(2*\\pi*x/10.0)*e^{-x/25.}$\n",
    "   - $fc = cos(2*\\pi*x/10.0)*log((x+1)/25.0)$\n",
    "\n",
    "\n",
    "3. Add a legend to the plot.\n",
    "\n",
    "__ATTENTION:__ We import the full numpy package. Every function and variable defined inside the package we can make use of. Everything is imported under the names 'np' (see import statement). So to tell the Python kernel that we want to call a numpy function, we must use the names _np.sin_, _np.cos_. \n",
    "\n",
    "\n",
    "\n",
    "Info on colors, marker, and sizes can be found on the [Matplotlib introductory web page](https://matplotlib.org/tutorials/introductory/pyplot.html#formatting-the-style-of-your-plot) "
   ]
  },
  {
   "cell_type": "code",
   "execution_count": null,
   "metadata": {},
   "outputs": [],
   "source": [
    "\"Export matplotlib.pyplot as plt\"\n",
    "import numpy as np\n",
    "x=arange(0.0,101.0,1)\n",
    "fs=\n",
    "fc="
   ]
  },
  {
   "cell_type": "markdown",
   "metadata": {},
   "source": [
    "---\n",
    "# 2.2 Summary:\n",
    "\n",
    "- Python object type _list_: \n",
    "    - a collection of numbers can be stored in variables using list objects\n",
    "    - lists (e.g. [1,2,3,4]) are part of the core Python language\n",
    "    - lists are very important in Python programming\n",
    "    - you can't use math operators with lists\n",
    "\n",
    "- Package numpy and numpy array object types:\n",
    "    - lists (containing numbers only) can be converted into numpy arrays\n",
    "    - numpy arrays support mathematical calculations\n",
    "    - operators like + - * / ** can be used with variables of type numpy array and the calculations are done element by element with all numbers in the array.\n",
    " \n",
    "- The statement \"_import matplotlib.pyplot as plt_\" gives us access to plot functions\n",
    "    - _plt.plot()_ is a function that needs two variables with lists or numpy arrays for the x and y coordiates to draw symbols or lines.\n",
    "    - optional parameters can be defined in the function call to modify the plot style\n",
    "    - we can add  axis labels to the x-y plots\n",
    "    - we know how to attach a label to a graph and add a legend to the plot \n",
    "    \n",
    "There will be much more to learn about lists and arrays in the coming units.\n"
   ]
  },
  {
   "cell_type": "markdown",
   "metadata": {},
   "source": [
    "---\n"
   ]
  },
  {
   "cell_type": "markdown",
   "metadata": {},
   "source": [
    "\n",
    "## For advanced beginners some additional activities:\n",
    "    \n",
    "\n",
    "\n",
    "1. How you can add appropriate labels to the x- and y-axis?\n",
    "2. How you can control the range of the x-axis values and y-axis values?\n",
    "    * Set the y-axis to cover the range -2 to 2.\n",
    "3. Find online help on how to use additional control parameters with the function _plt.legend()_ to position the legend at other locations in the plot.\n",
    "\n",
    "4. Take a look at the variable x. What numbers are in the array? Refine the interval step in the _np.arange()_ function. Make it in increments of 0.1, 0.01, but always starting at 0 and ending with the highest number at 100.\n",
    "\n",
    "5. Make a line (or scatter) plot of the two functions using variables *fs* and *fc*.\n",
    "\n"
   ]
  },
  {
   "cell_type": "markdown",
   "metadata": {},
   "source": [
    "### References:\n",
    "\n",
    "[Matplotlib introductory web page](https://matplotlib.org/stable/tutorials/introductory/pyplot.html)\n",
    "\n",
    "[Examples for changing the plot's line style](https://matplotlib.org/3.0.3/gallery/lines_bars_and_markers/line_styles_reference.html) "
   ]
  },
  {
   "cell_type": "markdown",
   "metadata": {},
   "source": [
    "[Note you can turn line numbers on/off with the menu ___Show Line Numbers___]"
   ]
  },
  {
   "cell_type": "code",
   "execution_count": null,
   "metadata": {},
   "outputs": [],
   "source": []
  }
 ],
 "metadata": {
  "kernelspec": {
   "display_name": "Python 3 August 2022 Environment",
   "language": "python",
   "name": "aug22"
  },
  "language_info": {
   "codemirror_mode": {
    "name": "ipython",
    "version": 3
   },
   "file_extension": ".py",
   "mimetype": "text/x-python",
   "name": "python",
   "nbconvert_exporter": "python",
   "pygments_lexer": "ipython3",
   "version": "3.10.5"
  }
 },
 "nbformat": 4,
 "nbformat_minor": 4
}
