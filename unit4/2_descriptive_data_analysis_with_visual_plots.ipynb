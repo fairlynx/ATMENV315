{
 "cells": [
  {
   "cell_type": "markdown",
   "metadata": {},
   "source": [
    "## 2 Application of quantiative descriptive statistics "
   ]
  },
  {
   "cell_type": "markdown",
   "metadata": {},
   "source": [
    "### 2.1 Getting ready for the data analysis\n",
    "\n",
    "We continue our work with the data file that contains daily temperature data observed at Albany Airport (KALB):\n",
    "\n",
    "*USW00014735_temp_1950-2021_daily.csv*. \n",
    "\n",
    "Make sure you know where it is located in your folder system. You may have to update the local path string in the code cell (see variable _local_path_)\n",
    "\n",
    " \n"
   ]
  },
  {
   "cell_type": "code",
   "execution_count": null,
   "metadata": {},
   "outputs": [],
   "source": [
    "%matplotlib inline\n",
    "import numpy as np\n",
    "import matplotlib.pyplot as plt\n",
    "# Import the new package Pandas\n",
    "import pandas as pd\n",
    "\n",
    "\n",
    "# Tip: You can change the style of the plots by choosing from \n",
    "# the matplotlib styles. \n",
    "# More help can be found through a quick google search\n",
    "from matplotlib import style \n",
    "style.use('ggplot') #'classic' \n"
   ]
  },
  {
   "cell_type": "markdown",
   "metadata": {},
   "source": [
    "### 2.2 Reading the data and creating a dataframe object\n",
    "\n",
    "Many Python coders use in their code a variable name such as _df_ when they work with a dataframe object. We apply the Pandas function _read_csv()_  to read the data table from the csv file and assign it to the variable df."
   ]
  },
  {
   "cell_type": "code",
   "execution_count": null,
   "metadata": {},
   "outputs": [],
   "source": [
    "local_path='../data/'\n",
    "filename=local_path+'USW00014735_temp_1950-2021_daily.csv'\n",
    "df=pd.read_csv(filename,delimiter=',',skiprows=0)"
   ]
  },
  {
   "cell_type": "code",
   "execution_count": null,
   "metadata": {},
   "outputs": [],
   "source": [
    "df.columns"
   ]
  },
  {
   "cell_type": "markdown",
   "metadata": {},
   "source": [
    "<p style=\"color:gold;background-color:purple;font-size:130%\">\n",
    "<BR>2.3 Working with Albany Airport daily temperature data\n",
    "    <BR><BR>\n",
    "</p>"
   ]
  },
  {
   "cell_type": "markdown",
   "metadata": {},
   "source": [
    "### 2.3.1 First, check that the daily average temperatures are in the expected temperature range by plotting the full time series "
   ]
  },
  {
   "cell_type": "code",
   "execution_count": null,
   "metadata": {},
   "outputs": [],
   "source": [
    "# insert your code\n",
    "# use the introduced Pandas dataframe methods \n",
    "# and apply plt.plot() function (and related matplotlib functions)\n"
   ]
  },
  {
   "cell_type": "markdown",
   "metadata": {},
   "source": [
    "### 2.3.2 Create a time series of the daily maximum temperature data using all March 1st (not all March days only 03/01 dates!) days from 1950 to 2020.\n",
    "        "
   ]
  },
  {
   "cell_type": "markdown",
   "metadata": {},
   "source": [
    "<p style=\"color:black;background-color:lightgreen;font-size:130%\">\n",
    "    <BR>\n",
    "    Tip:  Use the learned query method and adjust the query string to represent the right year range, the right month and day . Make sure, you apply the query to original dataframe in variable df.\n",
    "    <BR>\n",
    "    <BR>\n",
    "</p>"
   ]
  },
  {
   "cell_type": "code",
   "execution_count": null,
   "metadata": {},
   "outputs": [],
   "source": []
  },
  {
   "cell_type": "code",
   "execution_count": null,
   "metadata": {},
   "outputs": [],
   "source": []
  },
  {
   "cell_type": "markdown",
   "metadata": {},
   "source": [
    "### 2.3.3 For the same data create a box-whisker plot\n",
    "(Note: this plot may not always work in case that missing values np.nan are in the data)\n"
   ]
  },
  {
   "cell_type": "code",
   "execution_count": null,
   "metadata": {},
   "outputs": [],
   "source": [
    "# Inform yourself about the plt.boxplot function and the optional argument vert\n"
   ]
  },
  {
   "cell_type": "markdown",
   "metadata": {},
   "source": [
    "### 2.3.4 For the same data create a histogram plot\n",
    "\n"
   ]
  },
  {
   "cell_type": "code",
   "execution_count": null,
   "metadata": {},
   "outputs": [],
   "source": [
    "# Infrom yourself about the function plt.hist and apply it."
   ]
  },
  {
   "cell_type": "markdown",
   "metadata": {},
   "source": [
    "Table 1: Summary statistic average daily temperature for all March temperatures 1950-2020 in Fahrenheit\n",
    "\n",
    "| Month  | Mean |  Std |  Min  |  Max  | \n",
    "|--------|------|------|-------|-------|\n",
    "| Mar    | xx   | xx   |  xx   |  xx |\n",
    "\n"
   ]
  },
  {
   "cell_type": "markdown",
   "metadata": {},
   "source": [
    "<p style=\"color:gold;background-color:purple;font-size:130%\">\n",
    "    <BR>Task 3: Apply your Python skills and create a climatology plot<BR><BR>\n",
    "        \n",
    "The figure below has more information in it than we want. Let's make a cleaner version just for temperatures.\n",
    "        \n",
    "Think about a way to produce a summary graph for the Albany temperature (min, max and daily mean temperatures) climatology **using the years 1981-2010**.\n",
    "\n",
    "Tip: Use if-statements to check if the year value is in the range 1981-2010. Use the month value to branch the code and create a list that contains all daily average temperature values for one calendar month (e.g. January).  Then average the temperatures to obtain a monthly mean climatology. Repeat for all 12 months and save the monthly average vales in a numpy array. \n",
    "\n"
   ]
  },
  {
   "cell_type": "code",
   "execution_count": null,
   "metadata": {},
   "outputs": [],
   "source": [
    "#To give you an example graph:\n",
    "from IPython.display import Image\n",
    "from IPython.core.display import HTML \n",
    "Image(url= \"http://www.albany-ny.climatemps.com/albany-ny-climate-graph.gif\", width=600)"
   ]
  },
  {
   "cell_type": "code",
   "execution_count": null,
   "metadata": {},
   "outputs": [],
   "source": [
    "# another loop is needed \n",
    "# arrays to store the results\n",
    "monthlist=[1,2,3,4,5,6,7,8,9,10,11,12]\n",
    "avgtmean=np.zeros(12)\n",
    "for m in monthlist:\n",
    "    # insert code for monthly average calculation\n"
   ]
  },
  {
   "cell_type": "code",
   "execution_count": null,
   "metadata": {},
   "outputs": [],
   "source": [
    "# example code for creating a climatology plot\n",
    "# \n",
    "#plt.plot(monthlist,avgtmean,color='black',label='daily mean')\n",
    "#plt.title(\"Albany monthly mean climatology 1981-2010\")\n",
    "#plt.ylabel(\"temperature in F\")\n",
    "#plt.xlabel(\"month\")\n",
    "#plt.xticks([1,3,5,7,9,11], ['Jan','Mar','May','Jul','Sep','Nov'])\n",
    "#plt.legend()\n",
    "#plt.show()"
   ]
  },
  {
   "cell_type": "code",
   "execution_count": null,
   "metadata": {},
   "outputs": [],
   "source": []
  },
  {
   "cell_type": "markdown",
   "metadata": {},
   "source": [
    "---\n"
   ]
  }
 ],
 "metadata": {
  "kernelspec": {
   "display_name": "Python 3 August 2021 Environment",
   "language": "python",
   "name": "aug21"
  },
  "language_info": {
   "codemirror_mode": {
    "name": "ipython",
    "version": 3
   },
   "file_extension": ".py",
   "mimetype": "text/x-python",
   "name": "python",
   "nbconvert_exporter": "python",
   "pygments_lexer": "ipython3",
   "version": "3.8.10"
  }
 },
 "nbformat": 4,
 "nbformat_minor": 4
}
