{
 "cells": [
  {
   "cell_type": "markdown",
   "metadata": {},
   "source": [
    "## Supplementary material: Practice while loop and lists"
   ]
  },
  {
   "cell_type": "code",
   "execution_count": null,
   "metadata": {},
   "outputs": [],
   "source": [
    "%matplotlib inline\n",
    "import numpy as np\n",
    "import matplotlib.pylab as plt\n",
    "\n",
    "# we define here a mathematical transform for the coordinates of a \n",
    "# point in the x-y plane\n",
    "# Details we don't care about, we just use it to illustrate the \n",
    "# use of a while loop structure for repeated execution\n",
    "\n",
    "def mythmath(xin,yin,maxiter=16):\n",
    "    \"\"\"Version with real numbers equations instead of complex numbers\"\"\"\n",
    "    xout=x**2-y**2\n",
    "    yout=2*x*y\n",
    "    return (xout,yout)\n"
   ]
  },
  {
   "cell_type": "markdown",
   "metadata": {},
   "source": [
    "### Test the behavior of the while loop\n",
    "\n",
    "\n",
    "#### Use the following starting points for x0 and y0:\n",
    "|x0 | y0 |\n",
    "|----|----|\n",
    "1.0|  0\n",
    "-1.0 | 0.5\n",
    "-0.9 | 0.5 \n",
    "-0.91 | 0.25\n",
    "-0.92 | 0.18"
   ]
  },
  {
   "cell_type": "code",
   "execution_count": null,
   "metadata": {},
   "outputs": [],
   "source": [
    "################################################################\n",
    "# Users, please specify a pair of starting coordinates in x-y plane\n",
    "# point in the x-y plane that we want to analyze \n",
    "################################################################\n",
    "\n",
    "x0=float(input(\"enter the start coordinate x0\"))\n",
    "y0=float(input(\"enter the start coordinate y0\"))\n",
    "\n",
    "\n",
    "# define maximum iterations for the while loop\n",
    "max_iteration=16\n",
    "\n",
    "\n",
    "#################################################################\n",
    "# Main part\n",
    "# with a mysterious mathematical iterative calculation\n",
    "#################################################################\n",
    "\n",
    "n=0\n",
    "x=x0\n",
    "y=y0\n",
    "d=np.sqrt(x**2+y**2)\n",
    "print (\"iteration, start point x, y, and distance from origin:\")\n",
    "print (n,x,y,d)\n",
    "\n",
    "xlist=[x] # initialize list for the x coordinates\n",
    "ylist=[y] # initialize list for the y coordinates\n",
    "\n",
    "while n < max_iteration:\n",
    "    # repeated application of math calculations\n",
    "    x,y=mythmath(x,y)\n",
    "    x=x+x0\n",
    "    y=y+y0\n",
    "    d=d=np.sqrt(x**2+y**2)\n",
    "    print (n,x,y,d)\n",
    "    xlist.append(x)\n",
    "    ylist.append(y)\n",
    "    if d > 2:\n",
    "        print(80*\"-\")\n",
    "        print(\"after \"+str(n)+\" iterations our transformed point is too far away from origin\")\n",
    "        break # interrupts the loop\n",
    "    n=n+1\n",
    "\n",
    "    "
   ]
  },
  {
   "cell_type": "code",
   "execution_count": null,
   "metadata": {},
   "outputs": [],
   "source": [
    "fig=plt.figure(figsize=[6,6])\n",
    "# draw a circle\n",
    "xhelp=np.arange(-2,2,0.01)\n",
    "xc=2*np.sin(np.pi*xhelp/4)\n",
    "yc=2*np.cos(np.pi*xhelp/4)\n",
    "\n",
    "plt.plot(xc,yc,'gray')\n",
    "plt.plot(xc,-1*yc,'gray')\n",
    "plt.plot(xlist,ylist)\n",
    "plt.plot(xlist,ylist,'x',label='iterated x,y coordinate updates')\n",
    "plt.plot(x0,y0,'o',label='starting point')\n",
    "\n",
    "plt.xlim([-4,4])\n",
    "plt.ylim([-4,4])\n",
    "plt.legend()\n",
    "plt.grid()\n",
    "plt.show()"
   ]
  },
  {
   "cell_type": "code",
   "execution_count": null,
   "metadata": {},
   "outputs": [],
   "source": []
  }
 ],
 "metadata": {
  "kernelspec": {
   "display_name": "Python 3 August 2021 Environment",
   "language": "python",
   "name": "aug21"
  },
  "language_info": {
   "codemirror_mode": {
    "name": "ipython",
    "version": 3
   },
   "file_extension": ".py",
   "mimetype": "text/x-python",
   "name": "python",
   "nbconvert_exporter": "python",
   "pygments_lexer": "ipython3",
   "version": "3.8.10"
  }
 },
 "nbformat": 4,
 "nbformat_minor": 4
}
