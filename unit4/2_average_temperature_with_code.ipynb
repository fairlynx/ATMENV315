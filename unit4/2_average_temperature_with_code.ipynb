{
 "cells": [
  {
   "cell_type": "markdown",
   "metadata": {},
   "source": [
    "# Code development with flow control: Monthly mean temperature calculation -Part II\n",
    "\n",
    "In this activity we want to put the attention to the problem of calculating the average.\n",
    "We have all the 'ingredients' now available to load data from a spreadsheet (comma-separated CSV file format).\n",
    "**We give you data files with typical problems in the data: \n",
    "\n",
    "The daily mean temperatures from Albany airport now have two issues:\n",
    "\n",
    "- an outlier value (due to some errors in the reporting of the data)\n",
    "- and missing values are filled with a 'dummy' value -9999 (outside the physical temperature range)\n",
    "\n",
    "### Your tasks: Find Python code solutions\n",
    "\n",
    "- remove all fill values ___-9999___ by replacing them with ___np.nan___ in the array\n",
    "- detect the outlier with help of Boolean expression and filter your data to exclude the outlier. \n",
    "\n"
   ]
  },
  {
   "cell_type": "code",
   "execution_count": 9,
   "metadata": {},
   "outputs": [],
   "source": [
    "%matplotlib inline\n",
    "# we import our standard suppport packages\n",
    "import matplotlib.pyplot as plt\n",
    "import numpy as np\n",
    "%matplotlib inline"
   ]
  },
  {
   "cell_type": "markdown",
   "metadata": {},
   "source": [
    "## 1. Getting the data files\n",
    "\n",
    "\n",
    "### 1.1 Goto to Github and download the file KALB_daily_tavg_jan2015_flawed.csv\n",
    "\n",
    "The data files are [located in the folder data on GitHub](https://github.com/oet808/ATMENV315/tree/master/data)\n",
    "\n",
    "\n",
    "\n",
    "\n",
    "### 1.2 Upload the downloaded data file to your Jupyterlab data folder\n",
    "Check for the file name extension. It must end with __.csv__.\n",
    " "
   ]
  },
  {
   "cell_type": "markdown",
   "metadata": {},
   "source": []
  },
  {
   "cell_type": "code",
   "execution_count": 2,
   "metadata": {},
   "outputs": [
    {
     "name": "stdout",
     "output_type": "stream",
     "text": [
      "working with file ../data/KALB_daily_tavg_jan2015_flawed.csv\n"
     ]
    }
   ],
   "source": [
    "##############################################\n",
    "# User of the script should make changes here\n",
    "##############################################\n",
    "# This notebook is located inside unit3 \n",
    "# here we use the '../' in the path name to indicate that the data directory is one up in the parent directory.\n",
    "path=\"../data/\"\n",
    "filename=path+\"KALB_daily_tavg_jan2015_flawed.csv\"\n",
    "print(\"working with file \"+filename)\n"
   ]
  },
  {
   "cell_type": "markdown",
   "metadata": {},
   "source": [
    "### 2.2 Load the data and assign them to variables \n",
    "\n"
   ]
  },
  {
   "cell_type": "code",
   "execution_count": 3,
   "metadata": {},
   "outputs": [
    {
     "data": {
      "text/plain": [
       "numpy.ndarray"
      ]
     },
     "execution_count": 3,
     "metadata": {},
     "output_type": "execute_result"
    }
   ],
   "source": [
    "import pandas as pd\n",
    "\n",
    "df=pd.read_csv(filename,names=['day','temperature'])\n",
    "day=df['day'].values\n",
    "temp=df['temperature'].values\n",
    "type(temp)\n"
   ]
  },
  {
   "cell_type": "markdown",
   "metadata": {},
   "source": [
    "## 3 Data screening for outliers and fill values \n",
    "\n",
    "### 3.1 Plot of the temperature data that you have read from the file\n"
   ]
  },
  {
   "cell_type": "code",
   "execution_count": 4,
   "metadata": {},
   "outputs": [
    {
     "data": {
      "image/png": "[encoded data removed]",
      "text/plain": [
       "<Figure size 720x288 with 1 Axes>"
      ]
     },
     "metadata": {
      "needs_background": "light"
     },
     "output_type": "display_data"
    }
   ],
   "source": [
    "fig,ax=plt.subplots(1,1,figsize=[10,4])\n",
    "ax.plot(day,temp,'+')\n",
    "fig.show()\n"
   ]
  },
  {
   "cell_type": "markdown",
   "metadata": {},
   "source": [
    "### 3.2 Filter the temperature data / replace fill values with np.nan\n",
    "\n",
    "- Option a) We drop the outlier value (do not append to the list that we create)\n",
    "- Option b) We replace the outlier value with a np.nan value\n",
    "\n",
    "Here we use the first option and fill in  ___np.nan___."
   ]
  },
  {
   "cell_type": "code",
   "execution_count": 5,
   "metadata": {},
   "outputs": [
    {
     "name": "stdout",
     "output_type": "stream",
     "text": [
      "25\n",
      "32\n",
      "27\n",
      "39\n",
      "27\n",
      "13\n",
      "9\n",
      "7\n",
      "20\n",
      "12\n",
      "81\n",
      "32\n",
      "15\n",
      "15\n",
      "21\n",
      "11\n",
      "32\n",
      "34\n",
      "24\n",
      "16\n",
      "25\n",
      "25\n",
      "28\n",
      "25\n",
      "14\n",
      "14\n",
      "13\n",
      "13\n",
      "19\n",
      "7\n",
      "number of good data: 30\n",
      "number of fill values found:1\n",
      "total values processed: 31\n"
     ]
    }
   ],
   "source": [
    "bad=0 # count how many fill value ('bad' data) we have\n",
    "good=0 # count how many good data we have\n",
    "threshold=-9999\n",
    "day_list=[]\n",
    "temp_list=[]\n",
    "# begin of loop\n",
    "i=0 # loop index counter\n",
    "for value in temp:\n",
    "    if value > threshold:\n",
    "        good=good+1 \n",
    "        print(value)\n",
    "        temp_list.append( value )\n",
    "        day_list.append( day[i] )\n",
    "    else:\n",
    "        bad=bad+1\n",
    "        # we choose the option to put np.nan into the list\n",
    "        temp_list.append( np.nan)\n",
    "        day_list.append(day[i])\n",
    "    i=i+1\n",
    "    # last line of loop code block\n",
    "# after for-loop\n",
    "print(\"number of good data: \"+str(good))\n",
    "print(\"number of fill values found:\"+str(bad))\n",
    "print(\"total values processed: \"+str(i))\n",
    "\n",
    "# reassign temp and day\n",
    "# this allows us to copy the code and make just minor changes \n",
    "# for the next filtering task\n",
    "\n",
    "temp=np.array(temp_list)\n",
    "day=np.array(day_list)\n",
    "\n"
   ]
  },
  {
   "cell_type": "code",
   "execution_count": 6,
   "metadata": {},
   "outputs": [
    {
     "data": {
      "image/png": "[encoded data removed]",
      "text/plain": [
       "<Figure size 720x288 with 1 Axes>"
      ]
     },
     "metadata": {
      "needs_background": "light"
     },
     "output_type": "display_data"
    }
   ],
   "source": [
    "fig,ax=plt.subplots(1,1,figsize=[10,4])\n",
    "ax.bar(day,temp)\n",
    "fig.show()\n"
   ]
  },
  {
   "cell_type": "markdown",
   "metadata": {},
   "source": [
    "### 3.3 Exclude the outlier temperature value\n",
    "\n",
    "- Option a) We drop the outlier value (do not append to the list that we create)\n",
    "- Option b) We replace the outlier value with a np.nan value\n",
    "\n",
    "Here we use the first option and fill in  ___np.nan___."
   ]
  },
  {
   "cell_type": "code",
   "execution_count": 7,
   "metadata": {},
   "outputs": [
    {
     "name": "stdout",
     "output_type": "stream",
     "text": [
      "25.0\n",
      "32.0\n",
      "27.0\n",
      "39.0\n",
      "27.0\n",
      "13.0\n",
      "9.0\n",
      "7.0\n",
      "20.0\n",
      "12.0\n",
      "32.0\n",
      "15.0\n",
      "15.0\n",
      "21.0\n",
      "11.0\n",
      "32.0\n",
      "34.0\n",
      "24.0\n",
      "16.0\n",
      "25.0\n",
      "25.0\n",
      "28.0\n",
      "25.0\n",
      "14.0\n",
      "14.0\n",
      "13.0\n",
      "13.0\n",
      "19.0\n",
      "7.0\n",
      "number of good data: 29\n",
      "number of outlier temp values found:2\n",
      "total values processed: 31\n"
     ]
    }
   ],
   "source": [
    "bad=0 # count how many temp values exceed 80 F\n",
    "good=0 # count how many good data we have\n",
    "threshold=80.0 # F\n",
    "day_list=[]\n",
    "temp_list=[]\n",
    "# begin of loop\n",
    "i=0 # loop index counter\n",
    "for value in temp:\n",
    "    if value < threshold:\n",
    "        good=good+1 \n",
    "        print(value)\n",
    "        day_list.append( day[i] )\n",
    "        temp_list.append( value )\n",
    "    else:\n",
    "        bad=bad+1\n",
    "        # we choose the option to put np.nan into the list\n",
    "        temp_list.append( np.nan)\n",
    "        day_list.append(day[i])\n",
    "    i=i+1\n",
    "    # last line of loop code block\n",
    "# after for-loop\n",
    "print(\"number of good data: \"+str(good))\n",
    "print(\"number of outlier temp values found:\"+str(bad))\n",
    "print(\"total values processed: \"+str(i))\n",
    "temp=np.array(temp_list)\n",
    "day=np.array(day_list)"
   ]
  },
  {
   "cell_type": "code",
   "execution_count": 8,
   "metadata": {},
   "outputs": [
    {
     "data": {
      "image/png": "[encoded data removed]",
      "text/plain": [
       "<Figure size 720x288 with 1 Axes>"
      ]
     },
     "metadata": {
      "needs_background": "light"
     },
     "output_type": "display_data"
    }
   ],
   "source": [
    "fig,ax=plt.subplots(1,1,figsize=[10,4])\n",
    "ax.bar(day,temp)\n",
    "fig.show()"
   ]
  },
  {
   "cell_type": "markdown",
   "metadata": {},
   "source": [
    "### Tip: \n",
    "\n",
    "We now begin to make use of what the developers of the Numpy package can offer us\n",
    "for writing efficient (and computationally fast) code. We can use the function\n",
    "___np.mean()___ and ___np.nanmean()___ with an numpy array as an argument to calculate the mean value.\n",
    "Remember that you can get help on the functions with ___help(np.mean)___ and ___help(np.nanmean)___.\n"
   ]
  },
  {
   "cell_type": "code",
   "execution_count": null,
   "metadata": {},
   "outputs": [],
   "source": []
  },
  {
   "cell_type": "markdown",
   "metadata": {},
   "source": [
    "---\n",
    "## Suggested Reading:\n",
    "    "
   ]
  },
  {
   "cell_type": "markdown",
   "metadata": {},
   "source": [
    "- E-book \"How to Think Like a Computer Scientist - Learning with Python\" (CSPY)\n",
    "- [CSPY 5 Conditionals ...](https://greenteapress.com/thinkpython2/html/thinkpython2006.html)           \n",
    "(https://greenteapress.com/thinkpython2/html/thinkpython2011.html)\n",
    "- Python EU course pages:\n",
    "   - [conditional statements](https://python-course.eu/python-tutorial/conditional-statements.php)\n",
    "- PDF document with introduction to Numpy (Blackboard course content)\n"
   ]
  },
  {
   "cell_type": "code",
   "execution_count": null,
   "metadata": {},
   "outputs": [],
   "source": []
  }
 ],
 "metadata": {
  "kernelspec": {
   "display_name": "Python 3 August 2021 Environment",
   "language": "python",
   "name": "aug21"
  },
  "language_info": {
   "codemirror_mode": {
    "name": "ipython",
    "version": 3
   },
   "file_extension": ".py",
   "mimetype": "text/x-python",
   "name": "python",
   "nbconvert_exporter": "python",
   "pygments_lexer": "ipython3",
   "version": "3.8.10"
  }
 },
 "nbformat": 4,
 "nbformat_minor": 4
}
