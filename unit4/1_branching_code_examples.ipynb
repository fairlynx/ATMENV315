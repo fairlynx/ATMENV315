{
 "cells": [
  {
   "cell_type": "markdown",
   "metadata": {},
   "source": [
    "## Branching code in Python with  if - else \n",
    "\n",
    "The ___if-else___ statement allows us to make the execution of some parts of the \n",
    "code depending on the result of a so-called _logical expression_ or _Boolean* expression_. \n",
    "\n",
    "### Background\n",
    "\n",
    "Boole was mathematician who had great influence in the development of theoretical foundations of logic.\n",
    "\n",
    "<img src=\"https://cdn.britannica.com/68/6768-050-A7F2D15C/engraving-George-Boole.jpg\" width=200/>\n",
    "\n",
    "##### _Portrait of George Boole (copyright Encyclopædia Britannica)]_\n",
    "\n",
    "[George Boole (1815-1864)](https://www.britannica.com/biography/George-Boole)\n",
    "\n",
    "---"
   ]
  },
  {
   "cell_type": "code",
   "execution_count": 7,
   "metadata": {},
   "outputs": [],
   "source": [
    "import matplotlib.pyplot as plt\n",
    "import numpy as np\n",
    "import time\n",
    "%matplotlib inline"
   ]
  },
  {
   "cell_type": "markdown",
   "metadata": {},
   "source": [
    "### Example: Bisection search method for finding the square root of a number\n",
    "This is from the J.V Guttag's book chapter 3.3.\n",
    "Compared with the code in the book here we use lists to store the calculated data values and plot them below in a graph.\n",
    "\n",
    "\n",
    "\n",
    "Here we use the example value 25, but any real valued number >0 works."
   ]
  },
  {
   "cell_type": "code",
   "execution_count": 8,
   "metadata": {},
   "outputs": [
    {
     "name": "stdout",
     "output_type": "stream",
     "text": [
      "iteration 0\n",
      "lower and upper  bounds of search range: 0 - 25\n",
      "xguess = 12.5  and xguess**2 = 156.25\n",
      "guess was too high, lower upper bounds xmax\n"
     ]
    }
   ],
   "source": [
    "#  we want to know the square-root value of y\n",
    "y=25\n",
    "\n",
    "# guess values for the range where the solution is in.\n",
    "xmin=0\n",
    "xmax=y \n",
    "\n",
    "\n",
    "# first guess for the square root of y\n",
    "i=0\n",
    "\n",
    "print(\"iteration \"+ str(i))\n",
    "print(\"lower and upper  bounds of search range: \"+str(xmin)+\" - \"+str(xmax))\n",
    "\n",
    "xguess= (xmin+xmax)/2\n",
    "yguess= xguess**2\n",
    "\n",
    "print(\"xguess = \"+str(xguess)+\"  and xguess**2 = \"+str(yguess))\n",
    "\n",
    "if yguess>y:\n",
    "    print(\"guess was too high, lower upper bounds xmax\")\n",
    "    xmax=xguess\n",
    "else:\n",
    "    print(\"guess was too low, lower upper bounds xmax\")\n",
    "    xmin=xguess\n"
   ]
  },
  {
   "cell_type": "code",
   "execution_count": 9,
   "metadata": {},
   "outputs": [
    {
     "name": "stdout",
     "output_type": "stream",
     "text": [
      "iteration 1\n",
      "lower and upper  bounds of search range: 0 - 12.5\n",
      "xguess = 6.25  and xguess**2 = 39.0625\n",
      "guess was too high, lower upper bounds xmax\n"
     ]
    }
   ],
   "source": [
    "# next iteration\n",
    "i=i+1\n",
    "print(\"iteration \"+ str(i))\n",
    "print(\"lower and upper  bounds of search range: \"+str(xmin)+\" - \"+str(xmax))\n",
    "xguess= (xmin+xmax)/2\n",
    "yguess= xguess**2\n",
    "\n",
    "print(\"xguess = \"+str(xguess)+\"  and xguess**2 = \"+str(yguess))\n",
    "\n",
    "if yguess>y:\n",
    "    print(\"guess was too high, lower upper bounds xmax\")\n",
    "    xmax=xguess\n",
    "else:\n",
    "    print(\"guess was too low, lower upper bounds xmax\")\n",
    "    xmin=xguess\n",
    "\n"
   ]
  },
  {
   "cell_type": "code",
   "execution_count": 10,
   "metadata": {},
   "outputs": [
    {
     "name": "stdout",
     "output_type": "stream",
     "text": [
      "iteration 2\n",
      "lower and upper  bounds of search range: 0 - 6.25\n",
      "xguess = 3.125  and xguess**2 = 9.765625\n",
      "guess was too low => increase the  lower bounds xmin\n"
     ]
    }
   ],
   "source": [
    "# next iteration\n",
    "i=i+1\n",
    "print(\"iteration \"+ str(i))\n",
    "print(\"lower and upper  bounds of search range: \"+str(xmin)+\" - \"+str(xmax))\n",
    "xguess= (xmin+xmax)/2\n",
    "yguess= xguess**2\n",
    "\n",
    "print(\"xguess = \"+str(xguess)+\"  and xguess**2 = \"+str(yguess))\n",
    "\n",
    "if yguess>y:\n",
    "    print(\"guess was too hig => reduce the upper bounds xmax\")\n",
    "    xmax=xguess\n",
    "else:\n",
    "    print(\"guess was too low => increase the  lower bounds xmin\")\n",
    "    xmin=xguess\n",
    "\n"
   ]
  },
  {
   "cell_type": "code",
   "execution_count": 11,
   "metadata": {},
   "outputs": [
    {
     "name": "stdout",
     "output_type": "stream",
     "text": [
      "iteration 3\n",
      "lower and upper  bounds of search range: 3.125 - 6.25\n",
      "xguess = 4.6875  and xguess**2 = 21.97265625\n",
      "guess was too low => increase the  lower bounds xmin\n"
     ]
    }
   ],
   "source": [
    "# next iteration\n",
    "i=i+1\n",
    "print(\"iteration \"+ str(i))\n",
    "print(\"lower and upper  bounds of search range: \"+str(xmin)+\" - \"+str(xmax))\n",
    "xguess= (xmin+xmax)/2\n",
    "yguess= xguess**2\n",
    "\n",
    "print(\"xguess = \"+str(xguess)+\"  and xguess**2 = \"+str(yguess))\n",
    "\n",
    "if yguess>y:\n",
    "    print(\"guess was too hig => reduce the upper bounds xmax\")\n",
    "    xmax=xguess\n",
    "else:\n",
    "    print(\"guess was too low => increase the  lower bounds xmin\")\n",
    "    xmin=xguess\n"
   ]
  },
  {
   "cell_type": "markdown",
   "metadata": {},
   "source": [
    "### You see here an opportunity for a while loop structure.\n",
    "\n",
    "We can repeat this bisection process. However, at one point we must accept the approximative solultion. That's where the tolerance of the error comes in.\n",
    "A small error value ___epsilon___ is acceptable. How small depends on us and the \n",
    "numerical problem we deal with.\n",
    "\n",
    "\n",
    "\n"
   ]
  },
  {
   "cell_type": "code",
   "execution_count": 12,
   "metadata": {},
   "outputs": [
    {
     "name": "stdout",
     "output_type": "stream",
     "text": [
      "iteration 1\n",
      "lower and upper  bounds of search range: 0 - 25\n",
      "xguess = 12.5  and xguess**2 = 156.25\n",
      "guess was too high, lower upper bounds xmax\n",
      "iteration 2\n",
      "lower and upper  bounds of search range: 0 - 12.5\n",
      "xguess = 6.25  and xguess**2 = 39.0625\n",
      "guess was too high, lower upper bounds xmax\n",
      "iteration 3\n",
      "lower and upper  bounds of search range: 0 - 6.25\n",
      "xguess = 3.125  and xguess**2 = 9.765625\n",
      "guess was too low, lower upper bounds xmax\n",
      "iteration 4\n",
      "lower and upper  bounds of search range: 3.125 - 6.25\n",
      "xguess = 4.6875  and xguess**2 = 21.97265625\n",
      "guess was too low, lower upper bounds xmax\n",
      "iteration 5\n",
      "lower and upper  bounds of search range: 4.6875 - 6.25\n",
      "xguess = 5.46875  and xguess**2 = 29.9072265625\n",
      "guess was too high, lower upper bounds xmax\n",
      "iteration 6\n",
      "lower and upper  bounds of search range: 4.6875 - 5.46875\n",
      "xguess = 5.078125  and xguess**2 = 25.787353515625\n",
      "guess was too high, lower upper bounds xmax\n",
      "iteration 7\n",
      "lower and upper  bounds of search range: 4.6875 - 5.078125\n",
      "xguess = 4.8828125  and xguess**2 = 23.84185791015625\n",
      "guess was too low, lower upper bounds xmax\n",
      "iteration 8\n",
      "lower and upper  bounds of search range: 4.8828125 - 5.078125\n",
      "xguess = 4.98046875  and xguess**2 = 24.805068969726562\n",
      "guess was too low, lower upper bounds xmax\n",
      "iteration 9\n",
      "lower and upper  bounds of search range: 4.98046875 - 5.078125\n",
      "xguess = 5.029296875  and xguess**2 = 25.293827056884766\n",
      "guess was too high, lower upper bounds xmax\n",
      "iteration 10\n",
      "lower and upper  bounds of search range: 4.98046875 - 5.029296875\n",
      "xguess = 5.0048828125  and xguess**2 = 25.04885196685791\n",
      "guess was too high, lower upper bounds xmax\n",
      "iteration 11\n",
      "lower and upper  bounds of search range: 4.98046875 - 5.0048828125\n",
      "xguess = 4.99267578125  and xguess**2 = 24.926811456680298\n",
      "guess was too low, lower upper bounds xmax\n",
      "iteration 12\n",
      "lower and upper  bounds of search range: 4.99267578125 - 5.0048828125\n",
      "xguess = 4.998779296875  and xguess**2 = 24.98779445886612\n",
      "guess was too low, lower upper bounds xmax\n",
      "iteration 13\n",
      "lower and upper  bounds of search range: 4.998779296875 - 5.0048828125\n",
      "xguess = 5.0018310546875  and xguess**2 = 25.01831389963627\n",
      "guess was too high, lower upper bounds xmax\n",
      "iteration 14\n",
      "lower and upper  bounds of search range: 4.998779296875 - 5.0018310546875\n",
      "xguess = 5.00030517578125  and xguess**2 = 25.003051850944757\n",
      "guess was too high, lower upper bounds xmax\n",
      "============================================================\n",
      "approximate solution square root of y=25\n",
      "yguess: 25.003051850944757\n",
      "error: -0.0030518509447574615\n",
      "iterations 14\n"
     ]
    }
   ],
   "source": [
    "# error tolerance \n",
    "epsilon=0.01\n",
    "\n",
    "#  we want to know the square-root value of y\n",
    "y=25\n",
    "\n",
    "# guess values for the range where the solution is in.\n",
    "xmin=0\n",
    "xmax=y \n",
    "\n",
    "\n",
    "# first guess for the square root of y\n",
    "i=0\n",
    "\n",
    "# start loop and use Boolean expression to check the \n",
    "# tolerance error for the approximative solution\n",
    "xguess=xguess= (xmin+xmax)/2\n",
    "yguess= xguess**2 # start with this is okay \n",
    "\n",
    "\n",
    "# for data visualization\n",
    "\n",
    "xhelp=[xguess]\n",
    "yhelp=[yguess]\n",
    "while np.abs(y-yguess) > epsilon:\n",
    "    i=i+1\n",
    "    print(\"iteration \"+ str(i))\n",
    "    print(\"lower and upper  bounds of search range: \"+str(xmin)+\" - \"+str(xmax))\n",
    "    xguess= (xmin+xmax)/2\n",
    "    yguess= xguess**2\n",
    "    xhelp.append(xguess)\n",
    "    yhelp.append(yguess)\n",
    "    print(\"xguess = \"+str(xguess)+\"  and xguess**2 = \"+str(yguess))\n",
    "\n",
    "    if yguess>y:\n",
    "        print(\"guess was too high, lower upper bounds xmax\")\n",
    "        xmax=xguess\n",
    "    else:\n",
    "        print(\"guess was too low, lower upper bounds xmax\")\n",
    "        xmin=xguess\n",
    "print(60*\"=\")\n",
    "print(\"approximate solution square root of y=\"+str(25))\n",
    "print(\"yguess: \"+str(yguess))\n",
    "print(\"error: \"+str(y-yguess))\n",
    "print(\"iterations \"+str(i))\n"
   ]
  },
  {
   "cell_type": "markdown",
   "metadata": {},
   "source": [
    "### Plot the sequence of approximations in x-y plot\n"
   ]
  },
  {
   "cell_type": "code",
   "execution_count": 13,
   "metadata": {},
   "outputs": [
    {
     "data": {
      "image/png": "[encoded data removed]",
      "text/plain": [
       "<Figure size 600x400 with 1 Axes>"
      ]
     },
     "metadata": {},
     "output_type": "display_data"
    }
   ],
   "source": [
    "fig,ax=plt.subplots(1,1,figsize=(6,4))\n",
    "ax.plot(xhelp,yhelp,marker='o',markersize=10,color='lightgreen',label='guesses')\n",
    "ax.set_xlabel('x (square root guess value)')\n",
    "ax.set_ylabel('square of x guess values')\n",
    "ax.plot(np.sqrt(y),y,'x',color='blue',label='square root solution')\n",
    "ax.legend()\n",
    "fig.show()"
   ]
  },
  {
   "cell_type": "markdown",
   "metadata": {},
   "source": [
    "### Example Newtown-Raphson method for finding the square root of a number\n",
    "\n",
    "This is from the J.V Guttag's book chapter 3.5.\n",
    "Compared with the code in the book here we use lists to store the calculated data values and plot them below in a graph.\n"
   ]
  },
  {
   "cell_type": "code",
   "execution_count": 14,
   "metadata": {},
   "outputs": [
    {
     "name": "stdout",
     "output_type": "stream",
     "text": [
      "iteration 1    guess= 7.25    guess**2=52.5625\n",
      "iteration 2    guess= 5.349137931034482    guess**2=28.61327660523186\n",
      "iteration 3    guess= 5.011394106532552    guess**2=25.114070890989193\n",
      "iteration 4    guess= 5.000012953048684    guess**2=25.000129530654625\n"
     ]
    }
   ],
   "source": [
    "\n",
    "\n",
    "# approximation tolerance (when is oru solution numerically good enough)\n",
    "epsilon=0.001\n",
    "#  we want to know the square-root value of y\n",
    "y=25\n",
    "\n",
    "# guess is our x approximate value for x\n",
    "guess=y/2.0\n",
    "xlist=[ ]\n",
    "ylist=[ ]\n",
    "labels= [ ] \n",
    "i=0\n",
    "while abs(guess**2 -y) >= epsilon:\n",
    "    i=i+1\n",
    "    guess=guess - ((guess**2 - y)/(2*guess))\n",
    "    xlist.append(guess)\n",
    "    ylist.append(guess**2)\n",
    "    labels.append(str(i))\n",
    "    print (\"iteration \"+str(i)+ \n",
    "           \"    guess= \"+str(guess)+\n",
    "           \"    guess**2=\"+str(guess**2))"
   ]
  },
  {
   "cell_type": "markdown",
   "metadata": {},
   "source": [
    "### Visualization of the method"
   ]
  },
  {
   "cell_type": "code",
   "execution_count": 9,
   "metadata": {},
   "outputs": [
    {
     "data": {
      "image/png": "[encoded data removed]",
      "text/plain": [
       "<Figure size 600x400 with 1 Axes>"
      ]
     },
     "metadata": {},
     "output_type": "display_data"
    }
   ],
   "source": [
    "fig,ax=plt.subplots(1,1,figsize=(6,4))\n",
    "ax.plot(xlist,ylist,marker='s',markersize=10,color='lightgreen')\n",
    "i=0\n",
    "for text in labels:\n",
    "    ax.text(xlist[i],ylist[i],labels[i],fontsize=12,\n",
    "             horizontalalignment='center',\n",
    "             verticalalignment='center')\n",
    "    i=i+1\n",
    "\n",
    "ax.set_xlabel('x (square root guess value)')\n",
    "ax.set_ylabel('square of x guess values')\n",
    "ax.plot(np.sqrt(y),y,'x',color='blue',label='square root solution')\n",
    "ax.legend()\n",
    "fig.show()"
   ]
  },
  {
   "cell_type": "code",
   "execution_count": null,
   "metadata": {},
   "outputs": [],
   "source": []
  }
 ],
 "metadata": {
  "kernelspec": {
   "display_name": "Python 3 August 2022 Environment",
   "language": "python",
   "name": "aug22"
  },
  "language_info": {
   "codemirror_mode": {
    "name": "ipython",
    "version": 3
   },
   "file_extension": ".py",
   "mimetype": "text/x-python",
   "name": "python",
   "nbconvert_exporter": "python",
   "pygments_lexer": "ipython3",
   "version": "3.10.5"
  }
 },
 "nbformat": 4,
 "nbformat_minor": 4
}
