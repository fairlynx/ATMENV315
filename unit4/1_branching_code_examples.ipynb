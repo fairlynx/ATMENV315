{
 "cells": [
  {
   "cell_type": "markdown",
   "metadata": {},
   "source": [
    "## Branching code in Python with  if - else \n",
    "\n",
    "The if else allows us to make the execution of some parts of the script depending on the result of a so-called _logical expression_ or _Boolean* expression_. \n",
    "\n",
    "* [George Boole (1815-1864)](https://www.britannica.com/biography/George-Boole)"
   ]
  },
  {
   "cell_type": "code",
   "execution_count": 1,
   "metadata": {},
   "outputs": [
    {
     "name": "stdout",
     "output_type": "stream",
     "text": [
      "0.1 is not greater than 0.125\n",
      "==============================\n",
      "done\n"
     ]
    }
   ],
   "source": [
    "# code branching with if else\n",
    "x=0.1\n",
    "y=2**(-1)-2**(-2)-2**(-3)\n",
    "if x>y:\n",
    "    print (str(x)+\" is greater than \"+str(y))\n",
    "else:\n",
    "    print (str(x)+\" is not greater than \" +str(y))\n",
    "print (\"=\"*30)\n",
    "print (\"done\")\n",
    "\n"
   ]
  },
  {
   "cell_type": "code",
   "execution_count": 2,
   "metadata": {},
   "outputs": [
    {
     "name": "stdout",
     "output_type": "stream",
     "text": [
      "iteration -1 y=0.5\n",
      "iteration -2 y=0.25\n",
      "iteration -3 y=0.125\n",
      "iteration -4 y=0.0625\n",
      "iteration -5 y=0.09375\n",
      "Approximated x=0.1 within allowed tolerance range of 0.01\n"
     ]
    }
   ],
   "source": [
    "import time \n",
    "x=0.1\n",
    "\n",
    "\n",
    "\n",
    "n=0\n",
    "y=2**n\n",
    "epsilon=1/100\n",
    "while abs(y-x)>epsilon:\n",
    "    n=n-1\n",
    "    if (x>y):\n",
    "        y=y+2**n\n",
    "    else:\n",
    "        y=y-2**n\n",
    "    print (\"iteration \"+str(n)+\" y=\"+str(y))\n",
    "    time.sleep(1)\n",
    "print (\"Approximated x=\"+str(x)+\" within allowed tolerance range of \"+str(epsilon))\n",
    "\n",
    "    "
   ]
  },
  {
   "cell_type": "markdown",
   "metadata": {},
   "source": [
    "### Example Newtown-Raphson method for finding the square root of a number\n",
    "\n",
    "This is from the J.V Guttag's book chapter 3.5.\n",
    "Compared with the code in the book here we use lists to store the calculated data values\n",
    "and plot them below in a graph.\n"
   ]
  },
  {
   "cell_type": "code",
   "execution_count": 3,
   "metadata": {},
   "outputs": [
    {
     "name": "stdout",
     "output_type": "stream",
     "text": [
      "iteration 1    guess= 7.0    guess**2=49.0\n",
      "iteration 2    guess= 5.214285714285714    guess**2=27.18877551020408\n",
      "iteration 3    guess= 4.908512720156556    guess**2=24.09349712393871\n",
      "iteration 4    guess= 4.8989887432139305    guess**2=24.000090706136806\n"
     ]
    }
   ],
   "source": [
    "# Find the square root of 24\n",
    "# in other words find a number x such that x**-24=0\n",
    "# in general find an number x for a given y so that x**2-y close to zero\n",
    "# (approximately)\n",
    "\n",
    "epsilon=0.01\n",
    "y=24\n",
    "# guess is our x approximate value for x\n",
    "guess=y/2.0\n",
    "xlist=[ ]\n",
    "ylist=[ ]\n",
    "labels= [ ] \n",
    "i=0\n",
    "while abs(guess**2 -y) >= epsilon:\n",
    "    i=i+1\n",
    "    guess=guess - ((guess**2 - y)/(2*guess))\n",
    "    xlist.append(guess)\n",
    "    ylist.append(guess**2)\n",
    "    labels.append(str(i))\n",
    "    print (\"iteration \"+str(i)+ \n",
    "           \"    guess= \"+str(guess)+\n",
    "           \"    guess**2=\"+str(guess**2))"
   ]
  },
  {
   "cell_type": "markdown",
   "metadata": {},
   "source": [
    "### Visualization of the method"
   ]
  },
  {
   "cell_type": "code",
   "execution_count": 4,
   "metadata": {},
   "outputs": [],
   "source": [
    "%matplotlib inline"
   ]
  },
  {
   "cell_type": "code",
   "execution_count": 5,
   "metadata": {},
   "outputs": [
    {
     "data": {
      "image/png": "[encoded data removed]",
      "text/plain": [
       "<Figure size 432x288 with 1 Axes>"
      ]
     },
     "metadata": {},
     "output_type": "display_data"
    }
   ],
   "source": [
    "import pylab as plt\n",
    "import numpy as np\n",
    "\n",
    "plt.plot(xlist,ylist,marker='s',markersize=10,color='red')\n",
    "i=0\n",
    "for text in labels:\n",
    "    plt.text(xlist[i],ylist[i],labels[i],fontsize=12,\n",
    "             horizontalalignment='center',\n",
    "             verticalalignment='center')\n",
    "    i=i+1\n",
    "plt.show()"
   ]
  },
  {
   "cell_type": "code",
   "execution_count": 6,
   "metadata": {},
   "outputs": [
    {
     "name": "stdout",
     "output_type": "stream",
     "text": [
      "Help on function text in module matplotlib.pyplot:\n",
      "\n",
      "text(x, y, s, fontdict=None, withdash=False, **kwargs)\n",
      "    Add text to the axes.\n",
      "    \n",
      "    Add the text *s* to the axes at location *x*, *y* in data coordinates.\n",
      "    \n",
      "    Parameters\n",
      "    ----------\n",
      "    x, y : scalars\n",
      "        The position to place the text. By default, this is in data\n",
      "        coordinates. The coordinate system can be changed using the\n",
      "        *transform* parameter.\n",
      "    \n",
      "    s : str\n",
      "        The text.\n",
      "    \n",
      "    fontdict : dictionary, optional, default: None\n",
      "        A dictionary to override the default text properties. If fontdict\n",
      "        is None, the defaults are determined by your rc parameters.\n",
      "    \n",
      "    withdash : boolean, optional, default: False\n",
      "        Creates a `~matplotlib.text.TextWithDash` instance instead of a\n",
      "        `~matplotlib.text.Text` instance.\n",
      "    \n",
      "    Returns\n",
      "    -------\n",
      "    text : `.Text`\n",
      "        The created `.Text` instance.\n",
      "    \n",
      "    Other Parameters\n",
      "    ----------------\n",
      "    **kwargs : `~matplotlib.text.Text` properties.\n",
      "        Other miscellaneous text parameters.\n",
      "    \n",
      "    Examples\n",
      "    --------\n",
      "    Individual keyword arguments can be used to override any given\n",
      "    parameter::\n",
      "    \n",
      "        >>> text(x, y, s, fontsize=12)\n",
      "    \n",
      "    The default transform specifies that text is in data coords,\n",
      "    alternatively, you can specify text in axis coords (0,0 is\n",
      "    lower-left and 1,1 is upper-right).  The example below places\n",
      "    text in the center of the axes::\n",
      "    \n",
      "        >>> text(0.5, 0.5, 'matplotlib', horizontalalignment='center',\n",
      "        ...      verticalalignment='center', transform=ax.transAxes)\n",
      "    \n",
      "    You can put a rectangular box around the text instance (e.g., to\n",
      "    set a background color) by using the keyword `bbox`.  `bbox` is\n",
      "    a dictionary of `~matplotlib.patches.Rectangle`\n",
      "    properties.  For example::\n",
      "    \n",
      "        >>> text(x, y, s, bbox=dict(facecolor='red', alpha=0.5))\n",
      "\n"
     ]
    }
   ],
   "source": [
    "help(plt.text)"
   ]
  },
  {
   "cell_type": "code",
   "execution_count": null,
   "metadata": {},
   "outputs": [],
   "source": []
  }
 ],
 "metadata": {
  "kernelspec": {
   "display_name": "Python 3 (ipykernel)",
   "language": "python",
   "name": "python3"
  },
  "language_info": {
   "codemirror_mode": {
    "name": "ipython",
    "version": 3
   },
   "file_extension": ".py",
   "mimetype": "text/x-python",
   "name": "python",
   "nbconvert_exporter": "python",
   "pygments_lexer": "ipython3",
   "version": "3.10.5"
  }
 },
 "nbformat": 4,
 "nbformat_minor": 4
}
