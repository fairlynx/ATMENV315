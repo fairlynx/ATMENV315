{
 "cells": [
  {
   "cell_type": "markdown",
   "metadata": {},
   "source": [
    "### COVID 19 data plotter - experimental phase\n"
   ]
  },
  {
   "cell_type": "code",
   "execution_count": 1,
   "metadata": {},
   "outputs": [],
   "source": [
    "import pandas as pd\n",
    "import numpy as np\n",
    "import matplotlib.pyplot as plt"
   ]
  },
  {
   "cell_type": "markdown",
   "metadata": {},
   "source": [
    "### Reading the csv file right from the GitHub page\n",
    "### (It works with the package pandas!)"
   ]
  },
  {
   "cell_type": "code",
   "execution_count": 2,
   "metadata": {},
   "outputs": [
    {
     "data": {
      "text/plain": [
       "(3261, 147)"
      ]
     },
     "execution_count": 2,
     "metadata": {},
     "output_type": "execute_result"
    }
   ],
   "source": [
    "url=\"https://raw.githubusercontent.com/CSSEGISandData/COVID-19/master/csse_covid_19_data/csse_covid_19_time_series/time_series_covid19_confirmed_US.csv\"\n",
    "\n",
    "\n",
    "df=pd.read_csv(url)\n",
    "df.set_index(\"UID\")\n",
    "df.shape"
   ]
  },
  {
   "cell_type": "markdown",
   "metadata": {},
   "source": [
    "### I use here some basic coding methods to analyze the column names in the Pandas dataframe, instead of Pandas methods.\n"
   ]
  },
  {
   "cell_type": "code",
   "execution_count": 3,
   "metadata": {},
   "outputs": [],
   "source": [
    "j=0\n",
    "datacol=[] # list for collecting all column indices: only columns with data\n",
    "datelist=[] # list with the date strings\n",
    "for c in df.columns:\n",
    "    if c==\"Province_State\":\n",
    "        col_state=j\n",
    "    if c==\"Admin2\":\n",
    "        col_admin2=j\n",
    "    if \"/20\" in c:\n",
    "        datacol.append(j)\n",
    "        datelist.append(c)\n",
    "    j=j+1\n",
    "#datacol=np.array(datacol)"
   ]
  },
  {
   "cell_type": "markdown",
   "metadata": {},
   "source": [
    "### Here we select one row of data: In this case New York City, essentially\n",
    "\n",
    "You can look up other states and administrative districts \n",
    "and update the variable mystate, myadmin2.\n",
    "\n",
    "At the end we put the number of positive cases into the array named x\n",
    "\n"
   ]
  },
  {
   "cell_type": "code",
   "execution_count": 8,
   "metadata": {},
   "outputs": [
    {
     "name": "stdout",
     "output_type": "stream",
     "text": [
      "found the row for my state and admin2 1833\n",
      "Albany New York\n",
      "1/22/20       0\n",
      "1/23/20       0\n",
      "1/24/20       0\n",
      "1/25/20       0\n",
      "1/26/20       0\n",
      "1/27/20       0\n",
      "1/28/20       0\n",
      "1/29/20       0\n",
      "1/30/20       0\n",
      "1/31/20       0\n",
      "2/1/20        0\n",
      "2/2/20        0\n",
      "2/3/20        0\n",
      "2/4/20        0\n",
      "2/5/20        0\n",
      "2/6/20        0\n",
      "2/7/20        0\n",
      "2/8/20        0\n",
      "2/9/20        0\n",
      "2/10/20       0\n",
      "2/11/20       0\n",
      "2/12/20       0\n",
      "2/13/20       0\n",
      "2/14/20       0\n",
      "2/15/20       0\n",
      "2/16/20       0\n",
      "2/17/20       0\n",
      "2/18/20       0\n",
      "2/19/20       0\n",
      "2/20/20       0\n",
      "           ... \n",
      "5/7/20     1348\n",
      "5/8/20     1384\n",
      "5/9/20     1416\n",
      "5/10/20    1432\n",
      "5/11/20    1456\n",
      "5/12/20    1479\n",
      "5/13/20    1494\n",
      "5/14/20    1509\n",
      "5/15/20    1538\n",
      "5/16/20    1572\n",
      "5/17/20    1579\n",
      "5/18/20    1610\n",
      "5/19/20    1655\n",
      "5/20/20    1682\n",
      "5/21/20    1700\n",
      "5/22/20    1756\n",
      "5/23/20    1770\n",
      "5/24/20    1782\n",
      "5/25/20    1791\n",
      "5/26/20    1793\n",
      "5/27/20    1796\n",
      "5/28/20    1814\n",
      "5/29/20    1834\n",
      "5/30/20    1843\n",
      "5/31/20    1860\n",
      "6/1/20     1882\n",
      "6/2/20     1900\n",
      "6/3/20     1920\n",
      "6/4/20     1930\n",
      "6/5/20     1941\n",
      "Name: 1833, Length: 136, dtype: object\n"
     ]
    }
   ],
   "source": [
    "mystate=\"New York\"\n",
    "myadmin2=\"Albany\"\n",
    "#mystate=\"Hawaii\"\n",
    "#myadmin2=\"Maui\"\n",
    "#mystate=\"Hawaii\"\n",
    "#myadmin2=\"Honolulu\"\n",
    "# we use our old-fashioned method, Pandas allows much more powerful ways to work with data frames\n",
    "rowlist=[]\n",
    "k=0\n",
    "while k<df.shape[0]: # for all rows\n",
    "    state=df.iloc[k,col_state]\n",
    "    admin2=df.iloc[k,col_admin2]\n",
    "    if state==mystate and admin2 == myadmin2:\n",
    "        rowlist.append(k)\n",
    "        print (\"found the row for my state and admin2\", k)\n",
    "        print (admin2,state)\n",
    "        print (df.iloc[k,datacol])\n",
    "        x=df.iloc[k,datacol]\n",
    "    k=k+1\n",
    "    \n",
    "x=np.array(x,dtype=int)\n"
   ]
  },
  {
   "cell_type": "code",
   "execution_count": 9,
   "metadata": {},
   "outputs": [],
   "source": [
    "# dealing with dates for nicer time axis labeling in the plots\n",
    "# help and examples can be found here\n",
    "# https://www.journaldev.com/23365/python-string-to-datetime-strptime\n",
    "import datetime as dt\n",
    "time=[]\n",
    "for datestring in datelist:\n",
    "    t=dt.datetime.strptime(datestring, '%m/%d/%y')\n",
    "    time.append(t)\n",
    "    #print(t)\n",
    "time=np.array(time)"
   ]
  },
  {
   "cell_type": "code",
   "execution_count": 10,
   "metadata": {},
   "outputs": [
    {
     "data": {
      "image/png": "[encoded data removed]",
      "text/plain": [
       "<Figure size 432x288 with 1 Axes>"
      ]
     },
     "metadata": {
      "needs_background": "light"
     },
     "output_type": "display_data"
    }
   ],
   "source": [
    "plt.plot(time,x)\n",
    "#plt.scatter(np.log2(x[0:-1]),np.log2(dx))\n",
    "plt.title(\"COVID curve for \"+myadmin2+\" in \"+mystate)\n",
    "plt.show()"
   ]
  },
  {
   "cell_type": "code",
   "execution_count": 11,
   "metadata": {},
   "outputs": [
    {
     "data": {
      "image/png": "[encoded data removed]",
      "text/plain": [
       "<Figure size 720x720 with 1 Axes>"
      ]
     },
     "metadata": {
      "needs_background": "light"
     },
     "output_type": "display_data"
    }
   ],
   "source": [
    "# better labels for dates:\n",
    "# https://www.earthdatascience.org/courses/use-data-open-source-python/use-time-series-data-in-python/date-time-types-in-pandas-python/customize-dates-matplotlib-plots-python/\n",
    "import matplotlib.pyplot as plt\n",
    "import matplotlib.dates as mdates\n",
    "from matplotlib.dates import DateFormatter\n",
    "\n",
    "ipos=x>0\n",
    "# work only with positive values\n",
    "# Handle date time conversions between pandas and matplotlib\n",
    "from pandas.plotting import register_matplotlib_converters\n",
    "register_matplotlib_converters()\n",
    "# Create figure and plot space\n",
    "fig, ax = plt.subplots(figsize=(10, 10))\n",
    "\n",
    "# Add x-axis and y-axis\n",
    "ax.bar(time[ipos],\n",
    "       x[ipos],\n",
    "       color='purple')\n",
    "\n",
    "# Set title and labels for axes\n",
    "ax.set(xlabel=\"Date\",\n",
    "       ylabel=\"COVID19 positve tests\",\n",
    "       title=\"curve for \"+myadmin2+\" in \"+mystate)\n",
    "\n",
    "# Define the date format\n",
    "date_form = DateFormatter(\"%m-%d\")\n",
    "ax.xaxis.set_major_formatter(date_form)\n",
    "\n",
    "plt.show()"
   ]
  },
  {
   "cell_type": "code",
   "execution_count": 12,
   "metadata": {},
   "outputs": [],
   "source": [
    "ipos=x>0\n",
    "# work only with positive values\n",
    "xpos=x[ipos]\n",
    "dx=xpos[1:]-xpos[0:-1]"
   ]
  },
  {
   "cell_type": "code",
   "execution_count": 15,
   "metadata": {},
   "outputs": [
    {
     "data": {
      "image/png": "[encoded data removed]",
      "text/plain": [
       "<Figure size 576x432 with 1 Axes>"
      ]
     },
     "metadata": {
      "needs_background": "light"
     },
     "output_type": "display_data"
    }
   ],
   "source": [
    "# first plots \n",
    "plt.figure(figsize=[8,6])\n",
    "\n",
    "plt.scatter(xpos[0:-1],dx/xpos[0:-1])\n",
    "plt.xlim(250,2500)\n",
    "plt.ylim(0,0.2)\n",
    "plt.show()"
   ]
  },
  {
   "cell_type": "code",
   "execution_count": 17,
   "metadata": {},
   "outputs": [
    {
     "data": {
      "image/png": "[encoded data removed]",
      "text/plain": [
       "<Figure size 576x432 with 1 Axes>"
      ]
     },
     "metadata": {
      "needs_background": "light"
     },
     "output_type": "display_data"
    }
   ],
   "source": [
    "# first plots \n",
    "plt.figure(figsize=[8,6])\n",
    "rowlist=[]\n",
    "k=0\n",
    "while k<df.shape[0]: # for all rows\n",
    "    state=df.iloc[k,col_state]\n",
    "    admin2=df.iloc[k,col_admin2]\n",
    "    #print (k, state, admin2)\n",
    "    x=df.iloc[k,datacol]\n",
    "    k=k+1\n",
    "    x=np.array(x,dtype=int)\n",
    "    ipos=x>0\n",
    "    # work only with positive values\n",
    "    x=x[ipos]\n",
    "    dx=xpos[1:]-xpos[0:-1]\n",
    "    plt.scatter(xpos[0:-1],dx)\n",
    "plt.show()"
   ]
  },
  {
   "cell_type": "code",
   "execution_count": null,
   "metadata": {},
   "outputs": [],
   "source": []
  }
 ],
 "metadata": {
  "kernelspec": {
   "display_name": "Python 3",
   "language": "python",
   "name": "python3"
  },
  "language_info": {
   "codemirror_mode": {
    "name": "ipython",
    "version": 3
   },
   "file_extension": ".py",
   "mimetype": "text/x-python",
   "name": "python",
   "nbconvert_exporter": "python",
   "pygments_lexer": "ipython3",
   "version": "3.6.7"
  }
 },
 "nbformat": 4,
 "nbformat_minor": 2
}
