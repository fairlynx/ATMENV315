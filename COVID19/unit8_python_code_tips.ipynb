{
 "cells": [
  {
   "cell_type": "markdown",
   "metadata": {},
   "source": [
    "# More tips for effective Python code development"
   ]
  },
  {
   "cell_type": "markdown",
   "metadata": {},
   "source": [
    "## 1. For loops with enumerated lists"
   ]
  },
  {
   "cell_type": "code",
   "execution_count": 28,
   "metadata": {},
   "outputs": [],
   "source": [
    "import numpy as np\n",
    "\n",
    "# list with county names \n",
    "\n",
    "\n",
    "counties  =         ['Albany', 'Bronx',  'Erie','Ontario','Saratoga'] # list\n",
    "population=np.array([ 307117 , 1432132,  919719,   109864,   230163]) # numpy array\n"
   ]
  },
  {
   "cell_type": "markdown",
   "metadata": {},
   "source": [
    "### 1.1 Our old way of adding an index counter variable to a  for-loop "
   ]
  },
  {
   "cell_type": "code",
   "execution_count": 29,
   "metadata": {},
   "outputs": [
    {
     "name": "stdout",
     "output_type": "stream",
     "text": [
      " 0 Albany \t  307117\n",
      " 1 Bronx \t 1432132\n",
      " 2 Erie \t  919719\n",
      " 3 Ontario \t  109864\n",
      " 4 Saratoga \t  230163\n"
     ]
    }
   ],
   "source": [
    "i=0\n",
    "for c in counties:\n",
    "    print (\"%2d %s \\t %7d\" %  (i, c, population[i]) )\n",
    "    i=i+1"
   ]
  },
  {
   "cell_type": "code",
   "execution_count": 30,
   "metadata": {},
   "outputs": [
    {
     "name": "stdout",
     "output_type": "stream",
     "text": [
      " 0 Albany \t  307117\n",
      " 1 Bronx \t 1432132\n",
      " 2 Erie \t  919719\n",
      " 3 Ontario \t  109864\n",
      " 4 Saratoga \t  230163\n"
     ]
    }
   ],
   "source": [
    "for i, c in enumerate(counties):\n",
    "    print (\"%2d %s \\t %7d\" %  (i, c, population[i]) )"
   ]
  },
  {
   "cell_type": "code",
   "execution_count": 31,
   "metadata": {},
   "outputs": [
    {
     "name": "stdout",
     "output_type": "stream",
     "text": [
      "0 307117 Albany\n",
      "1 1432132 Bronx\n",
      "2 919719 Erie\n",
      "3 109864 Ontario\n",
      "4 230163 Saratoga\n"
     ]
    }
   ],
   "source": [
    "for i, c in enumerate(population):\n",
    "    print (i,c, counties[i])"
   ]
  },
  {
   "cell_type": "markdown",
   "metadata": {},
   "source": [
    "## 2. Using dictionaries to build more complex data structures\n"
   ]
  },
  {
   "cell_type": "code",
   "execution_count": 49,
   "metadata": {},
   "outputs": [],
   "source": [
    "# syntax: { key1: value1, key2: value2, ...}\n",
    "data={'Albany':307177, 'Bronx':1432132, 'Erie':919719,'Ontario':109864,'Saratoga':230163}\n"
   ]
  },
  {
   "cell_type": "code",
   "execution_count": 50,
   "metadata": {},
   "outputs": [
    {
     "data": {
      "text/plain": [
       "dict_values([307177, 1432132, 919719, 109864, 230163])"
      ]
     },
     "execution_count": 50,
     "metadata": {},
     "output_type": "execute_result"
    }
   ],
   "source": [
    "data.values()\n"
   ]
  },
  {
   "cell_type": "code",
   "execution_count": 51,
   "metadata": {},
   "outputs": [
    {
     "name": "stdout",
     "output_type": "stream",
     "text": [
      "Albany 307177\n",
      "Bronx 1432132\n",
      "Erie 919719\n",
      "Ontario 109864\n",
      "Saratoga 230163\n"
     ]
    }
   ],
   "source": [
    "for key in data:\n",
    "    value=data[key]\n",
    "    print(key, value)"
   ]
  },
  {
   "cell_type": "code",
   "execution_count": 52,
   "metadata": {},
   "outputs": [],
   "source": [
    "data['Warren']=64265"
   ]
  },
  {
   "cell_type": "code",
   "execution_count": 53,
   "metadata": {},
   "outputs": [
    {
     "name": "stdout",
     "output_type": "stream",
     "text": [
      "Albany 307177\n",
      "Bronx 1432132\n",
      "Erie 919719\n",
      "Ontario 109864\n",
      "Saratoga 230163\n",
      "Warren 64265\n"
     ]
    }
   ],
   "source": [
    "for key in data:\n",
    "    value=data[key]\n",
    "    print(key, value)"
   ]
  },
  {
   "cell_type": "code",
   "execution_count": 54,
   "metadata": {},
   "outputs": [
    {
     "data": {
      "text/plain": [
       "230163"
      ]
     },
     "execution_count": 54,
     "metadata": {},
     "output_type": "execute_result"
    }
   ],
   "source": []
  },
  {
   "cell_type": "code",
   "execution_count": 55,
   "metadata": {},
   "outputs": [
    {
     "name": "stdout",
     "output_type": "stream",
     "text": [
      "Albany 307177\n",
      "Bronx 1432132\n",
      "Erie 919719\n",
      "Ontario 109864\n",
      "Warren 64265\n"
     ]
    }
   ],
   "source": [
    "for key in data:\n",
    "    value=data[key]\n",
    "    print(key, value)"
   ]
  },
  {
   "cell_type": "code",
   "execution_count": 56,
   "metadata": {},
   "outputs": [
    {
     "name": "stdout",
     "output_type": "stream",
     "text": [
      "Albany 307117\n",
      "Bronx 1432132\n",
      "Erie 919719\n",
      "Ontario 109864\n",
      "Saratoga 230163\n"
     ]
    }
   ],
   "source": [
    "data2={}\n",
    "for i, c in enumerate(counties):\n",
    "    print (c, population[i])\n",
    "    data2[c]=population[i]\n"
   ]
  },
  {
   "cell_type": "code",
   "execution_count": 57,
   "metadata": {},
   "outputs": [
    {
     "data": {
      "text/plain": [
       "{'Albany': 307117,\n",
       " 'Bronx': 1432132,\n",
       " 'Erie': 919719,\n",
       " 'Ontario': 109864,\n",
       " 'Saratoga': 230163}"
      ]
     },
     "execution_count": 57,
     "metadata": {},
     "output_type": "execute_result"
    }
   ],
   "source": [
    "data2"
   ]
  },
  {
   "cell_type": "code",
   "execution_count": 60,
   "metadata": {},
   "outputs": [
    {
     "name": "stdout",
     "output_type": "stream",
     "text": [
      "Population in my county Ontario :  109864\n"
     ]
    }
   ],
   "source": [
    "mycounty='Ontario'\n",
    "print(\"Population in my county \"+mycounty+\" : %7d\" %(data2[mycounty]))"
   ]
  },
  {
   "cell_type": "code",
   "execution_count": null,
   "metadata": {},
   "outputs": [],
   "source": []
  }
 ],
 "metadata": {
  "kernelspec": {
   "display_name": "Python 3",
   "language": "python",
   "name": "python3"
  },
  "language_info": {
   "codemirror_mode": {
    "name": "ipython",
    "version": 3
   },
   "file_extension": ".py",
   "mimetype": "text/x-python",
   "name": "python",
   "nbconvert_exporter": "python",
   "pygments_lexer": "ipython3",
   "version": "3.6.7"
  }
 },
 "nbformat": 4,
 "nbformat_minor": 2
}
