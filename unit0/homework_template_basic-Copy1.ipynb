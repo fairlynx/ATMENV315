{
 "cells": [
  {
   "cell_type": "markdown",
   "metadata": {},
   "source": [
    "### Name: Your Name at top please"
   ]
  },
  {
   "cell_type": "markdown",
   "metadata": {},
   "source": [
    "# Template for submitting the first few homework assignments"
   ]
  },
  {
   "cell_type": "markdown",
   "metadata": {},
   "source": [
    "## 1. *Introduction*"
   ]
  },
  {
   "cell_type": "markdown",
   "metadata": {},
   "source": [
    "The first homeworks are relatively simple and a collection of individual questions and problems. \n",
    "Best practice is to repeat the questions from the hoemwork assignments in your own words. At least provide numbers / labels so we know which question/ problem you are working on.\n",
    "\n",
    "We strongly encourage you to use Markdown cells to document your homework. \n",
    "\n",
    "Use simple markdown language to insert captions, text emphasis such as **boldface** or *emphasis like this*.\n",
    "\n",
    "A summary and with concluding remarks and/or specific answers to the assigned homework questions is always required, even if it is only one short sentence in which you give us feedback to the homework (for example, when you had difficulties answering individual questions, or when you found it easy to solve problems, or learned something important while doing the homework)\n"
   ]
  },
  {
   "cell_type": "markdown",
   "metadata": {},
   "source": [
    "## Here is an example for a good style for a homework notebook:\n",
    "\n",
    "---\n"
   ]
  },
  {
   "cell_type": "markdown",
   "metadata": {},
   "source": [
    "### Question 1: Assign a temperature of -40F to a variable x and calculate the temperature in Celsius and assign the result to variable y. \n",
    "   "
   ]
  },
  {
   "cell_type": "code",
   "execution_count": null,
   "metadata": {},
   "outputs": [],
   "source": [
    "x=32.0 # temperature in Fahrenheit\n",
    "y=(x-32)*5/9\n",
    "print(\"temperature in deg C is \"+str(y))\n"
   ]
  },
  {
   "cell_type": "markdown",
   "metadata": {},
   "source": [
    "### Problem 2: Use the Image-function to show the recent CO2 measurements from Maua Loa \n",
    "(link is:  https://scripps.ucsd.edu/programs/keelingcurve/wp-content/plugins/sio-bluemoon/graphs/mlo_one_month.png)"
   ]
  },
  {
   "cell_type": "code",
   "execution_count": null,
   "metadata": {},
   "outputs": [],
   "source": [
    "from IPython.display import Image\n",
    "# You can easily link in online content (images)\n",
    "source=\"https://scripps.ucsd.edu/programs/keelingcurve/wp-content/plugins/sio-bluemoon/graphs/mlo_one_month.png\"\n",
    "Image(source, width=\"50%\")"
   ]
  },
  {
   "cell_type": "markdown",
   "metadata": {},
   "source": [
    "### Problem 3: Try to find a Python code example that allows you to show a Youtube video "
   ]
  },
  {
   "cell_type": "code",
   "execution_count": null,
   "metadata": {},
   "outputs": [],
   "source": [
    "from IPython.display import YouTubeVideo\n",
    "import numpy as np\n",
    "\n",
    "random_value=np.random.uniform(size=1)\n",
    "print(random_value)\n",
    "if random_value>0.5:\n",
    "    # student of 2023 suggested\n",
    "    videostream=\"pXYc_9tToio\"\n",
    "else:\n",
    "    # Laurel and Hardy clip\n",
    "    videostream=\"AjplZXgodhs\"\n",
    "\n",
    "YouTubeVideo(videostream)\n"
   ]
  },
  {
   "cell_type": "markdown",
   "metadata": {},
   "source": [
    "## 5. Summary and Concluding remarks\n",
    "\n",
    "So, this was it. In summary, you can find plenty of good youtube videos, tutorials and example web pages that explain the elements use in this notebook that give a more appealing layout to the Notebook. Please remember that you use this template for the organization of your homeworks. The first time we will be giving you feedback. Points will be deducted when you do not make use of markup cells, text highlighting (font modifiers such as *italics* \"**bold**\" and #Huge ##Large ###somewhat larger) structures. More options exist of course to change the layout. Feel free to explore and give your notebook an invididual touch.  \n",
    "\n",
    "By the way if you study the examples on markdown cells (see References below) you will find ways to show images, videos, and equations right inside your markdown cells. No Python required (But can you think of situations where Python might be a more flexible way of doing it?)"
   ]
  },
  {
   "cell_type": "markdown",
   "metadata": {},
   "source": [
    "### 6. References and links (IMPORTANT THAT YOU REFER TO THE SOURCES)\n",
    "\n",
    "Additional links: \n",
    "\n",
    "- [Markdown Cells](https://www.tutorialspoint.com/jupyter/jupyter_notebook_markdown_cells.htm)\n"
   ]
  },
  {
   "cell_type": "code",
   "execution_count": null,
   "metadata": {},
   "outputs": [],
   "source": []
  }
 ],
 "metadata": {
  "kernelspec": {
   "display_name": "Python 3 August 2022 Environment",
   "language": "python",
   "name": "aug22"
  },
  "language_info": {
   "codemirror_mode": {
    "name": "ipython",
    "version": 3
   },
   "file_extension": ".py",
   "mimetype": "text/x-python",
   "name": "python",
   "nbconvert_exporter": "python",
   "pygments_lexer": "ipython3",
   "version": "3.10.5"
  }
 },
 "nbformat": 4,
 "nbformat_minor": 4
}
